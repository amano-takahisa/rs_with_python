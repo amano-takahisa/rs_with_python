{
 "cells": [
  {
   "cell_type": "code",
   "execution_count": 3,
   "metadata": {},
   "outputs": [],
   "source": [
    "from pathlib import Path"
   ]
  },
  {
   "cell_type": "code",
   "execution_count": 3,
   "metadata": {},
   "outputs": [
    {
     "name": "stdout",
     "output_type": "stream",
     "text": [
      "../extract_raster_from_archives.ipynb\n",
      "../sandbox/mask_raster.ipynb\n",
      "../sandbox/raster_stack.ipynb\n",
      "../sandbox/.ipynb_checkpoints/raster_stack-checkpoint.ipynb\n",
      "../.ipynb_checkpoints/read_shapefile_and_geotiff-checkpoint.ipynb\n",
      "../.ipynb_checkpoints/read_jpgml-checkpoint.ipynb\n",
      "../.ipynb_checkpoints/example-checkpoint.ipynb\n",
      "../.ipynb_checkpoints/extract_raster_values-checkpoint.ipynb\n",
      "../handson/plot_hyperspectral.ipynb\n",
      "../handson/leaf_area_index.ipynb\n",
      "../handson/setup_ipynb.ipynb\n",
      "../handson/catchment_from_dem.ipynb\n",
      "../handson/intro_python.ipynb\n",
      "../handson/3d_raster_plot.ipynb\n",
      "../handson/bathymetric_stat.ipynb\n",
      "../handson/.ipynb_checkpoints/bathymetric_stat-checkpoint.ipynb\n",
      "../handson/.ipynb_checkpoints/3d_raster_plot-checkpoint.ipynb\n",
      "../handson/.ipynb_checkpoints/intro_python-checkpoint.ipynb\n",
      "../handson/.ipynb_checkpoints/catchment_from_dem-checkpoint.ipynb\n",
      "../handson/.ipynb_checkpoints/setup_ipynb-checkpoint.ipynb\n",
      "../handson/.ipynb_checkpoints/plot_hyperspectral-checkpoint.ipynb\n",
      "../handson/.ipynb_checkpoints/leaf_area_index-checkpoint.ipynb\n",
      "../lib/dict.ipynb\n",
      "../lib/rasterio.ipynb\n",
      "../lib/list.ipynb\n",
      "../lib/numpy.ipynb\n",
      "../lib/exception.ipynb\n",
      "../lib/pyproj.ipynb\n",
      "../lib/glob.ipynb\n",
      "../lib/pathlib.ipynb\n",
      "../lib/kwargs.ipynb\n",
      "../lib/class.ipynb\n",
      "../lib/typing.ipynb\n",
      "../lib/locals.ipynb\n",
      "../lib/bool.ipynb\n",
      "../lib/pandas.ipynb\n",
      "../lib/os.ipynb\n",
      "../lib/shapely.ipynb\n",
      "../lib/geopandas.ipynb\n",
      "../lib/.ipynb_checkpoints/pathlib-checkpoint.ipynb\n",
      "../lib/.ipynb_checkpoints/os-checkpoint.ipynb\n",
      "../lib/.ipynb_checkpoints/list-checkpoint.ipynb\n",
      "../lib/.ipynb_checkpoints/locals-checkpoint.ipynb\n",
      "../lib/.ipynb_checkpoints/kwargs-checkpoint.ipynb\n",
      "../lib/.ipynb_checkpoints/pandas-checkpoint.ipynb\n",
      "../lib/.ipynb_checkpoints/numpy-checkpoint.ipynb\n",
      "../lib/.ipynb_checkpoints/glob-checkpoint.ipynb\n"
     ]
    }
   ],
   "source": [
    "for path in Path('../').rglob('*.ipynb'):\n",
    "    print(path)\n"
   ]
  },
  {
   "cell_type": "code",
   "execution_count": 12,
   "metadata": {},
   "outputs": [
    {
     "ename": "TypeError",
     "evalue": "'PosixPath' object is not iterable",
     "output_type": "error",
     "traceback": [
      "\u001b[0;31m---------------------------------------------------------------------------\u001b[0m",
      "\u001b[0;31mTypeError\u001b[0m                                 Traceback (most recent call last)",
      "\u001b[0;32m<ipython-input-12-872237da77ea>\u001b[0m in \u001b[0;36m<module>\u001b[0;34m\u001b[0m\n\u001b[0;32m----> 1\u001b[0;31m \u001b[0mpaths\u001b[0m \u001b[0;34m=\u001b[0m \u001b[0;34m[\u001b[0m\u001b[0mstr\u001b[0m\u001b[0;34m(\u001b[0m\u001b[0mpath\u001b[0m\u001b[0;34m)\u001b[0m \u001b[0;32mfor\u001b[0m \u001b[0mpath\u001b[0m \u001b[0;32min\u001b[0m \u001b[0mPath\u001b[0m\u001b[0;34m(\u001b[0m\u001b[0;34m'../'\u001b[0m\u001b[0;34m)\u001b[0m\u001b[0;34m]\u001b[0m\u001b[0;34m\u001b[0m\u001b[0;34m\u001b[0m\u001b[0m\n\u001b[0m\u001b[1;32m      2\u001b[0m \u001b[0mpaths\u001b[0m\u001b[0;34m\u001b[0m\u001b[0;34m\u001b[0m\u001b[0m\n",
      "\u001b[0;31mTypeError\u001b[0m: 'PosixPath' object is not iterable"
     ]
    }
   ],
   "source": [
    "paths = [str(path) for path in Path('../').rglob('*.ipynb')]\n",
    "paths"
   ]
  },
  {
   "cell_type": "code",
   "execution_count": 10,
   "metadata": {},
   "outputs": [
    {
     "data": {
      "text/plain": [
       "'../extract_raster_from_archives.ipynb'"
      ]
     },
     "execution_count": 10,
     "metadata": {},
     "output_type": "execute_result"
    }
   ],
   "source": [
    "str(paths[0])"
   ]
  },
  {
   "cell_type": "code",
   "execution_count": null,
   "metadata": {},
   "outputs": [],
   "source": []
  }
 ],
 "metadata": {
  "kernelspec": {
   "display_name": "Python 3",
   "language": "python",
   "name": "python3"
  },
  "language_info": {
   "codemirror_mode": {
    "name": "ipython",
    "version": 3
   },
   "file_extension": ".py",
   "mimetype": "text/x-python",
   "name": "python",
   "nbconvert_exporter": "python",
   "pygments_lexer": "ipython3",
   "version": "3.8.6"
  }
 },
 "nbformat": 4,
 "nbformat_minor": 4
}
