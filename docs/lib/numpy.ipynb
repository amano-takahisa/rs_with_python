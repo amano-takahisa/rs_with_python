{
 "cells": [
  {
   "cell_type": "markdown",
   "metadata": {},
   "source": [
    "# Numpy\n",
    "**NumPy**はグリッドに配置されたデータを効率良く扱うためのライブラリです。数学でいうn次元の行列のような形をしたデータを扱う際に非常に便利です。\n",
    "[公式ドキュメントはこちら](https://numpy.org/doc/stable/user/quickstart.html)\n",
    "\n",
    "NumPyで作成されるn次元の行列は、**ndarray**と呼ばれます。\n",
    "以下に2×3のndarrayの例を示します。\n",
    "\n",
    "```python\n",
    "[[ 1., 0., 0.],\n",
    " [ 0., 1., 2.]]\n",
    "```\n",
    "`[]`で定義された同じ長さの複数のリストが更に`[]`で囲われたような形をしています。\n",
    "\n",
    "\n",
    "\n",
    "まずはnumpyを用いて行列(numpy.array)を作成してみます。"
   ]
  },
  {
   "cell_type": "code",
   "execution_count": 1,
   "metadata": {},
   "outputs": [
    {
     "data": {
      "text/plain": [
       "array([[1., 0., 0.],\n",
       "       [0., 1., 2.]])"
      ]
     },
     "execution_count": 1,
     "metadata": {},
     "output_type": "execute_result"
    }
   ],
   "source": [
    "import numpy as np\n",
    "a = np.array([[ 1., 0., 0.],\n",
    "              [ 0., 1., 2.]])\n",
    "a"
   ]
  },
  {
   "cell_type": "markdown",
   "metadata": {},
   "source": [
    "ndarrayには、"
   ]
  }
 ],
 "metadata": {
  "kernelspec": {
   "display_name": "Python 3",
   "language": "python",
   "name": "python3"
  },
  "language_info": {
   "codemirror_mode": {
    "name": "ipython",
    "version": 3
   },
   "file_extension": ".py",
   "mimetype": "text/x-python",
   "name": "python",
   "nbconvert_exporter": "python",
   "pygments_lexer": "ipython3",
   "version": "3.8.6"
  }
 },
 "nbformat": 4,
 "nbformat_minor": 4
}
