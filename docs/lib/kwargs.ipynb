{
 "cells": [
  {
   "cell_type": "markdown",
   "metadata": {},
   "source": [
    "# Kwargs\n",
    "自作関数内でkwargsを使う"
   ]
  },
  {
   "cell_type": "code",
   "execution_count": 1,
   "metadata": {},
   "outputs": [
    {
     "name": "stdout",
     "output_type": "stream",
     "text": [
      "aaa\n",
      "bbb\n",
      "{'c': 'ccc'}\n"
     ]
    }
   ],
   "source": [
    "def myfunc(a, b='bbb', **kwargs):\n",
    "    print(a)\n",
    "    print(b)\n",
    "    print(kwargs)\n",
    "\n",
    "kwargs = {'c':'ccc'}\n",
    "\n",
    "myfunc('aaa', **kwargs)"
   ]
  },
  {
   "cell_type": "markdown",
   "metadata": {},
   "source": [
    "`kwargs`にデフォルト値がある引数がある場合、`kwargs`が優先される。"
   ]
  },
  {
   "cell_type": "code",
   "execution_count": 3,
   "metadata": {},
   "outputs": [
    {
     "name": "stdout",
     "output_type": "stream",
     "text": [
      "aaa\n",
      "new_bbb\n",
      "{'c': 'ccc'}\n"
     ]
    }
   ],
   "source": [
    "kwargs = {'b':'new_bbb','c':'ccc'}\n",
    "myfunc('aaa', **kwargs)"
   ]
  },
  {
   "cell_type": "markdown",
   "metadata": {},
   "source": [
    "`kwargs`を関数内関数にも引き継ぐ。"
   ]
  },
  {
   "cell_type": "code",
   "execution_count": 9,
   "metadata": {},
   "outputs": [
    {
     "name": "stdout",
     "output_type": "stream",
     "text": [
      "aaa\n",
      "bbb\n",
      "ccc\n",
      "ddd\n",
      "alt_x\n",
      "myfunc1's kwargs is: {'d': 'ddd', 'e': 'eee'}\n"
     ]
    }
   ],
   "source": [
    "def myfunc1(**kwargs):\n",
    "    print(f\"myfunc1's kwargs is: {kwargs}\")\n",
    "    \n",
    "def myfunc2(a, b='bbb', **kwargs):\n",
    "    print(a)\n",
    "    print(b)\n",
    "    print(kwargs.pop('c', None))\n",
    "    print(kwargs.get('d', None))\n",
    "    print(kwargs.get('x', 'alt_x'))\n",
    "    myfunc1(**kwargs)\n",
    "\n",
    "kwargs = {'c':'ccc',\n",
    "          'd':'ddd',\n",
    "          'e':'eee'}\n",
    "    \n",
    "myfunc2('aaa', **kwargs)"
   ]
  },
  {
   "cell_type": "code",
   "execution_count": 5,
   "metadata": {},
   "outputs": [
    {
     "name": "stdout",
     "output_type": "stream",
     "text": [
      "('xxx',)\n",
      "{'b': 'bbb'}\n",
      "a is aaa, b is bbb\n"
     ]
    }
   ],
   "source": [
    "def myfunc(a, *args, **kwargs):\n",
    "    print(args)\n",
    "    print(kwargs)\n",
    "    b = kwargs.get('b', None)\n",
    "    print(f'a is {a}, b is {b}')\n",
    "\n",
    "a = 'aaa'\n",
    "b = 'bbb'\n",
    "myfunc(a, 'xxx', b=b)"
   ]
  },
  {
   "cell_type": "code",
   "execution_count": 10,
   "metadata": {},
   "outputs": [
    {
     "data": {
      "text/plain": [
       "2"
      ]
     },
     "execution_count": 10,
     "metadata": {},
     "output_type": "execute_result"
    }
   ],
   "source": [
    "kwargs = {'a':1,\n",
    "          'b':2,\n",
    "          'c':3}\n",
    "kwargs.pop('b')\n"
   ]
  },
  {
   "cell_type": "code",
   "execution_count": 11,
   "metadata": {},
   "outputs": [],
   "source": [
    "kwargs.pop('b', None)"
   ]
  },
  {
   "cell_type": "code",
   "execution_count": 12,
   "metadata": {},
   "outputs": [
    {
     "name": "stdout",
     "output_type": "stream",
     "text": [
      "{'a': 1, 'c': 3}\n",
      "{'a': 1, 'c': 3, 'b': 'bbb'}\n",
      "{'a': 1, 'c': 3, 'b': 'bbb'}\n"
     ]
    }
   ],
   "source": [
    "print(kwargs)\n",
    "kwargs.setdefault('b', 'bbb')\n",
    "print(kwargs)\n",
    "kwargs.setdefault('a', 'aaa')\n",
    "print(kwargs)"
   ]
  }
 ],
 "metadata": {
  "kernelspec": {
   "display_name": "Python 3",
   "language": "python",
   "name": "python3"
  },
  "language_info": {
   "codemirror_mode": {
    "name": "ipython",
    "version": 3
   },
   "file_extension": ".py",
   "mimetype": "text/x-python",
   "name": "python",
   "nbconvert_exporter": "python",
   "pygments_lexer": "ipython3",
   "version": "3.8.6"
  }
 },
 "nbformat": 4,
 "nbformat_minor": 4
}
