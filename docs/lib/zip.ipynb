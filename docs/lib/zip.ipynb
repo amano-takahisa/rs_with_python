{
 "cells": [
  {
   "cell_type": "markdown",
   "metadata": {},
   "source": [
    "# Zip"
   ]
  },
  {
   "cell_type": "code",
   "execution_count": 3,
   "metadata": {},
   "outputs": [
    {
     "name": "stdout",
     "output_type": "stream",
     "text": [
      "idx is 0, a is a, k is 100\n",
      "idx is 1, a is b, k is 200\n",
      "idx is 2, a is c, k is 300\n",
      "idx is 3, a is d, k is 400\n"
     ]
    }
   ],
   "source": [
    "alphabets = ['a', 'b', 'c', 'd']\n",
    "n = [100, 200, 300, 400]\n",
    "\n",
    "for idx , (a, k) in enumerate(zip(alphabets, n)):\n",
    "    print(f'idx is {idx}, a is {a}, k is {k}')\n",
    "    "
   ]
  }
 ],
 "metadata": {
  "kernelspec": {
   "display_name": "Python 3",
   "language": "python",
   "name": "python3"
  },
  "language_info": {
   "codemirror_mode": {
    "name": "ipython",
    "version": 3
   },
   "file_extension": ".py",
   "mimetype": "text/x-python",
   "name": "python",
   "nbconvert_exporter": "python",
   "pygments_lexer": "ipython3",
   "version": "3.8.6"
  }
 },
 "nbformat": 4,
 "nbformat_minor": 4
}
