{
 "cells": [
  {
   "cell_type": "markdown",
   "metadata": {},
   "source": [
    "# OpenCVを利用した葉面積の推定"
   ]
  },
  {
   "cell_type": "markdown",
   "metadata": {},
   "source": [
    "Pythonで画像を扱う際に、OpenCVというライブラリがよく利用されます。\n",
    "今回はこのOpenCVを用いて、作物成長段階の指標となる葉面積を推定します。\n",
    "\n",
    "まずはOpenCVモジュールを読み込みます。\n",
    "以下のチャンクを実行すると、今動いているPythonの環境にOpenCVの機能が追加されます。"
   ]
  },
  {
   "cell_type": "code",
   "execution_count": null,
   "metadata": {},
   "outputs": [],
   "source": []
  },
  {
   "cell_type": "markdown",
   "metadata": {},
   "source": [
    "作業しているパソコンにOpenCVがインストールされていない場合は、エラーが出ますので、以下のコマンドでインストールして、再度実行してください。"
   ]
  },
  {
   "cell_type": "code",
   "execution_count": null,
   "metadata": {},
   "outputs": [],
   "source": []
  },
  {
   "cell_type": "markdown",
   "metadata": {},
   "source": [
    "うまくインストールされれば、以下のコマンドでバージョンが表示されます。"
   ]
  },
  {
   "cell_type": "code",
   "execution_count": null,
   "metadata": {},
   "outputs": [],
   "source": []
  },
  {
   "cell_type": "markdown",
   "metadata": {},
   "source": [
    "## OpenCVでの画像の表示"
   ]
  },
  {
   "cell_type": "markdown",
   "metadata": {},
   "source": [
    "まずは画像ファイルをJupyter Notebookに読み込んで表示してみましょう。\n",
    "\n",
    "画像は、`.ipynb`ファイルと同じフォルダに`data`という名前のフォルダを作成し、その中に保存してください。以下では、[www.pxfuel.com](https://www.pxfuel.com/en/free-photo-qhhuu)から取得した画像を利用しています。"
   ]
  },
  {
   "cell_type": "code",
   "execution_count": null,
   "metadata": {},
   "outputs": [],
   "source": []
  },
  {
   "cell_type": "markdown",
   "metadata": {},
   "source": [
    "まずはmatplotlibをインポートします。(必要であればmatplotlibを`!pip install matplotlib` からインストールしてください。)"
   ]
  },
  {
   "cell_type": "code",
   "execution_count": null,
   "metadata": {},
   "outputs": [],
   "source": []
  },
  {
   "cell_type": "markdown",
   "metadata": {},
   "source": [
    "ここでは、`matplotlib`ライブラリ内の`pyploy`というサブモジュールを`plt`という別名でインポートしました。このように別名を使ってインポートすることにより、たとえば`matplotlib.pyplot.imshow()`と書く代わりに、`plt.imshow()`と書くことができるようになります。\n",
    "\n",
    "import文はプログラムの一番最初にまとめて記述することが慣例ですが、ここでは必要になる箇所で適宜宣言することにします。\n",
    "\n",
    "では、`matplotlib`の`matshow`関数を使って画像を表示しましょう。"
   ]
  },
  {
   "cell_type": "code",
   "execution_count": null,
   "metadata": {},
   "outputs": [],
   "source": []
  },
  {
   "cell_type": "markdown",
   "metadata": {},
   "source": [
    "色が変ですね。\n",
    "\n",
    "これは、OpenCVとmatplotlibでのデフォルトのRGBチャンネルの順序が異なるため、赤と青が入れ替わってしまっているからです。  \n",
    "OpenCVはBGRの順、matplotlibはRGBの順でカラーを取り扱います。\n",
    "正しく読み込むには以下のように読み込みます。"
   ]
  },
  {
   "cell_type": "code",
   "execution_count": null,
   "metadata": {},
   "outputs": [],
   "source": []
  },
  {
   "cell_type": "markdown",
   "metadata": {},
   "source": [
    "`.jpg`ファイルとして保存された写真をPythonで表示することができました。"
   ]
  },
  {
   "cell_type": "markdown",
   "metadata": {},
   "source": [
    "## 画像データとはなにか\n",
    "写真や衛星画像のようなデータはラスタデータと呼ばれ、一定の間隔で格子状に区切られた各グリッドに値をもったデータ形式です。それぞれのグリッドのことをピクセルと呼ぶので、ピクセルデータと呼ぶこともあります。上で画像をプロットした際に、X軸とY軸に数値が振られていますが、この数値が画像のピクセルを表しています。通常左上を起点とした座標で表されます。  \n",
    "ラスタデータと対になるデータはベクタデータです。分野によっては、ベクタデータは、ベクトル、ポリゴンなどとも呼ばれます。\n",
    "\n",
    "詳しくはESRIのサイトに解説があるので、参考にしてください。\n",
    "\n",
    "- [ベクターデータとは: www.esrij.com](https://www.esrij.com/gis-guide/gis-datamodel/vector-data/)\n",
    "- [ラスターデータとは: wwww.esrij.com](https://www.esrij.com/gis-guide/gis-datamodel/raster-data/)\n",
    "\n",
    "今回読み込んだ画像はラスタデータです。ここではPythonの中でどのように保存されているかを見ていきます。\n",
    "\n",
    "まずは`cv2.imread()`で読み込んだ`img_bgr`を`print()`関数を用いて表示させてみます。"
   ]
  },
  {
   "cell_type": "code",
   "execution_count": null,
   "metadata": {},
   "outputs": [],
   "source": []
  },
  {
   "cell_type": "markdown",
   "metadata": {},
   "source": [
    "`print()`関数によって、画像の中のデータが表示されました。画像データは、整数の値が入ったリストが入れ子になった構造をしていることがわかります。\n",
    "\n",
    "`type()`関数で、データ型を確認します。"
   ]
  },
  {
   "cell_type": "code",
   "execution_count": null,
   "metadata": {},
   "outputs": [],
   "source": []
  },
  {
   "cell_type": "markdown",
   "metadata": {},
   "source": [
    "`img_bgr`の実態は、`numpy.ndarray`クラスのデータであることが分かりました。\n",
    "`numpy.ndarray`クラスは、`shape`プロパティを持つので、これを確認してみます。"
   ]
  },
  {
   "cell_type": "code",
   "execution_count": null,
   "metadata": {},
   "outputs": [],
   "source": []
  },
  {
   "cell_type": "markdown",
   "metadata": {},
   "source": [
    "実は、OpenCVで読みこんんだデータは、各ピクセルにおける輝度が`[青、緑、赤]`の順で保存され、その各ピクセルの値は、画像の左上から右上、さらに上から下の順で3重の入れ子構造で保存されています。そのため、`shape`を確認することで、読み込んだ画像は高さ853ピクセル、幅1280ピクセルのサイズで、3チャンネルの画像であったことがわかりました。\n",
    "\n",
    "今回の画像の例では、`print()`関数で一行目に表示された`[ 71 205 152]`の値は、左上のピクセルの青色の値が`71`、緑色が`205`、赤色が`152`の値を持っています。値が大きいほど、ディスプレイ上でその色が明るく光るので、このピクセルは緑>赤>青の順の強さで光って、黄緑色であることが推測できます。\n",
    "\n",
    "`cv2.cvtColor()`関数で変換された`img_rgb`のデータと比べてみましょう。"
   ]
  },
  {
   "cell_type": "code",
   "execution_count": null,
   "metadata": {},
   "outputs": [],
   "source": []
  },
  {
   "cell_type": "markdown",
   "metadata": {},
   "source": [
    "`cv2.cvtColor()`によって、赤色の値と青色の値が入れ替えられたことが確認できます。\n",
    "\n",
    "また、`numpy.array`は以下のようにすることで、データの一部を取り出すことができます。\n",
    "\n",
    "```Python\n",
    "array[1軸目の範囲, 2軸目の範囲, 3軸目の範囲, ...]\n",
    "```\n",
    "\n",
    "今回の画像データは縦、横、色チャンネルの3次元データです。左上の縦100x横200ピクセルに対応する`img_rgb`は次のように取り出すことができます。"
   ]
  },
  {
   "cell_type": "code",
   "execution_count": null,
   "metadata": {},
   "outputs": [],
   "source": []
  },
  {
   "cell_type": "markdown",
   "metadata": {},
   "source": [
    "この部分だけをプロットしてみましょう。"
   ]
  },
  {
   "cell_type": "code",
   "execution_count": null,
   "metadata": {},
   "outputs": [],
   "source": []
  },
  {
   "cell_type": "markdown",
   "metadata": {},
   "source": [
    "画像の左上あたりが切り取られていることが確認できました。"
   ]
  },
  {
   "cell_type": "markdown",
   "metadata": {},
   "source": [
    "## チャンネルの分解\n",
    "OpenCVにある`split()`関数を用いると、上記の画像形式の`numpy.ndarray`をチャンネルごとに分割することができます。"
   ]
  },
  {
   "cell_type": "code",
   "execution_count": null,
   "metadata": {},
   "outputs": [],
   "source": []
  },
  {
   "cell_type": "markdown",
   "metadata": {},
   "source": [
    "`cv2.spolit()`関数は結果を長さ3のタプルで返します。返り値がタプルの場合、代入記号`=`の左側にタプルの要素と同じ数の変数を置くことによって、タプルの各要素をそれぞれの変数に代入することができます。これをアンパックといいます。参考:[Pythonの関数で複数の戻り値を返す方法](https://note.nkmk.me/python-function-return-multiple-values/)\n",
    "\n",
    "`cv2.spolit(img_rgb)`は、一つ目の返り値に赤チャンネル、二つ目に緑チャンネル、三つ目に青チャンネルを返すので、それぞれのチャンネルの値を`r`、`g`、`b`に代入しました。\n",
    "\n",
    "各チャンネルの`type`、`shape`を確認しましょう。"
   ]
  },
  {
   "cell_type": "code",
   "execution_count": null,
   "metadata": {},
   "outputs": [],
   "source": []
  },
  {
   "cell_type": "code",
   "execution_count": null,
   "metadata": {},
   "outputs": [],
   "source": []
  },
  {
   "cell_type": "code",
   "execution_count": null,
   "metadata": {},
   "outputs": [],
   "source": []
  },
  {
   "cell_type": "markdown",
   "metadata": {},
   "source": [
    "元の`img_rgb`は3次元の`numpy.ndarray`でしたが、各チャンネルは画像の縦と横の2次元の`numpy.ndarray`形式になったことが確認できました。\n",
    "\n",
    "`matplotlib.pyplot`を用いて、チャンネルごとに画像としてプロットしてみましょう。"
   ]
  },
  {
   "cell_type": "code",
   "execution_count": null,
   "metadata": {},
   "outputs": [],
   "source": []
  },
  {
   "cell_type": "markdown",
   "metadata": {},
   "source": [
    "元の画像と各チャンネルの画像を並べてプロットするには以下のように行います。"
   ]
  },
  {
   "cell_type": "code",
   "execution_count": null,
   "metadata": {},
   "outputs": [],
   "source": []
  },
  {
   "cell_type": "markdown",
   "metadata": {},
   "source": [
    "## HSVへの変換\n",
    "色を表現する方法は、赤・緑・青の各バンドの強さを示すほかに、色相(**H**ue)・彩度(**S**aturation)・明度(**V**alue)の3つの値で示す方法があります。これをRGB形式に対して、HSV形式といいます。\n",
    "\n",
    "画像解析を行う際に、RGBからHSVに変換することがよく行われます。RGBはディスプレイ上で色を表現するには都合がよいですが、各ピクセルが「赤っぽい」のかや、「鮮やかな色」なのかといったことがわかりにくい表現形式になっています。今回のように、画像から「緑色」のピクセルを探す場合、RGBの形式で単純にGの値が大きいところを選択すると、白っぽいところ、つまりRもGもBも大きな値のピクセルも選択されてしまいます。逆に緑っぽいピクセルでも陰になっているとGの値が小さくなるので選択することができません。\n",
    "\n",
    "HSVに変換することで、色相による選択を容易にすることができるようになります。\n",
    "\n",
    "RGB形式のデータをHSV形式のデータに変換するには、`cv2.cvtColor()`関数を利用します。"
   ]
  },
  {
   "cell_type": "code",
   "execution_count": null,
   "metadata": {},
   "outputs": [],
   "source": []
  },
  {
   "cell_type": "markdown",
   "metadata": {},
   "source": [
    "`img_hsv`も同様に`h`と`s`と`v`に分割することができます。"
   ]
  },
  {
   "cell_type": "code",
   "execution_count": null,
   "metadata": {},
   "outputs": [],
   "source": []
  },
  {
   "cell_type": "markdown",
   "metadata": {},
   "source": [
    "作成したHSVデータをプロットしてみましょう。"
   ]
  },
  {
   "cell_type": "code",
   "execution_count": null,
   "metadata": {},
   "outputs": [],
   "source": []
  },
  {
   "cell_type": "markdown",
   "metadata": {},
   "source": [
    "## 閾値による分類\n",
    "画像をHSVへ変換することができたので、色相(Hue)の値が特定の範囲にあるピクセルを抽出することで、葉っぱが写っている面積を算出します。\n",
    "\n",
    "今回はhの値が40から60の値を抽出してみましょう。"
   ]
  },
  {
   "cell_type": "code",
   "execution_count": null,
   "metadata": {},
   "outputs": [],
   "source": []
  },
  {
   "cell_type": "markdown",
   "metadata": {},
   "source": [
    "元の画像で緑色のピクセルを抽出することができています。作成した`img_bin`が`1`の値の個所が抽出されたピクセルで、上の画像では**白く**表示されています。\n",
    "\n",
    "抽出されたピクセルを、画像のすべてのピクセル数で割ることで、画像に占めるダイズの葉の割合を計算することができます。"
   ]
  },
  {
   "cell_type": "code",
   "execution_count": null,
   "metadata": {},
   "outputs": [],
   "source": []
  },
  {
   "cell_type": "markdown",
   "metadata": {},
   "source": [
    "実測した葉面積とこの画像に対するダイズの葉の割合との校正曲線を作成することで、定点観測により撮影した画像から葉面積を推定することができます。\n",
    "\n",
    "## おまけ\n",
    "HSVへの画像変換を行わない場合、画像の抽出がどのようになるか確認してみましょう。"
   ]
  },
  {
   "cell_type": "code",
   "execution_count": null,
   "metadata": {},
   "outputs": [],
   "source": []
  },
  {
   "cell_type": "markdown",
   "metadata": {},
   "source": [
    "`g_min`の値を様々に変えてみても、HSV画像で抽出した方が少ないノイズで抽出できています。\n",
    "\n",
    "また以下のグラフで、HSVで抽出されたピクセルはRGBの値でどのように表現されているものかを確認することができます。\n",
    "\n",
    "Gの値のみで抽出することが難しいことがわかりますね。"
   ]
  },
  {
   "cell_type": "code",
   "execution_count": null,
   "metadata": {},
   "outputs": [],
   "source": [
    "import numpy as np\n",
    "import random\n",
    "def plot_3d(img, sampling=1000, mask=None, **kwargs):\n",
    "    xlab, ylab, zlab = 'R', 'G', 'B'\n",
    "    y,x,z = img.shape\n",
    "    img_flat = np.reshape(img, (x*y,z))\n",
    "    if mask is not None:\n",
    "        mask_flat = np.reshape(mask, (x*y)).astype('bool')\n",
    "        img_flat = img_flat[mask_flat, :]\n",
    "        \n",
    "    if sampling != 0:\n",
    "        # random sample \n",
    "        img_flat = img_flat[np.random.choice(len(img_flat), sampling, replace=False)]\n",
    "    colors = img_flat / 255\n",
    "    fig = plt.figure(**kwargs)\n",
    "    ax = fig.add_subplot(111, projection='3d')\n",
    "    ax.scatter(xs=img_flat[:,0],\n",
    "               ys=img_flat[:,1],\n",
    "               zs=img_flat[:,2],\n",
    "               s=10,\n",
    "               c=colors,\n",
    "               lw=0)\n",
    "    ax.set_xlabel(xlab)\n",
    "    ax.set_ylabel(ylab)\n",
    "    ax.set_zlabel(zlab)\n",
    "    plt.show()\n",
    "\n",
    "# matplotlibのインタラクティブプロットを有効化\n",
    "# うまく行かない場合はコメントアウトしてください。\n",
    "%matplotlib widget\n",
    "\n",
    "plot_3d(img = img_rgb,\n",
    "        mask=img_bin,\n",
    "        sampling=1000,\n",
    "        figsize=(10,10))"
   ]
  },
  {
   "cell_type": "code",
   "execution_count": null,
   "metadata": {},
   "outputs": [],
   "source": [
    "# インタラクティブを無効化\n",
    "%matplotlib inline"
   ]
  }
 ],
 "metadata": {
  "kernelspec": {
   "display_name": "Python 3",
   "language": "python",
   "name": "python3"
  },
  "language_info": {
   "codemirror_mode": {
    "name": "ipython",
    "version": 3
   },
   "file_extension": ".py",
   "mimetype": "text/x-python",
   "name": "python",
   "nbconvert_exporter": "python",
   "pygments_lexer": "ipython3",
   "version": "3.8.6"
  },
  "toc-autonumbering": true
 },
 "nbformat": 4,
 "nbformat_minor": 4
}
