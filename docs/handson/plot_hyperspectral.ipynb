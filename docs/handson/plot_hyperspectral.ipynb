{
 "cells": [
  {
   "cell_type": "markdown",
   "metadata": {},
   "source": [
    "# ハイパースペクトラルセンサーデータの可視化\n",
    "- [このページのJupyter Notebookファイル](https://amano-takahisa.github.io/rs_with_python/handson/plot_hyperspectral.ipynb)\n",
    "- <a href=\"https://colab.research.google.com/github/amano-takahisa/rs_with_python/blob/master/docs/handson/plot_hyperspectral.ipynb\" target=\"_blank\">google colaboratoryで開く</a>\n",
    "\n",
    "ハイパースペクトラルセンサーデータを用いて、Pythonでの基本的なデータ処理について学びます。\n",
    "\n",
    "センサーデータのCSVから、以下のようなグラフと各測定でのNDVIの値を算出します。\n",
    "\n",
    "![out](https://github.com/amano-takahisa/rs_with_python/raw/master/source/handson/out/spectral.png)\n",
    "\n",
    "利用するデータは、[こちら](https://amano-takahisa.github.io/rs_with_python/handson/data/spectrum2019.csv)。ダウンロードの上、ファイルマネージャにて`data`フォルダを作成し、その中に保存してください。"
   ]
  },
  {
   "cell_type": "markdown",
   "metadata": {},
   "source": [
    "## CSVファイルの読み込み\n",
    "CSVやエクセルなどに保存された表敬式のデータを扱うには、**Pandas**というライブラリを利用します。  \n",
    "[Pandasの公式ドキュメントはこちら](https://pandas.pydata.org/pandas-docs/stable/index.html)\n",
    "\n",
    "Pandasでは表形式のデータを**DataFrame**と呼ばれる形で保持し、必要な処理を行っていきます。\n",
    "\n",
    "まずはPandasを用いてデータを読み込んでみましょう。"
   ]
  },
  {
   "cell_type": "code",
   "execution_count": null,
   "metadata": {},
   "outputs": [],
   "source": [
    "import pandas as pd  # pandasをpdという別名で呼び出す\n",
    "\n",
    "# csvファイルを読み込み、dfという変数に代入する\n"
   ]
  },
  {
   "cell_type": "markdown",
   "metadata": {},
   "source": [
    "各業の意味はコメントに記載のとおりです。\n",
    "Pandasライブラリには、今回利用したCSVファイルを読み込むための`read_csv()`メソッド(関数)の他にも、エクセルファイルを読み込むための`read_excel()`、クリップボードからデータを読み込む`read_clipboard()`などのメソッドが用意されています。詳しくは[Pandas API reference](https://pandas.pydata.org/pandas-docs/stable/reference/io.html)で確認してください。\n",
    "\n",
    "データは、dfに`DataFrame`というクラスで代入されています。"
   ]
  },
  {
   "cell_type": "code",
   "execution_count": null,
   "metadata": {},
   "outputs": [],
   "source": [
    "# オブジェクトタイプの確認\n"
   ]
  },
  {
   "cell_type": "markdown",
   "metadata": {},
   "source": [
    "また、表示されるテーブルの最後に、`5048 rows × 5 columns`と表示があり、CSVデータは5,048行、5列のデータであることがわかります。\n",
    "\n",
    "このCSVデータは、列ごとに各観測が保存され、46行目までにメタデータ、47行目以降が各観測の波長ごとの放射照度(分光放射照度)の値が保存されています。また、2,548行目から別の測定が保存されています。\n",
    "\n",
    "今回はメタデータ部分を飛ばして、かつ2,547行目までの放射照度の値のみを読み込んだデータフレームを作成します。"
   ]
  },
  {
   "cell_type": "code",
   "execution_count": null,
   "metadata": {},
   "outputs": [],
   "source": []
  },
  {
   "cell_type": "markdown",
   "metadata": {},
   "source": [
    "`skiprows=n`オプションを与えることで、ファイルのはじめのn行を飛ばして読み込むことができました。その他のオプションは[公式ドキュメント](https://pandas.pydata.org/pandas-docs/stable/reference/api/pandas.read_csv.html)を参照してください。\n"
   ]
  },
  {
   "cell_type": "markdown",
   "metadata": {},
   "source": [
    "## データのクリーニング"
   ]
  },
  {
   "cell_type": "markdown",
   "metadata": {},
   "source": [
    "読み込んだデータをプロットする前に、データのクリーニングとして以下を実施します。\n",
    "- カラム名の変更\n",
    "- 欠損値の設定"
   ]
  },
  {
   "cell_type": "markdown",
   "metadata": {},
   "source": [
    "### カラム名の変更\n",
    "まずはカラムの名前が長すぎて扱いづらいので変更します。"
   ]
  },
  {
   "cell_type": "code",
   "execution_count": null,
   "metadata": {},
   "outputs": [],
   "source": []
  },
  {
   "cell_type": "markdown",
   "metadata": {},
   "source": [
    "### データ型の変更\n",
    "次に、データ型の変更です。\n",
    "\n",
    "データフレームに格納されるデータは、同じ列の値がすべて同じ型のであることが必要です。今回は数値としてデータを扱いたいため、すべての列を浮動小数点のデータとして読み込みます。\n",
    "まず、以下のコードで各列がどのような型で読み込まれているかを確認します。\n",
    "\n"
   ]
  },
  {
   "cell_type": "code",
   "execution_count": null,
   "metadata": {},
   "outputs": [],
   "source": []
  },
  {
   "cell_type": "markdown",
   "metadata": {},
   "source": [
    "`read_csv()`関数は、各列に最適なデータ型を認識して読み込みます。読み込むデータに\"NA\"という文字列や値が無いセルは欠損値と認識し、浮動小数点のNaNという値に変換されます。\n",
    "WaveLength、obs3、obs4の列はすべて数値(float64)として読み込むことができました。\n",
    "\n",
    "obs1、obs2の列は、CSVファイルには数値の代わりに`nodata`の文字列が保存されている箇所があり、すべての値を数値に変換することができませんでした。\n",
    "そのため、データフレームの各列は**object**の型で保持されています。\n",
    "\n",
    "以下で、この数値に変換できなかった値を強制的にNaNへ変換し、すべての列を浮動小数点の型とすることができます。"
   ]
  },
  {
   "cell_type": "code",
   "execution_count": null,
   "metadata": {},
   "outputs": [],
   "source": []
  },
  {
   "cell_type": "markdown",
   "metadata": {},
   "source": [
    "すべてのカラムが浮動小数点に変換されました。  先程`nodata`と表示されていた箇所も、`NaN`と表示されています。"
   ]
  },
  {
   "cell_type": "markdown",
   "metadata": {},
   "source": [
    "### 基本統計量の確認\n",
    "データフレームに保存されているデータの概要は、`describe()`メソッドで確認することができます。"
   ]
  },
  {
   "cell_type": "code",
   "execution_count": null,
   "metadata": {},
   "outputs": [],
   "source": []
  },
  {
   "cell_type": "markdown",
   "metadata": {},
   "source": [
    "DataFrameクラスが持つ`count()`や`mean()`、`std()`などのメソッドを用いると、上記の基本統計量を個別に算出することができます。"
   ]
  },
  {
   "cell_type": "code",
   "execution_count": null,
   "metadata": {},
   "outputs": [],
   "source": []
  },
  {
   "cell_type": "markdown",
   "metadata": {},
   "source": [
    "`mean()`では、各カラムの平均値が、`std()`では各カラムの標準偏差の値が算出されていることが確認できます。"
   ]
  },
  {
   "cell_type": "markdown",
   "metadata": {},
   "source": [
    "### 欠損値の設定\n",
    "`irrad`のWaveLengthが400から403の値のデータを確認してみます。"
   ]
  },
  {
   "cell_type": "code",
   "execution_count": null,
   "metadata": {},
   "outputs": [],
   "source": []
  },
  {
   "cell_type": "markdown",
   "metadata": {},
   "source": [
    "いくつかの分光放射照度の値が負になっていることが確認できますが、分光放射照度は負の値を取らないため、これらは測定ノイズであると考えられます。\n",
    "\n",
    "今回は負の値になった箇所を、欠損値であることを示す`NaN`で埋めていきます。"
   ]
  },
  {
   "cell_type": "code",
   "execution_count": null,
   "metadata": {},
   "outputs": [],
   "source": [
    "# WaveLength以外のカラム名を設定\n",
    "\n",
    "# target_columnsの値が負のセルをマスク\n",
    "\n",
    "# 上記のセルと同じ箇所を表示"
   ]
  },
  {
   "cell_type": "markdown",
   "metadata": {},
   "source": [
    "再度、データフレームの基本統計量を確認します。"
   ]
  },
  {
   "cell_type": "code",
   "execution_count": null,
   "metadata": {},
   "outputs": [],
   "source": []
  },
  {
   "cell_type": "markdown",
   "metadata": {},
   "source": [
    "最小値が0になり、その他の統計量も若干変化したことが確認できます。"
   ]
  },
  {
   "cell_type": "markdown",
   "metadata": {},
   "source": [
    "## グラフへのプロット"
   ]
  },
  {
   "cell_type": "markdown",
   "metadata": {},
   "source": [
    "上で作成したデータフレームをグラフにプロットしましょう。DataFrameクラスにある[plot()](https://pandas.pydata.org/pandas-docs/version/0.23.4/generated/pandas.DataFrame.plot.html)メソッドでプロットしてみます。\n",
    "\n",
    "引数xにx軸としたいカラムの名前を指定します。"
   ]
  },
  {
   "cell_type": "code",
   "execution_count": null,
   "metadata": {},
   "outputs": [],
   "source": []
  },
  {
   "cell_type": "markdown",
   "metadata": {},
   "source": [
    "## NDVIの計算\n",
    "NDVIは植生の状態をよく反映する指標で、以下の式で定義されます。\n",
    "$$\n",
    "    NDVI = \\frac{近赤外線(NIR)の反射率 - 赤色(Red)の反射率}{近赤外線(NIR)の反射率 + 赤色(Red)の反射率}\n",
    "$$\n",
    "\n",
    "マルチスペクトルメータの場合、近赤外の反射率に相当するものは、上記の図の灰色の範囲の平均値、同様に赤色の反射率は赤色の範囲の平均値となります。今回のようなノイズが多いデータの場合、平均値より中央値を用いる方が良いでしょう。\n",
    "\n",
    "ここからNDVIを算出するため、以下の手順を行います。\n",
    "- 各バンドにおける中央値の計算\n",
    "- NDVIの計算"
   ]
  },
  {
   "cell_type": "markdown",
   "metadata": {},
   "source": [
    "### バンドごとの中央値の計算\n",
    "作成したデータフレームから、特定のWave Lengthの範囲における各バンドの値の中央値は、以下の手順で求めることができる。\n",
    "1. Wabe Lengthが、赤色の範囲である行のみをデータフレームから抜き出す。\n",
    "2. 抜き出してできる新たなデータフレームの列ごとの平均値(中央値)を求める。\n",
    "3. 上記1,2をNIRについても行う。"
   ]
  },
  {
   "cell_type": "markdown",
   "metadata": {},
   "source": [
    "#### 行の抽出\n",
    "データフレームから行番号を指定して特定の行を抜き出すには、`df[0:5]`のような形で行の範囲を指定します。"
   ]
  },
  {
   "cell_type": "code",
   "execution_count": null,
   "metadata": {},
   "outputs": [],
   "source": []
  },
  {
   "cell_type": "markdown",
   "metadata": {},
   "source": [
    "また、`0:5`の代わりに、`[True, False, False, ...]`のようなブール値の入ったリストを与えると、`True`の行を抽出することができます。(`[]`が入れ子になっていることに注意。)"
   ]
  },
  {
   "cell_type": "code",
   "execution_count": null,
   "metadata": {},
   "outputs": [],
   "source": []
  },
  {
   "cell_type": "markdown",
   "metadata": {},
   "source": [
    "更に、以下のようにカラムを抽出し条件式に当てはめると、N番目の行が条件を満たす場合`True`、満たさない場合`False`が入った**Series**を作成することができ、このSeriesも上記のリスト同様に行の抽出に使うことができます。"
   ]
  },
  {
   "cell_type": "code",
   "execution_count": null,
   "metadata": {},
   "outputs": [],
   "source": [
    "# データフレームからのカラムの抽出"
   ]
  },
  {
   "cell_type": "code",
   "execution_count": null,
   "metadata": {},
   "outputs": [],
   "source": [
    "# Bool値の入ったSeriesの作成"
   ]
  },
  {
   "cell_type": "markdown",
   "metadata": {},
   "source": [
    "このBool値が入ったSeriesは、`&`や`|`で結合することで、複数の条件を満たす新たなBool値のSeriesを作成することができます。"
   ]
  },
  {
   "cell_type": "code",
   "execution_count": null,
   "metadata": {},
   "outputs": [],
   "source": []
  },
  {
   "cell_type": "markdown",
   "metadata": {},
   "source": [
    "以上を組み合わせて、赤色の波長範囲の分光放射照度のみのデータフレームは以下のように作成できます。"
   ]
  },
  {
   "cell_type": "code",
   "execution_count": null,
   "metadata": {},
   "outputs": [],
   "source": [
    "# Bool値のSeriesを作る\n",
    "# Seriesでデータフレームを抽出する"
   ]
  },
  {
   "cell_type": "markdown",
   "metadata": {},
   "source": [
    "NIRについても同様にデータフレームを作成できます。"
   ]
  },
  {
   "cell_type": "code",
   "execution_count": null,
   "metadata": {},
   "outputs": [],
   "source": []
  },
  {
   "cell_type": "markdown",
   "metadata": {},
   "source": [
    "#### 中央値の計算\n",
    "基本統計量の確認の際に示した`mean()`と同様に、DataFrameが持つ`median()`メソッドにより各カラムの中央値が計算できます。"
   ]
  },
  {
   "cell_type": "code",
   "execution_count": null,
   "metadata": {},
   "outputs": [],
   "source": []
  },
  {
   "cell_type": "code",
   "execution_count": null,
   "metadata": {},
   "outputs": [],
   "source": []
  },
  {
   "cell_type": "markdown",
   "metadata": {},
   "source": [
    "### NDVIの計算\n",
    "作成したSeriesからNDVIの計算に不要な`WaveLength`の値を抜いておきます。"
   ]
  },
  {
   "cell_type": "code",
   "execution_count": null,
   "metadata": {},
   "outputs": [],
   "source": []
  },
  {
   "cell_type": "markdown",
   "metadata": {},
   "source": [
    "Seriesは要素数が同じ場合、四則演算は各要素ごとに行われます。これを分配法則といいます。このため、各obsにおけるNDVIは定義式のようにSeriesを計算することにより求めることができます。"
   ]
  },
  {
   "cell_type": "code",
   "execution_count": null,
   "metadata": {},
   "outputs": [],
   "source": []
  },
  {
   "cell_type": "markdown",
   "metadata": {},
   "source": [
    "以上でNDVIの算出ができました。"
   ]
  }
 ],
 "metadata": {
  "kernelspec": {
   "display_name": "Python 3",
   "language": "python",
   "name": "python3"
  },
  "language_info": {
   "codemirror_mode": {
    "name": "ipython",
    "version": 3
   },
   "file_extension": ".py",
   "mimetype": "text/x-python",
   "name": "python",
   "nbconvert_exporter": "python",
   "pygments_lexer": "ipython3",
   "version": "3.8.6"
  },
  "toc-autonumbering": true
 },
 "nbformat": 4,
 "nbformat_minor": 4
}
