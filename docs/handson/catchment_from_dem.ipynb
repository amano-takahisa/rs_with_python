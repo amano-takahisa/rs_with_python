{
 "cells": [
  {
   "cell_type": "markdown",
   "metadata": {},
   "source": [
    "# DEM(数値標高モデル)からの水系図作成"
   ]
  },
  {
   "cell_type": "raw",
   "metadata": {},
   "source": [
    "<ul>\n",
    "<li><a href=\"https://amano-takahisa.github.io/rs_with_python/handson/catchment_from_dem.ipynb\">このページのJupyter Notebookファイル</a></li>\n",
    "<li><a href=\"https://youtu.be/42k_H4Yl09s\">解説動画</a></li>\n",
    "<li><a href=\"https://github.com/amano-takahisa/rs_with_python/raw/master/source/handson/data/watershed/dem_fuefuki.tif\">利用するデータ</a></li>\n",
    "</ul>"
   ]
  },
  {
   "cell_type": "markdown",
   "metadata": {},
   "source": [
    "ここでは、数値標高モデルのデータから水系図の作成を行います。\n",
    "\n",
    "以下の2つの方法を説明します。\n",
    "\n",
    "- QGISを経由してGRASS GISのモジュールを利用する\n",
    "- PythonからGRASS GISのモジュールを利用する\n",
    "\n",
    "どちらも、[GRASS GIS](https://grass.osgeo.org/)の[r.watershed](https://grass.osgeo.org/grass78/manuals/r.watershed.html)というモジュールを利用して水系図を作成します。GRASS GISは独自のデータベース構造を持つため、はじめは仕組みを理解することが難しいかもしれませんが、ラスタデータやベクタデータを扱う多くのライブラリがあり、リモートセンシングやGISの解析に非常に有用なツールです。QGISを経由してGRASSのモジュールを利用することで、比較的簡易にそれらのツールを利用することができるようになります。また、Pythonを使う方法を利用すると、バッチ処理やほかのPython処理とスムーズに結合することができるようになります。\n",
    "\n",
    "まずはQGISを使った方法を説明します。\n",
    "\n",
    "事前に、[OSGeo4W](https://trac.osgeo.org/osgeo4w/)からネットワークインストーラーをダウンロードして、QGIS Desktop with GRASSが使えるようにしておいてください。インストールの設定は、エクスプレスインストールを選択し、すべてデフォルトの設定で大丈夫です。\n",
    "\n",
    "データは笛吹川上流域のSRTM DEMデータを利用します。SRTMデータはWGS84の地理座標系で提供されています。事前にUTM座標系に変換したものを準備したので、[ここから](data/watershed/dem_fuefuki.tif)ダウンロードしてdataフォルダに保存してください。"
   ]
  },
  {
   "cell_type": "markdown",
   "metadata": {},
   "source": [
    "## QGISを用いた方法\n",
    "スタートメニューから、QGISを検索し、**QGIS Desktop with GRASS**を起動してください。**with GRASS表記がないものでは以下は動きません。**\n",
    "\n",
    "![QGISの起動](images/ss_catchment_01_start_qgis.png)\n",
    "\n",
    "ダウンロードした`dem_fuefuki.tif`をQGISにドラッグ＆ドロップしてデータを読み込みます。読み込まれたデータはLayersパネルに一覧が表示されます。Layersパネルが表示されていない場合、View → PanelsメニューからLayersをオンにしてください。また、同じメニューから、Processing Tool Boxのパネルも表示してください。\n",
    "\n",
    "<video controls src=\"../_static/mv_watershed_load_dem.mp4\">animation</video>"
   ]
  },
  {
   "cell_type": "markdown",
   "metadata": {},
   "source": [
    "### GRASS GISモジュールの実行\n",
    "Processing Toolboxから、GRASS GISやSAGA GISなどのほかのフリーのGISソフトが提供するツール群を利用することができます。Processing Toolboxの検索ボックスに\"water\"と入れて表示される\"r.watershed\"モジュールを起動してください。\n",
    "\n",
    "![watershedモジュールの起動](images/ss_watershed_rwatershed.png)"
   ]
  },
  {
   "cell_type": "markdown",
   "metadata": {},
   "source": [
    "モジュールに以下の設定を行い、Runを押して実行してください。記載のない項目はすべてデフォルトの値です。\n",
    "\n",
    "- Elevation : dem_fuefuki [EPSG:32654]\n",
    "- Minimum size of exterior watershed basin [optional] : 1000\n",
    "\n",
    "上記のオプションで最小面積が$1000m^2$となるような集水域図が作成されます。\n",
    "ログメッセージが表示後、モジュールの実行が完了します。モジュールウィンドウは閉じてください。"
   ]
  },
  {
   "cell_type": "markdown",
   "metadata": {},
   "source": [
    "### 結果\n",
    "Layersパネルに計算されたラスターデータが追加されます。\n",
    "\n",
    "作成されたラスタについて、以下で説明します。図はDEMから作成した陰影図を重ね合わせています。"
   ]
  },
  {
   "cell_type": "markdown",
   "metadata": {},
   "source": [
    "#### Unique label for each watershed basin\n",
    "集水域を表します。各集水域に固有のIDが振られています。  \n",
    "![集水域](images/watershed_basin.png)"
   ]
  },
  {
   "cell_type": "markdown",
   "metadata": {},
   "source": [
    "#### Half-basins\n",
    "河川の左右別の集水域を表します。下流から見て右の支流に偶数、左の支流にその1少ない奇数のIDが振られています。  \n",
    "![半集水域](images/watershed_basin_half.png)\n"
   ]
  },
  {
   "cell_type": "markdown",
   "metadata": {},
   "source": [
    "#### Number of cells that drain through each cell\n",
    "各ピクセルより上流にあるピクセルの数を表します。ピクセルサイズと掛け合わせることで、各ピクセルにおける集水域の面積となります。入力DEMの範囲外から流入する地域については値が負になっています。\n",
    "\n",
    "![ピクセル数](images/watershed_n_cell.png)"
   ]
  },
  {
   "cell_type": "markdown",
   "metadata": {},
   "source": [
    "#### Stream segments\n",
    "河川の位置を表します。各河川は集水域のIDに対応するID値を持ちます。GRASSの`r.to.vect`モジュールの入力として与えることで、ベクターデータ(shapefile)として出力できます。\n",
    "\n",
    "![stream](images/watershed_stream_seg.png)"
   ]
  },
  {
   "cell_type": "markdown",
   "metadata": {},
   "source": [
    "#### Drainage direction\n",
    "各ピクセルでの斜面の方位を示しています。方位は以下の図に示す値で定義されています。([参考](https://idea.isnew.info/how-to-import-arcgis-flow-direction-into-grass-gis.html))\n",
    "\n",
    "![流下方位](images/watershed_drainage_direction_map.png)\n",
    "![方位定義](images/watershed_drainage_direction.png)"
   ]
  },
  {
   "cell_type": "markdown",
   "metadata": {},
   "source": [
    "#### Stream power index a * tan(b)\n",
    "各地点における水が流下する力を示します。各ピクセルにおける単位等高線あたりの集水面積を$\\alpha$、各地点での傾斜角度を$\\beta$としたとき、$\\alpha \\times tan(\\beta)$と定義されるStream Power Index(SPI)と呼ばれる指標です。(Moore et al. 1991)\n",
    "\n",
    "![SPI](images/watershed_stream_pi.png)"
   ]
  },
  {
   "cell_type": "markdown",
   "metadata": {},
   "source": [
    "#### Topographic index ln(a / tan(b))\n",
    "各地点における水が流下する力を示します。SPIの自然対数で定義されます。(Quinn et al. 1991)\n",
    "\n",
    "![TCI](images/watershed_topo_indx.png)"
   ]
  },
  {
   "cell_type": "markdown",
   "metadata": {},
   "source": [
    "#### Slope length and steepness (LS) factor for USLE\n",
    "Revised Universal Soil Loss Equation (RUSLE)におけるLSの値(傾斜長および傾斜度)を示します。\n",
    "\n",
    "![LS](images/watershed_slope_ls.png)"
   ]
  },
  {
   "cell_type": "markdown",
   "metadata": {},
   "source": [
    "#### Slope steepness (S) factor for USLE\n",
    "Revised Universal Soil Loss Equation (RUSLE)におけるSの値(傾斜度)を示します。\n",
    "\n",
    "![S](images/watershed_slope_s.png)"
   ]
  },
  {
   "cell_type": "markdown",
   "metadata": {},
   "source": [
    "#### 結果の保存\n",
    "Layerウィンドウ内でレイヤの右側に![メモリアイコン](images/watershed_memory.png)表示があるレイヤはQGISの一時ファイルに保存されています。GRASSモジュールを実行する際に計算結果の保存先を指定しなかった場合、デフォルトで一時ファイルに保存されます。これらはQGISを終了した際に削除されてしまうので、QGISを閉じる前にGeoTiffファイルとして保存してください。保存方法は、保存したいレイヤを右クリック、Export -> Save as... で表示されるダイヤログにおいて、フォーマットと保存先フォルダを指定します。その他の設定項目はデフォルト値で大丈夫です。ラスタがファイルに保存され、QGISのレイヤにも追加されます。\n",
    "\n",
    "以上でQGISを通じたGRASSモジュールによる集水域図を作成することができました。"
   ]
  },
  {
   "cell_type": "markdown",
   "metadata": {},
   "source": [
    "## PythonからGRASSモジュールを利用する\n",
    "GRASS GISは独自のデータベースを使って計算を行います。Geotiffやシェープファイルなどの一般的なファイルは、初めにGRASSデータベースへ登録する必要があります。\n",
    "\n",
    "各種の計算は、GRASSデータベースに登録されたデータに対して行われ、計算結果もデータベースに登録されます。\n",
    "\n",
    "計算の成果物となるラスタデータやベクタデータはこのGRASSデータベース上にあるため、GeotiffやShapefile等の一般的なファイルとしてとりだす作業も必要になります。\n",
    "\n",
    "上記のQGISを用いたGRASSモジュールの利用では、これらの操作がバックグラウンドで自動で行われます。\n",
    "\n",
    "GRASS GISはもともとBashターミナルからの操作を想定して設計されたプログラムですが、GRASS GIS 7.8以降ではPythonからの利用が非常にしやすくなりました。\n",
    "\n",
    "以降では、GRASSが提供するPythonインターフェースを用いて、Jupyter Notebook上でGRASS GISを利用してみます。\n",
    "[参考リンク](https://grasswiki.osgeo.org/wiki/Working_with_GRASS_without_starting_it_explicitly)"
   ]
  },
  {
   "cell_type": "markdown",
   "metadata": {},
   "source": [
    "Windows 10のパソコンから利用する場合、[Jupyter Notebookと環境構築](setup_ipynb.ipynb)を参考にPython環境をセットアップしてください。残念ながら、Google CodelaboratoryではGRASSのバージョンが古いため、以降のコマンドは動きません。\n",
    "\n",
    "Python環境が設定出来たら、ターミナルから以下のコマンドを実行し、GRASS GISをインストールします。15分ほどかかります。\n",
    "```bash\n",
    "# Ubuntuのパスワード入力が必要\n",
    "sudo apt install grass\n",
    "```\n",
    "GRASSのバージョンは7.8以上であることを以下のコマンドで確認してください。\n",
    "```bash\n",
    "grass --version\n",
    "```\n",
    "Jupyter Notebookからは以下のように確認することもできます。"
   ]
  },
  {
   "cell_type": "code",
   "execution_count": 1,
   "metadata": {},
   "outputs": [
    {
     "name": "stdout",
     "output_type": "stream",
     "text": [
      "GRASS GIS 7.8.2\n",
      "\n",
      "Geographic Resources Analysis Support System (GRASS) is Copyright,\n",
      "1999-2019 by the GRASS Development Team, and licensed under terms of the\n",
      "GNU General Public License (GPL) version >=2.\n",
      " \n",
      "This GRASS GIS 7.8.2 release is coordinated and produced by\n",
      "the GRASS Development Team with contributions from all over the world.\n",
      "\n",
      "This program is distributed in the hope that it will be useful, but\n",
      "WITHOUT ANY WARRANTY; without even the implied warranty of\n",
      "MERCHANTABILITY or FITNESS FOR A PARTICULAR PURPOSE.  See the GNU\n",
      "General Public License for more details.\n",
      "\n"
     ]
    }
   ],
   "source": [
    "!grass --version"
   ]
  },
  {
   "cell_type": "markdown",
   "metadata": {},
   "source": [
    "また、PythonからGRASS GISを使うために必要な`grass-session`というライブラリをインストールしてください。\n",
    "```bash\n",
    "pip install grass-session\n",
    "```"
   ]
  },
  {
   "cell_type": "markdown",
   "metadata": {},
   "source": [
    "Jupyter Notebookファイルと同じフォルダに`data/watershed/`フォルダを作成し、解析対象のDEMファイルを保存してください。\n",
    "\n",
    "まずは必要なライブラリのインポートとパラメータを設定します。"
   ]
  },
  {
   "cell_type": "code",
   "execution_count": 2,
   "metadata": {},
   "outputs": [],
   "source": [
    "from grass_session import Session\n",
    "from grass.script import core as gcore\n",
    "import os\n",
    "\n",
    "data_dir = os.path.join('data', 'watershed')\n",
    "raster_path = os.path.join(data_dir, 'dem_fuefuki.tif')\n",
    "gisdb_path = os.path.join(data_dir, 'grass_db')\n",
    "location = 'fuefuki'\n",
    "\n",
    "# 通常GRASS GISでは、PERMANENTマップセットに一次データを保存し、\n",
    "# ユーザー、テーマごとにマップセットを作成して作業を行いますが、\n",
    "# ここではすべて同じPERMANENTマップセット上で作業を行います。\n",
    "mapset = 'PERMANENT'"
   ]
  },
  {
   "cell_type": "markdown",
   "metadata": {},
   "source": [
    "GRASSデータベースを作成します。データベースの作成には、扱うGISデータの座標系や空間的な範囲を設定する必要がありますが、これらはdem_fuefuki.tifファイルをもとに作成します。また、データベースの作成と同時にデータベースにdem_fuefuki.tifを登録します。"
   ]
  },
  {
   "cell_type": "code",
   "execution_count": 3,
   "metadata": {},
   "outputs": [],
   "source": [
    "with Session(gisdb=gisdb_path,\n",
    "             location=location,\n",
    "             mapset=mapset,\n",
    "             create_opts=raster_path):\n",
    "    # import geotiff to PERMANENT mapset and change extent\n",
    "    gcore.run_command('r.in.gdal',\n",
    "                      flags='oe',\n",
    "                      input=raster_path,\n",
    "                      band=1,\n",
    "                      output='dem',\n",
    "                      overwrite=True)"
   ]
  },
  {
   "cell_type": "markdown",
   "metadata": {},
   "source": [
    "データベースに`dem`という名前で`dem_fuefuki.tif`ファイルが登録されました。GRASSのデータベースの中身は[g.list](https://grass.osgeo.org/grass78/manuals/g.list.html)を用いた以下のコマンドで確認することができます。"
   ]
  },
  {
   "cell_type": "code",
   "execution_count": 4,
   "metadata": {},
   "outputs": [
    {
     "name": "stdout",
     "output_type": "stream",
     "text": [
      "dem\n",
      "\n"
     ]
    }
   ],
   "source": [
    "with Session(gisdb=gisdb_path,\n",
    "             location=location,\n",
    "             mapset=mapset):\n",
    "    print(gcore.read_command('g.list',\n",
    "                             type='rast'))"
   ]
  },
  {
   "cell_type": "markdown",
   "metadata": {},
   "source": [
    "`type='rast'`とすることで、ラスタデータをリストアップすることができます。\n",
    "\n",
    "次に、登録された`dem`というラスタデータに対して、GRASSの`r.watershed`モジュールを適用します。"
   ]
  },
  {
   "cell_type": "code",
   "execution_count": 5,
   "metadata": {},
   "outputs": [
    {
     "name": "stdout",
     "output_type": "stream",
     "text": [
      "accumulation\n",
      "basin\n",
      "dem\n",
      "drainage\n",
      "half_basin\n",
      "length_slope\n",
      "slope_steepness\n",
      "spi\n",
      "stream\n",
      "tci\n",
      "\n"
     ]
    }
   ],
   "source": [
    "# create a new location from raster file\n",
    "with Session(gisdb=gisdb_path,\n",
    "             location=location,\n",
    "             mapset=mapset):\n",
    "    # Run r.watershed command\n",
    "    gcore.run_command('r.watershed',\n",
    "                      elevation='dem',\n",
    "                      threshold=1000,\n",
    "                      accumulation='accumulation',\n",
    "                      drainage='drainage',\n",
    "                      basin='basin',\n",
    "                      stream='stream',\n",
    "                      half_basin='half_basin',\n",
    "                      length_slope='length_slope',\n",
    "                      slope_steepness='slope_steepness',\n",
    "                      tci='tci',\n",
    "                      spi='spi',\n",
    "                      overwrite=True)\n",
    "    # List up created rasters\n",
    "    print(gcore.read_command('g.list',\n",
    "                             type='rast'))"
   ]
  },
  {
   "cell_type": "markdown",
   "metadata": {},
   "source": [
    "`r.watarshed`コマンドのオプションは、今回QGISで実行したものと同じ値としました。各オプションの詳細は[GRASS GISの公式ドキュメント](https://grass.osgeo.org/grass78/manuals/r.watershed.html)を参照してください。\n",
    "\n",
    "`r.watarshed`コマンドに続いて、`g.list`コマンドを実行し、作成したラスタデータの一覧を表示しています。\n",
    "\n",
    "`grass.script`の`core.run_command()`と`core.read_command()`との違いは、単純にGRASSのモジュールを動かす場合は`run_command()`、GRASSモジュールの標準出力を文字列でとってきたいときは`read_command()`を利用します。詳細は[GRASS GISの公式wiki](https://grasswiki.osgeo.org/wiki/GRASS_Python_Scripting_Library#Uses_for_read.2C_feed_and_pipe.2C_start_and_exec_commands)に開設があります。\n",
    "\n",
    "DEMから作成された河川のデータはstreamという名前でラスタデータとして保存されています。これを[r.to.vect](https://grass.osgeo.org/grass78/manuals/r.to.vect.html)モジュールを利用してベクトルデータに変換してみましょう。"
   ]
  },
  {
   "cell_type": "code",
   "execution_count": 6,
   "metadata": {},
   "outputs": [],
   "source": [
    "with Session(gisdb=gisdb_path,\n",
    "             location='fuefuki',\n",
    "             mapset='PERMANENT'):\n",
    "    gcore.run_command('r.to.vect',\n",
    "                      input='stream',\n",
    "                      output='stream',\n",
    "                      type='line',\n",
    "                      overwrite=True)"
   ]
  },
  {
   "cell_type": "markdown",
   "metadata": {},
   "source": [
    "データベースの中身を確認します。"
   ]
  },
  {
   "cell_type": "code",
   "execution_count": 7,
   "metadata": {},
   "outputs": [
    {
     "name": "stdout",
     "output_type": "stream",
     "text": [
      "stream\n",
      "\n"
     ]
    }
   ],
   "source": [
    "with Session(gisdb=gisdb_path,\n",
    "             location='fuefuki',\n",
    "             mapset='PERMANENT'):\n",
    "    print(gcore.read_command('g.list',\n",
    "                             type='vector'))"
   ]
  },
  {
   "cell_type": "markdown",
   "metadata": {},
   "source": [
    "続いて、データベース内に生成されたラスタデータをGeotiffファイルとして抽出します。GRASSのデータベースからラスタデータをファイルとして取り出すには、[r.out.gdalモジュール](https://grass.osgeo.org/grass78/manuals/r.out.gdal.html)を利用します。"
   ]
  },
  {
   "cell_type": "code",
   "execution_count": 8,
   "metadata": {},
   "outputs": [],
   "source": [
    "with Session(gisdb=gisdb_path,\n",
    "             location='fuefuki',\n",
    "             mapset='PERMANENT'):\n",
    "    gcore.run_command('r.out.gdal',\n",
    "                      flags='mt',\n",
    "                      input='accumulation',\n",
    "                      output=os.path.join(data_dir, 'accumulation.tif'),\n",
    "                      format='GTiff',\n",
    "                      createopt='TFW=YES,COMPRESS=LZW',\n",
    "                      overwrite=True)\n",
    "    "
   ]
  },
  {
   "cell_type": "markdown",
   "metadata": {},
   "source": [
    "`accumuration`の所を、`basin`や`drainage`に変更することで、そのほかの生成されたラスタデータをファイルとして取り出すことができます。\n",
    "\n",
    "ベクタデータのファイルへの書き出しは[v.out.ogr](https://grass.osgeo.org/grass78/manuals/v.out.ogr.html)を利用します。"
   ]
  },
  {
   "cell_type": "code",
   "execution_count": 9,
   "metadata": {},
   "outputs": [],
   "source": [
    "with Session(gisdb=gisdb_path,\n",
    "             location='fuefuki',\n",
    "             mapset='PERMANENT'):\n",
    "    gcore.run_command('v.out.ogr',\n",
    "                      flags='e',\n",
    "                      input='stream',\n",
    "                      output=os.path.join(data_dir, 'stream.shp'),\n",
    "                      format='ESRI_Shapefile',\n",
    "                      overwrite=True)"
   ]
  },
  {
   "cell_type": "markdown",
   "metadata": {},
   "source": [
    "上のコードで`stream.shp`というShapefileが保存されます。\n",
    "\n",
    "以上で、PythonからGRASS GISを使ってDEMデータの解析を行うことができました。"
   ]
  }
 ],
 "metadata": {
  "kernelspec": {
   "display_name": "Python 3",
   "language": "python",
   "name": "python3"
  },
  "language_info": {
   "codemirror_mode": {
    "name": "ipython",
    "version": 3
   },
   "file_extension": ".py",
   "mimetype": "text/x-python",
   "name": "python",
   "nbconvert_exporter": "python",
   "pygments_lexer": "ipython3",
   "version": "3.8.6"
  }
 },
 "nbformat": 4,
 "nbformat_minor": 4
}
