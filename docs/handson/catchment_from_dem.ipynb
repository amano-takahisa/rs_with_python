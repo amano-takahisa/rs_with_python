{
 "cells": [
  {
   "cell_type": "markdown",
   "metadata": {},
   "source": [
    "# DEM(数値標高モデル)からの水系図作成\n",
    "ここでは、数値標高モデルのデータから水系図の作成を行います。\n",
    "\n",
    "以下の2つの方法を説明します。\n",
    "- QGISを経由してGRASS GISのモジュールを利用する\n",
    "- PythonからGRASS GISのモジュールを利用する\n",
    "\n",
    "どちらも、GRASSの[r.watershed](https://grass.osgeo.org/grass78/manuals/r.watershed.html)というモジュールを利用して水系図を作成します。GRASS GISは独自のデータベース構造を持つため、はじめは仕組みを理解することが難しいかもしれませんが、ラスタデータやベクタデータを扱う多くのライブラリがあり、リモートセンシングやGISの解析に非常に有用なツールです。QGISを経由してGRASSのモジュールを利用することで、比較的簡易にそれらのツールを利用することができるようになります。また、Pythonを使う方法を利用すると、バッチ処理やほかのPython処理とスムーズに結合することができるようになります。\n",
    "\n",
    "まずはQGISを使った方法を説明します。\n",
    "\n",
    "事前に、[OSGeo4W](https://trac.osgeo.org/osgeo4w/)からネットワークインストーラーをダウンロードして、QGIS Desktop with GRASSが使えるようにしておいてください。インストールの設定は、エクスプレスインストールを選択し、すべてデフォルトの設定で大丈夫です。\n",
    "\n",
    "データは笛吹川上流域のSRTM DEMデータを利用します。SRTMデータはWGS84の地理座標系で提供されています。事前にUTM座標系に変換したものを準備したので、[ここから](data/watershed/dem_fuefuki.tif)ダウンロードしてdataフォルダに保存してください。"
   ]
  },
  {
   "cell_type": "markdown",
   "metadata": {},
   "source": [
    "## QGISを用いた方法\n",
    "スタートメニューから、QGISを検索し、**QGIS Desktop with GRASS**を起動してください。**with GRASS表記がないものでは以下は動きません。**\n",
    "\n",
    "![QGISの起動](images/ss_catchment_01_start_qgis.png)\n",
    "\n",
    "ダウンロードした`dem_fuefuki.tif`をQGISにドラッグ＆ドロップしてデータを読み込みます。読み込まれたデータはLayersパネルに一覧が表示されます。Layersパネルが表示されていない場合、View → PanelsメニューからLayersをオンにしてください。また、同じメニューから、Processing Tool Boxのパネルも表示してください。\n",
    "\n",
    "<video controls src=\"../_static/mv_watershed_load_dem.mp4\">animation</video>"
   ]
  },
  {
   "cell_type": "markdown",
   "metadata": {},
   "source": [
    "### GRASS GISモジュールの実行\n",
    "Processing Toolboxから、GRASS GISやSAGA GISなどのほかのフリーのGISソフトが提供するツール群を利用することができます。Processing Toolboxの検索ボックスに\"water\"と入れて表示される\"r.watershed\"モジュールを起動してください。\n",
    "\n",
    "![watershedモジュールの起動](images/ss_watershed_rwatershed.png)"
   ]
  },
  {
   "cell_type": "markdown",
   "metadata": {},
   "source": [
    "モジュールに以下の設定を行い、Runを押して実行してください。記載のない項目はすべてデフォルトの値です。\n",
    "\n",
    "- Elevation : dem_fuefuki [EPSG:32654]\n",
    "- Minimum size of exterior watershed basin [optional] : 1000\n",
    "\n",
    "上記のオプションで最小面積が$1000m^2$となるような集水域図が作成されます。\n",
    "ログメッセージが表示後、モジュールの実行が完了します。モジュールウィンドウは閉じてください。"
   ]
  },
  {
   "cell_type": "markdown",
   "metadata": {},
   "source": [
    "### 結果\n",
    "Layersパネルに計算されたラスターデータが追加されます。\n",
    "\n",
    "作成されたラスタについて、以下で説明します。図はDEMから作成した陰影図を重ね合わせています。"
   ]
  },
  {
   "cell_type": "markdown",
   "metadata": {},
   "source": [
    "#### Unique label for each watershed basin\n",
    "集水域を表します。各集水域に固有のIDが振られています。  \n",
    "![集水域](images/watershed_basin.png)"
   ]
  },
  {
   "cell_type": "markdown",
   "metadata": {},
   "source": [
    "#### Half-basins\n",
    "河川の左右別の集水域を表します。下流から見て右の支流に偶数、左の支流にその1少ない奇数のIDが振られています。  \n",
    "![半集水域](images/watershed_basin_half.png)\n"
   ]
  },
  {
   "cell_type": "markdown",
   "metadata": {},
   "source": [
    "#### Number of cells that drain through each cell\n",
    "各ピクセルより上流にあるピクセルの数を表します。ピクセルサイズと掛け合わせることで、各ピクセルにおける集水域の面積となります。入力DEMの範囲外から流入する地域については値が負になっています。\n",
    "\n",
    "![ピクセル数](images/watershed_n_cell.png)"
   ]
  },
  {
   "cell_type": "markdown",
   "metadata": {},
   "source": [
    "#### Stream segments\n",
    "河川の位置を表します。各河川は集水域のIDに対応するID値を持ちます。GRASSの`r.to.vect`モジュールの入力として与えることで、ベクターデータ(shapefile)として出力できます。\n",
    "\n",
    "![stream](images/watershed_stream_seg.png)"
   ]
  },
  {
   "cell_type": "markdown",
   "metadata": {},
   "source": [
    "#### Drainage direction\n",
    "各ピクセルでの斜面の方位を示しています。方位は以下の図に示す値で定義されています。([参考](https://idea.isnew.info/how-to-import-arcgis-flow-direction-into-grass-gis.html))\n",
    "\n",
    "![流下方位](images/watershed_drainage_direction_map.png)\n",
    "![方位定義](images/watershed_drainage_direction.png)"
   ]
  },
  {
   "cell_type": "markdown",
   "metadata": {},
   "source": [
    "#### Stream power index a * tan(b)\n",
    "各地点における水が流下する力を示します。各ピクセルにおける単位等高線あたりの集水面積を$\\alpha$、各地点での傾斜角度を$\\beta$としたとき、$\\alpha \\times tan(\\beta)$と定義されるStream Power Index(SPI)と呼ばれる指標です。(Moore et al. 1991)\n",
    "\n",
    "![SPI](images/watershed_stream_pi.png)"
   ]
  },
  {
   "cell_type": "markdown",
   "metadata": {},
   "source": [
    "#### Topographic index ln(a / tan(b))\n",
    "各地点における水が流下する力を示します。SPIの自然対数で定義されます。(Quinn et al. 1991)\n",
    "\n",
    "![TCI](images/watershed_topo_indx.png)"
   ]
  },
  {
   "cell_type": "markdown",
   "metadata": {},
   "source": [
    "#### Slope length and steepness (LS) factor for USLE\n",
    "Revised Universal Soil Loss Equation (RUSLE)におけるLSの値(傾斜長および傾斜度)を示します。\n",
    "\n",
    "![LS](images/watershed_slope_ls.png)"
   ]
  },
  {
   "cell_type": "markdown",
   "metadata": {},
   "source": [
    "#### Slope steepness (S) factor for USLE\n",
    "Revised Universal Soil Loss Equation (RUSLE)におけるSの値(傾斜度)を示します。\n",
    "\n",
    "![S](images/watershed_slope_s.png)"
   ]
  },
  {
   "cell_type": "markdown",
   "metadata": {},
   "source": [
    "#### 結果の保存\n",
    "Layerウィンドウ内でレイヤの右側に![メモリアイコン](images/watershed_memory.png)表示があるレイヤはQGISの一時ファイルに保存されています。GRASSモジュールを実行する際に計算結果の保存先を指定しなかった場合、デフォルトで一時ファイルに保存されます。これらはQGISを終了した際に削除されてしまうので、QGISを閉じる前にGeoTiffファイルとして保存してください。保存方法は、保存したいレイヤを右クリック、Export -> Save as... で表示されるダイヤログにおいて、フォーマットと保存先フォルダを指定します。その他の設定項目はデフォルト値で大丈夫です。ラスタがファイルに保存され、QGISのレイヤにも追加されます。\n",
    "\n",
    "以上でQGISを通じたGRASSモジュールによる集水域図を作成することができました。"
   ]
  },
  {
   "cell_type": "markdown",
   "metadata": {},
   "source": [
    "## PythonからGRASSモジュールを利用する\n",
    "GRASS GISは、独自のGRASSデータベースを作成し、一度ラスタやベクタデータをデータベースに登録したうえで、各種の計算を行います。計算された結果はデータベース上にあるため、GeotiffやShapefile等の一般的なファイルとして\n",
    "QGISからGRASSモジュールを利用する場合、以下のプロセスが自動で実行されます。\n",
    "- GRAS"
   ]
  }
 ],
 "metadata": {
  "kernelspec": {
   "display_name": "Python 3",
   "language": "python",
   "name": "python3"
  },
  "language_info": {
   "codemirror_mode": {
    "name": "ipython",
    "version": 3
   },
   "file_extension": ".py",
   "mimetype": "text/x-python",
   "name": "python",
   "nbconvert_exporter": "python",
   "pygments_lexer": "ipython3",
   "version": "3.8.6"
  }
 },
 "nbformat": 4,
 "nbformat_minor": 4
}
