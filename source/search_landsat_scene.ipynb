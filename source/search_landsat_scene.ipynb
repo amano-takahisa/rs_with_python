{
 "cells": [
  {
   "cell_type": "markdown",
   "metadata": {},
   "source": [
    "# 対象地域のランドサット画像を探す\n",
    "通常はLandsat画像を取得する際には[earthexplorer](earthexplorer.usgs.gov/)を利用しますが、大量にダウンロードす\n",
    "る場合、[USGSが提供しているメタデータ](https://www.usgs.gov/land-resources/nli/landsat/bulk-metadata-service)から必要な画像のLandsat Product IDを検索するのが便利です。\n",
    "\n",
    "必要なデータがLandsat-8の大気補正前のLevel-1プロダクトで良い場合はIDを元にAWS上にあるファイルを検索し利用します。\n",
    "https://docs.opendata.aws/landsat-pds/readme.html\n",
    "\n",
    "大気補正済みの画像は[Bulk Order](https://espa.cr.usgs.gov/ordering/new/)のページからUSGSへ処理のクエリを投げ、処理が済み次第ダウンロードが行えます。\n",
    "\n",
    "## Landsatタイルの読み込み"
   ]
  },
  {
   "cell_type": "code",
   "execution_count": 7,
   "metadata": {},
   "outputs": [],
   "source": [
    "import requests\n",
    "import shutil\n",
    "import os\n",
    "\n",
    "\n",
    "dir_data = '../../data/'\n",
    "\n",
    "def file_download(url, file):\n",
    "    try:\n",
    "        r = requests.get(url, stream=True)\n",
    "        with open(file, 'wb') as f:\n",
    "            r.raw.decode_content = True\n",
    "            shutil.copyfileobj(r.raw, f)        \n",
    "    except requests.exceptions.RequestException as err:\n",
    "        print(err)\n",
    "\n",
    "# landsat-8 metadata\n",
    "url = 'https://landsat.usgs.gov/landsat/metadata_service/bulk_metadata_files/LANDSAT_8_C1.csv.gz'\n",
    "file = os.path.join(dir_data, 'ls/LANDSAT_8_C1.csv.gz') \n",
    "\n",
    "# file_download(url, file)\n",
    "\n",
    "# landsat 4-8 tile glid\n",
    "url = 'https://prd-wret.s3.us-west-2.amazonaws.com/assets/palladium/production/s3fs-public/atoms/files/WRS2_descending_0.zip'\n",
    "file = os.path.join(dir_data, 'ls/WRS2_descending_0.zip') \n",
    "# file_download(url, file)\n"
   ]
  },
  {
   "cell_type": "code",
   "execution_count": null,
   "metadata": {},
   "outputs": [],
   "source": [
    "import zipfile\n",
    "\n",
    "with zipfile.ZipFile(file) as archive:\n",
    "    archive.extractall('data/temp/ext')\n",
    "\n",
    "        "
   ]
  },
  {
   "cell_type": "code",
   "execution_count": 11,
   "metadata": {},
   "outputs": [],
   "source": [
    "import os\n",
    "\n",
    "dir_data = '../../data/'\n",
    "file = os.path.join(dir_data, 'ls/WRS2_descending_0.zip') \n"
   ]
  },
  {
   "cell_type": "code",
   "execution_count": 12,
   "metadata": {},
   "outputs": [
    {
     "data": {
      "text/plain": [
       "'../../data/ls/WRS2_descending_0.zip'"
      ]
     },
     "execution_count": 12,
     "metadata": {},
     "output_type": "execute_result"
    }
   ],
   "source": [
    "file"
   ]
  }
 ],
 "metadata": {
  "kernelspec": {
   "display_name": "Python 3",
   "language": "python",
   "name": "python3"
  },
  "language_info": {
   "codemirror_mode": {
    "name": "ipython",
    "version": 3
   },
   "file_extension": ".py",
   "mimetype": "text/x-python",
   "name": "python",
   "nbconvert_exporter": "python",
   "pygments_lexer": "ipython3",
   "version": "3.7.5"
  }
 },
 "nbformat": 4,
 "nbformat_minor": 4
}
