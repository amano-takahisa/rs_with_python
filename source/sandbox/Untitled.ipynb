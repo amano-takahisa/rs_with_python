{
 "cells": [
  {
   "cell_type": "code",
   "execution_count": 1,
   "metadata": {
    "execution": {
     "iopub.execute_input": "2020-12-09T14:01:26.468506Z",
     "iopub.status.busy": "2020-12-09T14:01:26.468161Z",
     "iopub.status.idle": "2020-12-09T14:01:32.865936Z",
     "shell.execute_reply": "2020-12-09T14:01:32.864396Z",
     "shell.execute_reply.started": "2020-12-09T14:01:26.468437Z"
    }
   },
   "outputs": [],
   "source": [
    "import geopandas as gpd\n"
   ]
  },
  {
   "cell_type": "code",
   "execution_count": 26,
   "metadata": {
    "execution": {
     "iopub.execute_input": "2020-12-09T17:39:06.191267Z",
     "iopub.status.busy": "2020-12-09T17:39:06.190922Z",
     "iopub.status.idle": "2020-12-09T17:39:06.237654Z",
     "shell.execute_reply": "2020-12-09T17:39:06.232869Z",
     "shell.execute_reply.started": "2020-12-09T17:39:06.191229Z"
    }
   },
   "outputs": [
    {
     "data": {
      "text/html": [
       "<div>\n",
       "<style scoped>\n",
       "    .dataframe tbody tr th:only-of-type {\n",
       "        vertical-align: middle;\n",
       "    }\n",
       "\n",
       "    .dataframe tbody tr th {\n",
       "        vertical-align: top;\n",
       "    }\n",
       "\n",
       "    .dataframe thead th {\n",
       "        text-align: right;\n",
       "    }\n",
       "</style>\n",
       "<table border=\"1\" class=\"dataframe\">\n",
       "  <thead>\n",
       "    <tr style=\"text-align: right;\">\n",
       "      <th></th>\n",
       "      <th>id</th>\n",
       "      <th>location</th>\n",
       "      <th>geometry</th>\n",
       "    </tr>\n",
       "  </thead>\n",
       "  <tbody>\n",
       "    <tr>\n",
       "      <th>0</th>\n",
       "      <td>1440309_1_1</td>\n",
       "      <td>Nafana</td>\n",
       "      <td>POLYGON ((-4.80249 9.15391, -4.80248 9.15390, ...</td>\n",
       "    </tr>\n",
       "    <tr>\n",
       "      <th>1</th>\n",
       "      <td>1440321_1_1</td>\n",
       "      <td>Nafana</td>\n",
       "      <td>POLYGON ((-4.80584 9.18626, -4.80588 9.18625, ...</td>\n",
       "    </tr>\n",
       "    <tr>\n",
       "      <th>2</th>\n",
       "      <td>1440324_1_1</td>\n",
       "      <td>Nafana</td>\n",
       "      <td>POLYGON ((-4.82139 9.13945, -4.82139 9.13946, ...</td>\n",
       "    </tr>\n",
       "    <tr>\n",
       "      <th>3</th>\n",
       "      <td>1440325_1_1</td>\n",
       "      <td>Nafana</td>\n",
       "      <td>POLYGON ((-4.85725 9.14695, -4.85741 9.14643, ...</td>\n",
       "    </tr>\n",
       "    <tr>\n",
       "      <th>4</th>\n",
       "      <td>1440326_1_1</td>\n",
       "      <td>Nafana</td>\n",
       "      <td>POLYGON ((-4.81342 9.13711, -4.81341 9.13710, ...</td>\n",
       "    </tr>\n",
       "    <tr>\n",
       "      <th>5</th>\n",
       "      <td>1440328_1_1</td>\n",
       "      <td>Nafana</td>\n",
       "      <td>POLYGON ((-4.82401 9.13201, -4.82403 9.13200, ...</td>\n",
       "    </tr>\n",
       "  </tbody>\n",
       "</table>\n",
       "</div>"
      ],
      "text/plain": [
       "            id location                                           geometry\n",
       "0  1440309_1_1   Nafana  POLYGON ((-4.80249 9.15391, -4.80248 9.15390, ...\n",
       "1  1440321_1_1   Nafana  POLYGON ((-4.80584 9.18626, -4.80588 9.18625, ...\n",
       "2  1440324_1_1   Nafana  POLYGON ((-4.82139 9.13945, -4.82139 9.13946, ...\n",
       "3  1440325_1_1   Nafana  POLYGON ((-4.85725 9.14695, -4.85741 9.14643, ...\n",
       "4  1440326_1_1   Nafana  POLYGON ((-4.81342 9.13711, -4.81341 9.13710, ...\n",
       "5  1440328_1_1   Nafana  POLYGON ((-4.82401 9.13201, -4.82403 9.13200, ..."
      ]
     },
     "execution_count": 26,
     "metadata": {},
     "output_type": "execute_result"
    }
   ],
   "source": [
    "polygons = gpd.read_file('data/ZONE_KONG_1943_1944.shp')\n",
    "polygons"
   ]
  },
  {
   "cell_type": "code",
   "execution_count": 32,
   "metadata": {
    "execution": {
     "iopub.execute_input": "2020-12-09T17:39:35.110060Z",
     "iopub.status.busy": "2020-12-09T17:39:35.109736Z",
     "iopub.status.idle": "2020-12-09T17:39:35.116039Z",
     "shell.execute_reply": "2020-12-09T17:39:35.115095Z",
     "shell.execute_reply.started": "2020-12-09T17:39:35.110017Z"
    }
   },
   "outputs": [
    {
     "data": {
      "text/plain": [
       "False"
      ]
     },
     "execution_count": 32,
     "metadata": {},
     "output_type": "execute_result"
    }
   ],
   "source": [
    "polygons.geometry[2].is_closed"
   ]
  },
  {
   "cell_type": "code",
   "execution_count": null,
   "metadata": {},
   "outputs": [],
   "source": []
  }
 ],
 "metadata": {
  "kernelspec": {
   "display_name": "Python 3",
   "language": "python",
   "name": "python3"
  },
  "language_info": {
   "codemirror_mode": {
    "name": "ipython",
    "version": 3
   },
   "file_extension": ".py",
   "mimetype": "text/x-python",
   "name": "python",
   "nbconvert_exporter": "python",
   "pygments_lexer": "ipython3",
   "version": "3.8.6"
  }
 },
 "nbformat": 4,
 "nbformat_minor": 4
}
