{
 "cells": [
  {
   "cell_type": "code",
   "execution_count": 6,
   "metadata": {},
   "outputs": [],
   "source": [
    "import pandas as pd\n",
    "import geopandas as gpd\n",
    "import rasterio\n",
    "DEFAULT_RAS_COLUMN_NAME = \"raster\""
   ]
  },
  {
   "cell_type": "code",
   "execution_count": 74,
   "metadata": {},
   "outputs": [],
   "source": [
    "class RasterStack(pd.DataFrame):\n",
    "    _raster_column_name = DEFAULT_RAS_COLUMN_NAME\n",
    "    \n",
    "    \n",
    "    \n",
    "    def __init__(self, data, ):\n",
    "        \"\"\"\n",
    "        ?? where should data save ??\n",
    "        save to memory is too large.\n",
    "        process chain or function will be saved to dataframe and\n",
    "        raster-wise process will be invoked when save to file.\n",
    "        how to deal with multi raster process??\n",
    "        \"\"\"\n",
    "        super().__init__(data)\n",
    "        self._raster_column_name = 'raster_column'\n",
    "        self['profile'] = self.raster.map(read_crs)\n",
    "        self['function'] = self.__open_raster()\n",
    "        # self['crs'] = [self.__read_crs(i) for i in self['raster']]\n",
    "        \n",
    "    def __read_profile(raster):\n",
    "        with rasterio.open(raster) as raster:\n",
    "            return raster.profile\n",
    "        \n",
    "    def __open_raster(raster):\n",
    "        return rasterio.open(raster)\n",
    "        \n",
    "    \n",
    "    def add_function():\n",
    "        \"\"\" apply function to all rasters\n",
    "        rasters will be opened as rasterio data reader.\n",
    "        \"\"\"\n",
    "        pass\n",
    "\n",
    "    def to_file():\n",
    "        \"\"\" save all rasters to file\n",
    "        process chain or function should be invoked before save to file.\n",
    "        \"\"\""
   ]
  },
  {
   "cell_type": "code",
   "execution_count": 75,
   "metadata": {},
   "outputs": [
    {
     "data": {
      "text/html": [
       "<div>\n",
       "<style scoped>\n",
       "    .dataframe tbody tr th:only-of-type {\n",
       "        vertical-align: middle;\n",
       "    }\n",
       "\n",
       "    .dataframe tbody tr th {\n",
       "        vertical-align: top;\n",
       "    }\n",
       "\n",
       "    .dataframe thead th {\n",
       "        text-align: right;\n",
       "    }\n",
       "</style>\n",
       "<table border=\"1\" class=\"dataframe\">\n",
       "  <thead>\n",
       "    <tr style=\"text-align: right;\">\n",
       "      <th></th>\n",
       "      <th>col_a</th>\n",
       "      <th>col_b</th>\n",
       "      <th>raster</th>\n",
       "      <th>profile</th>\n",
       "    </tr>\n",
       "  </thead>\n",
       "  <tbody>\n",
       "    <tr>\n",
       "      <th>0</th>\n",
       "      <td>aaa</td>\n",
       "      <td>1</td>\n",
       "      <td>../../data/ls/LC08_L1TP_223068_20200425_202005...</td>\n",
       "      <td>(init)</td>\n",
       "    </tr>\n",
       "    <tr>\n",
       "      <th>1</th>\n",
       "      <td>bbb</td>\n",
       "      <td>2</td>\n",
       "      <td>../../data/ls/LC08_L1TP_223068_20200425_202005...</td>\n",
       "      <td>(init)</td>\n",
       "    </tr>\n",
       "    <tr>\n",
       "      <th>2</th>\n",
       "      <td>ccc</td>\n",
       "      <td>3</td>\n",
       "      <td>../../data/ls/LC08_L1TP_223068_20200425_202005...</td>\n",
       "      <td>(init)</td>\n",
       "    </tr>\n",
       "    <tr>\n",
       "      <th>3</th>\n",
       "      <td>ddd</td>\n",
       "      <td>4</td>\n",
       "      <td>../../data/ls/LC08_L1TP_223068_20200425_202005...</td>\n",
       "      <td>(init)</td>\n",
       "    </tr>\n",
       "  </tbody>\n",
       "</table>\n",
       "</div>"
      ],
      "text/plain": [
       "  col_a  col_b                                             raster profile\n",
       "0   aaa      1  ../../data/ls/LC08_L1TP_223068_20200425_202005...  (init)\n",
       "1   bbb      2  ../../data/ls/LC08_L1TP_223068_20200425_202005...  (init)\n",
       "2   ccc      3  ../../data/ls/LC08_L1TP_223068_20200425_202005...  (init)\n",
       "3   ddd      4  ../../data/ls/LC08_L1TP_223068_20200425_202005...  (init)"
      ]
     },
     "execution_count": 75,
     "metadata": {},
     "output_type": "execute_result"
    }
   ],
   "source": [
    "my_rs = RasterStack({'col_a': ['aaa', 'bbb', 'aaa', 'bbb'],\n",
    "                     'col_b': [1,1,2,2],\n",
    "                     'raster': ['../../data/ls/LC08_L1TP_223068_20200425_20200509_01_T1_sr_band2.tif',\n",
    "                                 '../../data/ls/LC08_L1TP_223068_20200425_20200509_01_T1_sr_band3.tif',\n",
    "                                 '../../data/ls/LC08_L1TP_223068_20200425_20200509_01_T1_sr_band4.tif',\n",
    "                                 '../../data/ls/LC08_L1TP_223068_20200425_20200509_01_T1_sr_band5.tif']})\n",
    "my_rs"
   ]
  },
  {
   "cell_type": "code",
   "execution_count": 62,
   "metadata": {},
   "outputs": [
    {
     "data": {
      "text/plain": [
       "<open DatasetReader name='../../data/ls/LC08_L1TP_223068_20200425_20200509_01_T1_sr_band2.tif' mode='r'>"
      ]
     },
     "execution_count": 62,
     "metadata": {},
     "output_type": "execute_result"
    }
   ],
   "source": [
    "rasterio.open(my_rs['raster'][0])"
   ]
  },
  {
   "cell_type": "code",
   "execution_count": null,
   "metadata": {},
   "outputs": [],
   "source": [
    "({'band': 1} - {'band':2}, group=['image'])\n"
   ]
  }
 ],
 "metadata": {
  "kernelspec": {
   "display_name": "Python 3",
   "language": "python",
   "name": "python3"
  },
  "language_info": {
   "codemirror_mode": {
    "name": "ipython",
    "version": 3
   },
   "file_extension": ".py",
   "mimetype": "text/x-python",
   "name": "python",
   "nbconvert_exporter": "python",
   "pygments_lexer": "ipython3",
   "version": "3.7.6"
  }
 },
 "nbformat": 4,
 "nbformat_minor": 4
}
