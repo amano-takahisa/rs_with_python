{
 "cells": [
  {
   "cell_type": "markdown",
   "metadata": {},
   "source": [
    "# Jupoyter Notebookについて\n",
    "ここでは、Jupyter Notebookの導入方法と基本的な使い方を解説します。\n",
    "\n",
    "## Jupoyter Notebookとはなにか\n",
    "Jupyter Notebookは、Pythonのコードとその実行結果、またそのコードに関するドキュメントを一緒に記述できるいい感じのファイル形式のことを指します。このテキストもJupyter Notebookで作成されています。(一部reSTracturedTextを利用。)プログラムのコードとドキュメントを単一のファイルで保存できるため、新しいアイデアを試したり、他人と共有したりしやすいファイル形式です。\n",
    "\n",
    "コードとドキュメントが混在できるというのは、例えばこの文章の今読んでいるところはドキュメントです。コードは、以下のように表示されます。"
   ]
  },
  {
   "cell_type": "code",
   "execution_count": 19,
   "metadata": {},
   "outputs": [
    {
     "name": "stdout",
     "output_type": "stream",
     "text": [
      "[0, 1, 1, 2, 3, 5, 8, 13, 21, 34, 55, 89]\n"
     ]
    }
   ],
   "source": [
    "# フィボナッチ数列を表示する\n",
    "fib = [0,1]       # 初期化\n",
    "for i in range(10):\n",
    "    fib.append(fib[-2] + fib[-1])\n",
    "print(fib)"
   ]
  },
  {
   "cell_type": "markdown",
   "metadata": {},
   "source": [
    "コードが記載されるひとかたまりは、**チャンク**や**セル**とよばれ、コードの実行はこのチャンクごとに行われます。チャンクを実行すると、その出力がチャンクの下に表示されます。`#`から始まる行や、`#`より右側の文字列は**コメント**で、プログラムの実行に影響しません。一時的にコードを無効化したり、コードに関するメモを記載したりするのに使います。\n",
    "\n",
    "Jupyter Notebookファイルはテキストファイルで`.ipynb`という拡張子で保存されます。\n",
    "\n",
    "この`.ipynb`ファイルは、Jupyter Labという名前のソフトを通じ、webブラウザ上に表示、編集することができます。Jupyter Labは、以前はJupyter Notebookという名前で開発されていたソフトの後続。高機能版になります。単に**Jupyter Notebook**と言うと、`.ipynb`ファイルのことであったり、表示させるソフトのことであったりすることがあるので、少し紛らわしいです。\n",
    "\n",
    "ここでは基本的なJupyter Lab(Notebook)の使い方と、Pythonの基礎を解説します。"
   ]
  },
  {
   "cell_type": "markdown",
   "metadata": {},
   "source": [
    "# 環境設定"
   ]
  },
  {
   "cell_type": "markdown",
   "metadata": {},
   "source": [
    "## Google Colaboratoryの紹介\n",
    "\n",
    "Jupyter Lab (Notebook)を利用するには、ローカル環境にJupyter Labをインストールする方法と、Googleが提供するクラウドサービスを利用する方法があります。\n",
    " \n",
    "[Google Colaboratory](https://colab.research.google.com/)を利用すると、下記のPython環境の構築やJupyter Labのインストールなどを行うことなく、googleが提供するサーバー上で動くJupyter環境がブラウザから利用することができます。\n",
    "Google Colaboratoryを利用するメリットとしては、\n",
    "\n",
    "- 作成したNotebookの共有が楽(リンクを送信するなど)\n",
    "- 環境構築が楽\n",
    "- GPUが使える\n",
    "\n",
    "デメリットとしては、\n",
    "\n",
    "- インターネット接続が必要\n",
    "- Googleアカウントが必要\n",
    "- 定期的にセッションが消える(書いたコードやドキュメントは消えない)\n",
    "- Google Driveの容量を使う\n",
    "- Git等他のツールとの統合がしにくい\n",
    "\n",
    "「定期的にセッションが消える」については、[シャットダウンまでの残時間は90分ルールと12時間ルール](https://qiita.com/tomo_makes/items/b3c60b10f7b25a0a5935#2-%E3%82%B7%E3%83%A3%E3%83%83%E3%83%88%E3%83%80%E3%82%A6%E3%83%B3%E3%81%BE%E3%81%A7%E3%81%AE%E6%AE%8B%E6%99%82%E9%96%93%E3%81%AF90%E5%88%86%E3%83%AB%E3%83%BC%E3%83%AB%E3%81%A812%E6%99%82%E9%96%93%E3%83%AB%E3%83%BC%E3%83%AB)がわかりやすく説明されています。簡単に言うと、90分何もしないとやり直し、12時間経つと何をしていてもやり直しです。\n",
    "\n",
    "リモートセンシング解析で何百GBものファイルを扱う場合、この90分ルールと12時間ルールと、Googleドライブ容量の制限により、実用的ではありません。\n",
    "ただ、演習やハンズオンセミナーなどPythonの入門用に一時的に利用するには良い選択肢だと思います。\n",
    "\n",
    "以下に、ローカル環境でのPythonおよびJupyter labの環境構築手順を示しますが、うまく行かない場合Google Colaboratoryを利用して演習をしてください。Google Colaboratoryを利用する場合は、以下をすべてすっ飛ばして大丈夫です。"
   ]
  },
  {
   "cell_type": "markdown",
   "metadata": {},
   "source": [
    "## WSL2上のLinuxでPythonを使う(Windows 10)\n",
    "GIS、リモートセンシングで利用するPythonやGDAL等のライブラリは、開発者の多くがLinux(Unix)を使っています。そのため、Windows上でうまく動作しないことがよくあります。Windows10から導入されたWSL2(Windows Subsystem for Linux)という仮想化技術があります。WSL2の導入によって、Linuxの仮想マシンがWindows上で動作し、この仮想マシン上のLinuxでPythonを動かすことができるようになります。\n",
    "\n",
    "以下は基本的に[Microsoftの紹介する手順](https://docs.microsoft.com/en-us/windows/wsl/install-win10)に従い、導入方法を紹介します。作業時間は1時間ほどです。"
   ]
  },
  {
   "cell_type": "markdown",
   "metadata": {},
   "source": [
    "### Windows 10のバージョンの確認\n",
    "WSL2は、windowsバージョンが1903、ビルドが18362以降で使うことができます。(ARM64の場合はそれぞれ2004および19041)\n",
    "これより低いビルドバージョンの場合は、[Windows Update Assistant](https://www.microsoft.com/software-download/windows10)を使ってアップデートしてください。\n",
    "ビルドバージョンは以下から確認できます。\n",
    "![](../docs/_images/ss_001_Settings.png)\n"
   ]
  },
  {
   "cell_type": "markdown",
   "metadata": {},
   "source": [
    "### WSLの設定\n",
    "WLS2はWSLのアップグレード版として提供されています。そのため、まずはWSLの導入を行います。\n",
    "\n",
    "Powershellを管理者権限で起動します。\n",
    "\n",
    "![Powershellを管理者権限で起動](../docs/_images/ss_002_start_powershell_with_admin.png)\n",
    "\n",
    "Powershellに下記のコマンドを入力して実行します。これでWLSがインストールされます。\n",
    "```\n",
    "dism.exe /online /enable-feature /featurename:Microsoft-Windows-Subsystem-Linux /all /norestart\n",
    "```\n",
    "\n",
    "![WSLのインストール](../docs/_images/ss_003_setup_wsl.png)\n",
    "\n",
    "Powershellに下記のコマンドを入力して実行します。これでWLS2へアップグレードのための準備がされます。\n",
    "```\n",
    "dism.exe /online /enable-feature /featurename:VirtualMachinePlatform /all /norestart\n",
    "```\n",
    "\n",
    "![WSL2へのアップグレード準備](../docs/_images/ss_004_setup_wsl2.png)\n",
    "\n",
    "[WSL2 Linux kernel update package for x64 machines](https://wslstorestorage.blob.core.windows.net/wslblob/wsl_update_x64.msi)から、最新のLinuxカーネルアップデートパッケージをダウンロードしてインストールします。パソコンがARM64の場合は、[ARM64 package](https://wslstorestorage.blob.core.windows.net/wslblob/wsl_update_arm64.msi)をインストールしてください。アーキテクチャは`systeminfo | find \"System Type\"`をPowershell上で実行することで確認できます。\n",
    "\n",
    "![WSL2へのアップグレード準備](../docs/_images/ss_007_wsl_wizard.png)\n",
    "\n",
    "Powershellに下記のコマンドを入力して実行します。これでWLS2がデフォルトになります。\n",
    "```\n",
    "wsl --set-default-version 2\n",
    "```\n",
    "\n",
    "次に、WSL2で動かすLinuxをMicrosoft storeから導入します。最新のLTSである[Ubuntu 20.04](https://www.microsoft.com/store/apps/9n6svws3rx71)を選択て、**GET**をクリックするとインストールが始まります。\n",
    "\n",
    "インストールが完了後、Microsoft storeの右上の起動ボタン、もしくはデスクトップやスタートメニューに追加されたUbuntu 20.04アイコンから、Ubuntuを起動します。"
   ]
  },
  {
   "cell_type": "markdown",
   "metadata": {},
   "source": [
    "### Ubuntuの設定\n",
    "初めてUbuntuを起動すると、黒い画面(Linuxではターミナルやコンソール、コマンドプロンプトなどと呼ばれます。)が次のように表示されます。\n",
    "\n",
    "![WSL2へのアップグレード準備](../docs/_images/ss_010_ubuntu_setup.png)\n",
    "\n",
    "この\n",
    "```bash\n",
    "Enter new UNIX username:\n",
    "```\n",
    "に、WSL2内のUbuntuで利用するユーザー名をアルファベットで入力してください。Windowsのユーザー名と異なっていても構いません。\n",
    "\n",
    "Enterキーを押すと、\n",
    "```bash\n",
    "New password:\n",
    "```\n"
   ]
  },
  {
   "cell_type": "markdown",
   "metadata": {},
   "source": [
    "## Pythonのインストール"
   ]
  },
  {
   "cell_type": "markdown",
   "metadata": {},
   "source": [
    "## Pythonの実行\n",
    "## [Advanced] Anaconda環境の導入\n",
    "\n",
    "# Do update and upgrade\n",
    "sudo apt install libxkbcommon-x11-0\n",
    "\n",
    "# Install anaconda\n",
    "wget https://repo.anaconda.com/archive/Anaconda3-2020.07-Linux-x86_64.sh\n",
    "bash Anaconda3-2020.07-Linux-x86_64.sh\n",
    "\n",
    "##### do config #####\n",
    "\n",
    "rm Anaconda3-2020.02-Linux-x86_64.sh\n",
    "source .bashrc\n",
    "conda update conda\n",
    "\n",
    "# create conda env\n",
    "conda create --name py38 python=3.8\n",
    "conda activate py38\n",
    "\n",
    "# install python package and jupyter labs\n",
    "conda install -c conda-forge jupyterlab\n",
    "\n",
    "conda install -c conda-forge geopandas rasterio matplotlib jupyterlab opencv ipympl nodejs \n",
    "\n",
    "jupyter labextension install @jupyter-widgets/jupyterlab-manager@2.0\n",
    "\n"
   ]
  },
  {
   "cell_type": "markdown",
   "metadata": {},
   "source": [
    "# Jupyter Labの導入"
   ]
  },
  {
   "cell_type": "markdown",
   "metadata": {},
   "source": [
    "インタラクティブ\n",
    "以下のチャンクを実行して、"
   ]
  },
  {
   "cell_type": "code",
   "execution_count": null,
   "metadata": {},
   "outputs": [],
   "source": []
  },
  {
   "cell_type": "code",
   "execution_count": null,
   "metadata": {},
   "outputs": [],
   "source": [
    "conda install -c conda-forge ipympl"
   ]
  },
  {
   "cell_type": "markdown",
   "metadata": {},
   "source": [
    "## チャンクの実行"
   ]
  },
  {
   "cell_type": "markdown",
   "metadata": {},
   "source": [
    "## チャンクの編集"
   ]
  },
  {
   "cell_type": "markdown",
   "metadata": {},
   "source": [
    "## カーネルの再起動"
   ]
  },
  {
   "cell_type": "markdown",
   "metadata": {},
   "source": [
    "## ファイルの保存"
   ]
  },
  {
   "cell_type": "markdown",
   "metadata": {},
   "source": [
    "# Pythonの基礎\n",
    "[Pythonの基礎](intro_python.ipynb)に進んでください。"
   ]
  },
  {
   "cell_type": "code",
   "execution_count": null,
   "metadata": {},
   "outputs": [],
   "source": []
  }
 ],
 "metadata": {
  "kernelspec": {
   "display_name": "Python 3",
   "language": "python",
   "name": "python3"
  },
  "language_info": {
   "codemirror_mode": {
    "name": "ipython",
    "version": 3
   },
   "file_extension": ".py",
   "mimetype": "text/x-python",
   "name": "python",
   "nbconvert_exporter": "python",
   "pygments_lexer": "ipython3",
   "version": "3.7.6"
  },
  "toc-autonumbering": true
 },
 "nbformat": 4,
 "nbformat_minor": 4
}
