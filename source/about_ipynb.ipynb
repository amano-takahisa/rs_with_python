{
 "cells": [
  {
   "cell_type": "markdown",
   "metadata": {},
   "source": [
    "# Jupoyter Notebookについて\n",
    "ここでは、Jupyter Notebookの導入方法と基本的な使い方を解説します。\n",
    "\n",
    "## Jupoyter Notebookとはなにか\n",
    "Jupyter Notebookは、Pythonのコードとその実行結果、またそのコードに関するドキュメントを一緒に記述できるいい感じのファイル形式のことを指します。このテキストもJupyter Notebookで作成されています。(一部reSTracturedTextを利用。)プログラムのコードとドキュメントを単一のファイルで保存できるため、新しいアイデアを試したり、他人と共有したりしやすいファイル形式です。\n",
    "\n",
    "コードとドキュメントが混在できるというのは、例えばこの文章の今読んでいるところはドキュメントです。コードは、以下のように表示されます。"
   ]
  },
  {
   "cell_type": "code",
   "execution_count": 19,
   "metadata": {},
   "outputs": [
    {
     "name": "stdout",
     "output_type": "stream",
     "text": [
      "[0, 1, 1, 2, 3, 5, 8, 13, 21, 34, 55, 89]\n"
     ]
    }
   ],
   "source": [
    "# フィボナッチ数列を表示する\n",
    "fib = [0,1]\n",
    "for i in range(10):\n",
    "    fib.append(fib[-2] + fib[-1])\n",
    "print(fib)"
   ]
  },
  {
   "cell_type": "markdown",
   "metadata": {},
   "source": [
    "コードが記載されるひとかたまりは、**チャンク**や**セル**とよばれ、コードの実行はこのチャンクごとに行われます。チャンクを実行すると、その出力がチャンクの下に表示されます。`#`から始まる行は**コメント**で、プログラムの実行に影響しません。一時的にコードを無効化したり、コードに関するメモを記載したりするのに使います。\n",
    "\n",
    "\n",
    "Jupyter Notebookファイルはテキストファイルで`.ipynb`という拡張子で保存されます。\n",
    "\n",
    "この`.ipynb`ファイルは、Jupyter Labという名前のソフトを通じ、webブラウザ上に表示、編集することができます。Jupyter Labは、以前はJupyter Notebookという名前で開発されていたソフトの後続。高機能版になります。単に**Jupyter Notebook**と言うと、`.ipynb`ファイルのことであったり、表示させるソフトのことであったりすることがあるので、少し紛らわしいです。\n",
    "\n",
    "ここでは基本的なJupyter Lab(Notebook)の使い方と、Pythonの基礎を解説します。"
   ]
  },
  {
   "cell_type": "markdown",
   "metadata": {},
   "source": [
    "## 作業環境を選択する\n",
    "\n",
    "[Google Colaboratory](https://colab.research.google.com/)を利用すると、下記のPython環境の構築やJupyter Labのインストールなどを行うことなく、googleが提供するサーバー上で動くJupyter環境がブラウザから利用することができます。\n",
    "Google Colaboratoryを利用するメリットとしては、\n",
    "\n",
    "- 作成したNotebookの共有が楽(リンクを送信するなど)\n",
    "- 環境構築が楽\n",
    "\n",
    "デメリットとしては、\n",
    "\n",
    "- インターネット接続が必要\n",
    "- google\n",
    "- Google Driveの容量を使う\n",
    "- Git等他のツールとの統合がしにくい\n",
    "\n",
    "などがあります。\n",
    "\n",
    "リモートセンシング解析で何百GBものファイルを扱う場合、ローカル環境へPythonを導入することが必要ですが、Pythonの入門には良い選択肢だと思います。\n",
    "\n",
    "以下に、ローカル環境でのPythonおよびJupyter labの環境構築手順を示しますが、うまく行かない場合Google Colaboratoryを利用して演習をしてください。"
   ]
  },
  {
   "cell_type": "markdown",
   "metadata": {},
   "source": [
    "# Pythonのインストール"
   ]
  },
  {
   "cell_type": "markdown",
   "metadata": {},
   "source": [
    "## Pythonの実行\n",
    "## [Advanced] Anaconda環境の導入"
   ]
  },
  {
   "cell_type": "markdown",
   "metadata": {},
   "source": [
    "# Jupyter Labの導入"
   ]
  },
  {
   "cell_type": "markdown",
   "metadata": {},
   "source": [
    "インタラクティブ\n",
    "以下のチャンクを実行して、"
   ]
  },
  {
   "cell_type": "code",
   "execution_count": null,
   "metadata": {},
   "outputs": [],
   "source": []
  },
  {
   "cell_type": "code",
   "execution_count": null,
   "metadata": {},
   "outputs": [],
   "source": [
    "conda install -c conda-forge ipympl"
   ]
  },
  {
   "cell_type": "markdown",
   "metadata": {},
   "source": [
    "## チャンクの実行"
   ]
  },
  {
   "cell_type": "markdown",
   "metadata": {},
   "source": [
    "## チャンクの編集"
   ]
  },
  {
   "cell_type": "markdown",
   "metadata": {},
   "source": [
    "## カーネルの再起動"
   ]
  },
  {
   "cell_type": "markdown",
   "metadata": {},
   "source": [
    "## ファイルの保存"
   ]
  },
  {
   "cell_type": "markdown",
   "metadata": {},
   "source": [
    "# Pythonの基礎\n",
    "[Pythonの基礎](intro_python.ipynb)に進んでください。"
   ]
  },
  {
   "cell_type": "code",
   "execution_count": null,
   "metadata": {},
   "outputs": [],
   "source": []
  }
 ],
 "metadata": {
  "kernelspec": {
   "display_name": "Python 3",
   "language": "python",
   "name": "python3"
  },
  "language_info": {
   "codemirror_mode": {
    "name": "ipython",
    "version": 3
   },
   "file_extension": ".py",
   "mimetype": "text/x-python",
   "name": "python",
   "nbconvert_exporter": "python",
   "pygments_lexer": "ipython3",
   "version": "3.7.6"
  }
 },
 "nbformat": 4,
 "nbformat_minor": 4
}
