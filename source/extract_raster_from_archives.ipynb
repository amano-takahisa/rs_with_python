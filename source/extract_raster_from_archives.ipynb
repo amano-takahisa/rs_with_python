{
 "cells": [
  {
   "cell_type": "code",
   "execution_count": 8,
   "metadata": {},
   "outputs": [],
   "source": [
    "import os\n",
    "import re"
   ]
  },
  {
   "cell_type": "code",
   "execution_count": 15,
   "metadata": {},
   "outputs": [
    {
     "data": {
      "text/plain": [
       "['../../data/ls/LC082230682020042501T1-SC20200511103758.tar.gz',\n",
       " '../../data/ls/LE072280722020021601T1-SC20200511103227.tar.gz',\n",
       " '../../data/ls/LE072280722019072301T1-SC20200511104920.tar.gz',\n",
       " '../../data/ls/LC082280722019091701T1-SC20200511103158.tar.gz',\n",
       " '../../data/ls/LE072280722020040401T1-SC20200511103227.tar.gz',\n",
       " '../../data/ls/LE072280722019101101T1-SC20200511103222.tar.gz',\n",
       " '../../data/ls/LC082280722019073101T1-SC20200511103206.tar.gz',\n",
       " '../../data/ls/LC082280722020042801T1-SC20200511103129.tar.gz',\n",
       " '../../data/ls/LE072280722019060501T1-SC20200511103220.tar.gz',\n",
       " '../../data/ls/LE072280722020011501T1-SC20200511103146.tar.gz',\n",
       " '../../data/ls/LC082280722019110401T1-SC20200511103153.tar.gz',\n",
       " '../../data/ls/LE072280722019062101T1-SC20200511103222.tar.gz',\n",
       " '../../data/ls/LC082280722019112001T1-SC20200511103157.tar.gz',\n",
       " '../../data/ls/LC082280722019081601T1-SC20200511103156.tar.gz',\n",
       " '../../data/ls/LC082280722020041201T1-SC20200511103127.tar.gz',\n",
       " '../../data/ls/LE072280722019052001T1-SC20200511103258.tar.gz',\n",
       " '../../data/ls/LC082280722019100301T1-SC20200511103153.tar.gz',\n",
       " '../../data/ls/LC082280722020031101T1-SC20200511103205.tar.gz',\n",
       " '../../data/ls/LC082280722019062901T1-SC20200511103148.tar.gz',\n",
       " '../../data/ls/LE072280722019080801T1-SC20200511103232.tar.gz',\n",
       " '../../data/ls/LE072280722019090901T1-SC20200511103158.tar.gz',\n",
       " '../../data/ls/LE072280722019082401T1-SC20200511103430.tar.gz',\n",
       " '../../data/ls/LE072280722020031901T1-SC20200511103120.tar.gz',\n",
       " '../../data/ls/LE072280722019102701T1-SC20200511103224.tar.gz',\n",
       " '../../data/ls/LE072280722020030301T1-SC20200511103226.tar.gz',\n",
       " '../../data/ls/LE072280722019070701T1-SC20200511103210.tar.gz']"
      ]
     },
     "execution_count": 15,
     "metadata": {},
     "output_type": "execute_result"
    }
   ],
   "source": [
    "dir_data = '../../data/ls/'\n",
    "archive_pattern = 'L.*\\.tar\\.gz$'\n",
    "[os.path.join(dir_data, file) for file in os.listdir(dir_data) if re.match(archive_pattern, file)]"
   ]
  }
 ],
 "metadata": {
  "kernelspec": {
   "display_name": "Python 3",
   "language": "python",
   "name": "python3"
  },
  "language_info": {
   "codemirror_mode": {
    "name": "ipython",
    "version": 3
   },
   "file_extension": ".py",
   "mimetype": "text/x-python",
   "name": "python",
   "nbconvert_exporter": "python",
   "pygments_lexer": "ipython3",
   "version": "3.7.6"
  }
 },
 "nbformat": 4,
 "nbformat_minor": 4
}
