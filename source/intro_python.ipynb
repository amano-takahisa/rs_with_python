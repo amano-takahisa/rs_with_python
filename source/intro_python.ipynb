{
 "cells": [
  {
   "cell_type": "markdown",
   "metadata": {},
   "source": [
    "# Pythonの基礎\n",
    "Pythonは、プログラミング言語の一つで、最近は機械学習や画像解析によく使われています。\n",
    "\n",
    "プログラミング言語は、PythonのほかにもR、Java、Cなどなどたくさんあります。各言語はそれぞれの言語の仕様により、様々な特徴を持ちます。また、各言語がよく使われている分野というものがあり、特定分野においてその言語のユーザーが多いほど、多くのライブラリが作成されています。どのプログラミング言語を利用するかは、その分野でみんながよく使っているというのが重要な指標になります。\n",
    "\n",
    "リモートセンシング・GISの分野でよく使われている言語は、Python、R、Bash、C#といったところです。特に**Python**は、ArgGISのほか、QGIS、GRASS GIS、Orfeo ToolboxなどのメジャーなGISはPythonをサポートしており、それらのソフトウェアが提供する機能をつなぎ合わせて実行することが容易になっています。\n",
    "\n",
    "**R**はグラフ作成や統計解析ライブラリが非常に充実しています。Pythonで大規模なデータを処理した後、Rで統計解析を行うこともよくあります。\n",
    "\n",
    "**Bash**はほとんどのUnix系のOSがサポートしている言語で、他と比べて基本的な機能しかありません。古くから使われている言語で互換性が高いため、例えば、pythonで書かれたプログラムをAWS上で自動的に実行させるといった、異なるプログラムやディバイス上での処理をつなげる処理によく使われます。\n",
    "\n",
    "**C#**は他の4つと比べると、非常に早く実行することができる言語です。多くのPythonやRのライブラリがバックエンドでC#で書かれたプログラムを利用しています。\n",
    "\n",
    "以下では、Jupyter Notebook上でPythonの基本的な使い方を学びます。"
   ]
  },
  {
   "cell_type": "markdown",
   "metadata": {},
   "source": [
    "# Jupyter Notebook上での出力について"
   ]
  },
  {
   "cell_type": "markdown",
   "metadata": {},
   "source": [
    "Pythonで実行結果を表示させるには、通常`print()`関数を使います。  \n",
    "例えば、`5+3`の実行結果を表示させるには、Jupyter Notebook上で以下のように書きます。"
   ]
  },
  {
   "cell_type": "code",
   "execution_count": 6,
   "metadata": {},
   "outputs": [
    {
     "name": "stdout",
     "output_type": "stream",
     "text": [
      "42\n"
     ]
    }
   ],
   "source": [
    "print(30 + 12)"
   ]
  },
  {
   "cell_type": "markdown",
   "metadata": {},
   "source": [
    "`30 + 12`の実行結果が`42`と表示されました。PythonをJupyter Notebook上で実行する場合に限り、`print()`が省略されても一番最後の実行結果は表示されます。"
   ]
  },
  {
   "cell_type": "markdown",
   "metadata": {},
   "source": [
    "30 + 12"
   ]
  },
  {
   "cell_type": "markdown",
   "metadata": {},
   "source": [
    "ただし、省略できるのは同じチャンクの最後の行のみです。複数行表示したい場合は、適宜`print()`関数を利用する必要があります。"
   ]
  },
  {
   "cell_type": "code",
   "execution_count": 9,
   "metadata": {},
   "outputs": [
    {
     "data": {
      "text/plain": [
       "10"
      ]
     },
     "execution_count": 9,
     "metadata": {},
     "output_type": "execute_result"
    }
   ],
   "source": [
    "30 + 12\n",
    "20 - 10"
   ]
  },
  {
   "cell_type": "markdown",
   "metadata": {},
   "source": [
    "すべての値を出力させたい場合、`print()`関数を複数入れて、以下のように書きます。"
   ]
  },
  {
   "cell_type": "code",
   "execution_count": 11,
   "metadata": {},
   "outputs": [
    {
     "name": "stdout",
     "output_type": "stream",
     "text": [
      "42\n",
      "10\n"
     ]
    }
   ],
   "source": [
    "print(30 + 12)\n",
    "print(20 - 10)"
   ]
  },
  {
   "cell_type": "markdown",
   "metadata": {},
   "source": [
    "以下では、`print()`関数が不要な場合、省略されている場合があります。"
   ]
  },
  {
   "cell_type": "markdown",
   "metadata": {},
   "source": [
    "# 代入\n",
    "以下のコードを見てください。"
   ]
  },
  {
   "cell_type": "code",
   "execution_count": 1,
   "metadata": {},
   "outputs": [
    {
     "name": "stdout",
     "output_type": "stream",
     "text": [
      "110\n"
     ]
    }
   ],
   "source": [
    "x = 10\n",
    "y = 100\n",
    "z = x + y\n",
    "print(z)"
   ]
  },
  {
   "cell_type": "markdown",
   "metadata": {},
   "source": [
    "上記のコードは下記のことを行っています。\n",
    "\n",
    "１行目: 変数`x`に10を入力\n",
    "２行目: 変数`y`に100を入力\n",
    "３行目: `x + y`を計算して結果を変数`z`に入力\n",
    "４行目: 関数`print()`に`z`を入力\n",
    "\n"
   ]
  },
  {
   "cell_type": "markdown",
   "metadata": {},
   "source": [
    "# 型"
   ]
  },
  {
   "cell_type": "markdown",
   "metadata": {},
   "source": [
    "## 基本型\n",
    "型とは、データがどのような形式かを表すもので、Pythonにあらかじめ定義されている基本型は以下のものがあります。\n",
    "- 数値型\n",
    "  - 整数型('int') : -1, 0, 1, 2, ....\n",
    "  - 小数型('float') : -120.0, 3.1415, 1.5e12, 3.00e8\n",
    "  - 複素数型('complex'): 1.0j, 1+1j, 3e8+0j\n",
    "- バイナリ型\n",
    "  - ブール型('bool') : True, False\n",
    "- 文字列\n",
    "  - 文字列型('str') : 'aaa', 'あいうえお', \"0123\"\n",
    " \n",
    "また、必要に応じてユーザーによって**型**を新しく作ることもできます。 \n",
    "プログラムが複雑になってくると、新しい**型**を導入することはとても便利です。\n",
    "\n",
    "自分の扱っているデータの方を確認するには、`type()`関数を利用します。"
   ]
  },
  {
   "cell_type": "code",
   "execution_count": 13,
   "metadata": {},
   "outputs": [
    {
     "data": {
      "text/plain": [
       "str"
      ]
     },
     "execution_count": 13,
     "metadata": {},
     "output_type": "execute_result"
    }
   ],
   "source": [
    "type('abcd')"
   ]
  },
  {
   "cell_type": "code",
   "execution_count": 17,
   "metadata": {},
   "outputs": [
    {
     "data": {
      "text/plain": [
       "int"
      ]
     },
     "execution_count": 17,
     "metadata": {},
     "output_type": "execute_result"
    }
   ],
   "source": [
    "type(30 + 5) "
   ]
  },
  {
   "cell_type": "markdown",
   "metadata": {},
   "source": [
    "## コレクション型"
   ]
  },
  {
   "cell_type": "markdown",
   "metadata": {},
   "source": [
    "# コレクションへのアクセス"
   ]
  },
  {
   "cell_type": "markdown",
   "metadata": {},
   "source": [
    "# 参照"
   ]
  },
  {
   "cell_type": "markdown",
   "metadata": {},
   "source": [
    "# 二項演算子"
   ]
  },
  {
   "cell_type": "markdown",
   "metadata": {},
   "source": [
    "## 四則演算"
   ]
  },
  {
   "cell_type": "markdown",
   "metadata": {},
   "source": [
    "## ブール演算子(論理演算子)"
   ]
  },
  {
   "cell_type": "markdown",
   "metadata": {},
   "source": [
    "# スライス"
   ]
  },
  {
   "cell_type": "markdown",
   "metadata": {},
   "source": [
    "# 文字列整形"
   ]
  },
  {
   "cell_type": "markdown",
   "metadata": {},
   "source": [
    "# 条件式(if, elif, else)"
   ]
  },
  {
   "cell_type": "markdown",
   "metadata": {},
   "source": [
    "# ループ(for, while)"
   ]
  },
  {
   "cell_type": "markdown",
   "metadata": {},
   "source": [
    "# enumulate"
   ]
  },
  {
   "cell_type": "markdown",
   "metadata": {},
   "source": [
    "# 関数"
   ]
  },
  {
   "cell_type": "markdown",
   "metadata": {},
   "source": [
    "# モジュールとパッケージ"
   ]
  },
  {
   "cell_type": "markdown",
   "metadata": {},
   "source": [
    "# 標準ライブラリ"
   ]
  },
  {
   "cell_type": "markdown",
   "metadata": {},
   "source": [
    "# 名前空間とスコープ"
   ]
  },
  {
   "cell_type": "markdown",
   "metadata": {},
   "source": [
    "# プロパティとメソッド"
   ]
  },
  {
   "cell_type": "markdown",
   "metadata": {},
   "source": [
    "# Jupyter Notebook外でのPythonの利用\n",
    "Pythonで書いたプログラムをJupyter Notebookを起動せずに実行したり、過去に作成したプログラムを、別のPythonプログラムから呼び出したりするには、Pythonのコードをテキストファイルに書き、`.py`の拡張子で保存します。\n",
    "\n",
    "例えば、以下を`hello.py`として保存した場合、\n",
    "```Python\n",
    "print('hello world!')\n",
    "```\n",
    "\n",
    "ターミナルから以下のコマンドを実行すると、ターミナルに実行結果が表示されます。\n",
    "```bash\n",
    "python hello.py\n",
    "```\n",
    "表示:\n",
    "```bash\n",
    "hello world!\n",
    "```\n"
   ]
  },
  {
   "cell_type": "markdown",
   "metadata": {},
   "source": []
  }
 ],
 "metadata": {
  "kernelspec": {
   "display_name": "Python 3",
   "language": "python",
   "name": "python3"
  },
  "language_info": {
   "codemirror_mode": {
    "name": "ipython",
    "version": 3
   },
   "file_extension": ".py",
   "mimetype": "text/x-python",
   "name": "python",
   "nbconvert_exporter": "python",
   "pygments_lexer": "ipython3",
   "version": "3.7.6"
  }
 },
 "nbformat": 4,
 "nbformat_minor": 4
}
