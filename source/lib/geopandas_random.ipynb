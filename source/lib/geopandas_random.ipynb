{
 "cells": [
  {
   "cell_type": "markdown",
   "metadata": {},
   "source": [
    "# ランダムポイントを作成"
   ]
  },
  {
   "cell_type": "code",
   "execution_count": 32,
   "metadata": {
    "execution": {
     "iopub.execute_input": "2020-12-07T09:17:38.822855Z",
     "iopub.status.busy": "2020-12-07T09:17:38.822627Z",
     "iopub.status.idle": "2020-12-07T09:17:38.826767Z",
     "shell.execute_reply": "2020-12-07T09:17:38.825759Z",
     "shell.execute_reply.started": "2020-12-07T09:17:38.822829Z"
    }
   },
   "outputs": [],
   "source": [
    "from geovoronoi import voronoi_regions_from_coords\n",
    "from pyproj import CRS\n",
    "from typing import List, Tuple\n",
    "import geopandas as gpd\n",
    "import numpy as np\n",
    "import random\n",
    "import shapely"
   ]
  },
  {
   "cell_type": "code",
   "execution_count": 6,
   "metadata": {
    "execution": {
     "iopub.execute_input": "2020-12-07T08:26:12.175735Z",
     "iopub.status.busy": "2020-12-07T08:26:12.175505Z",
     "iopub.status.idle": "2020-12-07T08:26:12.189940Z",
     "shell.execute_reply": "2020-12-07T08:26:12.189060Z",
     "shell.execute_reply.started": "2020-12-07T08:26:12.175709Z"
    }
   },
   "outputs": [],
   "source": [
    "n_points = 5000\n",
    "epsg = 32630\n",
    "aoi_sw = (281720, 991100)\n",
    "aoi_ne = (309650, 1038020)\n",
    "\n",
    "min_distance = 300\n",
    "\n",
    "x_min, y_min = aoi_sw\n",
    "x_max, y_max = aoi_ne\n",
    "\n",
    "crs = CRS.from_user_input(epsg)"
   ]
  },
  {
   "cell_type": "code",
   "execution_count": 7,
   "metadata": {
    "execution": {
     "iopub.execute_input": "2020-12-07T08:26:12.865565Z",
     "iopub.status.busy": "2020-12-07T08:26:12.865186Z",
     "iopub.status.idle": "2020-12-07T08:26:18.769587Z",
     "shell.execute_reply": "2020-12-07T08:26:18.768900Z",
     "shell.execute_reply.started": "2020-12-07T08:26:12.865520Z"
    }
   },
   "outputs": [],
   "source": [
    "def check_min_distance(point:Tuple[float, float],\n",
    "                       distance: float,\n",
    "                       points:List[Tuple[float, float]]) -> bool:\n",
    "    if distance == 0:\n",
    "        return True\n",
    "    neighbors = [_point for _point in points \n",
    "                 if ((point[0] - distance) < _point[0] < (point[0] + distance))\n",
    "                 and ((point[1] - distance) < _point[1] < (point[1] + distance))]\n",
    "    if len(neighbors) == 0:\n",
    "        return True\n",
    "    \n",
    "    for neighbor in neighbors:\n",
    "        if (neighbor[0] - point[0])**2 + (neighbor[1] - point[1])**2 < (distance * distance):\n",
    "            return False\n",
    "    return True\n",
    "\n",
    "def random_points_in_extent(extent,\n",
    "                            points_number,\n",
    "                            min_distance = 0,\n",
    "                            target_crs = None,\n",
    "                            max_attempts=None,\n",
    "                            **kwargs):\n",
    "    max_attempts = points_number * 100\n",
    "    if min_distance == 0:\n",
    "        xs = [random.uniform(extent[0], extent[1]) for i in range(points_number)]\n",
    "        ys = [random.uniform(extent[2], extent[3]) for i in range(points_number)]\n",
    "        coords = list(zip(xs, ys))\n",
    "    else:\n",
    "        n_iterations = 0\n",
    "        coords: List[Tuple[float, float]] = []\n",
    "        while (len(coords) < points_number\n",
    "               and n_iterations < max_attempts):\n",
    "            x = random.uniform(extent[0], extent[1])\n",
    "            y = random.uniform(extent[2], extent[3])\n",
    "            if check_min_distance(point = (x, y),\n",
    "                                  distance= min_distance,\n",
    "                                  points=coords):\n",
    "                coords.append((x, y))\n",
    "            n_iterations += 1\n",
    "    if len(coords) < points_number:\n",
    "        raise ValueError('Could not generate requested number of random '\n",
    "                         'points. Maximum number of attempts exceeded.')\n",
    "    points = [shapely.geometry.Point(xy) for xy in coords]\n",
    "    return points\n",
    "\n",
    "points = random_points_in_extent(extent=(x_min, x_max, y_min, y_max),\n",
    "                              points_number=n_points,\n",
    "                              min_distance=min_distance)"
   ]
  },
  {
   "cell_type": "code",
   "execution_count": 8,
   "metadata": {
    "execution": {
     "iopub.execute_input": "2020-12-07T08:26:28.049371Z",
     "iopub.status.busy": "2020-12-07T08:26:28.049138Z",
     "iopub.status.idle": "2020-12-07T08:26:28.665872Z",
     "shell.execute_reply": "2020-12-07T08:26:28.665094Z",
     "shell.execute_reply.started": "2020-12-07T08:26:28.049343Z"
    }
   },
   "outputs": [
    {
     "name": "stdout",
     "output_type": "stream",
     "text": [
      "                            geometry\n",
      "0     POINT (287893.392 1018214.643)\n",
      "1     POINT (285148.864 1014868.117)\n",
      "2     POINT (287899.065 1025273.749)\n",
      "3     POINT (285436.212 1024048.643)\n",
      "4     POINT (305583.354 1030906.243)\n",
      "...                              ...\n",
      "4995   POINT (295744.972 991109.631)\n",
      "4996  POINT (288134.856 1008041.496)\n",
      "4997  POINT (295590.617 1032175.490)\n",
      "4998  POINT (296341.666 1015281.349)\n",
      "4999  POINT (294665.756 1026773.806)\n",
      "\n",
      "[5000 rows x 1 columns]\n",
      "epsg:32630\n"
     ]
    },
    {
     "data": {
      "image/png": "[encoded data removed]",
      "text/plain": [
       "<Figure size 432x288 with 1 Axes>"
      ]
     },
     "metadata": {
      "needs_background": "light"
     },
     "output_type": "display_data"
    }
   ],
   "source": [
    "points_gdf = gpd.GeoDataFrame(geometry=points, crs=crs)\n",
    "points_gdf.plot()\n",
    "print(points_gdf)\n",
    "print(points_gdf.crs)"
   ]
  },
  {
   "cell_type": "code",
   "execution_count": 11,
   "metadata": {
    "execution": {
     "iopub.execute_input": "2020-12-07T08:33:14.586208Z",
     "iopub.status.busy": "2020-12-07T08:33:14.585969Z",
     "iopub.status.idle": "2020-12-07T08:33:16.261591Z",
     "shell.execute_reply": "2020-12-07T08:33:16.260942Z",
     "shell.execute_reply.started": "2020-12-07T08:33:14.586181Z"
    }
   },
   "outputs": [],
   "source": [
    "buf_gdf = points_gdf.buffer(distance=100)\n",
    "buf_gdf.to_file('data/random_point_buffer.shp')"
   ]
  },
  {
   "cell_type": "code",
   "execution_count": 19,
   "metadata": {
    "execution": {
     "iopub.execute_input": "2020-12-07T08:54:18.084578Z",
     "iopub.status.busy": "2020-12-07T08:54:18.084347Z",
     "iopub.status.idle": "2020-12-07T08:54:18.317005Z",
     "shell.execute_reply": "2020-12-07T08:54:18.316314Z",
     "shell.execute_reply.started": "2020-12-07T08:54:18.084552Z"
    }
   },
   "outputs": [],
   "source": [
    "w, s, e, n = tuple(buf_gdf.total_bounds)\n"
   ]
  },
  {
   "cell_type": "code",
   "execution_count": 24,
   "metadata": {
    "execution": {
     "iopub.execute_input": "2020-12-07T08:56:54.031076Z",
     "iopub.status.busy": "2020-12-07T08:56:54.030843Z",
     "iopub.status.idle": "2020-12-07T08:56:54.043550Z",
     "shell.execute_reply": "2020-12-07T08:56:54.042594Z",
     "shell.execute_reply.started": "2020-12-07T08:56:54.031050Z"
    }
   },
   "outputs": [
    {
     "data": {
      "text/html": [
       "<div>\n",
       "<style scoped>\n",
       "    .dataframe tbody tr th:only-of-type {\n",
       "        vertical-align: middle;\n",
       "    }\n",
       "\n",
       "    .dataframe tbody tr th {\n",
       "        vertical-align: top;\n",
       "    }\n",
       "\n",
       "    .dataframe thead th {\n",
       "        text-align: right;\n",
       "    }\n",
       "</style>\n",
       "<table border=\"1\" class=\"dataframe\">\n",
       "  <thead>\n",
       "    <tr style=\"text-align: right;\">\n",
       "      <th></th>\n",
       "      <th>geometry</th>\n",
       "    </tr>\n",
       "  </thead>\n",
       "  <tbody>\n",
       "    <tr>\n",
       "      <th>0</th>\n",
       "      <td>POLYGON ((281623.778 991009.060, 309742.385 99...</td>\n",
       "    </tr>\n",
       "  </tbody>\n",
       "</table>\n",
       "</div>"
      ],
      "text/plain": [
       "                                            geometry\n",
       "0  POLYGON ((281623.778 991009.060, 309742.385 99..."
      ]
     },
     "execution_count": 24,
     "metadata": {},
     "output_type": "execute_result"
    }
   ],
   "source": [
    "bbox_gdf = gpd.GeoDataFrame(geometry=[shapely.geometry.Polygon([[w,s], [e,s], [e, n], [w, n]])],\n",
    "            crs=crs)\n",
    "bbox_gdf"
   ]
  },
  {
   "cell_type": "code",
   "execution_count": 48,
   "metadata": {
    "execution": {
     "iopub.execute_input": "2020-12-07T09:57:15.119917Z",
     "iopub.status.busy": "2020-12-07T09:57:15.119673Z",
     "iopub.status.idle": "2020-12-07T09:57:15.255299Z",
     "shell.execute_reply": "2020-12-07T09:57:15.254631Z",
     "shell.execute_reply.started": "2020-12-07T09:57:15.119888Z"
    }
   },
   "outputs": [
    {
     "data": {
      "text/plain": [
       "array([[ 287893.39199138, 1018214.64345841],\n",
       "       [ 285148.86447053, 1014868.11724793],\n",
       "       [ 287899.06484794, 1025273.74931047],\n",
       "       ...,\n",
       "       [ 295590.6170732 , 1032175.48955649],\n",
       "       [ 296341.66619983, 1015281.34936073],\n",
       "       [ 294665.75636229, 1026773.80561081]])"
      ]
     },
     "execution_count": 48,
     "metadata": {},
     "output_type": "execute_result"
    }
   ],
   "source": [
    "coords = np.array(list(zip(points_gdf.geometry.x,\n",
    "             points_gdf.geometry.y)))\n",
    "coords"
   ]
  },
  {
   "cell_type": "code",
   "execution_count": 39,
   "metadata": {
    "execution": {
     "iopub.execute_input": "2020-12-07T09:27:38.666697Z",
     "iopub.status.busy": "2020-12-07T09:27:38.666459Z",
     "iopub.status.idle": "2020-12-07T09:27:38.672239Z",
     "shell.execute_reply": "2020-12-07T09:27:38.671467Z",
     "shell.execute_reply.started": "2020-12-07T09:27:38.666670Z"
    }
   },
   "outputs": [
    {
     "data": {
      "image/svg+xml": [
       "<svg xmlns=\"http://www.w3.org/2000/svg\" xmlns:xlink=\"http://www.w3.org/1999/xlink\" width=\"300\" height=\"300\" viewBox=\"279739.36511611775 989124.6476973124 31887.432470498432 50879.1432727112\" preserveAspectRatio=\"xMinYMin meet\"><g transform=\"matrix(1,0,0,-1,0,2029128.438667336)\"><path fill-rule=\"evenodd\" fill=\"#66cc99\" stroke=\"#555555\" stroke-width=\"339.1942884847413\" opacity=\"0.6\" d=\"M 281623.77782992186,991009.0604111166 L 309742.3848728121,991009.0604111166 L 309742.3848728121,1038119.3782562194 L 281623.77782992186,1038119.3782562194 L 281623.77782992186,991009.0604111166 z\" /></g></svg>"
      ],
      "text/plain": [
       "<shapely.geometry.polygon.Polygon at 0x7f63c82db640>"
      ]
     },
     "execution_count": 39,
     "metadata": {},
     "output_type": "execute_result"
    }
   ],
   "source": [
    "area_shape = bbox_gdf.geometry[0]\n",
    "area_shape"
   ]
  },
  {
   "cell_type": "code",
   "execution_count": 49,
   "metadata": {
    "execution": {
     "iopub.execute_input": "2020-12-07T09:57:20.277889Z",
     "iopub.status.busy": "2020-12-07T09:57:20.277624Z",
     "iopub.status.idle": "2020-12-07T09:57:25.633300Z",
     "shell.execute_reply": "2020-12-07T09:57:25.632573Z",
     "shell.execute_reply.started": "2020-12-07T09:57:20.277859Z"
    }
   },
   "outputs": [],
   "source": [
    "poly_shapes, pts, poly_to_pt_assignments = voronoi_regions_from_coords(coords, area_shape)\n"
   ]
  },
  {
   "cell_type": "code",
   "execution_count": 51,
   "metadata": {
    "execution": {
     "iopub.execute_input": "2020-12-07T09:58:38.584562Z",
     "iopub.status.busy": "2020-12-07T09:58:38.584330Z",
     "iopub.status.idle": "2020-12-07T09:58:39.503623Z",
     "shell.execute_reply": "2020-12-07T09:58:39.502930Z",
     "shell.execute_reply.started": "2020-12-07T09:58:38.584534Z"
    }
   },
   "outputs": [],
   "source": [
    "gpd.GeoDataFrame(geometry=poly_shapes, crs=crs).buffer(distance=-30).to_file('data/voronoi.shp')"
   ]
  },
  {
   "cell_type": "code",
   "execution_count": null,
   "metadata": {},
   "outputs": [],
   "source": []
  },
  {
   "cell_type": "code",
   "execution_count": 46,
   "metadata": {
    "execution": {
     "iopub.execute_input": "2020-12-07T09:29:34.956131Z",
     "iopub.status.busy": "2020-12-07T09:29:34.955781Z",
     "iopub.status.idle": "2020-12-07T09:29:34.962125Z",
     "shell.execute_reply": "2020-12-07T09:29:34.961173Z",
     "shell.execute_reply.started": "2020-12-07T09:29:34.956089Z"
    }
   },
   "outputs": [
    {
     "data": {
      "text/plain": [
       "[[5], [4], [7], [2], [6], [0], [9], [1], [3], [8]]"
      ]
     },
     "execution_count": 46,
     "metadata": {},
     "output_type": "execute_result"
    }
   ],
   "source": [
    "poly_to_pt_assignments"
   ]
  }
 ],
 "metadata": {
  "kernelspec": {
   "display_name": "Python 3",
   "language": "python",
   "name": "python3"
  },
  "language_info": {
   "codemirror_mode": {
    "name": "ipython",
    "version": 3
   },
   "file_extension": ".py",
   "mimetype": "text/x-python",
   "name": "python",
   "nbconvert_exporter": "python",
   "pygments_lexer": "ipython3",
   "version": "3.8.6"
  }
 },
 "nbformat": 4,
 "nbformat_minor": 4
}
