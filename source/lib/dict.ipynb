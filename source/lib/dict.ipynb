{
 "cells": [
  {
   "cell_type": "markdown",
   "metadata": {},
   "source": [
    "# Dict: 辞書\n",
    "公式ドキュメント: [docs.python.org: 5. データ構造](https://docs.python.org/ja/3/tutorial/datastructures.html#dictionaries)"
   ]
  },
  {
   "cell_type": "markdown",
   "metadata": {},
   "source": [
    "## 初期化"
   ]
  },
  {
   "cell_type": "code",
   "execution_count": 1,
   "metadata": {},
   "outputs": [
    {
     "name": "stdout",
     "output_type": "stream",
     "text": [
      "<class 'dict'>\n",
      "<class 'dict'>\n"
     ]
    },
    {
     "data": {
      "text/plain": [
       "['__class__',\n",
       " '__contains__',\n",
       " '__delattr__',\n",
       " '__delitem__',\n",
       " '__dir__',\n",
       " '__doc__',\n",
       " '__eq__',\n",
       " '__format__',\n",
       " '__ge__',\n",
       " '__getattribute__',\n",
       " '__getitem__',\n",
       " '__gt__',\n",
       " '__hash__',\n",
       " '__init__',\n",
       " '__init_subclass__',\n",
       " '__iter__',\n",
       " '__le__',\n",
       " '__len__',\n",
       " '__lt__',\n",
       " '__ne__',\n",
       " '__new__',\n",
       " '__reduce__',\n",
       " '__reduce_ex__',\n",
       " '__repr__',\n",
       " '__reversed__',\n",
       " '__setattr__',\n",
       " '__setitem__',\n",
       " '__sizeof__',\n",
       " '__str__',\n",
       " '__subclasshook__',\n",
       " 'clear',\n",
       " 'copy',\n",
       " 'fromkeys',\n",
       " 'get',\n",
       " 'items',\n",
       " 'keys',\n",
       " 'pop',\n",
       " 'popitem',\n",
       " 'setdefault',\n",
       " 'update',\n",
       " 'values']"
      ]
     },
     "execution_count": 1,
     "metadata": {},
     "output_type": "execute_result"
    }
   ],
   "source": [
    "d1 = dict()\n",
    "d2 = {}\n",
    "print(type(d1))\n",
    "print(type(d2))\n",
    "dir(d1)"
   ]
  },
  {
   "cell_type": "markdown",
   "metadata": {},
   "source": [
    "## 値の設定"
   ]
  },
  {
   "cell_type": "code",
   "execution_count": 8,
   "metadata": {},
   "outputs": [
    {
     "data": {
      "text/plain": [
       "{'a': 'aaa', 'b': [1, 2, 3], 'c': None}"
      ]
     },
     "execution_count": 8,
     "metadata": {},
     "output_type": "execute_result"
    }
   ],
   "source": [
    "d = {'a':'aaa', 'b':[1,2,3], 'c': None}\n",
    "d"
   ]
  },
  {
   "cell_type": "code",
   "execution_count": 9,
   "metadata": {},
   "outputs": [
    {
     "data": {
      "text/plain": [
       "{'a': 'aaa', 'b': [1, 2, 3], 'c': None, 'd': {'d1': 'd111', 'd2': 'd222'}}"
      ]
     },
     "execution_count": 9,
     "metadata": {},
     "output_type": "execute_result"
    }
   ],
   "source": [
    "d['d'] = {'d1':'d111', 'd2':'d222'}\n",
    "d"
   ]
  },
  {
   "cell_type": "code",
   "execution_count": 12,
   "metadata": {},
   "outputs": [
    {
     "data": {
      "text/plain": [
       "{'a': 111,\n",
       " 'b': [1, 2, 3],\n",
       " 'c': None,\n",
       " 'd': {'d1': 'd111', 'd2': 'd222'},\n",
       " 'x': 'xxx'}"
      ]
     },
     "execution_count": 12,
     "metadata": {},
     "output_type": "execute_result"
    }
   ],
   "source": [
    "d.update({'a':111, 'x':'xxx'})\n",
    "d"
   ]
  },
  {
   "cell_type": "code",
   "execution_count": null,
   "metadata": {},
   "outputs": [],
   "source": [
    "d.update({'x':'xxx'})\n",
    "d"
   ]
  },
  {
   "cell_type": "markdown",
   "metadata": {},
   "source": [
    "キーが存在しない場合のみ、値を変更する"
   ]
  },
  {
   "cell_type": "code",
   "execution_count": 20,
   "metadata": {},
   "outputs": [
    {
     "name": "stdout",
     "output_type": "stream",
     "text": [
      "bbb\n",
      "None\n",
      "123\n"
     ]
    },
    {
     "data": {
      "text/plain": [
       "{'a': 'aaa', 'b': 'bbb', 'c': None, 'd': 123}"
      ]
     },
     "execution_count": 20,
     "metadata": {},
     "output_type": "execute_result"
    }
   ],
   "source": [
    "mydict = {'a': 'aaa', 'b': 'bbb', 'c':None}\n",
    "print(mydict.setdefault('b', 123))  # <- 'b'キーは存在する('bbb')ので、更新されない。返り値は元の値\n",
    "print(mydict.setdefault('c', 123))  # <- 'c'キーは存在する(None)ので、更新される。返り値は元の値\n",
    "print(mydict.setdefault('d', 123))  # <- 'd'キーは存在しないので、更新される。返り値は更新後の値\n",
    "mydict"
   ]
  },
  {
   "cell_type": "markdown",
   "metadata": {},
   "source": [
    "## 値の参照"
   ]
  },
  {
   "cell_type": "code",
   "execution_count": 50,
   "metadata": {},
   "outputs": [
    {
     "name": "stdout",
     "output_type": "stream",
     "text": [
      "aaa\n",
      "None\n",
      "aaa\n",
      "None\n",
      "None\n",
      "key x not exist\n"
     ]
    }
   ],
   "source": [
    "mydict = {'a': 'aaa', 'b': 222, 'c':None}\n",
    "print(mydict['a'])\n",
    "print(mydict['c'])\n",
    "# print(mydict['x'])  # -> Error\n",
    "\n",
    "print(mydict.get('a'))\n",
    "print(mydict.get('c'))  # -> None\n",
    "print(mydict.get('x'))  # -> None\n",
    "print(mydict.get('x', 'key x not exist'))"
   ]
  },
  {
   "cell_type": "code",
   "execution_count": 55,
   "metadata": {},
   "outputs": [
    {
     "name": "stdout",
     "output_type": "stream",
     "text": [
      "{'x': 'xxx', 'y': 999, 'z': None}\n",
      "xxx\n",
      "{'x': 'xxx', 'y': 999, 'z': None}\n",
      "999\n",
      "None\n",
      "key x not exist\n"
     ]
    }
   ],
   "source": [
    "# 入れ子の場合\n",
    "mydict = {'a': 'aaa', 'b': 222, 'c':{'x':'xxx', 'y':999, 'z':None}}\n",
    "print(mydict['c'])\n",
    "print(mydict['c']['x'])\n",
    "# print(mydict['x'])  # -> Error\n",
    "\n",
    "print(mydict.get('c'))\n",
    "print(mydict.get('c').get('y'))\n",
    "print(mydict.get('x'))  # -> None\n",
    "print(mydict.get('x', 'key x not exist'))"
   ]
  },
  {
   "cell_type": "markdown",
   "metadata": {},
   "source": [
    "## 値の削除"
   ]
  },
  {
   "cell_type": "code",
   "execution_count": 24,
   "metadata": {},
   "outputs": [
    {
     "data": {
      "text/plain": [
       "{}"
      ]
     },
     "execution_count": 24,
     "metadata": {},
     "output_type": "execute_result"
    }
   ],
   "source": [
    "# remove all\n",
    "mydict = {'a': 'aaa', 'b': 'bbb', 'c':'ccc'}\n",
    "mydict.clear()\n",
    "mydict"
   ]
  },
  {
   "cell_type": "code",
   "execution_count": 42,
   "metadata": {},
   "outputs": [
    {
     "name": "stdout",
     "output_type": "stream",
     "text": [
      "aaa\n",
      "not exist!\n"
     ]
    },
    {
     "data": {
      "text/plain": [
       "{'b': 'bbb', 'c': 'ccc'}"
      ]
     },
     "execution_count": 42,
     "metadata": {},
     "output_type": "execute_result"
    }
   ],
   "source": [
    "mydict = {'a': 'aaa', 'b': 'bbb', 'c':'ccc'}\n",
    "print(mydict.pop('a'))\n",
    "print(mydict.pop('x', 'not exist!'))\n",
    "mydict"
   ]
  },
  {
   "cell_type": "code",
   "execution_count": null,
   "metadata": {},
   "outputs": [],
   "source": []
  }
 ],
 "metadata": {
  "kernelspec": {
   "display_name": "Python 3",
   "language": "python",
   "name": "python3"
  },
  "language_info": {
   "codemirror_mode": {
    "name": "ipython",
    "version": 3
   },
   "file_extension": ".py",
   "mimetype": "text/x-python",
   "name": "python",
   "nbconvert_exporter": "python",
   "pygments_lexer": "ipython3",
   "version": "3.8.3"
  }
 },
 "nbformat": 4,
 "nbformat_minor": 4
}
