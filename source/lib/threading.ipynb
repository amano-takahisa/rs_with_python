{
 "cells": [
  {
   "cell_type": "markdown",
   "metadata": {},
   "source": [
    "# threadingnによる並列化"
   ]
  },
  {
   "cell_type": "code",
   "execution_count": 1,
   "metadata": {
    "execution": {
     "iopub.execute_input": "2020-12-03T10:30:40.257607Z",
     "iopub.status.busy": "2020-12-03T10:30:40.257320Z",
     "iopub.status.idle": "2020-12-03T10:30:40.261230Z",
     "shell.execute_reply": "2020-12-03T10:30:40.260397Z",
     "shell.execute_reply.started": "2020-12-03T10:30:40.257535Z"
    }
   },
   "outputs": [],
   "source": [
    "import threading\n",
    "import time\n",
    "import random"
   ]
  },
  {
   "cell_type": "code",
   "execution_count": 13,
   "metadata": {
    "execution": {
     "iopub.execute_input": "2020-12-03T14:23:06.812410Z",
     "iopub.status.busy": "2020-12-03T14:23:06.812008Z",
     "iopub.status.idle": "2020-12-03T14:23:06.820475Z",
     "shell.execute_reply": "2020-12-03T14:23:06.819804Z",
     "shell.execute_reply.started": "2020-12-03T14:23:06.812366Z"
    }
   },
   "outputs": [
    {
     "data": {
      "text/plain": [
       "7.035"
      ]
     },
     "execution_count": 13,
     "metadata": {},
     "output_type": "execute_result"
    }
   ],
   "source": [
    "1407 / 200"
   ]
  },
  {
   "cell_type": "code",
   "execution_count": null,
   "metadata": {},
   "outputs": [],
   "source": [
    "2033 / "
   ]
  },
  {
   "cell_type": "code",
   "execution_count": null,
   "metadata": {},
   "outputs": [],
   "source": [
    "def my_func():\n",
    "    random.randint(1,5)\n",
    "    time.sleep()"
   ]
  },
  {
   "cell_type": "code",
   "execution_count": null,
   "metadata": {},
   "outputs": [],
   "source": [
    "import time\n"
   ]
  },
  {
   "cell_type": "code",
   "execution_count": null,
   "metadata": {},
   "outputs": [],
   "source": [
    "\n",
    "futures = []\n",
    "with ThreadPoolExecutor(max_workers=num_threads) as executor:\n",
    "    for true_rasters, pred_rasters in zip(true_rasters_threads,\n",
    "                                          pred_rasters_threads):\n",
    "        futures.append(executor.submit(compute_mse_core,\n",
    "                                       tmpl_aoi_r=tmpl_aoi_r,\n",
    "                                       true_rasters=true_rasters,\n",
    "                                       pred_rasters=pred_rasters,\n",
    "                                       mask=mask))"
   ]
  }
 ],
 "metadata": {
  "kernelspec": {
   "display_name": "Python 3",
   "language": "python",
   "name": "python3"
  },
  "language_info": {
   "codemirror_mode": {
    "name": "ipython",
    "version": 3
   },
   "file_extension": ".py",
   "mimetype": "text/x-python",
   "name": "python",
   "nbconvert_exporter": "python",
   "pygments_lexer": "ipython3",
   "version": "3.8.6"
  }
 },
 "nbformat": 4,
 "nbformat_minor": 4
}
