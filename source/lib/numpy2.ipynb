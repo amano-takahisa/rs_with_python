{
 "cells": [
  {
   "cell_type": "markdown",
   "metadata": {},
   "source": [
    "# Numpy\n",
    "- [Official Documents: numpy.org](https://numpy.org/doc/stable/reference/index.html)\n",
    "- [repository: github.com](https://github.com/numpy/numpy)"
   ]
  },
  {
   "cell_type": "code",
   "execution_count": 1,
   "metadata": {},
   "outputs": [],
   "source": [
    "import numpy as np"
   ]
  },
  {
   "cell_type": "markdown",
   "metadata": {},
   "source": [
    "## Replacement"
   ]
  },
  {
   "cell_type": "code",
   "execution_count": 4,
   "metadata": {},
   "outputs": [
    {
     "name": "stdout",
     "output_type": "stream",
     "text": [
      "[[[ 0.  1.  2.  3.  4.  5.  6.  7.]\n",
      "  [ 8.  9. 10. 11. 12. 13. 14. 15.]\n",
      "  [16. 17. 18. nan nan nan 22. 23.]\n",
      "  [24. 25. 26. nan nan nan 30. 31.]\n",
      "  [32. 33. 34. 35. 36. 37. 38. 39.]]]\n"
     ]
    }
   ],
   "source": [
    "a = np.array(range(40), 'float').reshape((1,5,8))\n",
    "a[0,2:4, 3:6] = np.nan\n",
    "print(a)"
   ]
  },
  {
   "cell_type": "code",
   "execution_count": 5,
   "metadata": {},
   "outputs": [
    {
     "data": {
      "text/plain": [
       "'[[[ 0.  1.  2.  3.  4.  5.  6.  7.]\\n  [ 8.  9. 10. 11. 12. 13. 14. 15.]\\n  [16. 17. 18. nan nan nan 22. 23.]\\n  [24. 25. 26. nan nan nan 30. 31.]\\n  [32. 33. 34. 35. 36. 37. 38. 39.]]]'"
      ]
     },
     "execution_count": 5,
     "metadata": {},
     "output_type": "execute_result"
    }
   ],
   "source": [
    "a.__str__()"
   ]
  },
  {
   "cell_type": "code",
   "execution_count": null,
   "metadata": {},
   "outputs": [],
   "source": [
    "a = np.array(range(24)).reshape((2,3,4))\n",
    "print(a)"
   ]
  },
  {
   "cell_type": "code",
   "execution_count": null,
   "metadata": {},
   "outputs": [],
   "source": [
    "a_target = []\n",
    "for idx, ai in enumerate(a):\n",
    "    a_target.append(ai)"
   ]
  },
  {
   "cell_type": "code",
   "execution_count": null,
   "metadata": {},
   "outputs": [],
   "source": [
    "np.array(a_target)"
   ]
  },
  {
   "cell_type": "code",
   "execution_count": null,
   "metadata": {},
   "outputs": [],
   "source": [
    "# replace all value\n",
    "a[:] = np.nan\n",
    "a"
   ]
  },
  {
   "cell_type": "code",
   "execution_count": null,
   "metadata": {},
   "outputs": [],
   "source": [
    "# replace specific value\n",
    "a = np.array(range(40), 'float').reshape((2,4,5))\n",
    "a[(a == 10) | (a == 32)] = np.nan\n",
    "a"
   ]
  },
  {
   "cell_type": "code",
   "execution_count": null,
   "metadata": {},
   "outputs": [],
   "source": [
    "# replace nan value with clumn wise different value\n",
    "# https://stackoverflow.com/a/18689440/\n",
    "a = np.array(range(20), 'float').reshape((5,4))\n",
    "a[1:3, 2:4] = np.nan\n",
    "print(a)\n",
    "replace_values = [100, 101, 102, 103]\n",
    "print(replace_values)\n",
    "idxs = np.where(np.isnan(a))\n",
    "a[idxs] = np.take(replace_values, idxs[1])\n",
    "print(a)"
   ]
  },
  {
   "cell_type": "markdown",
   "metadata": {},
   "source": [
    "## Append"
   ]
  },
  {
   "cell_type": "code",
   "execution_count": null,
   "metadata": {},
   "outputs": [],
   "source": [
    "a_0 = []\n",
    "a_1 = np.array(range(12)).reshape((3,4))\n",
    "a_0.append(a_1)\n",
    "print(a_0)\n",
    "a_2 = np.array(range(100,112)).reshape((3,4))\n",
    "a_0.append(a_2)\n",
    "print(a_0)\n",
    "print(np.array(a_0).shape)"
   ]
  },
  {
   "cell_type": "markdown",
   "metadata": {},
   "source": [
    "## where"
   ]
  },
  {
   "cell_type": "code",
   "execution_count": 204,
   "metadata": {},
   "outputs": [
    {
     "name": "stdout",
     "output_type": "stream",
     "text": [
      "[[[ 0.  1.  2.  3.]\n",
      "  [ 4.  5.  6.  7.]\n",
      "  [ 8.  9. 10. 11.]]\n",
      "\n",
      " [[12. 13. 14. 15.]\n",
      "  [16. 17. 18. 19.]\n",
      "  [20. 21. 22. 23.]]\n",
      "\n",
      " [[24. 25. 26. 27.]\n",
      "  [28. 29. 30. 31.]\n",
      "  [32. 33. 34. 35.]]]\n",
      "[[[10]]\n",
      "\n",
      " [[10]]\n",
      "\n",
      " [[10]]]\n"
     ]
    },
    {
     "data": {
      "text/plain": [
       "array([[[False, False, False, False],\n",
       "        [False, False, False, False],\n",
       "        [False, False, False,  True]],\n",
       "\n",
       "       [[ True,  True,  True,  True],\n",
       "        [ True,  True,  True,  True],\n",
       "        [ True,  True,  True,  True]],\n",
       "\n",
       "       [[ True,  True,  True,  True],\n",
       "        [ True,  True,  True,  True],\n",
       "        [ True,  True,  True,  True]]])"
      ]
     },
     "execution_count": 204,
     "metadata": {},
     "output_type": "execute_result"
    }
   ],
   "source": [
    "print(a)\n",
    "print(channel_max)\n",
    "a > channel_max"
   ]
  },
  {
   "cell_type": "code",
   "execution_count": 210,
   "metadata": {},
   "outputs": [
    {
     "ename": "TypeError",
     "evalue": "'>' not supported between instances of 'float' and 'NoneType'",
     "output_type": "error",
     "traceback": [
      "\u001b[0;31m---------------------------------------------------------------------------\u001b[0m",
      "\u001b[0;31mTypeError\u001b[0m                                 Traceback (most recent call last)",
      "\u001b[0;32m<ipython-input-210-844dcf018f0f>\u001b[0m in \u001b[0;36m<module>\u001b[0;34m\u001b[0m\n\u001b[1;32m      8\u001b[0m \u001b[0ma\u001b[0m \u001b[0;34m=\u001b[0m \u001b[0mnp\u001b[0m\u001b[0;34m.\u001b[0m\u001b[0marray\u001b[0m\u001b[0;34m(\u001b[0m\u001b[0mrange\u001b[0m\u001b[0;34m(\u001b[0m\u001b[0;36m36\u001b[0m\u001b[0;34m)\u001b[0m\u001b[0;34m)\u001b[0m\u001b[0;34m.\u001b[0m\u001b[0mreshape\u001b[0m\u001b[0;34m(\u001b[0m\u001b[0;34m(\u001b[0m\u001b[0;36m3\u001b[0m\u001b[0;34m,\u001b[0m\u001b[0;36m3\u001b[0m\u001b[0;34m,\u001b[0m\u001b[0;36m4\u001b[0m\u001b[0;34m)\u001b[0m\u001b[0;34m)\u001b[0m\u001b[0;34m\u001b[0m\u001b[0;34m\u001b[0m\u001b[0m\n\u001b[1;32m      9\u001b[0m \u001b[0ma\u001b[0m \u001b[0;34m=\u001b[0m \u001b[0ma\u001b[0m\u001b[0;34m.\u001b[0m\u001b[0mastype\u001b[0m\u001b[0;34m(\u001b[0m\u001b[0;34m'float32'\u001b[0m\u001b[0;34m)\u001b[0m\u001b[0;34m\u001b[0m\u001b[0;34m\u001b[0m\u001b[0m\n\u001b[0;32m---> 10\u001b[0;31m \u001b[0ma\u001b[0m \u001b[0;34m=\u001b[0m \u001b[0mnp\u001b[0m\u001b[0;34m.\u001b[0m\u001b[0mwhere\u001b[0m\u001b[0;34m(\u001b[0m\u001b[0;34m(\u001b[0m\u001b[0mchannel_min\u001b[0m\u001b[0;34m<\u001b[0m\u001b[0ma\u001b[0m\u001b[0;34m)\u001b[0m\u001b[0;34m&\u001b[0m\u001b[0;34m(\u001b[0m\u001b[0ma\u001b[0m\u001b[0;34m<\u001b[0m\u001b[0mchannel_max\u001b[0m\u001b[0;34m)\u001b[0m\u001b[0;34m,\u001b[0m \u001b[0ma\u001b[0m\u001b[0;34m,\u001b[0m \u001b[0mnp\u001b[0m\u001b[0;34m.\u001b[0m\u001b[0mnan\u001b[0m \u001b[0;34m)\u001b[0m\u001b[0;34m\u001b[0m\u001b[0;34m\u001b[0m\u001b[0m\n\u001b[0m\u001b[1;32m     11\u001b[0m \u001b[0ma\u001b[0m\u001b[0;34m[\u001b[0m\u001b[0;36m1\u001b[0m\u001b[0;34m:\u001b[0m\u001b[0;36m2\u001b[0m\u001b[0;34m,\u001b[0m\u001b[0;36m1\u001b[0m\u001b[0;34m:\u001b[0m\u001b[0;36m3\u001b[0m\u001b[0;34m,\u001b[0m\u001b[0;36m1\u001b[0m\u001b[0;34m:\u001b[0m\u001b[0;36m2\u001b[0m\u001b[0;34m]\u001b[0m \u001b[0;34m=\u001b[0m \u001b[0mnp\u001b[0m\u001b[0;34m.\u001b[0m\u001b[0mnan\u001b[0m\u001b[0;34m\u001b[0m\u001b[0;34m\u001b[0m\u001b[0m\n\u001b[1;32m     12\u001b[0m \u001b[0ma\u001b[0m\u001b[0;34m\u001b[0m\u001b[0;34m\u001b[0m\u001b[0m\n",
      "\u001b[0;31mTypeError\u001b[0m: '>' not supported between instances of 'float' and 'NoneType'"
     ]
    }
   ],
   "source": [
    "# channel_min = np.resize([1, 16, 26], (3,1,1))\n",
    "# channel_max = np.resize([10, 21, 31], (3,1,1))\n",
    "# channel_min = np.resize(10, (3,1,1))\n",
    "# channel_max = np.resize(20, (3,1,1))\n",
    "channel_min = None\n",
    "channel_max = np.resize(20, (3,1,1))\n",
    "\n",
    "a = np.array(range(36)).reshape((3,3,4))\n",
    "a = a.astype('float32')\n",
    "a = np.where((channel_min<a)&(a<channel_max), a, np.nan )\n",
    "a[1:2,1:3,1:2] = np.nan\n",
    "a"
   ]
  },
  {
   "cell_type": "code",
   "execution_count": 5,
   "metadata": {},
   "outputs": [
    {
     "data": {
      "text/plain": [
       "dtype('float32')"
      ]
     },
     "execution_count": 5,
     "metadata": {},
     "output_type": "execute_result"
    }
   ],
   "source": [
    "channel_max = np.resize(20, (3,1,1)).astype('float32')\n",
    "channel_max.dtype"
   ]
  },
  {
   "cell_type": "markdown",
   "metadata": {},
   "source": [
    "## Dilation"
   ]
  },
  {
   "cell_type": "code",
   "execution_count": 41,
   "metadata": {},
   "outputs": [],
   "source": [
    "from scipy.ndimage import binary_dilation, generate_binary_structure "
   ]
  },
  {
   "cell_type": "code",
   "execution_count": 38,
   "metadata": {},
   "outputs": [
    {
     "name": "stdout",
     "output_type": "stream",
     "text": [
      "[[[False False False False False False False False False False False]\n",
      "  [False False False  True  True  True False False False False False]\n",
      "  [False False False  True  True  True False False False False False]\n",
      "  [False False False  True  True  True False False False False False]\n",
      "  [False False False False False False False False False False False]\n",
      "  [False False False False False False False False False False False]\n",
      "  [False False False False False False False False False False False]\n",
      "  [False False False False False False False False False False False]\n",
      "  [False False False False False False False False False False False]\n",
      "  [False False False False False False False False False False False]]\n",
      "\n",
      " [[False False False False False False False False False False False]\n",
      "  [False False False False False False False False False False False]\n",
      "  [False False False False False False False False False False False]\n",
      "  [False False False False False False False False False False False]\n",
      "  [False False False False False False False False False False False]\n",
      "  [False False False False False False False False False False False]\n",
      "  [False False False False False False False False False False False]\n",
      "  [False False False False False False False False False False False]\n",
      "  [False False False False False False False False False False False]\n",
      "  [False False False False False False False False False False False]]\n",
      "\n",
      " [[False False False False False False False False False False False]\n",
      "  [False False False False False False False False False False False]\n",
      "  [False False False False False False False False False False False]\n",
      "  [False False False False False False False False False False False]\n",
      "  [False False False False False False False False False False False]\n",
      "  [False False False False False False False False False False False]\n",
      "  [False False False False False False False False False False False]\n",
      "  [False False False False False False False False False False False]\n",
      "  [False False False False False False False False False False False]\n",
      "  [False False False False False False False False False False False]]]\n"
     ]
    }
   ],
   "source": [
    "# a = np.zeros((3,10,11), dtype='bool')\n",
    "a = np.zeros((3,10,11), dtype='bool')\n",
    "a[0, 1:4, 3:6] = True\n",
    "print(a)"
   ]
  },
  {
   "cell_type": "code",
   "execution_count": 39,
   "metadata": {},
   "outputs": [
    {
     "name": "stdout",
     "output_type": "stream",
     "text": [
      "[[[False False  True  True  True  True  True False False False False]\n",
      "  [False  True  True  True  True  True  True  True False False False]\n",
      "  [False  True  True  True  True  True  True  True False False False]\n",
      "  [False  True  True  True  True  True  True  True False False False]\n",
      "  [False False  True  True  True  True  True False False False False]\n",
      "  [False False False  True  True  True False False False False False]\n",
      "  [False False False False False False False False False False False]\n",
      "  [False False False False False False False False False False False]\n",
      "  [False False False False False False False False False False False]\n",
      "  [False False False False False False False False False False False]]\n",
      "\n",
      " [[False False False  True  True  True False False False False False]\n",
      "  [False False  True  True  True  True  True False False False False]\n",
      "  [False False  True  True  True  True  True False False False False]\n",
      "  [False False  True  True  True  True  True False False False False]\n",
      "  [False False False  True  True  True False False False False False]\n",
      "  [False False False False False False False False False False False]\n",
      "  [False False False False False False False False False False False]\n",
      "  [False False False False False False False False False False False]\n",
      "  [False False False False False False False False False False False]\n",
      "  [False False False False False False False False False False False]]\n",
      "\n",
      " [[False False False False False False False False False False False]\n",
      "  [False False False  True  True  True False False False False False]\n",
      "  [False False False  True  True  True False False False False False]\n",
      "  [False False False  True  True  True False False False False False]\n",
      "  [False False False False False False False False False False False]\n",
      "  [False False False False False False False False False False False]\n",
      "  [False False False False False False False False False False False]\n",
      "  [False False False False False False False False False False False]\n",
      "  [False False False False False False False False False False False]\n",
      "  [False False False False False False False False False False False]]]\n"
     ]
    }
   ],
   "source": [
    "print(binary_dilation(a, iterations=2))"
   ]
  },
  {
   "cell_type": "code",
   "execution_count": 78,
   "metadata": {},
   "outputs": [
    {
     "name": "stdout",
     "output_type": "stream",
     "text": [
      "[[[ True  True  True]\n",
      "  [ True  True  True]\n",
      "  [ True  True  True]]\n",
      "\n",
      " [[ True  True  True]\n",
      "  [ True  True  True]\n",
      "  [ True  True  True]]\n",
      "\n",
      " [[ True  True  True]\n",
      "  [ True  True  True]\n",
      "  [ True  True  True]]]\n"
     ]
    }
   ],
   "source": [
    "struct = generate_binary_structure(a.ndim, 3)\n",
    "print(struct)"
   ]
  },
  {
   "cell_type": "code",
   "execution_count": 79,
   "metadata": {},
   "outputs": [
    {
     "name": "stdout",
     "output_type": "stream",
     "text": [
      "[[[False  True  True  True  True  True  True  True False False False]\n",
      "  [False  True  True  True  True  True  True  True False False False]\n",
      "  [False  True  True  True  True  True  True  True False False False]\n",
      "  [False  True  True  True  True  True  True  True False False False]\n",
      "  [False  True  True  True  True  True  True  True False False False]\n",
      "  [False  True  True  True  True  True  True  True False False False]\n",
      "  [False False False False False False False False False False False]\n",
      "  [False False False False False False False False False False False]\n",
      "  [False False False False False False False False False False False]\n",
      "  [False False False False False False False False False False False]]\n",
      "\n",
      " [[False  True  True  True  True  True  True  True False False False]\n",
      "  [False  True  True  True  True  True  True  True False False False]\n",
      "  [False  True  True  True  True  True  True  True False False False]\n",
      "  [False  True  True  True  True  True  True  True False False False]\n",
      "  [False  True  True  True  True  True  True  True False False False]\n",
      "  [False  True  True  True  True  True  True  True False False False]\n",
      "  [False False False False False False False False False False False]\n",
      "  [False False False False False False False False False False False]\n",
      "  [False False False False False False False False False False False]\n",
      "  [False False False False False False False False False False False]]\n",
      "\n",
      " [[False  True  True  True  True  True  True  True False False False]\n",
      "  [False  True  True  True  True  True  True  True False False False]\n",
      "  [False  True  True  True  True  True  True  True False False False]\n",
      "  [False  True  True  True  True  True  True  True False False False]\n",
      "  [False  True  True  True  True  True  True  True False False False]\n",
      "  [False  True  True  True  True  True  True  True False False False]\n",
      "  [False False False False False False False False False False False]\n",
      "  [False False False False False False False False False False False]\n",
      "  [False False False False False False False False False False False]\n",
      "  [False False False False False False False False False False False]]]\n"
     ]
    }
   ],
   "source": [
    "print(binary_dilation(a, iterations=2, structure=struct))"
   ]
  },
  {
   "cell_type": "markdown",
   "metadata": {},
   "source": [
    "## channel selection"
   ]
  },
  {
   "cell_type": "code",
   "execution_count": 84,
   "metadata": {},
   "outputs": [
    {
     "data": {
      "text/plain": [
       "array([[[ 0,  1,  2,  3],\n",
       "        [ 4,  5,  6,  7],\n",
       "        [ 8,  9, 10, 11]],\n",
       "\n",
       "       [[12, 13, 14, 15],\n",
       "        [16, 17, 18, 19],\n",
       "        [20, 21, 22, 23]],\n",
       "\n",
       "       [[24, 25, 26, 27],\n",
       "        [28, 29, 30, 31],\n",
       "        [32, 33, 34, 35]]])"
      ]
     },
     "execution_count": 84,
     "metadata": {},
     "output_type": "execute_result"
    }
   ],
   "source": [
    "a = np.array(range(36)).reshape((3,3,4))\n",
    "a"
   ]
  },
  {
   "cell_type": "code",
   "execution_count": 192,
   "metadata": {},
   "outputs": [
    {
     "name": "stdout",
     "output_type": "stream",
     "text": [
      "float32\n"
     ]
    }
   ],
   "source": [
    "c = 1\n",
    "print(a.dtype)"
   ]
  },
  {
   "cell_type": "code",
   "execution_count": 190,
   "metadata": {},
   "outputs": [
    {
     "data": {
      "text/plain": [
       "array([[[1]],\n",
       "\n",
       "       [[1]],\n",
       "\n",
       "       [[1]]])"
      ]
     },
     "execution_count": 190,
     "metadata": {},
     "output_type": "execute_result"
    }
   ],
   "source": [
    "l = 1\n",
    "np.resize(np.array(l), (3,1,1))\n",
    "\n",
    "#np.array(l).reshape(3,1,1)"
   ]
  },
  {
   "cell_type": "markdown",
   "metadata": {},
   "source": [
    "## normalize by channel"
   ]
  },
  {
   "cell_type": "code",
   "execution_count": null,
   "metadata": {},
   "outputs": [],
   "source": [
    "def znorm_by_channel(array:np.ndarray) -> np.ndarray:\n",
    "    \"\"\" z-normalization of each channel of 3D numpy array\n",
    "    \n",
    "    Args:\n",
    "        array:\n",
    "            3 dimentional numpy array which is channel first format.\n",
    "    Returns:\n",
    "        tuple of normalized array, list of original mean values of each channel,\n",
    "        and list of original standard deviations of each channel.\n",
    "    Example:\n",
    "        >>> a = np.array([[[    0.,  1., np.nan, np.nan],\n",
    "        ...                [    4.,  5.,     6.,     7.],\n",
    "        ...                [    8.,  9.,    10.,    11.]],\n",
    "        ...               [[np.nan, 13.,    14.,    15.],\n",
    "        ...                [np.nan, 17.,    18.,    19.],\n",
    "        ...                [np.nan, 21.,    22.,    23.]]])\n",
    "        ...\n",
    "        >>> znorm_by_channel()\n",
    "        ... (array([[[-1.75435174, -1.46675309,         nan,         nan],\n",
    "        ...          [-0.60395716, -0.31635851, -0.02875986,  0.25883878],\n",
    "        ...          [ 0.54643743,  0.83403607,  1.12163472,  1.40923337]],\n",
    "        ...  \n",
    "        ...         [[        nan, -1.48522127, -1.18817702, -0.89113276],\n",
    "        ...          [        nan, -0.29704425,  0.        ,  0.29704425],\n",
    "        ...          [        nan,  0.89113276,  1.18817702,  1.48522127]]]),\n",
    "        ...  array([ 6.1, 18. ]),\n",
    "        ...  array([3.47706773, 3.36650165]))\n",
    "    \"\"\"\n",
    "    if array.ndim != 3:\n",
    "        raise ValueError(f'Input array need to be 3D, not {array.ndim}D.')\n",
    "    means = np.nanmean(array, axis=(1,2))\n",
    "    stds = np.nanstd(array, axis=(1,2))\n",
    "    normalized_array = (array - means[:, None,  None])/(stds[:, None,  None] + 1e-7)\n",
    "    return normalized_array, means, stds\n",
    "\n",
    "array = np.array(range(24), 'float').reshape((2,3,4))\n",
    "array[0, 0, 2:] = np.nan\n",
    "array[1, :, 0] = np.nan\n",
    "print(array)\n",
    "znorm_by_channel(array)\n"
   ]
  },
  {
   "cell_type": "code",
   "execution_count": 129,
   "metadata": {},
   "outputs": [
    {
     "ename": "NameError",
     "evalue": "name 'znorm_by_channel' is not defined",
     "output_type": "error",
     "traceback": [
      "\u001b[0;31m---------------------------------------------------------------------------\u001b[0m",
      "\u001b[0;31mNameError\u001b[0m                                 Traceback (most recent call last)",
      "\u001b[0;32m<ipython-input-129-60c19e7002ba>\u001b[0m in \u001b[0;36m<module>\u001b[0;34m\u001b[0m\n\u001b[1;32m      3\u001b[0m                [    8.,  9.,    10.,    11.]])\n\u001b[1;32m      4\u001b[0m \u001b[0ma\u001b[0m\u001b[0;34m.\u001b[0m\u001b[0mndim\u001b[0m\u001b[0;34m\u001b[0m\u001b[0;34m\u001b[0m\u001b[0m\n\u001b[0;32m----> 5\u001b[0;31m \u001b[0mznorm_by_channel\u001b[0m\u001b[0;34m(\u001b[0m\u001b[0ma\u001b[0m\u001b[0;34m)\u001b[0m\u001b[0;34m\u001b[0m\u001b[0;34m\u001b[0m\u001b[0m\n\u001b[0m",
      "\u001b[0;31mNameError\u001b[0m: name 'znorm_by_channel' is not defined"
     ]
    }
   ],
   "source": [
    "a = np.array([[    0.,  1., np.nan, np.nan],\n",
    "               [    4.,  5.,     6.,     7.],\n",
    "               [    8.,  9.,    10.,    11.]])\n",
    "a.ndim\n",
    "znorm_by_channel(a)"
   ]
  },
  {
   "cell_type": "markdown",
   "metadata": {},
   "source": [
    "### linear normalization\n"
   ]
  },
  {
   "cell_type": "code",
   "execution_count": 166,
   "metadata": {},
   "outputs": [
    {
     "name": "stdout",
     "output_type": "stream",
     "text": [
      "[[[ 0.  1.  2.  3.]\n",
      "  [ 4.  5.  6.  7.]\n",
      "  [ 8.  9. 10. 11.]]\n",
      "\n",
      " [[12. 13. 14. 15.]\n",
      "  [16. 17. 18. 19.]\n",
      "  [20. 21. 22. 23.]]\n",
      "\n",
      " [[24. 25. 26. 27.]\n",
      "  [28. 29. 30. 31.]\n",
      "  [32. nan 34. 35.]]]\n"
     ]
    },
    {
     "data": {
      "text/plain": [
       "array([[[0.        , 0.09090909, 0.18181819, 0.27272728],\n",
       "        [0.36363637, 0.45454547, 0.54545456, 0.6363636 ],\n",
       "        [0.72727275, 0.8181818 , 0.90909094, 1.        ]],\n",
       "\n",
       "       [[0.        , 0.09090909, 0.18181819, 0.27272728],\n",
       "        [0.36363637, 0.45454547, 0.54545456, 0.6363636 ],\n",
       "        [0.72727275, 0.8181818 , 0.90909094, 1.        ]],\n",
       "\n",
       "       [[0.        , 0.09090909, 0.18181819, 0.27272728],\n",
       "        [0.36363637, 0.45454547, 0.54545456, 0.6363636 ],\n",
       "        [0.72727275,        nan, 0.90909094, 1.        ]]], dtype=float32)"
      ]
     },
     "execution_count": 166,
     "metadata": {},
     "output_type": "execute_result"
    }
   ],
   "source": [
    "a = np.array(range(36), dtype='float32').reshape((3,3,4))\n",
    "a[2, 2:3, 1:2] = np.nan\n",
    "print(a)\n",
    "mx = np.nanmax(a, axis=(1,2)).reshape(a.shape[0],1,1)\n",
    "mn = np.nanmin(a, axis=(1,2)).reshape(a.shape[0],1,1)\n",
    "(a - mn)/(mx - mn)"
   ]
  },
  {
   "cell_type": "code",
   "execution_count": 149,
   "metadata": {},
   "outputs": [
    {
     "data": {
      "text/plain": [
       "array([0., 1., 2.])"
      ]
     },
     "execution_count": 149,
     "metadata": {},
     "output_type": "execute_result"
    }
   ],
   "source": [
    "np.arange(3.0)"
   ]
  },
  {
   "cell_type": "markdown",
   "metadata": {},
   "source": [
    "# channel_first to channel_last"
   ]
  },
  {
   "cell_type": "code",
   "execution_count": null,
   "metadata": {},
   "outputs": [],
   "source": [
    "a = np.array(range(24), 'float').reshape((2,3,4))\n",
    "print(a.shape)\n",
    "print(a)\n",
    "\n",
    "b = np.moveaxis(a, -1, 0)\n",
    "\n",
    "print(b)\n",
    "print(b.shape)"
   ]
  },
  {
   "cell_type": "code",
   "execution_count": null,
   "metadata": {},
   "outputs": [],
   "source": [
    "# check isin\n",
    "a = np.array(range(12))\n",
    "print(np.isin(a, [4,5]))\n",
    "print(np.isin(a, None))\n"
   ]
  },
  {
   "cell_type": "code",
   "execution_count": 13,
   "metadata": {},
   "outputs": [
    {
     "data": {
      "text/plain": [
       "2"
      ]
     },
     "execution_count": 13,
     "metadata": {},
     "output_type": "execute_result"
    }
   ],
   "source": [
    "a = np.array(range(12)).reshape((3,4))\n",
    "a.ndim"
   ]
  },
  {
   "cell_type": "code",
   "execution_count": 14,
   "metadata": {},
   "outputs": [
    {
     "data": {
      "text/plain": [
       "3"
      ]
     },
     "execution_count": 14,
     "metadata": {},
     "output_type": "execute_result"
    }
   ],
   "source": [
    "np.array([a]).ndim"
   ]
  },
  {
   "cell_type": "code",
   "execution_count": 16,
   "metadata": {},
   "outputs": [
    {
     "data": {
      "text/plain": [
       "array([[[ 0,  1,  2,  3],\n",
       "        [ 4,  5,  6,  7],\n",
       "        [ 8,  9, 10, 11]],\n",
       "\n",
       "       [[12, 13, 14, 15],\n",
       "        [16, 17, 18, 19],\n",
       "        [20, 21, 22, 23]]])"
      ]
     },
     "execution_count": 16,
     "metadata": {},
     "output_type": "execute_result"
    }
   ],
   "source": [
    "a = np.array(range(24)).reshape((2,3,4))\n",
    "a"
   ]
  },
  {
   "cell_type": "code",
   "execution_count": 18,
   "metadata": {},
   "outputs": [
    {
     "data": {
      "text/plain": [
       "array([[[0, 0, 0, 0],\n",
       "        [0, 0, 0, 0],\n",
       "        [0, 0, 0, 0]],\n",
       "\n",
       "       [[0, 0, 0, 0],\n",
       "        [0, 0, 0, 0],\n",
       "        [0, 0, 0, 0]]])"
      ]
     },
     "execution_count": 18,
     "metadata": {},
     "output_type": "execute_result"
    }
   ],
   "source": [
    "a[:] = 0\n",
    "a"
   ]
  }
 ],
 "metadata": {
  "kernelspec": {
   "display_name": "Python 3",
   "language": "python",
   "name": "python3"
  },
  "language_info": {
   "codemirror_mode": {
    "name": "ipython",
    "version": 3
   },
   "file_extension": ".py",
   "mimetype": "text/x-python",
   "name": "python",
   "nbconvert_exporter": "python",
   "pygments_lexer": "ipython3",
   "version": "3.8.6"
  }
 },
 "nbformat": 4,
 "nbformat_minor": 4
}
