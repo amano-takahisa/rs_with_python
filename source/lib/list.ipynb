{
 "cells": [
  {
   "cell_type": "markdown",
   "metadata": {},
   "source": [
    "# List: リスト型"
   ]
  },
  {
   "cell_type": "markdown",
   "metadata": {},
   "source": [
    "## 要素の追加"
   ]
  },
  {
   "cell_type": "code",
   "execution_count": 10,
   "metadata": {
    "execution": {
     "iopub.execute_input": "2020-11-24T10:44:37.686864Z",
     "iopub.status.busy": "2020-11-24T10:44:37.686630Z",
     "iopub.status.idle": "2020-11-24T10:44:37.691197Z",
     "shell.execute_reply": "2020-11-24T10:44:37.690607Z",
     "shell.execute_reply.started": "2020-11-24T10:44:37.686838Z"
    }
   },
   "outputs": [
    {
     "data": {
      "text/plain": [
       "['a', ['b', 'c']]"
      ]
     },
     "execution_count": 10,
     "metadata": {},
     "output_type": "execute_result"
    }
   ],
   "source": [
    "l = ['a']\n",
    "l.append(['b', 'c'])\n",
    "l"
   ]
  },
  {
   "cell_type": "code",
   "execution_count": 11,
   "metadata": {
    "execution": {
     "iopub.execute_input": "2020-11-24T10:44:37.804438Z",
     "iopub.status.busy": "2020-11-24T10:44:37.804205Z",
     "iopub.status.idle": "2020-11-24T10:44:37.809429Z",
     "shell.execute_reply": "2020-11-24T10:44:37.808725Z",
     "shell.execute_reply.started": "2020-11-24T10:44:37.804405Z"
    }
   },
   "outputs": [
    {
     "data": {
      "text/plain": [
       "['a', ['b', 'c'], ['d']]"
      ]
     },
     "execution_count": 11,
     "metadata": {},
     "output_type": "execute_result"
    }
   ],
   "source": [
    "l.append(['d'])\n",
    "l"
   ]
  },
  {
   "cell_type": "code",
   "execution_count": 12,
   "metadata": {
    "execution": {
     "iopub.execute_input": "2020-11-24T10:44:37.935569Z",
     "iopub.status.busy": "2020-11-24T10:44:37.935173Z",
     "iopub.status.idle": "2020-11-24T10:44:37.941721Z",
     "shell.execute_reply": "2020-11-24T10:44:37.940919Z",
     "shell.execute_reply.started": "2020-11-24T10:44:37.935519Z"
    }
   },
   "outputs": [
    {
     "data": {
      "text/plain": [
       "['a', 'b', 'c']"
      ]
     },
     "execution_count": 12,
     "metadata": {},
     "output_type": "execute_result"
    }
   ],
   "source": [
    "l = ['a']\n",
    "l.extend(['b', 'c'])\n",
    "l"
   ]
  },
  {
   "cell_type": "code",
   "execution_count": 13,
   "metadata": {
    "execution": {
     "iopub.execute_input": "2020-11-24T10:44:38.051214Z",
     "iopub.status.busy": "2020-11-24T10:44:38.050900Z",
     "iopub.status.idle": "2020-11-24T10:44:38.057936Z",
     "shell.execute_reply": "2020-11-24T10:44:38.056838Z",
     "shell.execute_reply.started": "2020-11-24T10:44:38.051180Z"
    }
   },
   "outputs": [
    {
     "data": {
      "text/plain": [
       "['a', 'a', 'a']"
      ]
     },
     "execution_count": 13,
     "metadata": {},
     "output_type": "execute_result"
    }
   ],
   "source": [
    "l = ['a']\n",
    "l * 3"
   ]
  },
  {
   "cell_type": "code",
   "execution_count": 14,
   "metadata": {
    "execution": {
     "iopub.execute_input": "2020-11-24T10:44:38.215426Z",
     "iopub.status.busy": "2020-11-24T10:44:38.215147Z",
     "iopub.status.idle": "2020-11-24T10:44:38.221397Z",
     "shell.execute_reply": "2020-11-24T10:44:38.220337Z",
     "shell.execute_reply.started": "2020-11-24T10:44:38.215388Z"
    }
   },
   "outputs": [
    {
     "data": {
      "text/plain": [
       "['a', 'd', 'e']"
      ]
     },
     "execution_count": 14,
     "metadata": {},
     "output_type": "execute_result"
    }
   ],
   "source": [
    "l + ['d', 'e']"
   ]
  },
  {
   "cell_type": "code",
   "execution_count": 15,
   "metadata": {
    "execution": {
     "iopub.execute_input": "2020-11-24T10:44:39.701204Z",
     "iopub.status.busy": "2020-11-24T10:44:39.700823Z",
     "iopub.status.idle": "2020-11-24T10:44:39.706554Z",
     "shell.execute_reply": "2020-11-24T10:44:39.705687Z",
     "shell.execute_reply.started": "2020-11-24T10:44:39.701161Z"
    }
   },
   "outputs": [
    {
     "data": {
      "text/plain": [
       "['a', 'a']"
      ]
     },
     "execution_count": 15,
     "metadata": {},
     "output_type": "execute_result"
    }
   ],
   "source": [
    "l.extend('a')\n",
    "l"
   ]
  },
  {
   "cell_type": "markdown",
   "metadata": {},
   "source": [
    "# 値の取得"
   ]
  },
  {
   "cell_type": "markdown",
   "metadata": {},
   "source": [
    "### 辞書のキーで取得"
   ]
  },
  {
   "cell_type": "code",
   "execution_count": 7,
   "metadata": {
    "execution": {
     "iopub.execute_input": "2020-10-20T12:23:19.592675Z",
     "iopub.status.busy": "2020-10-20T12:23:19.592343Z",
     "iopub.status.idle": "2020-10-20T12:23:19.599890Z",
     "shell.execute_reply": "2020-10-20T12:23:19.599107Z",
     "shell.execute_reply.started": "2020-10-20T12:23:19.592641Z"
    }
   },
   "outputs": [
    {
     "data": {
      "text/plain": [
       "[{'idx': 2, 'item': 'ccc'}]"
      ]
     },
     "execution_count": 7,
     "metadata": {},
     "output_type": "execute_result"
    }
   ],
   "source": [
    "l = [{'idx':0, 'item':'aaa'},\n",
    "     {'idx':1, 'item':'bbb'},\n",
    "     {'idx':2, 'item':'ccc'}]\n",
    "\n",
    "[i for i in l if i.get('idx') == 2]"
   ]
  },
  {
   "cell_type": "code",
   "execution_count": null,
   "metadata": {},
   "outputs": [],
   "source": [
    "l = [{'idx':0, 'item':'aaa'},\n",
    "     {'idx':1, 'item':'bbb'},\n",
    "     {'idx':2, 'item':'ccc'}]\n",
    "l."
   ]
  },
  {
   "cell_type": "markdown",
   "metadata": {},
   "source": [
    "## 削除"
   ]
  },
  {
   "cell_type": "markdown",
   "metadata": {},
   "source": [
    "## 一致するアイテムの削除"
   ]
  },
  {
   "cell_type": "code",
   "execution_count": 1,
   "metadata": {},
   "outputs": [
    {
     "data": {
      "text/plain": [
       "['a', 'b', 'c', 'd']"
      ]
     },
     "execution_count": 1,
     "metadata": {},
     "output_type": "execute_result"
    }
   ],
   "source": [
    "l = ['a', 'b', 'b', 'c', 'd']\n",
    "l.remove('b')\n",
    "l"
   ]
  },
  {
   "cell_type": "code",
   "execution_count": 4,
   "metadata": {},
   "outputs": [
    {
     "data": {
      "text/plain": [
       "['a', 'c']"
      ]
     },
     "execution_count": 4,
     "metadata": {},
     "output_type": "execute_result"
    }
   ],
   "source": [
    "l = ['a', 'b', 'b', 'c', 'd']\n",
    "items_remove = ['b','d']\n",
    "[item for item in l if item not in items_remove]"
   ]
  },
  {
   "cell_type": "markdown",
   "metadata": {},
   "source": [
    "### 辞書のキーで削除"
   ]
  },
  {
   "cell_type": "code",
   "execution_count": 4,
   "metadata": {
    "execution": {
     "iopub.execute_input": "2020-10-20T12:21:34.455035Z",
     "iopub.status.busy": "2020-10-20T12:21:34.454710Z",
     "iopub.status.idle": "2020-10-20T12:21:34.461678Z",
     "shell.execute_reply": "2020-10-20T12:21:34.460698Z",
     "shell.execute_reply.started": "2020-10-20T12:21:34.455007Z"
    }
   },
   "outputs": [
    {
     "data": {
      "text/plain": [
       "[{'idx': 0, 'item': 'aaa'}, {'idx': 2, 'item': 'ccc'}]"
      ]
     },
     "execution_count": 4,
     "metadata": {},
     "output_type": "execute_result"
    }
   ],
   "source": [
    "l = [{'idx':0, 'item':'aaa'},\n",
    "     {'idx':1, 'item':'bbb'},\n",
    "     {'idx':2, 'item':'ccc'}]\n",
    "l = [i for i in l if i['idx']!=1]\n",
    "l"
   ]
  },
  {
   "cell_type": "markdown",
   "metadata": {},
   "source": [
    "### pop"
   ]
  },
  {
   "cell_type": "code",
   "execution_count": 30,
   "metadata": {
    "execution": {
     "iopub.execute_input": "2020-11-17T21:46:59.299215Z",
     "iopub.status.busy": "2020-11-17T21:46:59.298805Z",
     "iopub.status.idle": "2020-11-17T21:46:59.306874Z",
     "shell.execute_reply": "2020-11-17T21:46:59.306043Z",
     "shell.execute_reply.started": "2020-11-17T21:46:59.299163Z"
    }
   },
   "outputs": [
    {
     "name": "stdout",
     "output_type": "stream",
     "text": [
      "d\n",
      "c\n",
      "['a', 'b', 'b']\n"
     ]
    }
   ],
   "source": [
    "l = ['a', 'b', 'b', 'c', 'd']\n",
    "print(l.pop(0))\n",
    "print(l.pop())\n",
    "print(l)"
   ]
  },
  {
   "cell_type": "markdown",
   "metadata": {},
   "source": [
    "## ソート"
   ]
  },
  {
   "cell_type": "code",
   "execution_count": 5,
   "metadata": {},
   "outputs": [
    {
     "data": {
      "text/plain": [
       "['1', '2', '3', '7', '10']"
      ]
     },
     "execution_count": 5,
     "metadata": {},
     "output_type": "execute_result"
    }
   ],
   "source": [
    "# 文字列\n",
    "l = ['1','10','2','7','3']\n",
    "l.sort(key=int)\n",
    "l"
   ]
  },
  {
   "cell_type": "code",
   "execution_count": 13,
   "metadata": {},
   "outputs": [
    {
     "data": {
      "text/plain": [
       "[{'idx': 0, 'item': 'aaa'},\n",
       " {'idx': 1, 'item': 'bbb'},\n",
       " {'idx': 2, 'item': 'ccc'}]"
      ]
     },
     "execution_count": 13,
     "metadata": {},
     "output_type": "execute_result"
    }
   ],
   "source": [
    "# 辞書\n",
    "l = [{'idx':0, 'item':'aaa'},\n",
    "     {'idx':2, 'item':'ccc'},\n",
    "     {'idx':1, 'item':'bbb'}]\n",
    "l = sorted(l, key=lambda k: k['idx'])\n",
    "l"
   ]
  },
  {
   "cell_type": "code",
   "execution_count": 18,
   "metadata": {},
   "outputs": [
    {
     "data": {
      "text/plain": [
       "[{'idx': '0', 'item': 'aaa'},\n",
       " {'idx': '5', 'item': 'bbb'},\n",
       " {'idx': '10', 'item': 'ccc'}]"
      ]
     },
     "execution_count": 18,
     "metadata": {},
     "output_type": "execute_result"
    }
   ],
   "source": [
    "# 辞書\n",
    "l = [{'idx':'0', 'item':'aaa'},\n",
    "     {'idx':'10', 'item':'ccc'},\n",
    "     {'idx':'5', 'item':'bbb'}]\n",
    "l = sorted(l, key=lambda k: int(k['idx']))\n",
    "l"
   ]
  },
  {
   "cell_type": "markdown",
   "metadata": {},
   "source": [
    "## 変換"
   ]
  },
  {
   "cell_type": "markdown",
   "metadata": {},
   "source": [
    "### リストから辞書"
   ]
  },
  {
   "cell_type": "code",
   "execution_count": 32,
   "metadata": {},
   "outputs": [
    {
     "data": {
      "text/plain": [
       "[{'alphabet': 'aaa', 'number': 0, 'constant': 'xxx'},\n",
       " {'alphabet': 'bbb', 'number': 1, 'constant': 'xxx'},\n",
       " {'alphabet': 'ccc', 'number': 2, 'constant': 'xxx'}]"
      ]
     },
     "execution_count": 32,
     "metadata": {},
     "output_type": "execute_result"
    }
   ],
   "source": [
    "# Use zip\n",
    "alphabets = ['aaa', 'bbb', 'ccc']\n",
    "numbers = [0,1,2]\n",
    "constant = 'xxx'\n",
    "[{'alphabet':alphabet, 'number':number, 'constant':constant}\n",
    " for alphabet, number in zip(alphabets, numbers)]"
   ]
  },
  {
   "cell_type": "code",
   "execution_count": 47,
   "metadata": {},
   "outputs": [
    {
     "data": {
      "text/plain": [
       "[{'alphabets': 'aaa', 'numbers': 0, 'constant': 'xxx'},\n",
       " {'alphabets': 'bbb', 'numbers': 1, 'constant': 'xxx'},\n",
       " {'alphabets': 'ccc', 'numbers': 2, 'constant': 'xxx'}]"
      ]
     },
     "execution_count": 47,
     "metadata": {},
     "output_type": "execute_result"
    }
   ],
   "source": [
    "# use pandas DataFrame\n",
    "import pandas as pd\n",
    "df = pd.DataFrame({'alphabets':alphabets,\n",
    "                   'numbers':numbers,\n",
    "                   'constant':constant})\n",
    "df.to_dict('records')"
   ]
  },
  {
   "cell_type": "markdown",
   "metadata": {},
   "source": [
    "## 分割"
   ]
  },
  {
   "cell_type": "code",
   "execution_count": 12,
   "metadata": {
    "execution": {
     "iopub.execute_input": "2020-11-17T10:03:41.939309Z",
     "iopub.status.busy": "2020-11-17T10:03:41.939066Z",
     "iopub.status.idle": "2020-11-17T10:03:41.942925Z",
     "shell.execute_reply": "2020-11-17T10:03:41.942140Z",
     "shell.execute_reply.started": "2020-11-17T10:03:41.939282Z"
    }
   },
   "outputs": [],
   "source": [
    "\n",
    "l_split = np.array_split(l, 2)\n",
    "# print(list(chunks(a, 4)))"
   ]
  },
  {
   "cell_type": "code",
   "execution_count": 25,
   "metadata": {
    "execution": {
     "iopub.execute_input": "2020-11-17T16:30:21.681951Z",
     "iopub.status.busy": "2020-11-17T16:30:21.681610Z",
     "iopub.status.idle": "2020-11-17T16:30:21.690934Z",
     "shell.execute_reply": "2020-11-17T16:30:21.689402Z",
     "shell.execute_reply.started": "2020-11-17T16:30:21.681916Z"
    }
   },
   "outputs": [
    {
     "name": "stdout",
     "output_type": "stream",
     "text": [
      "[['a'], ['b'], ['c'], ['d'], ['e'], ['f'], ['g'], ['h'], ['i'], ['j'], ['k']]\n"
     ]
    }
   ],
   "source": [
    "import numpy as np\n",
    "l = ['a', 'b', 'c', 'd', 'e', 'f', 'g',\n",
    "     'h', 'i', 'j', 'k']\n",
    "def split_list(data, n):\n",
    "    return [list(item)for item in np.array_split(data, n) if len(item) > 0]\n",
    "import pprint\n",
    "print(split_list(l, 20))"
   ]
  }
 ],
 "metadata": {
  "kernelspec": {
   "display_name": "Python 3",
   "language": "python",
   "name": "python3"
  },
  "language_info": {
   "codemirror_mode": {
    "name": "ipython",
    "version": 3
   },
   "file_extension": ".py",
   "mimetype": "text/x-python",
   "name": "python",
   "nbconvert_exporter": "python",
   "pygments_lexer": "ipython3",
   "version": "3.8.6"
  },
  "toc-autonumbering": true
 },
 "nbformat": 4,
 "nbformat_minor": 4
}
