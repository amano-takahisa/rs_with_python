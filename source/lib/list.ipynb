{
 "cells": [
  {
   "cell_type": "markdown",
   "metadata": {},
   "source": [
    "# List: リスト型"
   ]
  },
  {
   "cell_type": "code",
   "execution_count": 3,
   "metadata": {},
   "outputs": [
    {
     "data": {
      "text/plain": [
       "['a', ['b', 'c']]"
      ]
     },
     "execution_count": 3,
     "metadata": {},
     "output_type": "execute_result"
    }
   ],
   "source": [
    "l = ['a']\n",
    "l.append(['b', 'c'])\n",
    "l"
   ]
  },
  {
   "cell_type": "code",
   "execution_count": 6,
   "metadata": {},
   "outputs": [
    {
     "data": {
      "text/plain": [
       "['a', 'b', 'c']"
      ]
     },
     "execution_count": 6,
     "metadata": {},
     "output_type": "execute_result"
    }
   ],
   "source": [
    "l = ['a']\n",
    "l.extend(['b', 'c'])\n",
    "l"
   ]
  },
  {
   "cell_type": "markdown",
   "metadata": {},
   "source": [
    "## ソート"
   ]
  },
  {
   "cell_type": "code",
   "execution_count": 5,
   "metadata": {},
   "outputs": [
    {
     "data": {
      "text/plain": [
       "['1', '2', '3', '7', '10']"
      ]
     },
     "execution_count": 5,
     "metadata": {},
     "output_type": "execute_result"
    }
   ],
   "source": [
    "# 文字列\n",
    "l = ['1','10','2','7','3']\n",
    "l.sort(key=int)\n",
    "l"
   ]
  },
  {
   "cell_type": "code",
   "execution_count": 13,
   "metadata": {},
   "outputs": [
    {
     "data": {
      "text/plain": [
       "[{'idx': 0, 'item': 'aaa'},\n",
       " {'idx': 1, 'item': 'bbb'},\n",
       " {'idx': 2, 'item': 'ccc'}]"
      ]
     },
     "execution_count": 13,
     "metadata": {},
     "output_type": "execute_result"
    }
   ],
   "source": [
    "# 辞書\n",
    "l = [{'idx':0, 'item':'aaa'},\n",
    "     {'idx':2, 'item':'ccc'},\n",
    "     {'idx':1, 'item':'bbb'}]\n",
    "l = sorted(l, key=lambda k: k['idx'])\n",
    "l"
   ]
  },
  {
   "cell_type": "code",
   "execution_count": 18,
   "metadata": {},
   "outputs": [
    {
     "data": {
      "text/plain": [
       "[{'idx': '0', 'item': 'aaa'},\n",
       " {'idx': '5', 'item': 'bbb'},\n",
       " {'idx': '10', 'item': 'ccc'}]"
      ]
     },
     "execution_count": 18,
     "metadata": {},
     "output_type": "execute_result"
    }
   ],
   "source": [
    "# 辞書\n",
    "l = [{'idx':'0', 'item':'aaa'},\n",
    "     {'idx':'10', 'item':'ccc'},\n",
    "     {'idx':'5', 'item':'bbb'}]\n",
    "l = sorted(l, key=lambda k: int(k['idx']))\n",
    "l"
   ]
  },
  {
   "cell_type": "markdown",
   "metadata": {},
   "source": [
    "## 削除"
   ]
  },
  {
   "cell_type": "code",
   "execution_count": 29,
   "metadata": {},
   "outputs": [
    {
     "data": {
      "text/plain": [
       "[{'idx': 0, 'item': 'aaa'}, {'idx': 2, 'item': 'ccc'}]"
      ]
     },
     "execution_count": 29,
     "metadata": {},
     "output_type": "execute_result"
    }
   ],
   "source": [
    "l = [{'idx':0, 'item':'aaa'},\n",
    "     {'idx':1, 'item':'bbb'},\n",
    "     {'idx':2, 'item':'ccc'}]\n",
    "l = [i for i in l if i['idx']!=1]\n",
    "l"
   ]
  },
  {
   "cell_type": "markdown",
   "metadata": {},
   "source": [
    "## 変換"
   ]
  },
  {
   "cell_type": "markdown",
   "metadata": {},
   "source": [
    "### リストから辞書"
   ]
  },
  {
   "cell_type": "code",
   "execution_count": 32,
   "metadata": {},
   "outputs": [
    {
     "data": {
      "text/plain": [
       "[{'alphabet': 'aaa', 'number': 0, 'constant': 'xxx'},\n",
       " {'alphabet': 'bbb', 'number': 1, 'constant': 'xxx'},\n",
       " {'alphabet': 'ccc', 'number': 2, 'constant': 'xxx'}]"
      ]
     },
     "execution_count": 32,
     "metadata": {},
     "output_type": "execute_result"
    }
   ],
   "source": [
    "# Use zip\n",
    "alphabets = ['aaa', 'bbb', 'ccc']\n",
    "numbers = [0,1,2]\n",
    "constant = 'xxx'\n",
    "[{'alphabet':alphabet, 'number':number, 'constant':constant}\n",
    " for alphabet, number in zip(alphabets, numbers)]"
   ]
  },
  {
   "cell_type": "code",
   "execution_count": 47,
   "metadata": {},
   "outputs": [
    {
     "data": {
      "text/plain": [
       "[{'alphabets': 'aaa', 'numbers': 0, 'constant': 'xxx'},\n",
       " {'alphabets': 'bbb', 'numbers': 1, 'constant': 'xxx'},\n",
       " {'alphabets': 'ccc', 'numbers': 2, 'constant': 'xxx'}]"
      ]
     },
     "execution_count": 47,
     "metadata": {},
     "output_type": "execute_result"
    }
   ],
   "source": [
    "# use pandas DataFrame\n",
    "import pandas as pd\n",
    "df = pd.DataFrame({'alphabets':alphabets,\n",
    "                   'numbers':numbers,\n",
    "                   'constant':constant})\n",
    "df.to_dict('records')"
   ]
  }
 ],
 "metadata": {
  "kernelspec": {
   "display_name": "Python 3",
   "language": "python",
   "name": "python3"
  },
  "language_info": {
   "codemirror_mode": {
    "name": "ipython",
    "version": 3
   },
   "file_extension": ".py",
   "mimetype": "text/x-python",
   "name": "python",
   "nbconvert_exporter": "python",
   "pygments_lexer": "ipython3",
   "version": "3.8.6"
  }
 },
 "nbformat": 4,
 "nbformat_minor": 4
}
