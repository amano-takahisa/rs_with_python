{
 "cells": [
  {
   "cell_type": "markdown",
   "metadata": {},
   "source": [
    "# ランダム"
   ]
  },
  {
   "cell_type": "code",
   "execution_count": 1,
   "metadata": {
    "execution": {
     "iopub.execute_input": "2020-11-17T21:31:14.775545Z",
     "iopub.status.busy": "2020-11-17T21:31:14.775088Z",
     "iopub.status.idle": "2020-11-17T21:31:14.782936Z",
     "shell.execute_reply": "2020-11-17T21:31:14.782240Z",
     "shell.execute_reply.started": "2020-11-17T21:31:14.775430Z"
    }
   },
   "outputs": [],
   "source": [
    "import random"
   ]
  },
  {
   "cell_type": "code",
   "execution_count": 15,
   "metadata": {
    "execution": {
     "iopub.execute_input": "2020-11-17T21:31:51.963885Z",
     "iopub.status.busy": "2020-11-17T21:31:51.963565Z",
     "iopub.status.idle": "2020-11-17T21:31:51.969500Z",
     "shell.execute_reply": "2020-11-17T21:31:51.968816Z",
     "shell.execute_reply.started": "2020-11-17T21:31:51.963845Z"
    }
   },
   "outputs": [
    {
     "data": {
      "text/plain": [
       "7"
      ]
     },
     "execution_count": 15,
     "metadata": {},
     "output_type": "execute_result"
    }
   ],
   "source": [
    "random.randint(0,9)"
   ]
  }
 ],
 "metadata": {
  "kernelspec": {
   "display_name": "Python 3",
   "language": "python",
   "name": "python3"
  },
  "language_info": {
   "codemirror_mode": {
    "name": "ipython",
    "version": 3
   },
   "file_extension": ".py",
   "mimetype": "text/x-python",
   "name": "python",
   "nbconvert_exporter": "python",
   "pygments_lexer": "ipython3",
   "version": "3.8.6"
  }
 },
 "nbformat": 4,
 "nbformat_minor": 4
}
