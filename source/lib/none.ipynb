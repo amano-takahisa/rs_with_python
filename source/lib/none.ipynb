{
 "cells": [
  {
   "cell_type": "markdown",
   "metadata": {},
   "source": [
    "# None"
   ]
  },
  {
   "cell_type": "code",
   "execution_count": 7,
   "metadata": {
    "execution": {
     "iopub.execute_input": "2020-11-11T13:11:15.767159Z",
     "iopub.status.busy": "2020-11-11T13:11:15.766866Z",
     "iopub.status.idle": "2020-11-11T13:11:15.772402Z",
     "shell.execute_reply": "2020-11-11T13:11:15.771371Z",
     "shell.execute_reply.started": "2020-11-11T13:11:15.767123Z"
    }
   },
   "outputs": [
    {
     "name": "stdout",
     "output_type": "stream",
     "text": [
      "<class 'NoneType'>\n",
      "a is None\n"
     ]
    }
   ],
   "source": [
    "a = None\n",
    "print(type(a))\n",
    "\n",
    "if isinstance(a, str):\n",
    "    print('a is str')\n",
    "elif a is None:\n",
    "    print('a is None')"
   ]
  },
  {
   "cell_type": "code",
   "execution_count": null,
   "metadata": {},
   "outputs": [],
   "source": []
  }
 ],
 "metadata": {
  "kernelspec": {
   "display_name": "Python 3",
   "language": "python",
   "name": "python3"
  },
  "language_info": {
   "codemirror_mode": {
    "name": "ipython",
    "version": 3
   },
   "file_extension": ".py",
   "mimetype": "text/x-python",
   "name": "python",
   "nbconvert_exporter": "python",
   "pygments_lexer": "ipython3",
   "version": "3.8.6"
  }
 },
 "nbformat": 4,
 "nbformat_minor": 4
}
