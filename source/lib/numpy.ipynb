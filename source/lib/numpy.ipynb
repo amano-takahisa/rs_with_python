{
 "cells": [
  {
   "cell_type": "markdown",
   "metadata": {},
   "source": [
    "# Numpy\n",
    "- [Official Documents: numpy.org](https://numpy.org/doc/stable/reference/index.html)\n",
    "- [repository: github.com](https://github.com/numpy/numpy)"
   ]
  },
  {
   "cell_type": "code",
   "execution_count": 2,
   "metadata": {
    "execution": {
     "iopub.execute_input": "2020-11-20T12:16:38.120319Z",
     "iopub.status.busy": "2020-11-20T12:16:38.120081Z",
     "iopub.status.idle": "2020-11-20T12:16:39.116953Z",
     "shell.execute_reply": "2020-11-20T12:16:39.116280Z",
     "shell.execute_reply.started": "2020-11-20T12:16:38.120293Z"
    }
   },
   "outputs": [],
   "source": [
    "import numpy as np"
   ]
  },
  {
   "cell_type": "markdown",
   "metadata": {},
   "source": [
    "## Replacement"
   ]
  },
  {
   "cell_type": "code",
   "execution_count": 2,
   "metadata": {
    "execution": {
     "iopub.execute_input": "2020-11-11T16:00:54.207751Z",
     "iopub.status.busy": "2020-11-11T16:00:54.207407Z",
     "iopub.status.idle": "2020-11-11T16:00:54.215200Z",
     "shell.execute_reply": "2020-11-11T16:00:54.214429Z",
     "shell.execute_reply.started": "2020-11-11T16:00:54.207710Z"
    }
   },
   "outputs": [
    {
     "name": "stdout",
     "output_type": "stream",
     "text": [
      "[[[ 0.  1.  2.  3.  4.  5.  6.  7.]\n",
      "  [ 8.  9. 10. 11. 12. 13. 14. 15.]\n",
      "  [16. 17. 18. nan nan nan 22. 23.]\n",
      "  [24. 25. 26. nan nan nan 30. 31.]\n",
      "  [32. 33. 34. 35. 36. 37. 38. 39.]]]\n"
     ]
    }
   ],
   "source": [
    "a = np.array(range(40), 'float').reshape((1,5,8))\n",
    "a[0,2:4, 3:6] = np.nan\n",
    "print(a)"
   ]
  },
  {
   "cell_type": "code",
   "execution_count": 6,
   "metadata": {
    "execution": {
     "iopub.execute_input": "2020-10-29T15:30:20.719633Z",
     "iopub.status.busy": "2020-10-29T15:30:20.719398Z",
     "iopub.status.idle": "2020-10-29T15:30:20.724381Z",
     "shell.execute_reply": "2020-10-29T15:30:20.723542Z",
     "shell.execute_reply.started": "2020-10-29T15:30:20.719610Z"
    }
   },
   "outputs": [
    {
     "data": {
      "text/plain": [
       "slice(0, (2, 4), (3, 6))"
      ]
     },
     "execution_count": 6,
     "metadata": {},
     "output_type": "execute_result"
    }
   ],
   "source": []
  },
  {
   "cell_type": "code",
   "execution_count": 25,
   "metadata": {
    "execution": {
     "iopub.execute_input": "2020-10-29T15:38:17.878835Z",
     "iopub.status.busy": "2020-10-29T15:38:17.878533Z",
     "iopub.status.idle": "2020-10-29T15:38:17.887745Z",
     "shell.execute_reply": "2020-10-29T15:38:17.886344Z",
     "shell.execute_reply.started": "2020-10-29T15:38:17.878806Z"
    }
   },
   "outputs": [
    {
     "name": "stdout",
     "output_type": "stream",
     "text": [
      "[[[ 0.  1.  2.  3.  4.  5.  6.  7.]\n",
      "  [ 8.  9. 10. 11. 12. 13. 14. 15.]\n",
      "  [16. 17. 18. 19. 20. 21. 22. 23.]\n",
      "  [24. 25. 26. 27. 28. 29. 30. 31.]\n",
      "  [32. 33. 34. 35. 36. 37. 38. 39.]]]\n",
      "[[19. 20. 21.]\n",
      " [27. 28. 29.]]\n"
     ]
    }
   ],
   "source": [
    "a = np.array(range(40), 'float').reshape((1,5,8))\n",
    "print(a)\n",
    "my_slice1 = slice(None, None, None)\n",
    "my_slice2 = slice(2, 4, None)\n",
    "my_slice3 = slice(3, 6, None)\n",
    "print(a[0, my_slice2, my_slice3])\n"
   ]
  },
  {
   "cell_type": "code",
   "execution_count": 5,
   "metadata": {
    "execution": {
     "iopub.execute_input": "2020-10-27T09:54:22.818190Z",
     "iopub.status.busy": "2020-10-27T09:54:22.817536Z",
     "iopub.status.idle": "2020-10-27T09:54:23.015471Z",
     "shell.execute_reply": "2020-10-27T09:54:23.014535Z",
     "shell.execute_reply.started": "2020-10-27T09:54:22.818121Z"
    }
   },
   "outputs": [
    {
     "name": "stdout",
     "output_type": "stream",
     "text": [
      "[[[ 0  1  2  3]\n",
      "  [ 4  5  6  7]\n",
      "  [ 8  9 10 11]]\n",
      "\n",
      " [[12 13 14 15]\n",
      "  [16 17 18 19]\n",
      "  [20 21 22 23]]]\n"
     ]
    }
   ],
   "source": [
    "a = np.array(range(24)).reshape((2,3,4))\n",
    "print(a)"
   ]
  },
  {
   "cell_type": "code",
   "execution_count": 6,
   "metadata": {
    "execution": {
     "iopub.execute_input": "2020-10-27T09:54:23.016862Z",
     "iopub.status.busy": "2020-10-27T09:54:23.016565Z",
     "iopub.status.idle": "2020-10-27T09:54:23.189293Z",
     "shell.execute_reply": "2020-10-27T09:54:23.188245Z",
     "shell.execute_reply.started": "2020-10-27T09:54:23.016835Z"
    }
   },
   "outputs": [],
   "source": [
    "a_target = []\n",
    "for idx, ai in enumerate(a):\n",
    "    a_target.append(ai)"
   ]
  },
  {
   "cell_type": "code",
   "execution_count": 7,
   "metadata": {
    "execution": {
     "iopub.execute_input": "2020-10-27T09:54:23.191193Z",
     "iopub.status.busy": "2020-10-27T09:54:23.190763Z",
     "iopub.status.idle": "2020-10-27T09:54:23.414678Z",
     "shell.execute_reply": "2020-10-27T09:54:23.413834Z",
     "shell.execute_reply.started": "2020-10-27T09:54:23.191144Z"
    }
   },
   "outputs": [
    {
     "data": {
      "text/plain": [
       "array([[[ 0,  1,  2,  3],\n",
       "        [ 4,  5,  6,  7],\n",
       "        [ 8,  9, 10, 11]],\n",
       "\n",
       "       [[12, 13, 14, 15],\n",
       "        [16, 17, 18, 19],\n",
       "        [20, 21, 22, 23]]])"
      ]
     },
     "execution_count": 7,
     "metadata": {},
     "output_type": "execute_result"
    }
   ],
   "source": [
    "np.array(a_target)"
   ]
  },
  {
   "cell_type": "code",
   "execution_count": 8,
   "metadata": {
    "execution": {
     "iopub.execute_input": "2020-10-27T09:54:23.416381Z",
     "iopub.status.busy": "2020-10-27T09:54:23.415982Z",
     "iopub.status.idle": "2020-10-27T09:54:23.548060Z",
     "shell.execute_reply": "2020-10-27T09:54:23.547267Z",
     "shell.execute_reply.started": "2020-10-27T09:54:23.416344Z"
    }
   },
   "outputs": [
    {
     "data": {
      "text/plain": [
       "array([[[-9223372036854775808, -9223372036854775808,\n",
       "         -9223372036854775808, -9223372036854775808],\n",
       "        [-9223372036854775808, -9223372036854775808,\n",
       "         -9223372036854775808, -9223372036854775808],\n",
       "        [-9223372036854775808, -9223372036854775808,\n",
       "         -9223372036854775808, -9223372036854775808]],\n",
       "\n",
       "       [[-9223372036854775808, -9223372036854775808,\n",
       "         -9223372036854775808, -9223372036854775808],\n",
       "        [-9223372036854775808, -9223372036854775808,\n",
       "         -9223372036854775808, -9223372036854775808],\n",
       "        [-9223372036854775808, -9223372036854775808,\n",
       "         -9223372036854775808, -9223372036854775808]]])"
      ]
     },
     "execution_count": 8,
     "metadata": {},
     "output_type": "execute_result"
    }
   ],
   "source": [
    "# replace all value\n",
    "a[:] = np.nan\n",
    "a"
   ]
  },
  {
   "cell_type": "code",
   "execution_count": 9,
   "metadata": {
    "execution": {
     "iopub.execute_input": "2020-10-27T09:54:23.551778Z",
     "iopub.status.busy": "2020-10-27T09:54:23.551156Z",
     "iopub.status.idle": "2020-10-27T09:54:23.728496Z",
     "shell.execute_reply": "2020-10-27T09:54:23.727089Z",
     "shell.execute_reply.started": "2020-10-27T09:54:23.551728Z"
    }
   },
   "outputs": [
    {
     "data": {
      "text/plain": [
       "array([[[ 0.,  1.,  2.,  3.,  4.],\n",
       "        [ 5.,  6.,  7.,  8.,  9.],\n",
       "        [nan, 11., 12., 13., 14.],\n",
       "        [15., 16., 17., 18., 19.]],\n",
       "\n",
       "       [[20., 21., 22., 23., 24.],\n",
       "        [25., 26., 27., 28., 29.],\n",
       "        [30., 31., nan, 33., 34.],\n",
       "        [35., 36., 37., 38., 39.]]])"
      ]
     },
     "execution_count": 9,
     "metadata": {},
     "output_type": "execute_result"
    }
   ],
   "source": [
    "# replace specific value\n",
    "a = np.array(range(40), 'float').reshape((2,4,5))\n",
    "a[(a == 10) | (a == 32)] = np.nan\n",
    "a"
   ]
  },
  {
   "cell_type": "code",
   "execution_count": 10,
   "metadata": {
    "execution": {
     "iopub.execute_input": "2020-10-27T09:54:23.730993Z",
     "iopub.status.busy": "2020-10-27T09:54:23.730452Z",
     "iopub.status.idle": "2020-10-27T09:54:24.037247Z",
     "shell.execute_reply": "2020-10-27T09:54:24.036542Z",
     "shell.execute_reply.started": "2020-10-27T09:54:23.730921Z"
    }
   },
   "outputs": [
    {
     "name": "stdout",
     "output_type": "stream",
     "text": [
      "[[ 0.  1.  2.  3.]\n",
      " [ 4.  5. nan nan]\n",
      " [ 8.  9. nan nan]\n",
      " [12. 13. 14. 15.]\n",
      " [16. 17. 18. 19.]]\n",
      "[100, 101, 102, 103]\n",
      "[[  0.   1.   2.   3.]\n",
      " [  4.   5. 102. 103.]\n",
      " [  8.   9. 102. 103.]\n",
      " [ 12.  13.  14.  15.]\n",
      " [ 16.  17.  18.  19.]]\n"
     ]
    }
   ],
   "source": [
    "# replace nan value with clumn wise different value\n",
    "# https://stackoverflow.com/a/18689440/\n",
    "a = np.array(range(20), 'float').reshape((5,4))\n",
    "a[1:3, 2:4] = np.nan\n",
    "print(a)\n",
    "replace_values = [100, 101, 102, 103]\n",
    "print(replace_values)\n",
    "idxs = np.where(np.isnan(a))\n",
    "a[idxs] = np.take(replace_values, idxs[1])\n",
    "print(a)"
   ]
  },
  {
   "cell_type": "markdown",
   "metadata": {},
   "source": [
    "## Append"
   ]
  },
  {
   "cell_type": "code",
   "execution_count": 11,
   "metadata": {
    "execution": {
     "iopub.execute_input": "2020-10-27T09:54:24.038355Z",
     "iopub.status.busy": "2020-10-27T09:54:24.038118Z",
     "iopub.status.idle": "2020-10-27T09:54:24.209193Z",
     "shell.execute_reply": "2020-10-27T09:54:24.207553Z",
     "shell.execute_reply.started": "2020-10-27T09:54:24.038330Z"
    }
   },
   "outputs": [
    {
     "name": "stdout",
     "output_type": "stream",
     "text": [
      "[array([[ 0,  1,  2,  3],\n",
      "       [ 4,  5,  6,  7],\n",
      "       [ 8,  9, 10, 11]])]\n",
      "[array([[ 0,  1,  2,  3],\n",
      "       [ 4,  5,  6,  7],\n",
      "       [ 8,  9, 10, 11]]), array([[100, 101, 102, 103],\n",
      "       [104, 105, 106, 107],\n",
      "       [108, 109, 110, 111]])]\n",
      "(2, 3, 4)\n"
     ]
    }
   ],
   "source": [
    "a_0 = []\n",
    "a_1 = np.array(range(12)).reshape((3,4))\n",
    "a_0.append(a_1)\n",
    "print(a_0)\n",
    "a_2 = np.array(range(100,112)).reshape((3,4))\n",
    "a_0.append(a_2)\n",
    "print(a_0)\n",
    "print(np.array(a_0).shape)"
   ]
  },
  {
   "cell_type": "markdown",
   "metadata": {},
   "source": [
    "## Listへの変換 "
   ]
  },
  {
   "cell_type": "code",
   "execution_count": 12,
   "metadata": {
    "execution": {
     "iopub.execute_input": "2020-10-27T09:54:25.421682Z",
     "iopub.status.busy": "2020-10-27T09:54:25.421223Z",
     "iopub.status.idle": "2020-10-27T09:54:25.428119Z",
     "shell.execute_reply": "2020-10-27T09:54:25.427192Z",
     "shell.execute_reply.started": "2020-10-27T09:54:25.421642Z"
    }
   },
   "outputs": [
    {
     "data": {
      "text/plain": [
       "[0, 1, 2, 3, 4, 5, 6, 7, 8, 9]"
      ]
     },
     "execution_count": 12,
     "metadata": {},
     "output_type": "execute_result"
    }
   ],
   "source": [
    "a = np.array(range(10))\n",
    "list(a)"
   ]
  },
  {
   "cell_type": "markdown",
   "metadata": {},
   "source": [
    "## where"
   ]
  },
  {
   "cell_type": "markdown",
   "metadata": {},
   "source": [
    "## Dilation"
   ]
  },
  {
   "cell_type": "code",
   "execution_count": 68,
   "metadata": {
    "execution": {
     "iopub.execute_input": "2020-11-13T08:42:11.811324Z",
     "iopub.status.busy": "2020-11-13T08:42:11.811080Z",
     "iopub.status.idle": "2020-11-13T08:42:11.814396Z",
     "shell.execute_reply": "2020-11-13T08:42:11.813683Z",
     "shell.execute_reply.started": "2020-11-13T08:42:11.811297Z"
    }
   },
   "outputs": [],
   "source": [
    "from scipy.ndimage import binary_dilation, binary_erosion, generate_binary_structure, iterate_structure"
   ]
  },
  {
   "cell_type": "code",
   "execution_count": 69,
   "metadata": {
    "execution": {
     "iopub.execute_input": "2020-11-13T08:42:17.465714Z",
     "iopub.status.busy": "2020-11-13T08:42:17.465459Z",
     "iopub.status.idle": "2020-11-13T08:42:17.470231Z",
     "shell.execute_reply": "2020-11-13T08:42:17.469425Z",
     "shell.execute_reply.started": "2020-11-13T08:42:17.465688Z"
    }
   },
   "outputs": [
    {
     "name": "stdout",
     "output_type": "stream",
     "text": [
      "[[[False False False False False False False False False False False]\n",
      "  [False False False  True  True  True False False False False False]\n",
      "  [False False False  True  True  True False False False False False]\n",
      "  [False False False  True  True  True False False False False False]\n",
      "  [False False False False False False False False False False False]\n",
      "  [False False False False False False False False False False False]\n",
      "  [False False False False False False False False False False False]\n",
      "  [False False False False False False False False False False False]\n",
      "  [False False False False False False False False False False False]\n",
      "  [False False False False False False False False False False False]]\n",
      "\n",
      " [[False False False False False False False False False False False]\n",
      "  [False False False False False False False False False False False]\n",
      "  [False False False False False False False False False False False]\n",
      "  [False False False False False False False False False False False]\n",
      "  [False False False False False False False False False False False]\n",
      "  [False False False False False False False False False False False]\n",
      "  [False False False False False False False False False False False]\n",
      "  [False False False False False False False False False False False]\n",
      "  [False False False False False False False False False False False]\n",
      "  [False False False False False False False False False False False]]\n",
      "\n",
      " [[False False False False False False False False False False False]\n",
      "  [False False False False False False False False False False False]\n",
      "  [False False False False False False False False False False False]\n",
      "  [False False False False False False False False False False False]\n",
      "  [False False False False False False False False False False False]\n",
      "  [False False False False False False False False False False False]\n",
      "  [False False False False False False False False False False False]\n",
      "  [False False False False False False False False False False False]\n",
      "  [False False False False False False False False False False False]\n",
      "  [False False False False False False False False False False False]]]\n"
     ]
    }
   ],
   "source": [
    "# a = np.zeros((3,10,11), dtype='bool')\n",
    "a = np.zeros((3,10,11), dtype='bool')\n",
    "a[0, 1:4, 3:6] = True\n",
    "print(a)"
   ]
  },
  {
   "cell_type": "code",
   "execution_count": 72,
   "metadata": {
    "execution": {
     "iopub.execute_input": "2020-11-13T08:42:46.813614Z",
     "iopub.status.busy": "2020-11-13T08:42:46.813314Z",
     "iopub.status.idle": "2020-11-13T08:42:46.818472Z",
     "shell.execute_reply": "2020-11-13T08:42:46.817313Z",
     "shell.execute_reply.started": "2020-11-13T08:42:46.813587Z"
    }
   },
   "outputs": [
    {
     "name": "stdout",
     "output_type": "stream",
     "text": [
      "[[[False False  True  True  True  True  True False False False False]\n",
      "  [False  True  True  True  True  True  True  True False False False]\n",
      "  [False  True  True  True  True  True  True  True False False False]\n",
      "  [False  True  True  True  True  True  True  True False False False]\n",
      "  [False False  True  True  True  True  True False False False False]\n",
      "  [False False False  True  True  True False False False False False]\n",
      "  [False False False False False False False False False False False]\n",
      "  [False False False False False False False False False False False]\n",
      "  [False False False False False False False False False False False]\n",
      "  [False False False False False False False False False False False]]\n",
      "\n",
      " [[False False False  True  True  True False False False False False]\n",
      "  [False False  True  True  True  True  True False False False False]\n",
      "  [False False  True  True  True  True  True False False False False]\n",
      "  [False False  True  True  True  True  True False False False False]\n",
      "  [False False False  True  True  True False False False False False]\n",
      "  [False False False False False False False False False False False]\n",
      "  [False False False False False False False False False False False]\n",
      "  [False False False False False False False False False False False]\n",
      "  [False False False False False False False False False False False]\n",
      "  [False False False False False False False False False False False]]\n",
      "\n",
      " [[False False False False False False False False False False False]\n",
      "  [False False False  True  True  True False False False False False]\n",
      "  [False False False  True  True  True False False False False False]\n",
      "  [False False False  True  True  True False False False False False]\n",
      "  [False False False False False False False False False False False]\n",
      "  [False False False False False False False False False False False]\n",
      "  [False False False False False False False False False False False]\n",
      "  [False False False False False False False False False False False]\n",
      "  [False False False False False False False False False False False]\n",
      "  [False False False False False False False False False False False]]]\n"
     ]
    }
   ],
   "source": [
    "a2 = binary_dilation(a, iterations=2)\n",
    "print(a2)"
   ]
  },
  {
   "cell_type": "code",
   "execution_count": 74,
   "metadata": {
    "execution": {
     "iopub.execute_input": "2020-11-13T08:43:16.113427Z",
     "iopub.status.busy": "2020-11-13T08:43:16.113083Z",
     "iopub.status.idle": "2020-11-13T08:43:16.120310Z",
     "shell.execute_reply": "2020-11-13T08:43:16.118969Z",
     "shell.execute_reply.started": "2020-11-13T08:43:16.113387Z"
    }
   },
   "outputs": [
    {
     "name": "stdout",
     "output_type": "stream",
     "text": [
      "[[[False False False False False False False False False False False]\n",
      "  [False False False False False False False False False False False]\n",
      "  [False False False False False False False False False False False]\n",
      "  [False False False False False False False False False False False]\n",
      "  [False False False False False False False False False False False]\n",
      "  [False False False False False False False False False False False]\n",
      "  [False False False False False False False False False False False]\n",
      "  [False False False False False False False False False False False]\n",
      "  [False False False False False False False False False False False]\n",
      "  [False False False False False False False False False False False]]\n",
      "\n",
      " [[False False False False False False False False False False False]\n",
      "  [False False False  True  True  True False False False False False]\n",
      "  [False False False  True  True  True False False False False False]\n",
      "  [False False False  True  True  True False False False False False]\n",
      "  [False False False False False False False False False False False]\n",
      "  [False False False False False False False False False False False]\n",
      "  [False False False False False False False False False False False]\n",
      "  [False False False False False False False False False False False]\n",
      "  [False False False False False False False False False False False]\n",
      "  [False False False False False False False False False False False]]\n",
      "\n",
      " [[False False False False False False False False False False False]\n",
      "  [False False False False False False False False False False False]\n",
      "  [False False False False False False False False False False False]\n",
      "  [False False False False False False False False False False False]\n",
      "  [False False False False False False False False False False False]\n",
      "  [False False False False False False False False False False False]\n",
      "  [False False False False False False False False False False False]\n",
      "  [False False False False False False False False False False False]\n",
      "  [False False False False False False False False False False False]\n",
      "  [False False False False False False False False False False False]]]\n"
     ]
    }
   ],
   "source": [
    "print(binary_erosion(a2))"
   ]
  },
  {
   "cell_type": "code",
   "execution_count": 87,
   "metadata": {
    "execution": {
     "iopub.execute_input": "2020-11-13T09:51:45.819540Z",
     "iopub.status.busy": "2020-11-13T09:51:45.819304Z",
     "iopub.status.idle": "2020-11-13T09:51:45.823560Z",
     "shell.execute_reply": "2020-11-13T09:51:45.822898Z",
     "shell.execute_reply.started": "2020-11-13T09:51:45.819514Z"
    }
   },
   "outputs": [
    {
     "name": "stdout",
     "output_type": "stream",
     "text": [
      "[[False False  True False False]\n",
      " [False  True  True  True False]\n",
      " [ True  True  True  True  True]\n",
      " [False  True  True  True False]\n",
      " [False False  True False False]]\n"
     ]
    }
   ],
   "source": [
    "struct = generate_binary_structure(2, 1)\n",
    "struct = iterate_structure(struct, 2)\n",
    "print(struct)"
   ]
  },
  {
   "cell_type": "code",
   "execution_count": 29,
   "metadata": {
    "execution": {
     "iopub.execute_input": "2020-11-12T10:05:50.921066Z",
     "iopub.status.busy": "2020-11-12T10:05:50.920735Z",
     "iopub.status.idle": "2020-11-12T10:05:50.926435Z",
     "shell.execute_reply": "2020-11-12T10:05:50.925158Z",
     "shell.execute_reply.started": "2020-11-12T10:05:50.921039Z"
    }
   },
   "outputs": [
    {
     "name": "stdout",
     "output_type": "stream",
     "text": [
      "[[[False False False]\n",
      "  [False  True False]\n",
      "  [False False False]]\n",
      "\n",
      " [[False  True False]\n",
      "  [ True  True  True]\n",
      "  [False  True False]]\n",
      "\n",
      " [[False False False]\n",
      "  [False  True False]\n",
      "  [False False False]]]\n"
     ]
    }
   ],
   "source": [
    "struct = generate_binary_structure(a.ndim, 1)\n",
    "print(struct)"
   ]
  },
  {
   "cell_type": "code",
   "execution_count": 82,
   "metadata": {
    "execution": {
     "iopub.execute_input": "2020-11-13T09:26:15.001984Z",
     "iopub.status.busy": "2020-11-13T09:26:15.001752Z",
     "iopub.status.idle": "2020-11-13T09:26:15.006873Z",
     "shell.execute_reply": "2020-11-13T09:26:15.005976Z",
     "shell.execute_reply.started": "2020-11-13T09:26:15.001957Z"
    }
   },
   "outputs": [
    {
     "name": "stdout",
     "output_type": "stream",
     "text": [
      "[[[False  True  True  True  True  True  True  True False False False]\n",
      "  [False  True  True  True  True  True  True  True False False False]\n",
      "  [False  True  True  True  True  True  True  True False False False]\n",
      "  [False  True  True  True  True  True  True  True False False False]\n",
      "  [False  True  True  True  True  True  True  True False False False]\n",
      "  [False  True  True  True  True  True  True  True False False False]\n",
      "  [False False False False False False False False False False False]\n",
      "  [False False False False False False False False False False False]\n",
      "  [False False False False False False False False False False False]\n",
      "  [False False False False False False False False False False False]]\n",
      "\n",
      " [[False  True  True  True  True  True  True  True False False False]\n",
      "  [False  True  True  True  True  True  True  True False False False]\n",
      "  [False  True  True  True  True  True  True  True False False False]\n",
      "  [False  True  True  True  True  True  True  True False False False]\n",
      "  [False  True  True  True  True  True  True  True False False False]\n",
      "  [False  True  True  True  True  True  True  True False False False]\n",
      "  [False False False False False False False False False False False]\n",
      "  [False False False False False False False False False False False]\n",
      "  [False False False False False False False False False False False]\n",
      "  [False False False False False False False False False False False]]\n",
      "\n",
      " [[False  True  True  True  True  True  True  True False False False]\n",
      "  [False  True  True  True  True  True  True  True False False False]\n",
      "  [False  True  True  True  True  True  True  True False False False]\n",
      "  [False  True  True  True  True  True  True  True False False False]\n",
      "  [False  True  True  True  True  True  True  True False False False]\n",
      "  [False  True  True  True  True  True  True  True False False False]\n",
      "  [False False False False False False False False False False False]\n",
      "  [False False False False False False False False False False False]\n",
      "  [False False False False False False False False False False False]\n",
      "  [False False False False False False False False False False False]]]\n"
     ]
    }
   ],
   "source": [
    "print(binary_dilation(a, iterations=1, structure=struct))"
   ]
  },
  {
   "cell_type": "markdown",
   "metadata": {},
   "source": [
    "## channel selection"
   ]
  },
  {
   "cell_type": "code",
   "execution_count": 22,
   "metadata": {
    "execution": {
     "iopub.execute_input": "2020-10-27T09:56:22.397460Z",
     "iopub.status.busy": "2020-10-27T09:56:22.396951Z",
     "iopub.status.idle": "2020-10-27T09:56:22.406263Z",
     "shell.execute_reply": "2020-10-27T09:56:22.404954Z",
     "shell.execute_reply.started": "2020-10-27T09:56:22.397413Z"
    }
   },
   "outputs": [
    {
     "data": {
      "text/plain": [
       "array([[[ 0,  1,  2,  3],\n",
       "        [ 4,  5,  6,  7],\n",
       "        [ 8,  9, 10, 11]],\n",
       "\n",
       "       [[12, 13, 14, 15],\n",
       "        [16, 17, 18, 19],\n",
       "        [20, 21, 22, 23]],\n",
       "\n",
       "       [[24, 25, 26, 27],\n",
       "        [28, 29, 30, 31],\n",
       "        [32, 33, 34, 35]]])"
      ]
     },
     "execution_count": 22,
     "metadata": {},
     "output_type": "execute_result"
    }
   ],
   "source": [
    "a = np.array(range(36)).reshape((3,3,4))\n",
    "a"
   ]
  },
  {
   "cell_type": "code",
   "execution_count": 23,
   "metadata": {
    "execution": {
     "iopub.execute_input": "2020-10-27T09:56:23.457342Z",
     "iopub.status.busy": "2020-10-27T09:56:23.456663Z",
     "iopub.status.idle": "2020-10-27T09:56:23.462976Z",
     "shell.execute_reply": "2020-10-27T09:56:23.461805Z",
     "shell.execute_reply.started": "2020-10-27T09:56:23.457293Z"
    }
   },
   "outputs": [
    {
     "name": "stdout",
     "output_type": "stream",
     "text": [
      "int64\n"
     ]
    }
   ],
   "source": [
    "c = 1\n",
    "print(a.dtype)"
   ]
  },
  {
   "cell_type": "code",
   "execution_count": 24,
   "metadata": {
    "execution": {
     "iopub.execute_input": "2020-10-27T09:56:25.036937Z",
     "iopub.status.busy": "2020-10-27T09:56:25.036480Z",
     "iopub.status.idle": "2020-10-27T09:56:25.044126Z",
     "shell.execute_reply": "2020-10-27T09:56:25.043067Z",
     "shell.execute_reply.started": "2020-10-27T09:56:25.036893Z"
    }
   },
   "outputs": [
    {
     "data": {
      "text/plain": [
       "array([[[1]],\n",
       "\n",
       "       [[1]],\n",
       "\n",
       "       [[1]]])"
      ]
     },
     "execution_count": 24,
     "metadata": {},
     "output_type": "execute_result"
    }
   ],
   "source": [
    "l = 1\n",
    "np.resize(np.array(l), (3,1,1))\n",
    "\n",
    "#np.array(l).reshape(3,1,1)"
   ]
  },
  {
   "cell_type": "markdown",
   "metadata": {},
   "source": [
    "## normalize by channel"
   ]
  },
  {
   "cell_type": "code",
   "execution_count": 25,
   "metadata": {
    "execution": {
     "iopub.execute_input": "2020-10-27T09:56:29.583659Z",
     "iopub.status.busy": "2020-10-27T09:56:29.583276Z",
     "iopub.status.idle": "2020-10-27T09:56:29.603061Z",
     "shell.execute_reply": "2020-10-27T09:56:29.601894Z",
     "shell.execute_reply.started": "2020-10-27T09:56:29.583629Z"
    }
   },
   "outputs": [
    {
     "name": "stdout",
     "output_type": "stream",
     "text": [
      "[[[ 0.  1. nan nan]\n",
      "  [ 4.  5.  6.  7.]\n",
      "  [ 8.  9. 10. 11.]]\n",
      "\n",
      " [[nan 13. 14. 15.]\n",
      "  [nan 17. 18. 19.]\n",
      "  [nan 21. 22. 23.]]]\n"
     ]
    },
    {
     "data": {
      "text/plain": [
       "(array([[[-1.75435174, -1.46675309,         nan,         nan],\n",
       "         [-0.60395716, -0.31635851, -0.02875986,  0.25883878],\n",
       "         [ 0.54643743,  0.83403607,  1.12163472,  1.40923337]],\n",
       " \n",
       "        [[        nan, -1.48522127, -1.18817702, -0.89113276],\n",
       "         [        nan, -0.29704425,  0.        ,  0.29704425],\n",
       "         [        nan,  0.89113276,  1.18817702,  1.48522127]]]),\n",
       " array([ 6.1, 18. ]),\n",
       " array([3.47706773, 3.36650165]))"
      ]
     },
     "execution_count": 25,
     "metadata": {},
     "output_type": "execute_result"
    }
   ],
   "source": [
    "def znorm_by_channel(array:np.ndarray) -> np.ndarray:\n",
    "    \"\"\" z-normalization of each channel of 3D numpy array\n",
    "    \n",
    "    Args:\n",
    "        array:\n",
    "            3 dimentional numpy array which is channel first format.\n",
    "    Returns:\n",
    "        tuple of normalized array, list of original mean values of each channel,\n",
    "        and list of original standard deviations of each channel.\n",
    "    Example:\n",
    "        >>> a = np.array([[[    0.,  1., np.nan, np.nan],\n",
    "        ...                [    4.,  5.,     6.,     7.],\n",
    "        ...                [    8.,  9.,    10.,    11.]],\n",
    "        ...               [[np.nan, 13.,    14.,    15.],\n",
    "        ...                [np.nan, 17.,    18.,    19.],\n",
    "        ...                [np.nan, 21.,    22.,    23.]]])\n",
    "        ...\n",
    "        >>> znorm_by_channel()\n",
    "        ... (array([[[-1.75435174, -1.46675309,         nan,         nan],\n",
    "        ...          [-0.60395716, -0.31635851, -0.02875986,  0.25883878],\n",
    "        ...          [ 0.54643743,  0.83403607,  1.12163472,  1.40923337]],\n",
    "        ...  \n",
    "        ...         [[        nan, -1.48522127, -1.18817702, -0.89113276],\n",
    "        ...          [        nan, -0.29704425,  0.        ,  0.29704425],\n",
    "        ...          [        nan,  0.89113276,  1.18817702,  1.48522127]]]),\n",
    "        ...  array([ 6.1, 18. ]),\n",
    "        ...  array([3.47706773, 3.36650165]))\n",
    "    \"\"\"\n",
    "    if array.ndim != 3:\n",
    "        raise ValueError(f'Input array need to be 3D, not {array.ndim}D.')\n",
    "    means = np.nanmean(array, axis=(1,2))\n",
    "    stds = np.nanstd(array, axis=(1,2))\n",
    "    normalized_array = (array - means[:, None,  None])/(stds[:, None,  None] + 1e-7)\n",
    "    return normalized_array, means, stds\n",
    "\n",
    "array = np.array(range(24), 'float').reshape((2,3,4))\n",
    "array[0, 0, 2:] = np.nan\n",
    "array[1, :, 0] = np.nan\n",
    "print(array)\n",
    "znorm_by_channel(array)\n"
   ]
  },
  {
   "cell_type": "code",
   "execution_count": 27,
   "metadata": {
    "execution": {
     "iopub.execute_input": "2020-10-27T09:57:55.949634Z",
     "iopub.status.busy": "2020-10-27T09:57:55.949344Z",
     "iopub.status.idle": "2020-10-27T09:57:55.955891Z",
     "shell.execute_reply": "2020-10-27T09:57:55.955108Z",
     "shell.execute_reply.started": "2020-10-27T09:57:55.949608Z"
    }
   },
   "outputs": [
    {
     "data": {
      "text/plain": [
       "2"
      ]
     },
     "execution_count": 27,
     "metadata": {},
     "output_type": "execute_result"
    }
   ],
   "source": [
    "a = np.array([[    0.,  1., np.nan, np.nan],\n",
    "               [    4.,  5.,     6.,     7.],\n",
    "               [    8.,  9.,    10.,    11.]])\n",
    "a.ndim\n",
    "# znorm_by_channel(a) # -> ERROR"
   ]
  },
  {
   "cell_type": "markdown",
   "metadata": {},
   "source": [
    "### linear normalization\n"
   ]
  },
  {
   "cell_type": "code",
   "execution_count": 28,
   "metadata": {
    "execution": {
     "iopub.execute_input": "2020-10-27T09:58:29.045685Z",
     "iopub.status.busy": "2020-10-27T09:58:29.045354Z",
     "iopub.status.idle": "2020-10-27T09:58:29.059234Z",
     "shell.execute_reply": "2020-10-27T09:58:29.058240Z",
     "shell.execute_reply.started": "2020-10-27T09:58:29.045659Z"
    }
   },
   "outputs": [
    {
     "name": "stdout",
     "output_type": "stream",
     "text": [
      "[[[ 0.  1.  2.  3.]\n",
      "  [ 4.  5.  6.  7.]\n",
      "  [ 8.  9. 10. 11.]]\n",
      "\n",
      " [[12. 13. 14. 15.]\n",
      "  [16. 17. 18. 19.]\n",
      "  [20. 21. 22. 23.]]\n",
      "\n",
      " [[24. 25. 26. 27.]\n",
      "  [28. 29. 30. 31.]\n",
      "  [32. nan 34. 35.]]]\n"
     ]
    },
    {
     "data": {
      "text/plain": [
       "array([[[0.        , 0.09090909, 0.18181819, 0.27272728],\n",
       "        [0.36363637, 0.45454547, 0.54545456, 0.6363636 ],\n",
       "        [0.72727275, 0.8181818 , 0.90909094, 1.        ]],\n",
       "\n",
       "       [[0.        , 0.09090909, 0.18181819, 0.27272728],\n",
       "        [0.36363637, 0.45454547, 0.54545456, 0.6363636 ],\n",
       "        [0.72727275, 0.8181818 , 0.90909094, 1.        ]],\n",
       "\n",
       "       [[0.        , 0.09090909, 0.18181819, 0.27272728],\n",
       "        [0.36363637, 0.45454547, 0.54545456, 0.6363636 ],\n",
       "        [0.72727275,        nan, 0.90909094, 1.        ]]], dtype=float32)"
      ]
     },
     "execution_count": 28,
     "metadata": {},
     "output_type": "execute_result"
    }
   ],
   "source": [
    "a = np.array(range(36), dtype='float32').reshape((3,3,4))\n",
    "a[2, 2:3, 1:2] = np.nan\n",
    "print(a)\n",
    "mx = np.nanmax(a, axis=(1,2)).reshape(a.shape[0],1,1)\n",
    "mn = np.nanmin(a, axis=(1,2)).reshape(a.shape[0],1,1)\n",
    "(a - mn)/(mx - mn)"
   ]
  },
  {
   "cell_type": "code",
   "execution_count": 29,
   "metadata": {
    "execution": {
     "iopub.execute_input": "2020-10-27T09:58:31.679401Z",
     "iopub.status.busy": "2020-10-27T09:58:31.679092Z",
     "iopub.status.idle": "2020-10-27T09:58:31.684448Z",
     "shell.execute_reply": "2020-10-27T09:58:31.683426Z",
     "shell.execute_reply.started": "2020-10-27T09:58:31.679376Z"
    }
   },
   "outputs": [
    {
     "data": {
      "text/plain": [
       "array([0., 1., 2.])"
      ]
     },
     "execution_count": 29,
     "metadata": {},
     "output_type": "execute_result"
    }
   ],
   "source": [
    "np.arange(3.0)"
   ]
  },
  {
   "cell_type": "markdown",
   "metadata": {},
   "source": [
    "## channel_first to channel_last"
   ]
  },
  {
   "cell_type": "code",
   "execution_count": 30,
   "metadata": {
    "execution": {
     "iopub.execute_input": "2020-10-27T09:58:40.586604Z",
     "iopub.status.busy": "2020-10-27T09:58:40.586171Z",
     "iopub.status.idle": "2020-10-27T09:58:40.592893Z",
     "shell.execute_reply": "2020-10-27T09:58:40.592252Z",
     "shell.execute_reply.started": "2020-10-27T09:58:40.586565Z"
    }
   },
   "outputs": [
    {
     "name": "stdout",
     "output_type": "stream",
     "text": [
      "(2, 3, 4)\n",
      "[[[ 0.  1.  2.  3.]\n",
      "  [ 4.  5.  6.  7.]\n",
      "  [ 8.  9. 10. 11.]]\n",
      "\n",
      " [[12. 13. 14. 15.]\n",
      "  [16. 17. 18. 19.]\n",
      "  [20. 21. 22. 23.]]]\n",
      "[[[ 0.  4.  8.]\n",
      "  [12. 16. 20.]]\n",
      "\n",
      " [[ 1.  5.  9.]\n",
      "  [13. 17. 21.]]\n",
      "\n",
      " [[ 2.  6. 10.]\n",
      "  [14. 18. 22.]]\n",
      "\n",
      " [[ 3.  7. 11.]\n",
      "  [15. 19. 23.]]]\n",
      "(4, 2, 3)\n"
     ]
    }
   ],
   "source": [
    "a = np.array(range(24), 'float').reshape((2,3,4))\n",
    "print(a.shape)\n",
    "print(a)\n",
    "\n",
    "b = np.moveaxis(a, -1, 0)\n",
    "\n",
    "print(b)\n",
    "print(b.shape)"
   ]
  },
  {
   "cell_type": "code",
   "execution_count": 31,
   "metadata": {
    "execution": {
     "iopub.execute_input": "2020-10-27T09:58:41.490484Z",
     "iopub.status.busy": "2020-10-27T09:58:41.490171Z",
     "iopub.status.idle": "2020-10-27T09:58:41.495429Z",
     "shell.execute_reply": "2020-10-27T09:58:41.494590Z",
     "shell.execute_reply.started": "2020-10-27T09:58:41.490457Z"
    }
   },
   "outputs": [
    {
     "name": "stdout",
     "output_type": "stream",
     "text": [
      "[False False False False  True  True False False False False False False]\n",
      "[False False False False False False False False False False False False]\n"
     ]
    }
   ],
   "source": [
    "# check isin\n",
    "a = np.array(range(12))\n",
    "print(np.isin(a, [4,5]))\n",
    "print(np.isin(a, None))\n"
   ]
  },
  {
   "cell_type": "code",
   "execution_count": 32,
   "metadata": {
    "execution": {
     "iopub.execute_input": "2020-10-27T09:58:43.400214Z",
     "iopub.status.busy": "2020-10-27T09:58:43.399728Z",
     "iopub.status.idle": "2020-10-27T09:58:43.405987Z",
     "shell.execute_reply": "2020-10-27T09:58:43.405145Z",
     "shell.execute_reply.started": "2020-10-27T09:58:43.400171Z"
    }
   },
   "outputs": [
    {
     "data": {
      "text/plain": [
       "2"
      ]
     },
     "execution_count": 32,
     "metadata": {},
     "output_type": "execute_result"
    }
   ],
   "source": [
    "a = np.array(range(12)).reshape((3,4))\n",
    "a.ndim"
   ]
  },
  {
   "cell_type": "code",
   "execution_count": 33,
   "metadata": {
    "execution": {
     "iopub.execute_input": "2020-10-27T09:58:45.152437Z",
     "iopub.status.busy": "2020-10-27T09:58:45.151819Z",
     "iopub.status.idle": "2020-10-27T09:58:45.158938Z",
     "shell.execute_reply": "2020-10-27T09:58:45.158034Z",
     "shell.execute_reply.started": "2020-10-27T09:58:45.152386Z"
    }
   },
   "outputs": [
    {
     "data": {
      "text/plain": [
       "3"
      ]
     },
     "execution_count": 33,
     "metadata": {},
     "output_type": "execute_result"
    }
   ],
   "source": [
    "np.array([a]).ndim"
   ]
  },
  {
   "cell_type": "code",
   "execution_count": 34,
   "metadata": {
    "execution": {
     "iopub.execute_input": "2020-10-27T09:58:46.376320Z",
     "iopub.status.busy": "2020-10-27T09:58:46.376030Z",
     "iopub.status.idle": "2020-10-27T09:58:46.381625Z",
     "shell.execute_reply": "2020-10-27T09:58:46.380778Z",
     "shell.execute_reply.started": "2020-10-27T09:58:46.376291Z"
    }
   },
   "outputs": [
    {
     "data": {
      "text/plain": [
       "array([[[ 0,  1,  2,  3],\n",
       "        [ 4,  5,  6,  7],\n",
       "        [ 8,  9, 10, 11]],\n",
       "\n",
       "       [[12, 13, 14, 15],\n",
       "        [16, 17, 18, 19],\n",
       "        [20, 21, 22, 23]]])"
      ]
     },
     "execution_count": 34,
     "metadata": {},
     "output_type": "execute_result"
    }
   ],
   "source": [
    "a = np.array(range(24)).reshape((2,3,4))\n",
    "a"
   ]
  },
  {
   "cell_type": "code",
   "execution_count": 35,
   "metadata": {
    "execution": {
     "iopub.execute_input": "2020-10-27T09:58:46.648737Z",
     "iopub.status.busy": "2020-10-27T09:58:46.648131Z",
     "iopub.status.idle": "2020-10-27T09:58:46.655720Z",
     "shell.execute_reply": "2020-10-27T09:58:46.654562Z",
     "shell.execute_reply.started": "2020-10-27T09:58:46.648693Z"
    }
   },
   "outputs": [
    {
     "data": {
      "text/plain": [
       "array([[[0, 0, 0, 0],\n",
       "        [0, 0, 0, 0],\n",
       "        [0, 0, 0, 0]],\n",
       "\n",
       "       [[0, 0, 0, 0],\n",
       "        [0, 0, 0, 0],\n",
       "        [0, 0, 0, 0]]])"
      ]
     },
     "execution_count": 35,
     "metadata": {},
     "output_type": "execute_result"
    }
   ],
   "source": [
    "a[:] = 0\n",
    "a"
   ]
  },
  {
   "cell_type": "markdown",
   "metadata": {},
   "source": [
    "## cummrative array"
   ]
  },
  {
   "cell_type": "code",
   "execution_count": 36,
   "metadata": {
    "execution": {
     "iopub.execute_input": "2020-10-27T09:58:53.667257Z",
     "iopub.status.busy": "2020-10-27T09:58:53.666834Z",
     "iopub.status.idle": "2020-10-27T09:58:53.674430Z",
     "shell.execute_reply": "2020-10-27T09:58:53.673035Z",
     "shell.execute_reply.started": "2020-10-27T09:58:53.667218Z"
    }
   },
   "outputs": [
    {
     "name": "stdout",
     "output_type": "stream",
     "text": [
      "[3 1 2 1 1 2 3 3 0 2]\n",
      "[ 3  4  6  7  8 10 13 16 16 18]\n",
      "[18 15 14 12 11 10  8  5  2  2]\n"
     ]
    }
   ],
   "source": [
    "a = np.random.randint(4, size=10)\n",
    "print(a)\n",
    "# cumulative sum \n",
    "print(np.cumsum(a))\n",
    "# cumulative sum from tail\n",
    "print(np.flip(np.cumsum(np.flip(a))))"
   ]
  },
  {
   "cell_type": "code",
   "execution_count": 37,
   "metadata": {
    "execution": {
     "iopub.execute_input": "2020-10-27T09:58:54.723069Z",
     "iopub.status.busy": "2020-10-27T09:58:54.722621Z",
     "iopub.status.idle": "2020-10-27T09:58:54.730111Z",
     "shell.execute_reply": "2020-10-27T09:58:54.729340Z",
     "shell.execute_reply.started": "2020-10-27T09:58:54.723019Z"
    }
   },
   "outputs": [
    {
     "data": {
      "text/plain": [
       "array([9, 8, 7, 6, 5, 4, 3, 2, 1, 0])"
      ]
     },
     "execution_count": 37,
     "metadata": {},
     "output_type": "execute_result"
    }
   ],
   "source": [
    "np.flip(np.array(range(10)))"
   ]
  },
  {
   "cell_type": "markdown",
   "metadata": {},
   "source": [
    "## diff\n",
    "https://numpy.org/doc/stable/reference/generated/numpy.diff.html"
   ]
  },
  {
   "cell_type": "code",
   "execution_count": 38,
   "metadata": {
    "execution": {
     "iopub.execute_input": "2020-10-27T09:58:59.179120Z",
     "iopub.status.busy": "2020-10-27T09:58:59.178669Z",
     "iopub.status.idle": "2020-10-27T09:58:59.186149Z",
     "shell.execute_reply": "2020-10-27T09:58:59.184633Z",
     "shell.execute_reply.started": "2020-10-27T09:58:59.179077Z"
    }
   },
   "outputs": [
    {
     "name": "stdout",
     "output_type": "stream",
     "text": [
      "[3 0 4 8 3 6 6 3 8 4]\n",
      "[-3  4  4 -5  3  0 -3  5 -4]\n"
     ]
    }
   ],
   "source": [
    "a = np.random.randint(10, size=10)\n",
    "print(a)\n",
    "print(np.diff(a))"
   ]
  },
  {
   "cell_type": "markdown",
   "metadata": {},
   "source": [
    "## median values of array"
   ]
  },
  {
   "cell_type": "code",
   "execution_count": 39,
   "metadata": {
    "execution": {
     "iopub.execute_input": "2020-10-27T09:59:01.651606Z",
     "iopub.status.busy": "2020-10-27T09:59:01.651257Z",
     "iopub.status.idle": "2020-10-27T09:59:01.658972Z",
     "shell.execute_reply": "2020-10-27T09:59:01.657479Z",
     "shell.execute_reply.started": "2020-10-27T09:59:01.651577Z"
    }
   },
   "outputs": [
    {
     "name": "stdout",
     "output_type": "stream",
     "text": [
      "[ 3  5  6  8  9 12 13 15 18 20 23]\n",
      "[2 1 2 1 3 1 2 3 2 3]\n",
      "[ 4.   5.5  7.   8.5 10.5 12.5 14.  16.5 19.  21.5]\n"
     ]
    }
   ],
   "source": [
    "a = np.random.randint(1, 4, size=11)\n",
    "bin_edge = np.cumsum(a)\n",
    "print(bin_edge)\n",
    "bin_width = np.diff(bin_edge)\n",
    "print(bin_width)\n",
    "bin_center = bin_edge[:-1] + (bin_width/2)\n",
    "print(bin_center)"
   ]
  },
  {
   "cell_type": "markdown",
   "metadata": {},
   "source": [
    "## RMSE over pixels"
   ]
  },
  {
   "cell_type": "code",
   "execution_count": 147,
   "metadata": {
    "execution": {
     "iopub.execute_input": "2020-10-27T13:29:13.109987Z",
     "iopub.status.busy": "2020-10-27T13:29:13.109436Z",
     "iopub.status.idle": "2020-10-27T13:29:13.116468Z",
     "shell.execute_reply": "2020-10-27T13:29:13.115278Z",
     "shell.execute_reply.started": "2020-10-27T13:29:13.109936Z"
    }
   },
   "outputs": [],
   "source": [
    "array_true = np.random.randint(0,10, 24).reshape((2,3,4))\n",
    "array_pred = np.random.randint(0,10, 24).reshape((2,3,4))\n"
   ]
  },
  {
   "cell_type": "code",
   "execution_count": 148,
   "metadata": {
    "execution": {
     "iopub.execute_input": "2020-10-27T13:29:13.550936Z",
     "iopub.status.busy": "2020-10-27T13:29:13.550502Z",
     "iopub.status.idle": "2020-10-27T13:29:13.555245Z",
     "shell.execute_reply": "2020-10-27T13:29:13.554274Z",
     "shell.execute_reply.started": "2020-10-27T13:29:13.550906Z"
    }
   },
   "outputs": [
    {
     "name": "stdout",
     "output_type": "stream",
     "text": [
      "[[[8 5 3 0]\n",
      "  [5 8 9 3]\n",
      "  [9 8 9 8]]\n",
      "\n",
      " [[0 3 3 7]\n",
      "  [9 9 9 7]\n",
      "  [8 2 3 1]]]\n"
     ]
    }
   ],
   "source": [
    "print(array_true)"
   ]
  },
  {
   "cell_type": "code",
   "execution_count": 52,
   "metadata": {
    "execution": {
     "iopub.execute_input": "2020-10-27T10:26:11.243168Z",
     "iopub.status.busy": "2020-10-27T10:26:11.242915Z",
     "iopub.status.idle": "2020-10-27T10:26:11.245798Z",
     "shell.execute_reply": "2020-10-27T10:26:11.245195Z",
     "shell.execute_reply.started": "2020-10-27T10:26:11.243145Z"
    }
   },
   "outputs": [],
   "source": [
    "def rmse_per_pixel():\n",
    "    pass"
   ]
  },
  {
   "cell_type": "code",
   "execution_count": 55,
   "metadata": {
    "execution": {
     "iopub.execute_input": "2020-10-27T10:27:25.360188Z",
     "iopub.status.busy": "2020-10-27T10:27:25.359915Z",
     "iopub.status.idle": "2020-10-27T10:27:25.367076Z",
     "shell.execute_reply": "2020-10-27T10:27:25.365824Z",
     "shell.execute_reply.started": "2020-10-27T10:27:25.360163Z"
    }
   },
   "outputs": [
    {
     "data": {
      "text/plain": [
       "array([[[0.37959857, 0.29042997, 0.31519026],\n",
       "        [0.22883214, 0.02752307, 0.46667506],\n",
       "        [0.47825642, 0.55466289, 0.37318111],\n",
       "        [0.36813224, 0.4294124 , 0.75613597]],\n",
       "\n",
       "       [[0.25844644, 0.02382232, 0.00773682],\n",
       "        [0.50260891, 0.73809711, 0.09704421],\n",
       "        [0.78378708, 0.70374521, 0.61378668],\n",
       "        [0.12690163, 0.05702612, 0.56630808]],\n",
       "\n",
       "       [[0.67261523, 0.7709724 , 0.32339138],\n",
       "        [0.00192027, 0.39799333, 0.45241485],\n",
       "        [0.22163431, 0.52614861, 0.88229942],\n",
       "        [0.13846813, 0.78078311, 0.04942754]],\n",
       "\n",
       "       [[0.12952159, 0.05179714, 0.21366357],\n",
       "        [0.46824105, 0.83784501, 0.49210675],\n",
       "        [0.67240911, 0.72212739, 0.06575058],\n",
       "        [0.08070713, 0.97442832, 0.75593945]],\n",
       "\n",
       "       [[0.88492479, 0.47760685, 0.64047963],\n",
       "        [0.77548215, 0.96010126, 0.67784   ],\n",
       "        [0.76970726, 0.84978645, 0.44241832],\n",
       "        [0.27933383, 0.30285193, 0.84552135]]])"
      ]
     },
     "execution_count": 55,
     "metadata": {},
     "output_type": "execute_result"
    }
   ],
   "source": [
    "array_true"
   ]
  },
  {
   "cell_type": "code",
   "execution_count": 132,
   "metadata": {
    "execution": {
     "iopub.execute_input": "2020-10-27T12:59:54.448201Z",
     "iopub.status.busy": "2020-10-27T12:59:54.447923Z",
     "iopub.status.idle": "2020-10-27T12:59:54.453564Z",
     "shell.execute_reply": "2020-10-27T12:59:54.452763Z",
     "shell.execute_reply.started": "2020-10-27T12:59:54.448171Z"
    }
   },
   "outputs": [
    {
     "data": {
      "text/plain": [
       "array([[[ 0,  1,  2,  3],\n",
       "        [ 4,  5,  6,  7],\n",
       "        [ 8,  9, 10, 11]]])"
      ]
     },
     "execution_count": 132,
     "metadata": {},
     "output_type": "execute_result"
    }
   ],
   "source": [
    "a = np.array(range(12)).reshape((1,3,4))\n",
    "a"
   ]
  },
  {
   "cell_type": "code",
   "execution_count": 133,
   "metadata": {
    "execution": {
     "iopub.execute_input": "2020-10-27T12:59:55.586741Z",
     "iopub.status.busy": "2020-10-27T12:59:55.586069Z",
     "iopub.status.idle": "2020-10-27T12:59:55.592841Z",
     "shell.execute_reply": "2020-10-27T12:59:55.592074Z",
     "shell.execute_reply.started": "2020-10-27T12:59:55.586677Z"
    }
   },
   "outputs": [
    {
     "data": {
      "text/plain": [
       "array([[[ 0,  2,  4,  6],\n",
       "        [ 8, 10, 12, 14],\n",
       "        [16, 18, 20, 22]]])"
      ]
     },
     "execution_count": 133,
     "metadata": {},
     "output_type": "execute_result"
    }
   ],
   "source": [
    "b = a *2\n",
    "b"
   ]
  },
  {
   "cell_type": "code",
   "execution_count": 134,
   "metadata": {
    "execution": {
     "iopub.execute_input": "2020-10-27T12:59:57.996566Z",
     "iopub.status.busy": "2020-10-27T12:59:57.996278Z",
     "iopub.status.idle": "2020-10-27T12:59:58.002413Z",
     "shell.execute_reply": "2020-10-27T12:59:58.000929Z",
     "shell.execute_reply.started": "2020-10-27T12:59:57.996539Z"
    }
   },
   "outputs": [
    {
     "data": {
      "text/plain": [
       "(3, 4)"
      ]
     },
     "execution_count": 134,
     "metadata": {},
     "output_type": "execute_result"
    }
   ],
   "source": [
    "a.shape[1:3]"
   ]
  },
  {
   "cell_type": "code",
   "execution_count": 149,
   "metadata": {
    "execution": {
     "iopub.execute_input": "2020-10-27T13:31:16.007554Z",
     "iopub.status.busy": "2020-10-27T13:31:16.007296Z",
     "iopub.status.idle": "2020-10-27T13:31:16.018661Z",
     "shell.execute_reply": "2020-10-27T13:31:16.018012Z",
     "shell.execute_reply.started": "2020-10-27T13:31:16.007535Z"
    }
   },
   "outputs": [
    {
     "data": {
      "text/plain": [
       "array([6.49358658])"
      ]
     },
     "execution_count": 149,
     "metadata": {},
     "output_type": "execute_result"
    }
   ],
   "source": [
    "from sklearn.metrics import mean_squared_error\n",
    "def rmse_raster_arrays(arrays_true:np.ndarray,\n",
    "                       arrays_pred:np.ndarray,\n",
    "                       axis='pixel') -> np.ndarray:\n",
    "    \"\"\"Calculate RMSE from 3D arrays\n",
    "    \n",
    "    Args:\n",
    "        arrays_true:\n",
    "            Ground truth (correct) target values with 3D Numpy array\n",
    "        array_pred:\n",
    "            Estimated target values with same shape of arrays_true\n",
    "        axis:\n",
    "            'pixel' or 'layer'. 'pixel' returns rmse values at each pixels\n",
    "            with same shape array with input arrays.\n",
    "            'layer' returns rmse values of each layer. Length will be\n",
    "            arrays_true[0]\n",
    "    Returns:\n",
    "        RMSE values of each pixel or layer.\n",
    "    \"\"\"\n",
    "    if arrays_true.ndim != 3:\n",
    "        raise ValueError(f'arrays needs to 3D array. Not {arrays_true.ndim}')\n",
    "    if arrays_true.shape != arrays_pred.shape:\n",
    "        raise ValueError(f'arrays_true shape {arrays_true.shape} and '\n",
    "                         f'arrays_pred shape {arrays_pred.shape} must be same.')\n",
    "\n",
    "    if axis == 'pixel':\n",
    "        y_true = arrays_true.reshape(arrays_true.shape[0], -1)\n",
    "        y_pred = arrays_pred.reshape(arrays_pred.shape[0], -1)\n",
    "        \n",
    "        return np.sqrt(mean_squared_error(y_true,\n",
    "                                          y_pred,\n",
    "                                          multioutput='raw_values')\n",
    "                       .reshape(arrays_true.shape[1:3]))\n",
    "    \n",
    "    if axis == 'layer':\n",
    "        y_true = (arrays_true\n",
    "                  .transpose((1,2,0))\n",
    "                  .reshape(-1, arrays_true.shape[0]))\n",
    "        y_pred = (arrays_pred\n",
    "                  .transpose((1,2,0))\n",
    "                  .reshape(-1, arrays_pred.shape[0]))\n",
    "\n",
    "        return np.sqrt(mean_squared_error(y_true,\n",
    "                                          y_pred,\n",
    "                                          multioutput='raw_values'))\n",
    "\n",
    "out = rmse_raster_arrays(arrays_true=a,\n",
    "                         arrays_pred=b,\n",
    "                        axis='layer')\n",
    "out"
   ]
  },
  {
   "cell_type": "code",
   "execution_count": 105,
   "metadata": {
    "execution": {
     "iopub.execute_input": "2020-10-27T12:42:09.193447Z",
     "iopub.status.busy": "2020-10-27T12:42:09.193156Z",
     "iopub.status.idle": "2020-10-27T12:42:09.198446Z",
     "shell.execute_reply": "2020-10-27T12:42:09.197570Z",
     "shell.execute_reply.started": "2020-10-27T12:42:09.193421Z"
    }
   },
   "outputs": [
    {
     "data": {
      "text/plain": [
       "array([ 6.49358658, 17.83722699, 29.70129066, 41.6433268 , 53.61125504])"
      ]
     },
     "execution_count": 105,
     "metadata": {},
     "output_type": "execute_result"
    }
   ],
   "source": [
    "out"
   ]
  },
  {
   "cell_type": "markdown",
   "metadata": {},
   "source": [
    "## Mask"
   ]
  },
  {
   "cell_type": "code",
   "execution_count": 35,
   "metadata": {
    "execution": {
     "iopub.execute_input": "2020-11-20T12:43:57.809056Z",
     "iopub.status.busy": "2020-11-20T12:43:57.808824Z",
     "iopub.status.idle": "2020-11-20T12:43:57.813937Z",
     "shell.execute_reply": "2020-11-20T12:43:57.813205Z",
     "shell.execute_reply.started": "2020-11-20T12:43:57.809031Z"
    }
   },
   "outputs": [
    {
     "name": "stdout",
     "output_type": "stream",
     "text": [
      "[[9 4 5 3 2 4 6 6]\n",
      " [5 4 4 5 4 5 9 3]\n",
      " [1 7 9 8 2 0 9 2]\n",
      " [8 6 5 2 0 8 9 7]\n",
      " [5 3 1 8 6 8 7 7]]\n",
      "[[1 6 6 1 6 1 4 1]\n",
      " [4 3 3 5 5 0 9 7]\n",
      " [0 1 4 1 6 4 6 8]\n",
      " [4 9 4 2 0 4 4 4]\n",
      " [6 5 5 6 8 8 2 5]]\n"
     ]
    }
   ],
   "source": [
    "a = np.random.randint(0,10,40, dtype='int32').reshape((5,8))\n",
    "b = np.random.randint(0,10,40, dtype='int32').reshape((5,8))\n",
    "print(a)\n",
    "print(b)"
   ]
  },
  {
   "cell_type": "code",
   "execution_count": 36,
   "metadata": {
    "execution": {
     "iopub.execute_input": "2020-11-20T12:43:58.436948Z",
     "iopub.status.busy": "2020-11-20T12:43:58.436546Z",
     "iopub.status.idle": "2020-11-20T12:43:58.444125Z",
     "shell.execute_reply": "2020-11-20T12:43:58.443333Z",
     "shell.execute_reply.started": "2020-11-20T12:43:58.436899Z"
    }
   },
   "outputs": [
    {
     "name": "stdout",
     "output_type": "stream",
     "text": [
      "[[9 -- 5 -- -- -- 6 6]\n",
      " [5 -- -- 5 -- 5 9 --]\n",
      " [-- 7 9 8 -- -- 9 --]\n",
      " [8 6 5 -- -- 8 9 7]\n",
      " [5 -- -- 8 6 8 7 7]]\n",
      "[[-- 6 6 -- 6 -- -- --]\n",
      " [-- -- -- 5 5 -- 9 7]\n",
      " [-- -- -- -- 6 -- 6 8]\n",
      " [-- 9 -- -- -- -- -- --]\n",
      " [6 5 5 6 8 8 -- 5]]\n"
     ]
    }
   ],
   "source": [
    "a_masked = np.ma.array(data=a, mask=(a<5))\n",
    "b_masked = np.ma.array(data=b, mask=(b<5))\n",
    "print(a_masked)\n",
    "print(b_masked)"
   ]
  },
  {
   "cell_type": "code",
   "execution_count": 25,
   "metadata": {
    "execution": {
     "iopub.execute_input": "2020-11-20T12:38:23.265837Z",
     "iopub.status.busy": "2020-11-20T12:38:23.265599Z",
     "iopub.status.idle": "2020-11-20T12:38:23.270088Z",
     "shell.execute_reply": "2020-11-20T12:38:23.269447Z",
     "shell.execute_reply.started": "2020-11-20T12:38:23.265811Z"
    }
   },
   "outputs": [
    {
     "data": {
      "text/plain": [
       "float"
      ]
     },
     "execution_count": 25,
     "metadata": {},
     "output_type": "execute_result"
    }
   ],
   "source": [
    "type(float(a_masked.mean()))"
   ]
  },
  {
   "cell_type": "code",
   "execution_count": 37,
   "metadata": {
    "execution": {
     "iopub.execute_input": "2020-11-20T12:44:10.088757Z",
     "iopub.status.busy": "2020-11-20T12:44:10.088519Z",
     "iopub.status.idle": "2020-11-20T12:44:10.093940Z",
     "shell.execute_reply": "2020-11-20T12:44:10.093177Z",
     "shell.execute_reply.started": "2020-11-20T12:44:10.088731Z"
    }
   },
   "outputs": [
    {
     "data": {
      "text/plain": [
       "array([[9, 0, 5, 0, 0, 0, 6, 6],\n",
       "       [5, 0, 0, 5, 0, 5, 9, 0],\n",
       "       [0, 7, 9, 8, 0, 0, 9, 0],\n",
       "       [8, 6, 5, 0, 0, 8, 9, 7],\n",
       "       [5, 0, 0, 8, 6, 8, 7, 7]], dtype=int32)"
      ]
     },
     "execution_count": 37,
     "metadata": {},
     "output_type": "execute_result"
    }
   ],
   "source": [
    "out_array = a_masked.data\n",
    "out_array[a_masked.mask] = 0\n",
    "out_array"
   ]
  },
  {
   "cell_type": "code",
   "execution_count": 48,
   "metadata": {
    "execution": {
     "iopub.execute_input": "2020-11-02T12:59:38.687510Z",
     "iopub.status.busy": "2020-11-02T12:59:38.687261Z",
     "iopub.status.idle": "2020-11-02T12:59:38.693696Z",
     "shell.execute_reply": "2020-11-02T12:59:38.692355Z",
     "shell.execute_reply.started": "2020-11-02T12:59:38.687491Z"
    }
   },
   "outputs": [
    {
     "data": {
      "text/plain": [
       "masked_array(\n",
       "  data=[[7, 0, 5, --, 0, 5, 5, 0],\n",
       "        [--, --, --, 7, 6, --, 0, --],\n",
       "        [0, --, 7, 7, --, --, --, 0],\n",
       "        [--, --, --, 0, 7, 6, 5, --],\n",
       "        [--, --, 6, 7, 0, --, 7, 5]],\n",
       "  mask=[[False, False, False,  True, False, False, False, False],\n",
       "        [ True,  True,  True, False, False,  True, False,  True],\n",
       "        [False,  True, False, False,  True,  True,  True, False],\n",
       "        [ True,  True,  True, False, False, False, False,  True],\n",
       "        [ True,  True, False, False, False,  True, False, False]],\n",
       "  fill_value=999999,\n",
       "  dtype=int32)"
      ]
     },
     "execution_count": 48,
     "metadata": {},
     "output_type": "execute_result"
    }
   ],
   "source": [
    "a_masked[a_masked > 7] = 0\n",
    "a_masked"
   ]
  },
  {
   "cell_type": "code",
   "execution_count": 67,
   "metadata": {
    "execution": {
     "iopub.execute_input": "2020-11-02T13:21:32.864302Z",
     "iopub.status.busy": "2020-11-02T13:21:32.863942Z",
     "iopub.status.idle": "2020-11-02T13:21:32.870351Z",
     "shell.execute_reply": "2020-11-02T13:21:32.869351Z",
     "shell.execute_reply.started": "2020-11-02T13:21:32.864262Z"
    }
   },
   "outputs": [
    {
     "data": {
      "text/plain": [
       "masked_array(\n",
       "  data=[[8, 9, 8, --, --, 9, 7, 7],\n",
       "        [6, --, --, 6, --, --, 8, --],\n",
       "        [8, --, --, 5, --, --, --, 5],\n",
       "        [--, 8, --, --, 5, --, 7, 5],\n",
       "        [--, --, 7, 9, --, --, --, 7]],\n",
       "  mask=[[False, False, False,  True,  True, False, False, False],\n",
       "        [False,  True,  True, False,  True,  True, False,  True],\n",
       "        [False,  True,  True, False,  True,  True,  True, False],\n",
       "        [ True, False,  True,  True, False,  True, False, False],\n",
       "        [ True,  True, False, False,  True,  True,  True, False]],\n",
       "  fill_value=999999,\n",
       "  dtype=int32)"
      ]
     },
     "execution_count": 67,
     "metadata": {},
     "output_type": "execute_result"
    }
   ],
   "source": [
    "a_masked"
   ]
  },
  {
   "cell_type": "code",
   "execution_count": 71,
   "metadata": {
    "execution": {
     "iopub.execute_input": "2020-11-02T15:29:13.758673Z",
     "iopub.status.busy": "2020-11-02T15:29:13.758392Z",
     "iopub.status.idle": "2020-11-02T15:29:13.777144Z",
     "shell.execute_reply": "2020-11-02T15:29:13.775380Z",
     "shell.execute_reply.started": "2020-11-02T15:29:13.758647Z"
    }
   },
   "outputs": [
    {
     "data": {
      "text/plain": [
       "dtype('float32')"
      ]
     },
     "execution_count": 71,
     "metadata": {},
     "output_type": "execute_result"
    }
   ],
   "source": [
    "a = np.array(range(4), dtype='float32')\n",
    "b = np.array(range(4), dtype='int8')\n",
    "(a + b).dtype"
   ]
  },
  {
   "cell_type": "code",
   "execution_count": 63,
   "metadata": {
    "execution": {
     "iopub.execute_input": "2020-11-02T13:14:23.915540Z",
     "iopub.status.busy": "2020-11-02T13:14:23.915095Z",
     "iopub.status.idle": "2020-11-02T13:14:23.922577Z",
     "shell.execute_reply": "2020-11-02T13:14:23.921139Z",
     "shell.execute_reply.started": "2020-11-02T13:14:23.915501Z"
    }
   },
   "outputs": [
    {
     "name": "stdout",
     "output_type": "stream",
     "text": [
      "[[8 9 8 -- -- 9 7 7]\n",
      " [6 -- -- 6 -- -- 8 --]\n",
      " [8 -- -- 5 -- -- -- 5]\n",
      " [-- 8 -- -- 5 -- 7 5]\n",
      " [-- -- 7 9 -- -- -- 7]]\n",
      "[[-- -- 8 -- 7 5 5 --]\n",
      " [6 9 -- 6 -- -- 7 5]\n",
      " [7 5 9 -- -- 7 8 --]\n",
      " [-- 6 5 6 -- -- -- --]\n",
      " [-- -- 7 6 -- -- -- --]]\n",
      "[[False False  True False False  True  True False]\n",
      " [ True False False  True False False  True False]\n",
      " [ True False False False False False False False]\n",
      " [False  True False False False False False False]\n",
      " [False False  True  True False False False False]]\n"
     ]
    }
   ],
   "source": [
    "print(a_masked)\n",
    "print(b_masked)\n",
    "print(~a_masked.mask & ~b_masked.mask)"
   ]
  },
  {
   "cell_type": "code",
   "execution_count": 60,
   "metadata": {
    "execution": {
     "iopub.execute_input": "2020-11-02T13:12:06.373743Z",
     "iopub.status.busy": "2020-11-02T13:12:06.373209Z",
     "iopub.status.idle": "2020-11-02T13:12:06.381294Z",
     "shell.execute_reply": "2020-11-02T13:12:06.380072Z",
     "shell.execute_reply.started": "2020-11-02T13:12:06.373693Z"
    }
   },
   "outputs": [
    {
     "data": {
      "text/plain": [
       "array([[False, False, False,  True,  True, False, False, False],\n",
       "       [False,  True,  True, False,  True,  True, False,  True],\n",
       "       [False,  True,  True, False,  True,  True,  True, False],\n",
       "       [ True, False,  True,  True, False,  True, False, False],\n",
       "       [ True,  True, False, False,  True,  True,  True, False]])"
      ]
     },
     "execution_count": 60,
     "metadata": {},
     "output_type": "execute_result"
    }
   ],
   "source": [
    "a_masked.mask"
   ]
  },
  {
   "cell_type": "code",
   "execution_count": 61,
   "metadata": {
    "execution": {
     "iopub.execute_input": "2020-11-02T13:12:12.625197Z",
     "iopub.status.busy": "2020-11-02T13:12:12.624450Z",
     "iopub.status.idle": "2020-11-02T13:12:12.633274Z",
     "shell.execute_reply": "2020-11-02T13:12:12.632349Z",
     "shell.execute_reply.started": "2020-11-02T13:12:12.625119Z"
    }
   },
   "outputs": [
    {
     "data": {
      "text/plain": [
       "array([[False, False, False,  True,  True, False, False, False],\n",
       "       [False,  True,  True, False,  True,  True, False,  True],\n",
       "       [False,  True,  True, False,  True,  True,  True, False],\n",
       "       [ True, False,  True,  True, False,  True, False, False],\n",
       "       [ True,  True, False, False,  True,  True,  True, False]])"
      ]
     },
     "execution_count": 61,
     "metadata": {},
     "output_type": "execute_result"
    }
   ],
   "source": [
    "a_masked.mask"
   ]
  },
  {
   "cell_type": "markdown",
   "metadata": {},
   "source": [
    "## Percentile"
   ]
  },
  {
   "cell_type": "code",
   "execution_count": 22,
   "metadata": {
    "execution": {
     "iopub.execute_input": "2020-11-11T10:13:22.970855Z",
     "iopub.status.busy": "2020-11-11T10:13:22.970620Z",
     "iopub.status.idle": "2020-11-11T10:13:22.985039Z",
     "shell.execute_reply": "2020-11-11T10:13:22.984427Z",
     "shell.execute_reply.started": "2020-11-11T10:13:22.970829Z"
    }
   },
   "outputs": [
    {
     "data": {
      "text/plain": [
       "101.0"
      ]
     },
     "execution_count": 22,
     "metadata": {},
     "output_type": "execute_result"
    }
   ],
   "source": [
    "a = np.random.randint(0, 1000, 100*100).reshape((1, 100, 100))\n",
    "np.percentile(a, 10)"
   ]
  },
  {
   "cell_type": "markdown",
   "metadata": {},
   "source": [
    "## Bool"
   ]
  },
  {
   "cell_type": "code",
   "execution_count": 32,
   "metadata": {
    "execution": {
     "iopub.execute_input": "2020-11-11T15:36:28.674578Z",
     "iopub.status.busy": "2020-11-11T15:36:28.674235Z",
     "iopub.status.idle": "2020-11-11T15:36:28.680063Z",
     "shell.execute_reply": "2020-11-11T15:36:28.679375Z",
     "shell.execute_reply.started": "2020-11-11T15:36:28.674538Z"
    }
   },
   "outputs": [
    {
     "name": "stdout",
     "output_type": "stream",
     "text": [
      "True\n",
      "[ True False False False]\n",
      "bool\n"
     ]
    }
   ],
   "source": [
    "a = np.array([0,1,2, np.nan])\n",
    "print(a.dtype == 'float64')\n",
    "print(a < 1)\n",
    "print((a >= 1).dtype)"
   ]
  },
  {
   "cell_type": "code",
   "execution_count": 34,
   "metadata": {
    "execution": {
     "iopub.execute_input": "2020-11-11T15:37:46.682435Z",
     "iopub.status.busy": "2020-11-11T15:37:46.682202Z",
     "iopub.status.idle": "2020-11-11T15:37:46.687872Z",
     "shell.execute_reply": "2020-11-11T15:37:46.686997Z",
     "shell.execute_reply.started": "2020-11-11T15:37:46.682409Z"
    }
   },
   "outputs": [
    {
     "data": {
      "text/plain": [
       "array([ True, False, False, False])"
      ]
     },
     "execution_count": 34,
     "metadata": {},
     "output_type": "execute_result"
    }
   ],
   "source": [
    "a = np.array([True, False, False, True])\n",
    "b = np.array([True, True, False, False])\n",
    "a & b"
   ]
  },
  {
   "cell_type": "code",
   "execution_count": 59,
   "metadata": {
    "execution": {
     "iopub.execute_input": "2020-11-11T15:47:38.002154Z",
     "iopub.status.busy": "2020-11-11T15:47:38.001869Z",
     "iopub.status.idle": "2020-11-11T15:47:38.007432Z",
     "shell.execute_reply": "2020-11-11T15:47:38.006726Z",
     "shell.execute_reply.started": "2020-11-11T15:47:38.002127Z"
    }
   },
   "outputs": [
    {
     "name": "stdout",
     "output_type": "stream",
     "text": [
      "[ 1  2  0 -1  3]\n",
      "[ True  True False  True  True]\n",
      "[1 0 0 1 1]\n"
     ]
    }
   ],
   "source": [
    "a = np.array([True, True, True, True, True])\n",
    "b = np.array([1, 2, 0, -1, 3])\n",
    "c = np.array([1, 2, 0, -1, 3])\n",
    "print(b)\n",
    "print(a & b.astype('bool'))\n",
    "print(a & b)"
   ]
  },
  {
   "cell_type": "code",
   "execution_count": 65,
   "metadata": {
    "execution": {
     "iopub.execute_input": "2020-11-11T15:50:30.715237Z",
     "iopub.status.busy": "2020-11-11T15:50:30.714853Z",
     "iopub.status.idle": "2020-11-11T15:50:30.719935Z",
     "shell.execute_reply": "2020-11-11T15:50:30.719093Z",
     "shell.execute_reply.started": "2020-11-11T15:50:30.715209Z"
    }
   },
   "outputs": [
    {
     "name": "stdout",
     "output_type": "stream",
     "text": [
      "[1 0 1 0 1 0]\n",
      "[0 0 0 0 1 1]\n"
     ]
    }
   ],
   "source": [
    "a = np.array([3,2,1,0,-1,-2])\n",
    "b = np.array([1,0,1,0, 1, 0])\n",
    "print(a & b)\n",
    "print((a < b).astype('int'))"
   ]
  },
  {
   "cell_type": "code",
   "execution_count": 105,
   "metadata": {
    "execution": {
     "iopub.execute_input": "2020-11-13T13:55:03.021939Z",
     "iopub.status.busy": "2020-11-13T13:55:03.021597Z",
     "iopub.status.idle": "2020-11-13T13:55:03.028635Z",
     "shell.execute_reply": "2020-11-13T13:55:03.027507Z",
     "shell.execute_reply.started": "2020-11-13T13:55:03.021898Z"
    }
   },
   "outputs": [
    {
     "data": {
      "text/plain": [
       "array([0, 3, 4])"
      ]
     },
     "execution_count": 105,
     "metadata": {},
     "output_type": "execute_result"
    }
   ],
   "source": [
    "a = np.array(range(5))\n",
    "b = np.array([1,0,0,1,1]).astype('bool')\n",
    "a[b]"
   ]
  },
  {
   "cell_type": "markdown",
   "metadata": {},
   "source": [
    "## isin"
   ]
  },
  {
   "cell_type": "code",
   "execution_count": 85,
   "metadata": {
    "execution": {
     "iopub.execute_input": "2020-11-18T12:15:57.635962Z",
     "iopub.status.busy": "2020-11-18T12:15:57.635729Z",
     "iopub.status.idle": "2020-11-18T12:15:57.640346Z",
     "shell.execute_reply": "2020-11-18T12:15:57.639746Z",
     "shell.execute_reply.started": "2020-11-18T12:15:57.635936Z"
    }
   },
   "outputs": [
    {
     "data": {
      "text/plain": [
       "array([[3, 0, 4, 5, 6, 3],\n",
       "       [5, 6, 0, 4, 6, 1],\n",
       "       [0, 0, 1, 5, 3, 6],\n",
       "       [4, 5, 4, 1, 0, 1]])"
      ]
     },
     "execution_count": 85,
     "metadata": {},
     "output_type": "execute_result"
    }
   ],
   "source": [
    "mask = np.random.randint(0, 7, 24).reshape((4,6))\n",
    "mask"
   ]
  },
  {
   "cell_type": "code",
   "execution_count": 124,
   "metadata": {
    "execution": {
     "iopub.execute_input": "2020-11-18T12:44:01.901156Z",
     "iopub.status.busy": "2020-11-18T12:44:01.900924Z",
     "iopub.status.idle": "2020-11-18T12:44:01.908822Z",
     "shell.execute_reply": "2020-11-18T12:44:01.907547Z",
     "shell.execute_reply.started": "2020-11-18T12:44:01.901129Z"
    }
   },
   "outputs": [
    {
     "data": {
      "text/plain": [
       "array([4, 0, 4, 0, 0])"
      ]
     },
     "execution_count": 124,
     "metadata": {},
     "output_type": "execute_result"
    }
   ],
   "source": [
    "max_sample_n = 5\n",
    "mask_values = [0,1,4]\n",
    "mask_bool = np.isin(mask.flatten(), mask_values)\n",
    "x, = np.where(mask_bool)\n",
    "idxs = np.random.choice(range(mask_bool.sum()), \n",
    "                        size=max_sample_n,\n",
    "                        replace=False)\n",
    "\n",
    "selector = x[idxs]\n",
    "mask.flatten()[selector]"
   ]
  },
  {
   "cell_type": "code",
   "execution_count": 109,
   "metadata": {
    "execution": {
     "iopub.execute_input": "2020-11-18T12:33:46.936630Z",
     "iopub.status.busy": "2020-11-18T12:33:46.936274Z",
     "iopub.status.idle": "2020-11-18T12:33:46.941624Z",
     "shell.execute_reply": "2020-11-18T12:33:46.940665Z",
     "shell.execute_reply.started": "2020-11-18T12:33:46.936586Z"
    }
   },
   "outputs": [
    {
     "data": {
      "text/plain": [
       "(array([ 1,  2,  8,  9, 11, 12, 13, 14, 18, 20, 21, 22, 23]),)"
      ]
     },
     "execution_count": 109,
     "metadata": {},
     "output_type": "execute_result"
    }
   ],
   "source": [
    "x"
   ]
  },
  {
   "cell_type": "code",
   "execution_count": 62,
   "metadata": {
    "execution": {
     "iopub.execute_input": "2020-11-18T10:54:58.091712Z",
     "iopub.status.busy": "2020-11-18T10:54:58.091483Z",
     "iopub.status.idle": "2020-11-18T10:54:58.098398Z",
     "shell.execute_reply": "2020-11-18T10:54:58.097517Z",
     "shell.execute_reply.started": "2020-11-18T10:54:58.091686Z"
    }
   },
   "outputs": [
    {
     "name": "stdout",
     "output_type": "stream",
     "text": [
      "[8 7 4 2 1]\n"
     ]
    },
    {
     "data": {
      "text/plain": [
       "array([0, 2, 2, 1, 2])"
      ]
     },
     "execution_count": 62,
     "metadata": {},
     "output_type": "execute_result"
    }
   ],
   "source": []
  },
  {
   "cell_type": "markdown",
   "metadata": {},
   "source": [
    "## Random selection"
   ]
  },
  {
   "cell_type": "code",
   "execution_count": 25,
   "metadata": {
    "execution": {
     "iopub.execute_input": "2020-11-18T10:15:22.204860Z",
     "iopub.status.busy": "2020-11-18T10:15:22.204556Z",
     "iopub.status.idle": "2020-11-18T10:15:22.209915Z",
     "shell.execute_reply": "2020-11-18T10:15:22.208970Z",
     "shell.execute_reply.started": "2020-11-18T10:15:22.204824Z"
    }
   },
   "outputs": [
    {
     "data": {
      "text/plain": [
       "array([2, 1, 0, 4, 3])"
      ]
     },
     "execution_count": 25,
     "metadata": {},
     "output_type": "execute_result"
    }
   ],
   "source": [
    "np.random.choice(range(5), size=5, replace=False)"
   ]
  },
  {
   "cell_type": "markdown",
   "metadata": {},
   "source": [
    "## カラムごとに異なる値を置換"
   ]
  },
  {
   "cell_type": "code",
   "execution_count": 226,
   "metadata": {
    "execution": {
     "iopub.execute_input": "2020-11-19T06:58:42.908237Z",
     "iopub.status.busy": "2020-11-19T06:58:42.907991Z",
     "iopub.status.idle": "2020-11-19T06:58:42.913669Z",
     "shell.execute_reply": "2020-11-19T06:58:42.912991Z",
     "shell.execute_reply.started": "2020-11-19T06:58:42.908211Z"
    }
   },
   "outputs": [
    {
     "name": "stdout",
     "output_type": "stream",
     "text": [
      "[[1. 0. 4. 5.]\n",
      " [1. 1. 3. 3.]\n",
      " [5. 2. 2. 5.]\n",
      " [0. 0. 3. 1.]\n",
      " [2. 1. 4. 1.]\n",
      " [2. 3. 0. 0.]\n",
      " [5. 4. 0. 3.]\n",
      " [1. 1. 5. 3.]]\n",
      "(1, 2, 3, 4)\n"
     ]
    }
   ],
   "source": [
    "a = np.random.randint(0, 6, 32).reshape((8,4)).astype('float32')\n",
    "# b = np.array((1, 2, 3, 4))\n",
    "b = (1, 2, 3, 4)\n",
    "print(a)\n",
    "print(b)"
   ]
  },
  {
   "cell_type": "code",
   "execution_count": 227,
   "metadata": {
    "execution": {
     "iopub.execute_input": "2020-11-19T06:58:47.246073Z",
     "iopub.status.busy": "2020-11-19T06:58:47.245741Z",
     "iopub.status.idle": "2020-11-19T06:58:47.251646Z",
     "shell.execute_reply": "2020-11-19T06:58:47.250752Z",
     "shell.execute_reply.started": "2020-11-19T06:58:47.246034Z"
    }
   },
   "outputs": [
    {
     "data": {
      "text/plain": [
       "array([[ True, False, False, False],\n",
       "       [ True, False,  True, False],\n",
       "       [False,  True, False, False],\n",
       "       [False, False,  True, False],\n",
       "       [False, False, False, False],\n",
       "       [False, False, False, False],\n",
       "       [False, False, False, False],\n",
       "       [ True, False, False, False]])"
      ]
     },
     "execution_count": 227,
     "metadata": {},
     "output_type": "execute_result"
    }
   ],
   "source": [
    "replace = np.equal(a, b)\n",
    "replace"
   ]
  },
  {
   "cell_type": "code",
   "execution_count": 228,
   "metadata": {
    "execution": {
     "iopub.execute_input": "2020-11-19T06:58:57.132646Z",
     "iopub.status.busy": "2020-11-19T06:58:57.132386Z",
     "iopub.status.idle": "2020-11-19T06:58:57.137315Z",
     "shell.execute_reply": "2020-11-19T06:58:57.136465Z",
     "shell.execute_reply.started": "2020-11-19T06:58:57.132615Z"
    }
   },
   "outputs": [
    {
     "name": "stdout",
     "output_type": "stream",
     "text": [
      "[[nan  0.  4.  5.]\n",
      " [nan  1. nan  3.]\n",
      " [ 5. nan  2.  5.]\n",
      " [ 0.  0. nan  1.]\n",
      " [ 2.  1.  4.  1.]\n",
      " [ 2.  3.  0.  0.]\n",
      " [ 5.  4.  0.  3.]\n",
      " [nan  1.  5.  3.]]\n"
     ]
    }
   ],
   "source": [
    "a[replace] = np.nan\n",
    "print(a)"
   ]
  },
  {
   "cell_type": "code",
   "execution_count": 233,
   "metadata": {
    "execution": {
     "iopub.execute_input": "2020-11-19T07:00:59.230556Z",
     "iopub.status.busy": "2020-11-19T07:00:59.230298Z",
     "iopub.status.idle": "2020-11-19T07:00:59.235612Z",
     "shell.execute_reply": "2020-11-19T07:00:59.234991Z",
     "shell.execute_reply.started": "2020-11-19T07:00:59.230525Z"
    }
   },
   "outputs": [
    {
     "data": {
      "text/plain": [
       "array([2.8      , 1.4285715, 2.5      , 2.625    ], dtype=float32)"
      ]
     },
     "execution_count": 233,
     "metadata": {},
     "output_type": "execute_result"
    }
   ],
   "source": [
    "np.nanmean(a, axis=0)"
   ]
  },
  {
   "cell_type": "code",
   "execution_count": 221,
   "metadata": {
    "execution": {
     "iopub.execute_input": "2020-11-18T22:09:40.008697Z",
     "iopub.status.busy": "2020-11-18T22:09:40.008461Z",
     "iopub.status.idle": "2020-11-18T22:09:40.012993Z",
     "shell.execute_reply": "2020-11-18T22:09:40.012335Z",
     "shell.execute_reply.started": "2020-11-18T22:09:40.008670Z"
    }
   },
   "outputs": [
    {
     "name": "stdout",
     "output_type": "stream",
     "text": [
      "[[  3   1   1   3]\n",
      " [  3   1   2 400]\n",
      " [  3   3   1   0]\n",
      " [  2   0 300   1]\n",
      " [100   0   1   2]\n",
      " [  5 200   0 400]\n",
      " [100   3   5   0]\n",
      " [  5   3   0   3]]\n"
     ]
    }
   ],
   "source": [
    "a[replace] = (np.tile(np.array(b) * 100,\n",
    "                      (a.shape[0],1)))[replace]\n",
    "print(a)"
   ]
  },
  {
   "cell_type": "code",
   "execution_count": null,
   "metadata": {},
   "outputs": [],
   "source": []
  },
  {
   "cell_type": "code",
   "execution_count": null,
   "metadata": {},
   "outputs": [],
   "source": []
  },
  {
   "cell_type": "code",
   "execution_count": null,
   "metadata": {},
   "outputs": [],
   "source": []
  },
  {
   "cell_type": "code",
   "execution_count": null,
   "metadata": {},
   "outputs": [],
   "source": []
  }
 ],
 "metadata": {
  "kernelspec": {
   "display_name": "Python 3",
   "language": "python",
   "name": "python3"
  },
  "language_info": {
   "codemirror_mode": {
    "name": "ipython",
    "version": 3
   },
   "file_extension": ".py",
   "mimetype": "text/x-python",
   "name": "python",
   "nbconvert_exporter": "python",
   "pygments_lexer": "ipython3",
   "version": "3.8.6"
  },
  "toc-autonumbering": true
 },
 "nbformat": 4,
 "nbformat_minor": 4
}
