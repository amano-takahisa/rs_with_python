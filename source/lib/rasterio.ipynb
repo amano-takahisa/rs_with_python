{
 "cells": [
  {
   "cell_type": "markdown",
   "metadata": {},
   "source": [
    "# Rasterio\n",
    "- [公式ドキュメント](https://rasterio.readthedocs.io/en/latest/)\n",
    "- [リポジトリ](https://github.com/mapbox/rasterio/)"
   ]
  },
  {
   "cell_type": "code",
   "execution_count": 76,
   "metadata": {},
   "outputs": [],
   "source": [
    "import rasterio\n",
    "import numpy as np\n",
    "import rasterio.windows\n",
    "import rasterio.plot\n",
    "import rasterio.features\n",
    "import geopandas as gpd\n",
    "import random"
   ]
  },
  {
   "cell_type": "markdown",
   "metadata": {},
   "source": [
    "## 作成"
   ]
  },
  {
   "cell_type": "code",
   "execution_count": 21,
   "metadata": {},
   "outputs": [
    {
     "data": {
      "text/plain": [
       "array([[[184, 202, 180, ...,  44, 174, 171],\n",
       "        [ 12, 191,  12, ...,   7,  54, 153],\n",
       "        [193,  42,  62, ...,  29, 211, 116],\n",
       "        ...,\n",
       "        [ 84,  48,  42, ..., 215, 147, 210],\n",
       "        [ 53,  63, 183, ..., 219, 168, 165],\n",
       "        [169,  30, 100, ..., 223, 218, 223]],\n",
       "\n",
       "       [[  0,   1,   2, ...,  37,  38,  39],\n",
       "        [ 40,  41,  42, ...,  77,  78,  79],\n",
       "        [ 80,  81,  82, ..., 117, 118, 119],\n",
       "        ...,\n",
       "        [ 88,  89,  90, ..., 125, 126, 127],\n",
       "        [128, 129, 130, ..., 165, 166, 167],\n",
       "        [168, 169, 170, ..., 205, 206, 207]],\n",
       "\n",
       "       [[  0,  50, 100, ...,  58, 108, 158],\n",
       "        [  1,  51, 101, ...,  59, 109, 159],\n",
       "        [  2,  52, 102, ...,  60, 110, 160],\n",
       "        ...,\n",
       "        [ 47,  97, 147, ..., 105, 155, 205],\n",
       "        [ 48,  98, 148, ..., 106, 156, 206],\n",
       "        [ 49,  99, 149, ..., 107, 157, 207]]], dtype=uint8)"
      ]
     },
     "execution_count": 21,
     "metadata": {},
     "output_type": "execute_result"
    }
   ],
   "source": [
    "array0 = (np.random.randint(0, 225, 2000).reshape((40, 50))).astype('uint8').T\n",
    "array1 = (np.array(range(2000)).reshape((50, 40)) % 256).astype('uint8')\n",
    "array2 = (np.array(range(2000)).reshape((40, 50)) % 256).astype('uint8').T\n",
    "array = np.array((array0, array1, array2))\n",
    "array"
   ]
  },
  {
   "cell_type": "code",
   "execution_count": 3,
   "metadata": {},
   "outputs": [],
   "source": [
    "profile = rasterio.profiles.DefaultGTiffProfile()"
   ]
  },
  {
   "cell_type": "code",
   "execution_count": 24,
   "metadata": {},
   "outputs": [],
   "source": [
    "profile['count'], profile['height'], profile['width'] = array.shape"
   ]
  },
  {
   "cell_type": "code",
   "execution_count": 23,
   "metadata": {},
   "outputs": [
    {
     "data": {
      "text/plain": [
       "{'driver': 'GTiff', 'interleave': 'band', 'tiled': True, 'blockxsize': 256, 'blockysize': 256, 'compress': 'lzw', 'nodata': 0, 'dtype': 'uint8', 'transform': Affine(0.025, 0.0, 139.0,\n",
       "       0.0, -0.02, 36.0), 'crs': CRS.from_epsg(4326), 'count': 2, 'height': 30, 'width': 40}"
      ]
     },
     "execution_count": 23,
     "metadata": {},
     "output_type": "execute_result"
    }
   ],
   "source": [
    "profile['transform'] =  rasterio.transform.from_bounds(west=139,\n",
    "                                                       south=35,\n",
    "                                                       east=140,\n",
    "                                                       north=36,\n",
    "                                                       width=array.shape[2],\n",
    "                                                       height=array.shape[1])\n",
    "profile['crs'] = rasterio.crs.CRS.from_epsg(4326)\n",
    "profile"
   ]
  },
  {
   "cell_type": "markdown",
   "metadata": {},
   "source": [
    "## read/write"
   ]
  },
  {
   "cell_type": "code",
   "execution_count": 25,
   "metadata": {},
   "outputs": [],
   "source": [
    "with rasterio.open('data/raster_4326.tif','w', **profile) as dst:\n",
    "    dst.write(array)"
   ]
  },
  {
   "cell_type": "code",
   "execution_count": 30,
   "metadata": {},
   "outputs": [
    {
     "data": {
      "text/plain": [
       "array([[[184, 202, 180, ...,  44, 174, 171],\n",
       "        [ 12, 191,  12, ...,   7,  54, 153],\n",
       "        [193,  42,  62, ...,  29, 211, 116],\n",
       "        ...,\n",
       "        [ 84,  48,  42, ..., 215, 147, 210],\n",
       "        [ 53,  63, 183, ..., 219, 168, 165],\n",
       "        [169,  30, 100, ..., 223, 218, 223]],\n",
       "\n",
       "       [[  0,   1,   2, ...,  37,  38,  39],\n",
       "        [ 40,  41,  42, ...,  77,  78,  79],\n",
       "        [ 80,  81,  82, ..., 117, 118, 119],\n",
       "        ...,\n",
       "        [ 88,  89,  90, ..., 125, 126, 127],\n",
       "        [128, 129, 130, ..., 165, 166, 167],\n",
       "        [168, 169, 170, ..., 205, 206, 207]],\n",
       "\n",
       "       [[  0,  50, 100, ...,  58, 108, 158],\n",
       "        [  1,  51, 101, ...,  59, 109, 159],\n",
       "        [  2,  52, 102, ...,  60, 110, 160],\n",
       "        ...,\n",
       "        [ 47,  97, 147, ..., 105, 155, 205],\n",
       "        [ 48,  98, 148, ..., 106, 156, 206],\n",
       "        [ 49,  99, 149, ..., 107, 157, 207]]], dtype=uint8)"
      ]
     },
     "execution_count": 30,
     "metadata": {},
     "output_type": "execute_result"
    }
   ],
   "source": [
    "array"
   ]
  },
  {
   "cell_type": "markdown",
   "metadata": {},
   "source": [
    "## plot"
   ]
  },
  {
   "cell_type": "code",
   "execution_count": 40,
   "metadata": {},
   "outputs": [
    {
     "data": {
      "text/plain": [
       "0.0"
      ]
     },
     "execution_count": 40,
     "metadata": {},
     "output_type": "execute_result"
    }
   ],
   "source": [
    "(array/255).min()"
   ]
  },
  {
   "cell_type": "code",
   "execution_count": 46,
   "metadata": {},
   "outputs": [
    {
     "data": {
      "image/png": "[encoded data removed]",
      "text/plain": [
       "<Figure size 432x288 with 1 Axes>"
      ]
     },
     "metadata": {
      "needs_background": "light"
     },
     "output_type": "display_data"
    },
    {
     "data": {
      "text/plain": [
       "<matplotlib.axes._subplots.AxesSubplot at 0x7f85c9ea3fd0>"
      ]
     },
     "execution_count": 46,
     "metadata": {},
     "output_type": "execute_result"
    }
   ],
   "source": [
    "import rasterio.plot\n",
    "rasterio.plot.show((array/255).astype('float32'))\n"
   ]
  },
  {
   "cell_type": "markdown",
   "metadata": {},
   "source": [
    "## Get coordinates"
   ]
  },
  {
   "cell_type": "code",
   "execution_count": 26,
   "metadata": {},
   "outputs": [
    {
     "data": {
      "text/plain": [
       "(139.0375, 35.97)"
      ]
     },
     "execution_count": 26,
     "metadata": {},
     "output_type": "execute_result"
    }
   ],
   "source": [
    "rasterio.transform.xy(transform =profile[\"transform\"],\n",
    "                      rows=1, cols=1, offset='center')"
   ]
  },
  {
   "cell_type": "code",
   "execution_count": 27,
   "metadata": {},
   "outputs": [
    {
     "data": {
      "text/plain": [
       "Affine(0.025, 0.0, 139.0,\n",
       "       0.0, -0.02, 36.0)"
      ]
     },
     "execution_count": 27,
     "metadata": {},
     "output_type": "execute_result"
    }
   ],
   "source": [
    "\n",
    "profile[\"transform\"]"
   ]
  },
  {
   "cell_type": "markdown",
   "metadata": {},
   "source": [
    "## profile"
   ]
  },
  {
   "cell_type": "code",
   "execution_count": 60,
   "metadata": {},
   "outputs": [
    {
     "data": {
      "text/plain": [
       "['_MutableMapping__marker',\n",
       " '__abstractmethods__',\n",
       " '__class__',\n",
       " '__contains__',\n",
       " '__copy__',\n",
       " '__delattr__',\n",
       " '__delitem__',\n",
       " '__dict__',\n",
       " '__dir__',\n",
       " '__doc__',\n",
       " '__eq__',\n",
       " '__format__',\n",
       " '__ge__',\n",
       " '__getattribute__',\n",
       " '__getitem__',\n",
       " '__gt__',\n",
       " '__hash__',\n",
       " '__init__',\n",
       " '__init_subclass__',\n",
       " '__iter__',\n",
       " '__le__',\n",
       " '__len__',\n",
       " '__lt__',\n",
       " '__module__',\n",
       " '__ne__',\n",
       " '__new__',\n",
       " '__reduce__',\n",
       " '__reduce_ex__',\n",
       " '__repr__',\n",
       " '__reversed__',\n",
       " '__setattr__',\n",
       " '__setitem__',\n",
       " '__sizeof__',\n",
       " '__slots__',\n",
       " '__str__',\n",
       " '__subclasshook__',\n",
       " '__weakref__',\n",
       " '_abc_impl',\n",
       " 'clear',\n",
       " 'copy',\n",
       " 'data',\n",
       " 'defaults',\n",
       " 'fromkeys',\n",
       " 'get',\n",
       " 'items',\n",
       " 'keys',\n",
       " 'pop',\n",
       " 'popitem',\n",
       " 'setdefault',\n",
       " 'update',\n",
       " 'values']"
      ]
     },
     "execution_count": 60,
     "metadata": {},
     "output_type": "execute_result"
    }
   ],
   "source": [
    "with rasterio.open('data/raster_4326.tif') as src:\n",
    "    profile = src.profile\n",
    "dir(profile)"
   ]
  },
  {
   "cell_type": "markdown",
   "metadata": {},
   "source": [
    "## Windows"
   ]
  },
  {
   "cell_type": "code",
   "execution_count": 65,
   "metadata": {},
   "outputs": [],
   "source": []
  },
  {
   "cell_type": "code",
   "execution_count": 66,
   "metadata": {},
   "outputs": [],
   "source": [
    "# change tile size \n",
    "with rasterio.open('data/raster_4326.tif') as src:\n",
    "    array = src.read()\n",
    "    profile = src.profile\n",
    "    profile.update({'blockxsize':16,\n",
    "                    'blockysize':16})\n",
    "    with rasterio.open('data/raster_4326_blk-10.tif', 'w', **profile) as dst:\n",
    "        dst.write(array)"
   ]
  },
  {
   "cell_type": "code",
   "execution_count": 67,
   "metadata": {},
   "outputs": [
    {
     "data": {
      "text/plain": [
       "{'driver': 'GTiff', 'dtype': 'uint8', 'nodata': 0.0, 'width': 40, 'height': 50, 'count': 3, 'crs': CRS.from_epsg(4326), 'transform': Affine(0.025, 0.0, 139.0,\n",
       "       0.0, -0.02, 36.0), 'blockxsize': 16, 'blockysize': 16, 'tiled': True, 'compress': 'lzw', 'interleave': 'band'}"
      ]
     },
     "execution_count": 67,
     "metadata": {},
     "output_type": "execute_result"
    }
   ],
   "source": [
    "profile"
   ]
  },
  {
   "cell_type": "code",
   "execution_count": 68,
   "metadata": {},
   "outputs": [
    {
     "name": "stdout",
     "output_type": "stream",
     "text": [
      "[((0, 0), Window(col_off=0, row_off=0, width=16, height=16)), ((0, 1), Window(col_off=16, row_off=0, width=16, height=16)), ((0, 2), Window(col_off=32, row_off=0, width=8, height=16)), ((1, 0), Window(col_off=0, row_off=16, width=16, height=16)), ((1, 1), Window(col_off=16, row_off=16, width=16, height=16)), ((1, 2), Window(col_off=32, row_off=16, width=8, height=16)), ((2, 0), Window(col_off=0, row_off=32, width=16, height=16)), ((2, 1), Window(col_off=16, row_off=32, width=16, height=16)), ((2, 2), Window(col_off=32, row_off=32, width=8, height=16)), ((3, 0), Window(col_off=0, row_off=48, width=16, height=2)), ((3, 1), Window(col_off=16, row_off=48, width=16, height=2)), ((3, 2), Window(col_off=32, row_off=48, width=8, height=2))]\n"
     ]
    }
   ],
   "source": [
    "with rasterio.MemoryFile() as memfile:\n",
    "    with memfile.open(**profile) as src:\n",
    "        windows = list(src.block_windows())\n",
    "print(windows)"
   ]
  },
  {
   "cell_type": "code",
   "execution_count": 104,
   "metadata": {},
   "outputs": [
    {
     "data": {
      "image/png": "[encoded data removed]",
      "text/plain": [
       "<Figure size 432x288 with 1 Axes>"
      ]
     },
     "metadata": {
      "needs_background": "light"
     },
     "output_type": "display_data"
    }
   ],
   "source": [
    "def as_rasterio_datareader(array, profile):\n",
    "    def wrapper(func):\n",
    "        def _wrapper(*args, **kwargs):\n",
    "            with rasterio.MemoryFile() as memfile:\n",
    "                with memfile.open(**profile) as src:\n",
    "                    src.write(array)\n",
    "                with rasterio.open(memfile) as src:\n",
    "                    return func(src)\n",
    "        return _wrapper\n",
    "    return wrapper\n",
    "@as_rasterio_datareader(array = array, profile = profile)\n",
    "def myplot(src):\n",
    "    rasterio.plot.show(src)\n",
    "\n",
    "myplot(array=array, profile=profile)"
   ]
  },
  {
   "cell_type": "code",
   "execution_count": 98,
   "metadata": {},
   "outputs": [
    {
     "data": {
      "image/png": "[encoded data removed]",
      "text/plain": [
       "<Figure size 432x288 with 1 Axes>"
      ]
     },
     "metadata": {
      "needs_background": "light"
     },
     "output_type": "display_data"
    }
   ],
   "source": [
    "with rasterio.MemoryFile() as memfile:\n",
    "    with memfile.open(**profile) as src:\n",
    "        src.write(array)\n",
    "    with rasterio.open(memfile) as src:\n",
    "        rasterio.plot.show(src)"
   ]
  },
  {
   "cell_type": "markdown",
   "metadata": {},
   "source": [
    "## Rasterize"
   ]
  },
  {
   "cell_type": "code",
   "execution_count": 60,
   "metadata": {},
   "outputs": [
    {
     "data": {
      "text/plain": [
       "<matplotlib.axes._subplots.AxesSubplot at 0x7fda12ea9810>"
      ]
     },
     "execution_count": 60,
     "metadata": {},
     "output_type": "execute_result"
    },
    {
     "data": {
      "image/png": "[encoded data removed]",
      "text/plain": [
       "<Figure size 432x288 with 1 Axes>"
      ]
     },
     "metadata": {
      "needs_background": "light"
     },
     "output_type": "display_data"
    }
   ],
   "source": [
    "vector_gdf = gpd.read_file('data/r_points_buff.shp')\n",
    "vector_gdf['cat'] = [random.randint(0, 5) for i in range(len(vector_gdf))]\n",
    "vector_gdf.plot(column='cat')"
   ]
  },
  {
   "cell_type": "code",
   "execution_count": 63,
   "metadata": {},
   "outputs": [
    {
     "data": {
      "text/html": [
       "<div>\n",
       "<style scoped>\n",
       "    .dataframe tbody tr th:only-of-type {\n",
       "        vertical-align: middle;\n",
       "    }\n",
       "\n",
       "    .dataframe tbody tr th {\n",
       "        vertical-align: top;\n",
       "    }\n",
       "\n",
       "    .dataframe thead th {\n",
       "        text-align: right;\n",
       "    }\n",
       "</style>\n",
       "<table border=\"1\" class=\"dataframe\">\n",
       "  <thead>\n",
       "    <tr style=\"text-align: right;\">\n",
       "      <th></th>\n",
       "      <th>class</th>\n",
       "      <th>geometry</th>\n",
       "      <th>cat</th>\n",
       "    </tr>\n",
       "  </thead>\n",
       "  <tbody>\n",
       "    <tr>\n",
       "      <th>0</th>\n",
       "      <td>a</td>\n",
       "      <td>POLYGON ((139.85215 35.83012, 139.85191 35.825...</td>\n",
       "      <td>1</td>\n",
       "    </tr>\n",
       "    <tr>\n",
       "      <th>1</th>\n",
       "      <td>c</td>\n",
       "      <td>POLYGON ((139.61260 35.00986, 139.61236 35.004...</td>\n",
       "      <td>4</td>\n",
       "    </tr>\n",
       "    <tr>\n",
       "      <th>2</th>\n",
       "      <td>a</td>\n",
       "      <td>POLYGON ((139.50344 35.24756, 139.50320 35.242...</td>\n",
       "      <td>4</td>\n",
       "    </tr>\n",
       "    <tr>\n",
       "      <th>3</th>\n",
       "      <td>b</td>\n",
       "      <td>POLYGON ((140.00679 35.66969, 140.00655 35.664...</td>\n",
       "      <td>0</td>\n",
       "    </tr>\n",
       "    <tr>\n",
       "      <th>4</th>\n",
       "      <td>a</td>\n",
       "      <td>POLYGON ((139.62810 35.83197, 139.62786 35.827...</td>\n",
       "      <td>0</td>\n",
       "    </tr>\n",
       "    <tr>\n",
       "      <th>...</th>\n",
       "      <td>...</td>\n",
       "      <td>...</td>\n",
       "      <td>...</td>\n",
       "    </tr>\n",
       "    <tr>\n",
       "      <th>95</th>\n",
       "      <td>e</td>\n",
       "      <td>POLYGON ((139.90639 35.63182, 139.90615 35.626...</td>\n",
       "      <td>4</td>\n",
       "    </tr>\n",
       "    <tr>\n",
       "      <th>96</th>\n",
       "      <td>e</td>\n",
       "      <td>POLYGON ((139.33897 35.80853, 139.33873 35.803...</td>\n",
       "      <td>5</td>\n",
       "    </tr>\n",
       "    <tr>\n",
       "      <th>97</th>\n",
       "      <td>b</td>\n",
       "      <td>POLYGON ((139.70650 35.13089, 139.70626 35.125...</td>\n",
       "      <td>4</td>\n",
       "    </tr>\n",
       "    <tr>\n",
       "      <th>98</th>\n",
       "      <td>a</td>\n",
       "      <td>POLYGON ((139.10659 35.45623, 139.10635 35.451...</td>\n",
       "      <td>4</td>\n",
       "    </tr>\n",
       "    <tr>\n",
       "      <th>99</th>\n",
       "      <td>d</td>\n",
       "      <td>POLYGON ((139.44110 35.36762, 139.44086 35.362...</td>\n",
       "      <td>3</td>\n",
       "    </tr>\n",
       "  </tbody>\n",
       "</table>\n",
       "<p>100 rows × 3 columns</p>\n",
       "</div>"
      ],
      "text/plain": [
       "   class                                           geometry  cat\n",
       "0      a  POLYGON ((139.85215 35.83012, 139.85191 35.825...    1\n",
       "1      c  POLYGON ((139.61260 35.00986, 139.61236 35.004...    4\n",
       "2      a  POLYGON ((139.50344 35.24756, 139.50320 35.242...    4\n",
       "3      b  POLYGON ((140.00679 35.66969, 140.00655 35.664...    0\n",
       "4      a  POLYGON ((139.62810 35.83197, 139.62786 35.827...    0\n",
       "..   ...                                                ...  ...\n",
       "95     e  POLYGON ((139.90639 35.63182, 139.90615 35.626...    4\n",
       "96     e  POLYGON ((139.33897 35.80853, 139.33873 35.803...    5\n",
       "97     b  POLYGON ((139.70650 35.13089, 139.70626 35.125...    4\n",
       "98     a  POLYGON ((139.10659 35.45623, 139.10635 35.451...    4\n",
       "99     d  POLYGON ((139.44110 35.36762, 139.44086 35.362...    3\n",
       "\n",
       "[100 rows x 3 columns]"
      ]
     },
     "execution_count": 63,
     "metadata": {},
     "output_type": "execute_result"
    }
   ],
   "source": [
    "vector_gdf"
   ]
  },
  {
   "cell_type": "markdown",
   "metadata": {},
   "source": [
    "## Reference"
   ]
  },
  {
   "cell_type": "code",
   "execution_count": 126,
   "metadata": {},
   "outputs": [
    {
     "name": "stdout",
     "output_type": "stream",
     "text": [
      "BoundingBox(left=139.0, bottom=35.0, right=140.0, top=36.0)\n"
     ]
    },
    {
     "ename": "RasterioIOError",
     "evalue": "Dataset is closed: /vsimem/145109e4-5676-4563-ad46-5f96cc38ea69/145109e4-5676-4563-ad46-5f96cc38ea69.",
     "output_type": "error",
     "traceback": [
      "\u001b[0;31m---------------------------------------------------------------------------\u001b[0m",
      "\u001b[0;31mRasterioIOError\u001b[0m                           Traceback (most recent call last)",
      "\u001b[0;32m<ipython-input-126-e8057393a2d3>\u001b[0m in \u001b[0;36m<module>\u001b[0;34m\u001b[0m\n\u001b[1;32m     10\u001b[0m         \u001b[0m_memfile\u001b[0m \u001b[0;34m=\u001b[0m \u001b[0msrc\u001b[0m\u001b[0;34m\u001b[0m\u001b[0;34m\u001b[0m\u001b[0m\n\u001b[1;32m     11\u001b[0m \u001b[0mprint\u001b[0m\u001b[0;34m(\u001b[0m\u001b[0m_memfile\u001b[0m\u001b[0;34m.\u001b[0m\u001b[0mbounds\u001b[0m\u001b[0;34m)\u001b[0m\u001b[0;34m\u001b[0m\u001b[0;34m\u001b[0m\u001b[0m\n\u001b[0;32m---> 12\u001b[0;31m \u001b[0mprint\u001b[0m\u001b[0;34m(\u001b[0m\u001b[0mlist\u001b[0m\u001b[0;34m(\u001b[0m\u001b[0m_memfile\u001b[0m\u001b[0;34m.\u001b[0m\u001b[0mblock_windows\u001b[0m\u001b[0;34m(\u001b[0m\u001b[0;34m)\u001b[0m\u001b[0;34m)\u001b[0m\u001b[0;34m)\u001b[0m\u001b[0;34m\u001b[0m\u001b[0;34m\u001b[0m\u001b[0m\n\u001b[0m",
      "\u001b[0;32mrasterio/_base.pyx\u001b[0m in \u001b[0;36mblock_windows\u001b[0;34m()\u001b[0m\n",
      "\u001b[0;32mrasterio/_base.pyx\u001b[0m in \u001b[0;36mrasterio._base.DatasetBase.block_shapes.__get__\u001b[0;34m()\u001b[0m\n",
      "\u001b[0;32mrasterio/_base.pyx\u001b[0m in \u001b[0;36mrasterio._base.DatasetBase.band\u001b[0;34m()\u001b[0m\n",
      "\u001b[0;32mrasterio/_base.pyx\u001b[0m in \u001b[0;36mrasterio._base.DatasetBase.handle\u001b[0;34m()\u001b[0m\n",
      "\u001b[0;31mRasterioIOError\u001b[0m: Dataset is closed: /vsimem/145109e4-5676-4563-ad46-5f96cc38ea69/145109e4-5676-4563-ad46-5f96cc38ea69."
     ]
    }
   ],
   "source": [
    "array = np.array(range(24), dtype='uint8').reshape((2,3,4))\n",
    "profile = rasterio.profiles.DefaultGTiffProfile()\n",
    "profile['count'], profile['height'], profile['width'] = array.shape\n",
    "profile['transform'] = rasterio.transform.from_bounds(\n",
    "    west=139, south=35, east=140, north=36,\n",
    "    width=array.shape[2], height=array.shape[1])\n",
    "profile['crs'] = rasterio.crs.CRS.from_epsg(4326)\n",
    "with rasterio.MemoryFile() as memfile:\n",
    "    with memfile.open(**profile) as src:\n",
    "        _memfile = src\n",
    "print(_memfile.bounds)\n",
    "print(list(_memfile.block_windows()))"
   ]
  },
  {
   "cell_type": "code",
   "execution_count": 128,
   "metadata": {},
   "outputs": [
    {
     "ename": "OSError",
     "evalue": "I/O operation on closed file.",
     "output_type": "error",
     "traceback": [
      "\u001b[0;31m---------------------------------------------------------------------------\u001b[0m",
      "\u001b[0;31mOSError\u001b[0m                                   Traceback (most recent call last)",
      "\u001b[0;32m<ipython-input-128-eb925e4fd5ed>\u001b[0m in \u001b[0;36m<module>\u001b[0;34m\u001b[0m\n\u001b[0;32m----> 1\u001b[0;31m \u001b[0msrc\u001b[0m \u001b[0;34m=\u001b[0m \u001b[0mmemfile\u001b[0m\u001b[0;34m.\u001b[0m\u001b[0mopen\u001b[0m\u001b[0;34m(\u001b[0m\u001b[0;34m**\u001b[0m\u001b[0mprofile\u001b[0m\u001b[0;34m)\u001b[0m\u001b[0;34m\u001b[0m\u001b[0;34m\u001b[0m\u001b[0m\n\u001b[0m\u001b[1;32m      2\u001b[0m \u001b[0m_memfile\u001b[0m \u001b[0;34m=\u001b[0m \u001b[0msrc\u001b[0m\u001b[0;34m\u001b[0m\u001b[0;34m\u001b[0m\u001b[0m\n\u001b[1;32m      3\u001b[0m \u001b[0m_memfile\u001b[0m\u001b[0;34m.\u001b[0m\u001b[0mbounds\u001b[0m\u001b[0;34m\u001b[0m\u001b[0;34m\u001b[0m\u001b[0m\n\u001b[1;32m      4\u001b[0m \u001b[0msrc\u001b[0m\u001b[0;34m.\u001b[0m\u001b[0mflush\u001b[0m\u001b[0;34m(\u001b[0m\u001b[0;34m)\u001b[0m\u001b[0;34m\u001b[0m\u001b[0;34m\u001b[0m\u001b[0m\n\u001b[1;32m      5\u001b[0m \u001b[0msrc\u001b[0m\u001b[0;34m.\u001b[0m\u001b[0mclose\u001b[0m\u001b[0;34m(\u001b[0m\u001b[0;34m)\u001b[0m\u001b[0;34m\u001b[0m\u001b[0;34m\u001b[0m\u001b[0m\n",
      "\u001b[0;32m/cats/datastore3/anaconda3_envs/takahisa/lib/python3.7/site-packages/rasterio/env.py\u001b[0m in \u001b[0;36mwrapper\u001b[0;34m(*args, **kwds)\u001b[0m\n\u001b[1;32m    383\u001b[0m         \u001b[0;32melse\u001b[0m\u001b[0;34m:\u001b[0m\u001b[0;34m\u001b[0m\u001b[0;34m\u001b[0m\u001b[0m\n\u001b[1;32m    384\u001b[0m             \u001b[0;32mwith\u001b[0m \u001b[0mEnv\u001b[0m\u001b[0;34m.\u001b[0m\u001b[0mfrom_defaults\u001b[0m\u001b[0;34m(\u001b[0m\u001b[0;34m)\u001b[0m\u001b[0;34m:\u001b[0m\u001b[0;34m\u001b[0m\u001b[0;34m\u001b[0m\u001b[0m\n\u001b[0;32m--> 385\u001b[0;31m                 \u001b[0;32mreturn\u001b[0m \u001b[0mf\u001b[0m\u001b[0;34m(\u001b[0m\u001b[0;34m*\u001b[0m\u001b[0margs\u001b[0m\u001b[0;34m,\u001b[0m \u001b[0;34m**\u001b[0m\u001b[0mkwds\u001b[0m\u001b[0;34m)\u001b[0m\u001b[0;34m\u001b[0m\u001b[0;34m\u001b[0m\u001b[0m\n\u001b[0m\u001b[1;32m    386\u001b[0m     \u001b[0;32mreturn\u001b[0m \u001b[0mwrapper\u001b[0m\u001b[0;34m\u001b[0m\u001b[0;34m\u001b[0m\u001b[0m\n\u001b[1;32m    387\u001b[0m \u001b[0;34m\u001b[0m\u001b[0m\n",
      "\u001b[0;32m/cats/datastore3/anaconda3_envs/takahisa/lib/python3.7/site-packages/rasterio/io.py\u001b[0m in \u001b[0;36mopen\u001b[0;34m(self, driver, width, height, count, crs, transform, dtype, nodata, sharing, **kwargs)\u001b[0m\n\u001b[1;32m    125\u001b[0m \u001b[0;34m\u001b[0m\u001b[0m\n\u001b[1;32m    126\u001b[0m         \u001b[0;32mif\u001b[0m \u001b[0mself\u001b[0m\u001b[0;34m.\u001b[0m\u001b[0mclosed\u001b[0m\u001b[0;34m:\u001b[0m\u001b[0;34m\u001b[0m\u001b[0;34m\u001b[0m\u001b[0m\n\u001b[0;32m--> 127\u001b[0;31m             \u001b[0;32mraise\u001b[0m \u001b[0mIOError\u001b[0m\u001b[0;34m(\u001b[0m\u001b[0;34m\"I/O operation on closed file.\"\u001b[0m\u001b[0;34m)\u001b[0m\u001b[0;34m\u001b[0m\u001b[0;34m\u001b[0m\u001b[0m\n\u001b[0m\u001b[1;32m    128\u001b[0m         \u001b[0;32mif\u001b[0m \u001b[0mlen\u001b[0m\u001b[0;34m(\u001b[0m\u001b[0mself\u001b[0m\u001b[0;34m)\u001b[0m \u001b[0;34m>\u001b[0m \u001b[0;36m0\u001b[0m\u001b[0;34m:\u001b[0m\u001b[0;34m\u001b[0m\u001b[0;34m\u001b[0m\u001b[0m\n\u001b[1;32m    129\u001b[0m             \u001b[0mlog\u001b[0m\u001b[0;34m.\u001b[0m\u001b[0mdebug\u001b[0m\u001b[0;34m(\u001b[0m\u001b[0;34m\"VSI path: {}\"\u001b[0m\u001b[0;34m.\u001b[0m\u001b[0mformat\u001b[0m\u001b[0;34m(\u001b[0m\u001b[0mmempath\u001b[0m\u001b[0;34m.\u001b[0m\u001b[0mpath\u001b[0m\u001b[0;34m)\u001b[0m\u001b[0;34m)\u001b[0m\u001b[0;34m\u001b[0m\u001b[0;34m\u001b[0m\u001b[0m\n",
      "\u001b[0;31mOSError\u001b[0m: I/O operation on closed file."
     ]
    }
   ],
   "source": [
    "src = memfile.open(**profile)\n",
    "_memfile = src\n",
    "_memfile.bounds\n",
    "src.flush()\n",
    "src.close()\n"
   ]
  }
 ],
 "metadata": {
  "kernelspec": {
   "display_name": "Python 3",
   "language": "python",
   "name": "python3"
  },
  "language_info": {
   "codemirror_mode": {
    "name": "ipython",
    "version": 3
   },
   "file_extension": ".py",
   "mimetype": "text/x-python",
   "name": "python",
   "nbconvert_exporter": "python",
   "pygments_lexer": "ipython3",
   "version": "3.7.7"
  }
 },
 "nbformat": 4,
 "nbformat_minor": 4
}
