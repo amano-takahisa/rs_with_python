{
 "cells": [
  {
   "cell_type": "markdown",
   "metadata": {},
   "source": [
    "# 駅への直線距離を調べる"
   ]
  },
  {
   "cell_type": "markdown",
   "metadata": {},
   "source": [
    "データ\n",
    "  - [国土数値情報　鉄道データ(令和元年)](https://nlftp.mlit.go.jp/ksj/gml/datalist/KsjTmplt-N02-v2_3.html)\n",
    "  - [国土数値情報　国・都道府県の機関データ(平成25年)](https://nlftp.mlit.go.jp/ksj/gml/datalist/KsjTmplt-P28.html)\n",
    "  - [国土数値情報　行政区域データ(令和2年)](https://nlftp.mlit.go.jp/ksj/gml/datalist/KsjTmplt-N03-v2_4.html)"
   ]
  },
  {
   "cell_type": "code",
   "execution_count": 1,
   "metadata": {
    "execution": {
     "iopub.execute_input": "2020-11-30T10:02:41.090431Z",
     "iopub.status.busy": "2020-11-30T10:02:41.090005Z",
     "iopub.status.idle": "2020-11-30T10:02:51.114379Z",
     "shell.execute_reply": "2020-11-30T10:02:51.112680Z",
     "shell.execute_reply.started": "2020-11-30T10:02:41.090341Z"
    }
   },
   "outputs": [],
   "source": [
    "import geopandas as gpd"
   ]
  },
  {
   "cell_type": "markdown",
   "metadata": {},
   "source": [
    "駅のシェープファイルデータを`geodataframe`形式で読み込みます。"
   ]
  },
  {
   "cell_type": "code",
   "execution_count": 3,
   "metadata": {
    "execution": {
     "iopub.execute_input": "2020-11-30T10:06:21.882653Z",
     "iopub.status.busy": "2020-11-30T10:06:21.882360Z",
     "iopub.status.idle": "2020-11-30T10:06:22.468380Z",
     "shell.execute_reply": "2020-11-30T10:06:22.467690Z",
     "shell.execute_reply.started": "2020-11-30T10:06:21.882625Z"
    }
   },
   "outputs": [
    {
     "data": {
      "text/html": [
       "<div>\n",
       "<style scoped>\n",
       "    .dataframe tbody tr th:only-of-type {\n",
       "        vertical-align: middle;\n",
       "    }\n",
       "\n",
       "    .dataframe tbody tr th {\n",
       "        vertical-align: top;\n",
       "    }\n",
       "\n",
       "    .dataframe thead th {\n",
       "        text-align: right;\n",
       "    }\n",
       "</style>\n",
       "<table border=\"1\" class=\"dataframe\">\n",
       "  <thead>\n",
       "    <tr style=\"text-align: right;\">\n",
       "      <th></th>\n",
       "      <th>N02_001</th>\n",
       "      <th>N02_002</th>\n",
       "      <th>N02_003</th>\n",
       "      <th>N02_004</th>\n",
       "      <th>N02_005</th>\n",
       "      <th>geometry</th>\n",
       "    </tr>\n",
       "  </thead>\n",
       "  <tbody>\n",
       "    <tr>\n",
       "      <th>0</th>\n",
       "      <td>11</td>\n",
       "      <td>2</td>\n",
       "      <td>指宿枕崎線</td>\n",
       "      <td>九州旅客鉄道</td>\n",
       "      <td>二月田</td>\n",
       "      <td>LINESTRING (130.63035 31.25405, 130.62985 31.2...</td>\n",
       "    </tr>\n",
       "    <tr>\n",
       "      <th>1</th>\n",
       "      <td>23</td>\n",
       "      <td>5</td>\n",
       "      <td>沖縄都市モノレール線</td>\n",
       "      <td>沖縄都市モノレール</td>\n",
       "      <td>古島</td>\n",
       "      <td>LINESTRING (127.70279 26.23035, 127.70309 26.2...</td>\n",
       "    </tr>\n",
       "    <tr>\n",
       "      <th>2</th>\n",
       "      <td>24</td>\n",
       "      <td>5</td>\n",
       "      <td>東京臨海新交通臨海線</td>\n",
       "      <td>ゆりかもめ</td>\n",
       "      <td>お台場海浜公園</td>\n",
       "      <td>LINESTRING (139.77818 35.62961, 139.77888 35.6...</td>\n",
       "    </tr>\n",
       "    <tr>\n",
       "      <th>3</th>\n",
       "      <td>24</td>\n",
       "      <td>5</td>\n",
       "      <td>東京臨海新交通臨海線</td>\n",
       "      <td>ゆりかもめ</td>\n",
       "      <td>東京国際クルーズターミナル</td>\n",
       "      <td>LINESTRING (139.77333 35.62109, 139.77288 35.6...</td>\n",
       "    </tr>\n",
       "    <tr>\n",
       "      <th>4</th>\n",
       "      <td>24</td>\n",
       "      <td>5</td>\n",
       "      <td>東京臨海新交通臨海線</td>\n",
       "      <td>ゆりかもめ</td>\n",
       "      <td>テレコムセンター</td>\n",
       "      <td>LINESTRING (139.78001 35.61791, 139.77932 35.6...</td>\n",
       "    </tr>\n",
       "    <tr>\n",
       "      <th>...</th>\n",
       "      <td>...</td>\n",
       "      <td>...</td>\n",
       "      <td>...</td>\n",
       "      <td>...</td>\n",
       "      <td>...</td>\n",
       "      <td>...</td>\n",
       "    </tr>\n",
       "    <tr>\n",
       "      <th>10305</th>\n",
       "      <td>23</td>\n",
       "      <td>5</td>\n",
       "      <td>沖縄都市モノレール線</td>\n",
       "      <td>沖縄都市モノレール</td>\n",
       "      <td>経塚</td>\n",
       "      <td>LINESTRING (127.72818 26.23650, 127.72886 26.2...</td>\n",
       "    </tr>\n",
       "    <tr>\n",
       "      <th>10306</th>\n",
       "      <td>23</td>\n",
       "      <td>5</td>\n",
       "      <td>沖縄都市モノレール線</td>\n",
       "      <td>沖縄都市モノレール</td>\n",
       "      <td>浦添前田</td>\n",
       "      <td>LINESTRING (127.73190 26.24396, 127.73268 26.2...</td>\n",
       "    </tr>\n",
       "    <tr>\n",
       "      <th>10307</th>\n",
       "      <td>23</td>\n",
       "      <td>5</td>\n",
       "      <td>沖縄都市モノレール線</td>\n",
       "      <td>沖縄都市モノレール</td>\n",
       "      <td>てだこ浦西</td>\n",
       "      <td>LINESTRING (127.74155 26.24186, 127.74229 26.2...</td>\n",
       "    </tr>\n",
       "    <tr>\n",
       "      <th>10308</th>\n",
       "      <td>12</td>\n",
       "      <td>4</td>\n",
       "      <td>相鉄新横浜線</td>\n",
       "      <td>相模鉄道</td>\n",
       "      <td>羽沢横浜国大</td>\n",
       "      <td>LINESTRING (139.58522 35.48055, 139.58646 35.4...</td>\n",
       "    </tr>\n",
       "    <tr>\n",
       "      <th>10309</th>\n",
       "      <td>11</td>\n",
       "      <td>2</td>\n",
       "      <td>山陰線</td>\n",
       "      <td>西日本旅客鉄道</td>\n",
       "      <td>梅小路京都西</td>\n",
       "      <td>LINESTRING (135.74306 34.98977, 135.74324 34.9...</td>\n",
       "    </tr>\n",
       "  </tbody>\n",
       "</table>\n",
       "<p>10310 rows × 6 columns</p>\n",
       "</div>"
      ],
      "text/plain": [
       "      N02_001 N02_002     N02_003    N02_004        N02_005  \\\n",
       "0          11       2       指宿枕崎線     九州旅客鉄道            二月田   \n",
       "1          23       5  沖縄都市モノレール線  沖縄都市モノレール             古島   \n",
       "2          24       5  東京臨海新交通臨海線      ゆりかもめ        お台場海浜公園   \n",
       "3          24       5  東京臨海新交通臨海線      ゆりかもめ  東京国際クルーズターミナル   \n",
       "4          24       5  東京臨海新交通臨海線      ゆりかもめ       テレコムセンター   \n",
       "...       ...     ...         ...        ...            ...   \n",
       "10305      23       5  沖縄都市モノレール線  沖縄都市モノレール             経塚   \n",
       "10306      23       5  沖縄都市モノレール線  沖縄都市モノレール           浦添前田   \n",
       "10307      23       5  沖縄都市モノレール線  沖縄都市モノレール          てだこ浦西   \n",
       "10308      12       4      相鉄新横浜線       相模鉄道         羽沢横浜国大   \n",
       "10309      11       2         山陰線    西日本旅客鉄道         梅小路京都西   \n",
       "\n",
       "                                                geometry  \n",
       "0      LINESTRING (130.63035 31.25405, 130.62985 31.2...  \n",
       "1      LINESTRING (127.70279 26.23035, 127.70309 26.2...  \n",
       "2      LINESTRING (139.77818 35.62961, 139.77888 35.6...  \n",
       "3      LINESTRING (139.77333 35.62109, 139.77288 35.6...  \n",
       "4      LINESTRING (139.78001 35.61791, 139.77932 35.6...  \n",
       "...                                                  ...  \n",
       "10305  LINESTRING (127.72818 26.23650, 127.72886 26.2...  \n",
       "10306  LINESTRING (127.73190 26.24396, 127.73268 26.2...  \n",
       "10307  LINESTRING (127.74155 26.24186, 127.74229 26.2...  \n",
       "10308  LINESTRING (139.58522 35.48055, 139.58646 35.4...  \n",
       "10309  LINESTRING (135.74306 34.98977, 135.74324 34.9...  \n",
       "\n",
       "[10310 rows x 6 columns]"
      ]
     },
     "execution_count": 3,
     "metadata": {},
     "output_type": "execute_result"
    }
   ],
   "source": [
    "stations_shape_file = 'data/distance_to_stations/N02-19_Station.shp'\n",
    "stations_gdf = gpd.read_file(stations_shape_file, encoding='sjis')\n",
    "stations_gdf"
   ]
  },
  {
   "cell_type": "code",
   "execution_count": 61,
   "metadata": {
    "execution": {
     "iopub.execute_input": "2020-11-30T11:04:22.912200Z",
     "iopub.status.busy": "2020-11-30T11:04:22.911653Z",
     "iopub.status.idle": "2020-11-30T11:04:22.934320Z",
     "shell.execute_reply": "2020-11-30T11:04:22.933472Z",
     "shell.execute_reply.started": "2020-11-30T11:04:22.912132Z"
    }
   },
   "outputs": [
    {
     "data": {
      "text/plain": [
       "<Geographic 2D CRS: EPSG:6668>\n",
       "Name: JGD2011\n",
       "Axis Info [ellipsoidal]:\n",
       "- Lat[north]: Geodetic latitude (degree)\n",
       "- Lon[east]: Geodetic longitude (degree)\n",
       "Area of Use:\n",
       "- name: Japan\n",
       "- bounds: (122.38, 17.09, 157.65, 46.05)\n",
       "Datum: Japanese Geodetic Datum 2011\n",
       "- Ellipsoid: GRS 1980\n",
       "- Prime Meridian: Greenwich"
      ]
     },
     "execution_count": 61,
     "metadata": {},
     "output_type": "execute_result"
    }
   ],
   "source": [
    "stations_gdf.crs"
   ]
  },
  {
   "cell_type": "markdown",
   "metadata": {},
   "source": [
    "プロットして確認してみます。"
   ]
  },
  {
   "cell_type": "code",
   "execution_count": 11,
   "metadata": {
    "execution": {
     "iopub.execute_input": "2020-11-30T10:13:02.447441Z",
     "iopub.status.busy": "2020-11-30T10:13:02.447197Z",
     "iopub.status.idle": "2020-11-30T10:13:03.872529Z",
     "shell.execute_reply": "2020-11-30T10:13:03.871836Z",
     "shell.execute_reply.started": "2020-11-30T10:13:02.447414Z"
    }
   },
   "outputs": [
    {
     "data": {
      "text/plain": [
       "<AxesSubplot:>"
      ]
     },
     "execution_count": 11,
     "metadata": {},
     "output_type": "execute_result"
    },
    {
     "data": {
      "image/png": "[encoded data removed]",
      "text/plain": [
       "<Figure size 432x288 with 1 Axes>"
      ]
     },
     "metadata": {
      "needs_background": "light"
     },
     "output_type": "display_data"
    }
   ],
   "source": [
    "stations_gdf.plot()"
   ]
  },
  {
   "cell_type": "code",
   "execution_count": 26,
   "metadata": {
    "execution": {
     "iopub.execute_input": "2020-11-30T10:18:10.321648Z",
     "iopub.status.busy": "2020-11-30T10:18:10.321259Z",
     "iopub.status.idle": "2020-11-30T10:18:10.482883Z",
     "shell.execute_reply": "2020-11-30T10:18:10.481955Z",
     "shell.execute_reply.started": "2020-11-30T10:18:10.321604Z"
    }
   },
   "outputs": [
    {
     "data": {
      "text/plain": [
       "<AxesSubplot:>"
      ]
     },
     "execution_count": 26,
     "metadata": {},
     "output_type": "execute_result"
    },
    {
     "data": {
      "image/png": "[encoded data removed]",
      "text/plain": [
       "<Figure size 432x288 with 1 Axes>"
      ]
     },
     "metadata": {
      "needs_background": "light"
     },
     "output_type": "display_data"
    }
   ],
   "source": [
    "stations_gdf[0:1].plot()"
   ]
  },
  {
   "cell_type": "code",
   "execution_count": 28,
   "metadata": {
    "execution": {
     "iopub.execute_input": "2020-11-30T10:23:55.274386Z",
     "iopub.status.busy": "2020-11-30T10:23:55.273997Z",
     "iopub.status.idle": "2020-11-30T10:23:55.392192Z",
     "shell.execute_reply": "2020-11-30T10:23:55.391201Z",
     "shell.execute_reply.started": "2020-11-30T10:23:55.274345Z"
    }
   },
   "outputs": [
    {
     "name": "stderr",
     "output_type": "stream",
     "text": [
      "<ipython-input-28-e5b2cc4b3461>:1: UserWarning: Geometry is in a geographic CRS. Results from 'centroid' are likely incorrect. Use 'GeoSeries.to_crs()' to re-project geometries to a projected CRS before this operation.\n",
      "\n",
      "  stations_gdf.geometry = stations_gdf.centroid\n"
     ]
    },
    {
     "data": {
      "text/html": [
       "<div>\n",
       "<style scoped>\n",
       "    .dataframe tbody tr th:only-of-type {\n",
       "        vertical-align: middle;\n",
       "    }\n",
       "\n",
       "    .dataframe tbody tr th {\n",
       "        vertical-align: top;\n",
       "    }\n",
       "\n",
       "    .dataframe thead th {\n",
       "        text-align: right;\n",
       "    }\n",
       "</style>\n",
       "<table border=\"1\" class=\"dataframe\">\n",
       "  <thead>\n",
       "    <tr style=\"text-align: right;\">\n",
       "      <th></th>\n",
       "      <th>N02_001</th>\n",
       "      <th>N02_002</th>\n",
       "      <th>N02_003</th>\n",
       "      <th>N02_004</th>\n",
       "      <th>N02_005</th>\n",
       "      <th>geometry</th>\n",
       "    </tr>\n",
       "  </thead>\n",
       "  <tbody>\n",
       "    <tr>\n",
       "      <th>0</th>\n",
       "      <td>11</td>\n",
       "      <td>2</td>\n",
       "      <td>指宿枕崎線</td>\n",
       "      <td>九州旅客鉄道</td>\n",
       "      <td>二月田</td>\n",
       "      <td>POINT (130.63010 31.25432)</td>\n",
       "    </tr>\n",
       "    <tr>\n",
       "      <th>1</th>\n",
       "      <td>23</td>\n",
       "      <td>5</td>\n",
       "      <td>沖縄都市モノレール線</td>\n",
       "      <td>沖縄都市モノレール</td>\n",
       "      <td>古島</td>\n",
       "      <td>POINT (127.70294 26.23064)</td>\n",
       "    </tr>\n",
       "    <tr>\n",
       "      <th>2</th>\n",
       "      <td>24</td>\n",
       "      <td>5</td>\n",
       "      <td>東京臨海新交通臨海線</td>\n",
       "      <td>ゆりかもめ</td>\n",
       "      <td>お台場海浜公園</td>\n",
       "      <td>POINT (139.77853 35.62981)</td>\n",
       "    </tr>\n",
       "    <tr>\n",
       "      <th>3</th>\n",
       "      <td>24</td>\n",
       "      <td>5</td>\n",
       "      <td>東京臨海新交通臨海線</td>\n",
       "      <td>ゆりかもめ</td>\n",
       "      <td>東京国際クルーズターミナル</td>\n",
       "      <td>POINT (139.77310 35.62136)</td>\n",
       "    </tr>\n",
       "    <tr>\n",
       "      <th>4</th>\n",
       "      <td>24</td>\n",
       "      <td>5</td>\n",
       "      <td>東京臨海新交通臨海線</td>\n",
       "      <td>ゆりかもめ</td>\n",
       "      <td>テレコムセンター</td>\n",
       "      <td>POINT (139.77967 35.61773)</td>\n",
       "    </tr>\n",
       "    <tr>\n",
       "      <th>...</th>\n",
       "      <td>...</td>\n",
       "      <td>...</td>\n",
       "      <td>...</td>\n",
       "      <td>...</td>\n",
       "      <td>...</td>\n",
       "      <td>...</td>\n",
       "    </tr>\n",
       "    <tr>\n",
       "      <th>10305</th>\n",
       "      <td>23</td>\n",
       "      <td>5</td>\n",
       "      <td>沖縄都市モノレール線</td>\n",
       "      <td>沖縄都市モノレール</td>\n",
       "      <td>経塚</td>\n",
       "      <td>POINT (127.72852 26.23670)</td>\n",
       "    </tr>\n",
       "    <tr>\n",
       "      <th>10306</th>\n",
       "      <td>23</td>\n",
       "      <td>5</td>\n",
       "      <td>沖縄都市モノレール線</td>\n",
       "      <td>沖縄都市モノレール</td>\n",
       "      <td>浦添前田</td>\n",
       "      <td>POINT (127.73229 26.24384)</td>\n",
       "    </tr>\n",
       "    <tr>\n",
       "      <th>10307</th>\n",
       "      <td>23</td>\n",
       "      <td>5</td>\n",
       "      <td>沖縄都市モノレール線</td>\n",
       "      <td>沖縄都市モノレール</td>\n",
       "      <td>てだこ浦西</td>\n",
       "      <td>POINT (127.74192 26.24174)</td>\n",
       "    </tr>\n",
       "    <tr>\n",
       "      <th>10308</th>\n",
       "      <td>12</td>\n",
       "      <td>4</td>\n",
       "      <td>相鉄新横浜線</td>\n",
       "      <td>相模鉄道</td>\n",
       "      <td>羽沢横浜国大</td>\n",
       "      <td>POINT (139.58615 35.48121)</td>\n",
       "    </tr>\n",
       "    <tr>\n",
       "      <th>10309</th>\n",
       "      <td>11</td>\n",
       "      <td>2</td>\n",
       "      <td>山陰線</td>\n",
       "      <td>西日本旅客鉄道</td>\n",
       "      <td>梅小路京都西</td>\n",
       "      <td>POINT (135.74315 34.98902)</td>\n",
       "    </tr>\n",
       "  </tbody>\n",
       "</table>\n",
       "<p>10310 rows × 6 columns</p>\n",
       "</div>"
      ],
      "text/plain": [
       "      N02_001 N02_002     N02_003    N02_004        N02_005  \\\n",
       "0          11       2       指宿枕崎線     九州旅客鉄道            二月田   \n",
       "1          23       5  沖縄都市モノレール線  沖縄都市モノレール             古島   \n",
       "2          24       5  東京臨海新交通臨海線      ゆりかもめ        お台場海浜公園   \n",
       "3          24       5  東京臨海新交通臨海線      ゆりかもめ  東京国際クルーズターミナル   \n",
       "4          24       5  東京臨海新交通臨海線      ゆりかもめ       テレコムセンター   \n",
       "...       ...     ...         ...        ...            ...   \n",
       "10305      23       5  沖縄都市モノレール線  沖縄都市モノレール             経塚   \n",
       "10306      23       5  沖縄都市モノレール線  沖縄都市モノレール           浦添前田   \n",
       "10307      23       5  沖縄都市モノレール線  沖縄都市モノレール          てだこ浦西   \n",
       "10308      12       4      相鉄新横浜線       相模鉄道         羽沢横浜国大   \n",
       "10309      11       2         山陰線    西日本旅客鉄道         梅小路京都西   \n",
       "\n",
       "                         geometry  \n",
       "0      POINT (130.63010 31.25432)  \n",
       "1      POINT (127.70294 26.23064)  \n",
       "2      POINT (139.77853 35.62981)  \n",
       "3      POINT (139.77310 35.62136)  \n",
       "4      POINT (139.77967 35.61773)  \n",
       "...                           ...  \n",
       "10305  POINT (127.72852 26.23670)  \n",
       "10306  POINT (127.73229 26.24384)  \n",
       "10307  POINT (127.74192 26.24174)  \n",
       "10308  POINT (139.58615 35.48121)  \n",
       "10309  POINT (135.74315 34.98902)  \n",
       "\n",
       "[10310 rows x 6 columns]"
      ]
     },
     "execution_count": 28,
     "metadata": {},
     "output_type": "execute_result"
    }
   ],
   "source": [
    "stations_gdf.geometry = stations_gdf.centroid\n",
    "stations_gdf"
   ]
  },
  {
   "cell_type": "code",
   "execution_count": 62,
   "metadata": {
    "execution": {
     "iopub.execute_input": "2020-11-30T11:04:53.683137Z",
     "iopub.status.busy": "2020-11-30T11:04:53.682903Z",
     "iopub.status.idle": "2020-11-30T11:04:55.647385Z",
     "shell.execute_reply": "2020-11-30T11:04:55.646627Z",
     "shell.execute_reply.started": "2020-11-30T11:04:53.683111Z"
    }
   },
   "outputs": [
    {
     "data": {
      "text/html": [
       "<div>\n",
       "<style scoped>\n",
       "    .dataframe tbody tr th:only-of-type {\n",
       "        vertical-align: middle;\n",
       "    }\n",
       "\n",
       "    .dataframe tbody tr th {\n",
       "        vertical-align: top;\n",
       "    }\n",
       "\n",
       "    .dataframe thead th {\n",
       "        text-align: right;\n",
       "    }\n",
       "</style>\n",
       "<table border=\"1\" class=\"dataframe\">\n",
       "  <thead>\n",
       "    <tr style=\"text-align: right;\">\n",
       "      <th></th>\n",
       "      <th>P28_001</th>\n",
       "      <th>P28_002</th>\n",
       "      <th>P28_003</th>\n",
       "      <th>P28_004</th>\n",
       "      <th>P28_005</th>\n",
       "      <th>P28_006</th>\n",
       "      <th>P28_007</th>\n",
       "      <th>X</th>\n",
       "      <th>Y</th>\n",
       "      <th>No</th>\n",
       "      <th>FLG</th>\n",
       "      <th>Memo</th>\n",
       "      <th>Memo2</th>\n",
       "      <th>memo3</th>\n",
       "      <th>memo4</th>\n",
       "      <th>geometry</th>\n",
       "    </tr>\n",
       "  </thead>\n",
       "  <tbody>\n",
       "    <tr>\n",
       "      <th>0</th>\n",
       "      <td>47201</td>\n",
       "      <td>9</td>\n",
       "      <td>09001</td>\n",
       "      <td>09001</td>\n",
       "      <td>沖縄振興開発金融公庫（本店）</td>\n",
       "      <td>おもろまち1-2-26</td>\n",
       "      <td>0</td>\n",
       "      <td>127.694004</td>\n",
       "      <td>26.224962</td>\n",
       "      <td>1</td>\n",
       "      <td>1</td>\n",
       "      <td>H18KSJ</td>\n",
       "      <td>None</td>\n",
       "      <td>None</td>\n",
       "      <td>None</td>\n",
       "      <td>POINT (127.69400 26.22496)</td>\n",
       "    </tr>\n",
       "    <tr>\n",
       "      <th>1</th>\n",
       "      <td>47201</td>\n",
       "      <td>9</td>\n",
       "      <td>09001</td>\n",
       "      <td>09001</td>\n",
       "      <td>株式会社商工組合中央金庫那覇支店</td>\n",
       "      <td>久茂地2-22-10</td>\n",
       "      <td>4</td>\n",
       "      <td>127.682416</td>\n",
       "      <td>26.219769</td>\n",
       "      <td>2</td>\n",
       "      <td>1</td>\n",
       "      <td>H18KSJ</td>\n",
       "      <td>None</td>\n",
       "      <td>None</td>\n",
       "      <td>None</td>\n",
       "      <td>POINT (127.68242 26.21977)</td>\n",
       "    </tr>\n",
       "    <tr>\n",
       "      <th>2</th>\n",
       "      <td>47201</td>\n",
       "      <td>9</td>\n",
       "      <td>09001</td>\n",
       "      <td>09001</td>\n",
       "      <td>地方公務員災害補償基金沖縄県支部</td>\n",
       "      <td>泉崎1-2-2</td>\n",
       "      <td>0</td>\n",
       "      <td>127.681059</td>\n",
       "      <td>26.211504</td>\n",
       "      <td>3</td>\n",
       "      <td>1</td>\n",
       "      <td>H18KSJ</td>\n",
       "      <td>None</td>\n",
       "      <td>None</td>\n",
       "      <td>None</td>\n",
       "      <td>POINT (127.68106 26.21150)</td>\n",
       "    </tr>\n",
       "    <tr>\n",
       "      <th>3</th>\n",
       "      <td>47201</td>\n",
       "      <td>9</td>\n",
       "      <td>09001</td>\n",
       "      <td>09001</td>\n",
       "      <td>日本下水道事業団九州総合事務所沖縄事務所</td>\n",
       "      <td>田原3-7-2（小禄リースビル303号）</td>\n",
       "      <td>0</td>\n",
       "      <td>127.665289</td>\n",
       "      <td>26.194629</td>\n",
       "      <td>4</td>\n",
       "      <td>1</td>\n",
       "      <td>H18KSJ</td>\n",
       "      <td>None</td>\n",
       "      <td>None</td>\n",
       "      <td>None</td>\n",
       "      <td>POINT (127.66529 26.19463)</td>\n",
       "    </tr>\n",
       "    <tr>\n",
       "      <th>4</th>\n",
       "      <td>47201</td>\n",
       "      <td>9</td>\n",
       "      <td>09001</td>\n",
       "      <td>09001</td>\n",
       "      <td>日本銀行那覇支店</td>\n",
       "      <td>松山1-2-1</td>\n",
       "      <td>0</td>\n",
       "      <td>127.679091</td>\n",
       "      <td>26.216775</td>\n",
       "      <td>5</td>\n",
       "      <td>1</td>\n",
       "      <td>H18KSJ</td>\n",
       "      <td>None</td>\n",
       "      <td>None</td>\n",
       "      <td>None</td>\n",
       "      <td>POINT (127.67909 26.21677)</td>\n",
       "    </tr>\n",
       "    <tr>\n",
       "      <th>...</th>\n",
       "      <td>...</td>\n",
       "      <td>...</td>\n",
       "      <td>...</td>\n",
       "      <td>...</td>\n",
       "      <td>...</td>\n",
       "      <td>...</td>\n",
       "      <td>...</td>\n",
       "      <td>...</td>\n",
       "      <td>...</td>\n",
       "      <td>...</td>\n",
       "      <td>...</td>\n",
       "      <td>...</td>\n",
       "      <td>...</td>\n",
       "      <td>...</td>\n",
       "      <td>...</td>\n",
       "      <td>...</td>\n",
       "    </tr>\n",
       "    <tr>\n",
       "      <th>14795</th>\n",
       "      <td>01693</td>\n",
       "      <td>11</td>\n",
       "      <td>11151</td>\n",
       "      <td>11151</td>\n",
       "      <td>釧路地方検察庁標津区検察庁</td>\n",
       "      <td>北2条西1-1-13</td>\n",
       "      <td>1</td>\n",
       "      <td>145.131175</td>\n",
       "      <td>43.662377</td>\n",
       "      <td>961</td>\n",
       "      <td>3</td>\n",
       "      <td>ｱﾄﾞﾚｽﾏｯﾁﾝｸﾞ</td>\n",
       "      <td>None</td>\n",
       "      <td>None</td>\n",
       "      <td>None</td>\n",
       "      <td>POINT (145.13118 43.66238)</td>\n",
       "    </tr>\n",
       "    <tr>\n",
       "      <th>14796</th>\n",
       "      <td>01693</td>\n",
       "      <td>11</td>\n",
       "      <td>11202</td>\n",
       "      <td>11202</td>\n",
       "      <td>森林管理局北海道森林管理局根釧東部森林管理署</td>\n",
       "      <td>南2条西2-1-16</td>\n",
       "      <td>1</td>\n",
       "      <td>145.130532</td>\n",
       "      <td>43.657367</td>\n",
       "      <td>962</td>\n",
       "      <td>3</td>\n",
       "      <td>ｱﾄﾞﾚｽﾏｯﾁﾝｸﾞ</td>\n",
       "      <td>None</td>\n",
       "      <td>None</td>\n",
       "      <td>None</td>\n",
       "      <td>POINT (145.13053 43.65737)</td>\n",
       "    </tr>\n",
       "    <tr>\n",
       "      <th>14797</th>\n",
       "      <td>01693</td>\n",
       "      <td>11</td>\n",
       "      <td>11240</td>\n",
       "      <td>11240</td>\n",
       "      <td>釧路家庭裁判所標津出張所</td>\n",
       "      <td>北2条西1-1-17</td>\n",
       "      <td>1</td>\n",
       "      <td>145.131979</td>\n",
       "      <td>43.661692</td>\n",
       "      <td>963</td>\n",
       "      <td>1</td>\n",
       "      <td>H18KSJ</td>\n",
       "      <td>None</td>\n",
       "      <td>None</td>\n",
       "      <td>None</td>\n",
       "      <td>POINT (145.13198 43.66169)</td>\n",
       "    </tr>\n",
       "    <tr>\n",
       "      <th>14798</th>\n",
       "      <td>01693</td>\n",
       "      <td>11</td>\n",
       "      <td>11240</td>\n",
       "      <td>11240</td>\n",
       "      <td>釧路地方裁判所標津簡易裁判所</td>\n",
       "      <td>北2条西1-1-17</td>\n",
       "      <td>1</td>\n",
       "      <td>145.131979</td>\n",
       "      <td>43.661692</td>\n",
       "      <td>964</td>\n",
       "      <td>1</td>\n",
       "      <td>H18KSJ</td>\n",
       "      <td>None</td>\n",
       "      <td>None</td>\n",
       "      <td>None</td>\n",
       "      <td>POINT (145.13198 43.66169)</td>\n",
       "    </tr>\n",
       "    <tr>\n",
       "      <th>14799</th>\n",
       "      <td>01694</td>\n",
       "      <td>11</td>\n",
       "      <td>11221</td>\n",
       "      <td>11221</td>\n",
       "      <td>第一管区海上保安本部根室海上保安部羅臼海上保安署</td>\n",
       "      <td>船見町132</td>\n",
       "      <td>1</td>\n",
       "      <td>145.196299</td>\n",
       "      <td>44.021092</td>\n",
       "      <td>965</td>\n",
       "      <td>1</td>\n",
       "      <td>H18KSJ</td>\n",
       "      <td>None</td>\n",
       "      <td>None</td>\n",
       "      <td>None</td>\n",
       "      <td>POINT (145.19630 44.02109)</td>\n",
       "    </tr>\n",
       "  </tbody>\n",
       "</table>\n",
       "<p>14800 rows × 16 columns</p>\n",
       "</div>"
      ],
      "text/plain": [
       "      P28_001 P28_002 P28_003 P28_004                   P28_005  \\\n",
       "0       47201       9   09001   09001            沖縄振興開発金融公庫（本店）   \n",
       "1       47201       9   09001   09001          株式会社商工組合中央金庫那覇支店   \n",
       "2       47201       9   09001   09001          地方公務員災害補償基金沖縄県支部   \n",
       "3       47201       9   09001   09001      日本下水道事業団九州総合事務所沖縄事務所   \n",
       "4       47201       9   09001   09001                  日本銀行那覇支店   \n",
       "...       ...     ...     ...     ...                       ...   \n",
       "14795   01693      11   11151   11151             釧路地方検察庁標津区検察庁   \n",
       "14796   01693      11   11202   11202    森林管理局北海道森林管理局根釧東部森林管理署   \n",
       "14797   01693      11   11240   11240              釧路家庭裁判所標津出張所   \n",
       "14798   01693      11   11240   11240            釧路地方裁判所標津簡易裁判所   \n",
       "14799   01694      11   11221   11221  第一管区海上保安本部根室海上保安部羅臼海上保安署   \n",
       "\n",
       "                    P28_006  P28_007           X          Y   No  FLG  \\\n",
       "0               おもろまち1-2-26        0  127.694004  26.224962    1    1   \n",
       "1                久茂地2-22-10        4  127.682416  26.219769    2    1   \n",
       "2                   泉崎1-2-2        0  127.681059  26.211504    3    1   \n",
       "3      田原3-7-2（小禄リースビル303号）        0  127.665289  26.194629    4    1   \n",
       "4                   松山1-2-1        0  127.679091  26.216775    5    1   \n",
       "...                     ...      ...         ...        ...  ...  ...   \n",
       "14795            北2条西1-1-13        1  145.131175  43.662377  961    3   \n",
       "14796            南2条西2-1-16        1  145.130532  43.657367  962    3   \n",
       "14797            北2条西1-1-17        1  145.131979  43.661692  963    1   \n",
       "14798            北2条西1-1-17        1  145.131979  43.661692  964    1   \n",
       "14799                船見町132        1  145.196299  44.021092  965    1   \n",
       "\n",
       "              Memo Memo2 memo3 memo4                    geometry  \n",
       "0           H18KSJ  None  None  None  POINT (127.69400 26.22496)  \n",
       "1           H18KSJ  None  None  None  POINT (127.68242 26.21977)  \n",
       "2           H18KSJ  None  None  None  POINT (127.68106 26.21150)  \n",
       "3           H18KSJ  None  None  None  POINT (127.66529 26.19463)  \n",
       "4           H18KSJ  None  None  None  POINT (127.67909 26.21677)  \n",
       "...            ...   ...   ...   ...                         ...  \n",
       "14795  ｱﾄﾞﾚｽﾏｯﾁﾝｸﾞ  None  None  None  POINT (145.13118 43.66238)  \n",
       "14796  ｱﾄﾞﾚｽﾏｯﾁﾝｸﾞ  None  None  None  POINT (145.13053 43.65737)  \n",
       "14797       H18KSJ  None  None  None  POINT (145.13198 43.66169)  \n",
       "14798       H18KSJ  None  None  None  POINT (145.13198 43.66169)  \n",
       "14799       H18KSJ  None  None  None  POINT (145.19630 44.02109)  \n",
       "\n",
       "[14800 rows x 16 columns]"
      ]
     },
     "execution_count": 62,
     "metadata": {},
     "output_type": "execute_result"
    }
   ],
   "source": [
    "public_shape_path = 'data/distance_to_stations/P28-13.shp'\n",
    "public_gdf = gpd.read_file(public_shape_path, encoding='sjis')\n",
    "public_gdf"
   ]
  },
  {
   "cell_type": "code",
   "execution_count": 63,
   "metadata": {
    "execution": {
     "iopub.execute_input": "2020-11-30T11:05:02.166175Z",
     "iopub.status.busy": "2020-11-30T11:05:02.165835Z",
     "iopub.status.idle": "2020-11-30T11:05:02.182653Z",
     "shell.execute_reply": "2020-11-30T11:05:02.181942Z",
     "shell.execute_reply.started": "2020-11-30T11:05:02.166134Z"
    }
   },
   "outputs": [
    {
     "data": {
      "text/plain": [
       "<Geographic 2D CRS: EPSG:4612>\n",
       "Name: JGD2000\n",
       "Axis Info [ellipsoidal]:\n",
       "- Lat[north]: Geodetic latitude (degree)\n",
       "- Lon[east]: Geodetic longitude (degree)\n",
       "Area of Use:\n",
       "- name: Japan\n",
       "- bounds: (122.38, 17.09, 157.65, 46.05)\n",
       "Datum: Japanese Geodetic Datum 2000\n",
       "- Ellipsoid: GRS 1980\n",
       "- Prime Meridian: Greenwich"
      ]
     },
     "execution_count": 63,
     "metadata": {},
     "output_type": "execute_result"
    }
   ],
   "source": [
    "public_gdf.crs"
   ]
  },
  {
   "cell_type": "markdown",
   "metadata": {},
   "source": [
    "公共施設位置データのCRSである`EPSG:4612`は、JGD2000という古い基準点に基づいています。駅のデータで利用されている`EPSG:6668`では改定されたJGD2011に基づいた座標系であるため、こちらに合わせるように、公共施設位置データの座標系を変換します。\n",
    "\n",
    "参考：[「測地成果2000」と「測地成果2011」](https://www.gsi.go.jp/sokuchikijun/jgd2000-2011.html)"
   ]
  },
  {
   "cell_type": "code",
   "execution_count": 66,
   "metadata": {
    "execution": {
     "iopub.execute_input": "2020-11-30T12:35:46.334791Z",
     "iopub.status.busy": "2020-11-30T12:35:46.334553Z",
     "iopub.status.idle": "2020-11-30T12:35:46.368199Z",
     "shell.execute_reply": "2020-11-30T12:35:46.367496Z",
     "shell.execute_reply.started": "2020-11-30T12:35:46.334764Z"
    }
   },
   "outputs": [
    {
     "data": {
      "text/plain": [
       "<Geographic 2D CRS: EPSG:6668>\n",
       "Name: JGD2011\n",
       "Axis Info [ellipsoidal]:\n",
       "- Lat[north]: Geodetic latitude (degree)\n",
       "- Lon[east]: Geodetic longitude (degree)\n",
       "Area of Use:\n",
       "- name: Japan\n",
       "- bounds: (122.38, 17.09, 157.65, 46.05)\n",
       "Datum: Japanese Geodetic Datum 2011\n",
       "- Ellipsoid: GRS 1980\n",
       "- Prime Meridian: Greenwich"
      ]
     },
     "execution_count": 66,
     "metadata": {},
     "output_type": "execute_result"
    }
   ],
   "source": [
    "public_gdf = public_gdf.to_crs('EPSG:6668')\n",
    "public_gdf.crs"
   ]
  },
  {
   "cell_type": "markdown",
   "metadata": {
    "execution": {
     "iopub.execute_input": "2020-11-30T15:22:21.909914Z",
     "iopub.status.busy": "2020-11-30T15:22:21.909555Z",
     "iopub.status.idle": "2020-11-30T15:22:33.535700Z",
     "shell.execute_reply": "2020-11-30T15:22:33.534870Z",
     "shell.execute_reply.started": "2020-11-30T15:22:21.909868Z"
    }
   },
   "source": [
    "県境ポリゴンは、以下のコマンドで`N03-20_200101.shp`ファイルから県名を示すカラム`N03_001`に基づいて融合して作成します。\n",
    "\n",
    "```python\n",
    "admin_shape_file = 'data/distance_to_stations/N03-20_200101.shp'\n",
    "admin_gdf = gpd.read_file(admin_shape_file, encoding='sjis')\n",
    "pref_gdf = admin_gdf[['N03_001', 'geometry']].dissolve(by='N03_001')\n",
    "pref_gdf.to_file('data/distance_to_stations/pref.shp', encoding='utf-8')\n",
    "```\n",
    "作成した`pref.shp`をプロットします。"
   ]
  },
  {
   "cell_type": "code",
   "execution_count": 131,
   "metadata": {
    "execution": {
     "iopub.execute_input": "2020-11-30T22:48:14.797791Z",
     "iopub.status.busy": "2020-11-30T22:48:14.797553Z",
     "iopub.status.idle": "2020-11-30T22:48:56.019762Z",
     "shell.execute_reply": "2020-11-30T22:48:56.018529Z",
     "shell.execute_reply.started": "2020-11-30T22:48:14.797766Z"
    }
   },
   "outputs": [
    {
     "data": {
      "text/plain": [
       "<AxesSubplot:>"
      ]
     },
     "execution_count": 131,
     "metadata": {},
     "output_type": "execute_result"
    },
    {
     "data": {
      "image/png": "[encoded data removed]",
      "text/plain": [
       "<Figure size 432x288 with 1 Axes>"
      ]
     },
     "metadata": {
      "needs_background": "light"
     },
     "output_type": "display_data"
    }
   ],
   "source": [
    "pref_gdf = gpd.read_file('data/distance_to_stations/pref.shp')\n",
    "pref_gdf.plot()"
   ]
  },
  {
   "cell_type": "code",
   "execution_count": 129,
   "metadata": {
    "execution": {
     "iopub.execute_input": "2020-11-30T22:28:42.167827Z",
     "iopub.status.busy": "2020-11-30T22:28:42.167571Z",
     "iopub.status.idle": "2020-11-30T22:28:42.235160Z",
     "shell.execute_reply": "2020-11-30T22:28:42.233831Z",
     "shell.execute_reply.started": "2020-11-30T22:28:42.167800Z"
    }
   },
   "outputs": [
    {
     "ename": "DriverError",
     "evalue": "data/distance_to_stations/pref_test.shp: No such file or directory",
     "output_type": "error",
     "traceback": [
      "\u001b[0;31m---------------------------------------------------------------------------\u001b[0m",
      "\u001b[0;31mCPLE_OpenFailedError\u001b[0m                      Traceback (most recent call last)",
      "\u001b[0;32mfiona/_shim.pyx\u001b[0m in \u001b[0;36mfiona._shim.gdal_open_vector\u001b[0;34m()\u001b[0m\n",
      "\u001b[0;32mfiona/_err.pyx\u001b[0m in \u001b[0;36mfiona._err.exc_wrap_pointer\u001b[0;34m()\u001b[0m\n",
      "\u001b[0;31mCPLE_OpenFailedError\u001b[0m: data/distance_to_stations/pref_test.shp: No such file or directory",
      "\nDuring handling of the above exception, another exception occurred:\n",
      "\u001b[0;31mDriverError\u001b[0m                               Traceback (most recent call last)",
      "\u001b[0;32m<ipython-input-129-8f68f9864e54>\u001b[0m in \u001b[0;36m<module>\u001b[0;34m\u001b[0m\n\u001b[0;32m----> 1\u001b[0;31m \u001b[0mpref_gdf\u001b[0m \u001b[0;34m=\u001b[0m \u001b[0mgpd\u001b[0m\u001b[0;34m.\u001b[0m\u001b[0mread_file\u001b[0m\u001b[0;34m(\u001b[0m\u001b[0;34m'data/distance_to_stations/pref_test.shp'\u001b[0m\u001b[0;34m,\u001b[0m \u001b[0mencoding\u001b[0m\u001b[0;34m=\u001b[0m\u001b[0;34m'utf-8'\u001b[0m\u001b[0;34m)\u001b[0m\u001b[0;34m\u001b[0m\u001b[0;34m\u001b[0m\u001b[0m\n\u001b[0m\u001b[1;32m      2\u001b[0m \u001b[0mpref_gdf\u001b[0m\u001b[0;34m\u001b[0m\u001b[0;34m\u001b[0m\u001b[0m\n",
      "\u001b[0;32m~/anaconda3/envs/py38/lib/python3.8/site-packages/geopandas/io/file.py\u001b[0m in \u001b[0;36m_read_file\u001b[0;34m(filename, bbox, mask, rows, **kwargs)\u001b[0m\n\u001b[1;32m     94\u001b[0m \u001b[0;34m\u001b[0m\u001b[0m\n\u001b[1;32m     95\u001b[0m     \u001b[0;32mwith\u001b[0m \u001b[0mfiona_env\u001b[0m\u001b[0;34m(\u001b[0m\u001b[0;34m)\u001b[0m\u001b[0;34m:\u001b[0m\u001b[0;34m\u001b[0m\u001b[0;34m\u001b[0m\u001b[0m\n\u001b[0;32m---> 96\u001b[0;31m         \u001b[0;32mwith\u001b[0m \u001b[0mreader\u001b[0m\u001b[0;34m(\u001b[0m\u001b[0mpath_or_bytes\u001b[0m\u001b[0;34m,\u001b[0m \u001b[0;34m**\u001b[0m\u001b[0mkwargs\u001b[0m\u001b[0;34m)\u001b[0m \u001b[0;32mas\u001b[0m \u001b[0mfeatures\u001b[0m\u001b[0;34m:\u001b[0m\u001b[0;34m\u001b[0m\u001b[0;34m\u001b[0m\u001b[0m\n\u001b[0m\u001b[1;32m     97\u001b[0m \u001b[0;34m\u001b[0m\u001b[0m\n\u001b[1;32m     98\u001b[0m             \u001b[0;31m# In a future Fiona release the crs attribute of features will\u001b[0m\u001b[0;34m\u001b[0m\u001b[0;34m\u001b[0m\u001b[0;34m\u001b[0m\u001b[0m\n",
      "\u001b[0;32m~/anaconda3/envs/py38/lib/python3.8/site-packages/fiona/env.py\u001b[0m in \u001b[0;36mwrapper\u001b[0;34m(*args, **kwargs)\u001b[0m\n\u001b[1;32m    398\u001b[0m     \u001b[0;32mdef\u001b[0m \u001b[0mwrapper\u001b[0m\u001b[0;34m(\u001b[0m\u001b[0;34m*\u001b[0m\u001b[0margs\u001b[0m\u001b[0;34m,\u001b[0m \u001b[0;34m**\u001b[0m\u001b[0mkwargs\u001b[0m\u001b[0;34m)\u001b[0m\u001b[0;34m:\u001b[0m\u001b[0;34m\u001b[0m\u001b[0;34m\u001b[0m\u001b[0m\n\u001b[1;32m    399\u001b[0m         \u001b[0;32mif\u001b[0m \u001b[0mlocal\u001b[0m\u001b[0;34m.\u001b[0m\u001b[0m_env\u001b[0m\u001b[0;34m:\u001b[0m\u001b[0;34m\u001b[0m\u001b[0;34m\u001b[0m\u001b[0m\n\u001b[0;32m--> 400\u001b[0;31m             \u001b[0;32mreturn\u001b[0m \u001b[0mf\u001b[0m\u001b[0;34m(\u001b[0m\u001b[0;34m*\u001b[0m\u001b[0margs\u001b[0m\u001b[0;34m,\u001b[0m \u001b[0;34m**\u001b[0m\u001b[0mkwargs\u001b[0m\u001b[0;34m)\u001b[0m\u001b[0;34m\u001b[0m\u001b[0;34m\u001b[0m\u001b[0m\n\u001b[0m\u001b[1;32m    401\u001b[0m         \u001b[0;32melse\u001b[0m\u001b[0;34m:\u001b[0m\u001b[0;34m\u001b[0m\u001b[0;34m\u001b[0m\u001b[0m\n\u001b[1;32m    402\u001b[0m             \u001b[0;32mif\u001b[0m \u001b[0misinstance\u001b[0m\u001b[0;34m(\u001b[0m\u001b[0margs\u001b[0m\u001b[0;34m[\u001b[0m\u001b[0;36m0\u001b[0m\u001b[0;34m]\u001b[0m\u001b[0;34m,\u001b[0m \u001b[0mstr\u001b[0m\u001b[0;34m)\u001b[0m\u001b[0;34m:\u001b[0m\u001b[0;34m\u001b[0m\u001b[0;34m\u001b[0m\u001b[0m\n",
      "\u001b[0;32m~/anaconda3/envs/py38/lib/python3.8/site-packages/fiona/__init__.py\u001b[0m in \u001b[0;36mopen\u001b[0;34m(fp, mode, driver, schema, crs, encoding, layer, vfs, enabled_drivers, crs_wkt, **kwargs)\u001b[0m\n\u001b[1;32m    254\u001b[0m \u001b[0;34m\u001b[0m\u001b[0m\n\u001b[1;32m    255\u001b[0m         \u001b[0;32mif\u001b[0m \u001b[0mmode\u001b[0m \u001b[0;32min\u001b[0m \u001b[0;34m(\u001b[0m\u001b[0;34m'a'\u001b[0m\u001b[0;34m,\u001b[0m \u001b[0;34m'r'\u001b[0m\u001b[0;34m)\u001b[0m\u001b[0;34m:\u001b[0m\u001b[0;34m\u001b[0m\u001b[0;34m\u001b[0m\u001b[0m\n\u001b[0;32m--> 256\u001b[0;31m             c = Collection(path, mode, driver=driver, encoding=encoding,\n\u001b[0m\u001b[1;32m    257\u001b[0m                            layer=layer, enabled_drivers=enabled_drivers, **kwargs)\n\u001b[1;32m    258\u001b[0m         \u001b[0;32melif\u001b[0m \u001b[0mmode\u001b[0m \u001b[0;34m==\u001b[0m \u001b[0;34m'w'\u001b[0m\u001b[0;34m:\u001b[0m\u001b[0;34m\u001b[0m\u001b[0;34m\u001b[0m\u001b[0m\n",
      "\u001b[0;32m~/anaconda3/envs/py38/lib/python3.8/site-packages/fiona/collection.py\u001b[0m in \u001b[0;36m__init__\u001b[0;34m(self, path, mode, driver, schema, crs, encoding, layer, vsi, archive, enabled_drivers, crs_wkt, ignore_fields, ignore_geometry, **kwargs)\u001b[0m\n\u001b[1;32m    162\u001b[0m             \u001b[0;32mif\u001b[0m \u001b[0mself\u001b[0m\u001b[0;34m.\u001b[0m\u001b[0mmode\u001b[0m \u001b[0;34m==\u001b[0m \u001b[0;34m'r'\u001b[0m\u001b[0;34m:\u001b[0m\u001b[0;34m\u001b[0m\u001b[0;34m\u001b[0m\u001b[0m\n\u001b[1;32m    163\u001b[0m                 \u001b[0mself\u001b[0m\u001b[0;34m.\u001b[0m\u001b[0msession\u001b[0m \u001b[0;34m=\u001b[0m \u001b[0mSession\u001b[0m\u001b[0;34m(\u001b[0m\u001b[0;34m)\u001b[0m\u001b[0;34m\u001b[0m\u001b[0;34m\u001b[0m\u001b[0m\n\u001b[0;32m--> 164\u001b[0;31m                 \u001b[0mself\u001b[0m\u001b[0;34m.\u001b[0m\u001b[0msession\u001b[0m\u001b[0;34m.\u001b[0m\u001b[0mstart\u001b[0m\u001b[0;34m(\u001b[0m\u001b[0mself\u001b[0m\u001b[0;34m,\u001b[0m \u001b[0;34m**\u001b[0m\u001b[0mkwargs\u001b[0m\u001b[0;34m)\u001b[0m\u001b[0;34m\u001b[0m\u001b[0;34m\u001b[0m\u001b[0m\n\u001b[0m\u001b[1;32m    165\u001b[0m             \u001b[0;32melif\u001b[0m \u001b[0mself\u001b[0m\u001b[0;34m.\u001b[0m\u001b[0mmode\u001b[0m \u001b[0;32min\u001b[0m \u001b[0;34m(\u001b[0m\u001b[0;34m'a'\u001b[0m\u001b[0;34m,\u001b[0m \u001b[0;34m'w'\u001b[0m\u001b[0;34m)\u001b[0m\u001b[0;34m:\u001b[0m\u001b[0;34m\u001b[0m\u001b[0;34m\u001b[0m\u001b[0m\n\u001b[1;32m    166\u001b[0m                 \u001b[0mself\u001b[0m\u001b[0;34m.\u001b[0m\u001b[0msession\u001b[0m \u001b[0;34m=\u001b[0m \u001b[0mWritingSession\u001b[0m\u001b[0;34m(\u001b[0m\u001b[0;34m)\u001b[0m\u001b[0;34m\u001b[0m\u001b[0;34m\u001b[0m\u001b[0m\n",
      "\u001b[0;32mfiona/ogrext.pyx\u001b[0m in \u001b[0;36mfiona.ogrext.Session.start\u001b[0;34m()\u001b[0m\n",
      "\u001b[0;32mfiona/_shim.pyx\u001b[0m in \u001b[0;36mfiona._shim.gdal_open_vector\u001b[0;34m()\u001b[0m\n",
      "\u001b[0;31mDriverError\u001b[0m: data/distance_to_stations/pref_test.shp: No such file or directory"
     ]
    }
   ],
   "source": [
    "pref_gdf = gpd.read_file('data/distance_to_stations/pref.shp', encoding='sjis')\n",
    "pref_gdf"
   ]
  },
  {
   "cell_type": "code",
   "execution_count": 112,
   "metadata": {
    "execution": {
     "iopub.execute_input": "2020-11-30T15:07:09.873170Z",
     "iopub.status.busy": "2020-11-30T15:07:09.872932Z",
     "iopub.status.idle": "2020-11-30T15:07:09.878243Z",
     "shell.execute_reply": "2020-11-30T15:07:09.877223Z",
     "shell.execute_reply.started": "2020-11-30T15:07:09.873143Z"
    }
   },
   "outputs": [],
   "source": [
    "# from scipy.spatial import Voronoi, voronoi_plot_2d\n",
    "from geovoronoi import voronoi_regions_from_coords\n",
    "import numpy as np"
   ]
  },
  {
   "cell_type": "code",
   "execution_count": 107,
   "metadata": {
    "execution": {
     "iopub.execute_input": "2020-11-30T13:32:13.746542Z",
     "iopub.status.busy": "2020-11-30T13:32:13.746138Z",
     "iopub.status.idle": "2020-11-30T13:32:14.042234Z",
     "shell.execute_reply": "2020-11-30T13:32:14.041556Z",
     "shell.execute_reply.started": "2020-11-30T13:32:13.746493Z"
    }
   },
   "outputs": [],
   "source": [
    "points = np.array(list(zip(stations_gdf.geometry.x[200:205], stations_gdf.geometry.y[200:205])))\n",
    "vor = Voronoi(points)"
   ]
  },
  {
   "cell_type": "code",
   "execution_count": 108,
   "metadata": {
    "execution": {
     "iopub.execute_input": "2020-11-30T13:32:14.056088Z",
     "iopub.status.busy": "2020-11-30T13:32:14.055839Z",
     "iopub.status.idle": "2020-11-30T13:32:14.216904Z",
     "shell.execute_reply": "2020-11-30T13:32:14.216279Z",
     "shell.execute_reply.started": "2020-11-30T13:32:14.056061Z"
    }
   },
   "outputs": [
    {
     "data": {
      "image/png": "[encoded data removed]",
      "text/plain": [
       "<Figure size 432x288 with 1 Axes>"
      ]
     },
     "metadata": {
      "needs_background": "light"
     },
     "output_type": "display_data"
    }
   ],
   "source": [
    "import matplotlib.pyplot as plt\n",
    "fig = voronoi_plot_2d(vor)\n",
    "plt.show()\n"
   ]
  },
  {
   "cell_type": "code",
   "execution_count": 109,
   "metadata": {
    "execution": {
     "iopub.execute_input": "2020-11-30T13:32:52.587715Z",
     "iopub.status.busy": "2020-11-30T13:32:52.587470Z",
     "iopub.status.idle": "2020-11-30T13:32:52.591876Z",
     "shell.execute_reply": "2020-11-30T13:32:52.591181Z",
     "shell.execute_reply.started": "2020-11-30T13:32:52.587688Z"
    }
   },
   "outputs": [
    {
     "data": {
      "text/plain": [
       "6"
      ]
     },
     "execution_count": 109,
     "metadata": {},
     "output_type": "execute_result"
    }
   ],
   "source": [
    "len(vor.regions)"
   ]
  },
  {
   "cell_type": "code",
   "execution_count": 110,
   "metadata": {
    "execution": {
     "iopub.execute_input": "2020-11-30T13:33:13.468719Z",
     "iopub.status.busy": "2020-11-30T13:33:13.468474Z",
     "iopub.status.idle": "2020-11-30T13:33:13.473180Z",
     "shell.execute_reply": "2020-11-30T13:33:13.472358Z",
     "shell.execute_reply.started": "2020-11-30T13:33:13.468693Z"
    }
   },
   "outputs": [
    {
     "data": {
      "text/plain": [
       "(5, 2)"
      ]
     },
     "execution_count": 110,
     "metadata": {},
     "output_type": "execute_result"
    }
   ],
   "source": [
    "points.shape"
   ]
  },
  {
   "cell_type": "code",
   "execution_count": 111,
   "metadata": {
    "execution": {
     "iopub.execute_input": "2020-11-30T13:33:14.522533Z",
     "iopub.status.busy": "2020-11-30T13:33:14.522298Z",
     "iopub.status.idle": "2020-11-30T13:33:14.527196Z",
     "shell.execute_reply": "2020-11-30T13:33:14.526545Z",
     "shell.execute_reply.started": "2020-11-30T13:33:14.522507Z"
    }
   },
   "outputs": [
    {
     "data": {
      "text/plain": [
       "[[], [1, -1, 0], [4, 2, 3], [4, 1, -1, 2], [3, 0, -1, 2], [4, 1, 0, 3]]"
      ]
     },
     "execution_count": 111,
     "metadata": {},
     "output_type": "execute_result"
    }
   ],
   "source": [
    "vor.regions"
   ]
  },
  {
   "cell_type": "code",
   "execution_count": null,
   "metadata": {},
   "outputs": [],
   "source": []
  }
 ],
 "metadata": {
  "kernelspec": {
   "display_name": "Python 3",
   "language": "python",
   "name": "python3"
  },
  "language_info": {
   "codemirror_mode": {
    "name": "ipython",
    "version": 3
   },
   "file_extension": ".py",
   "mimetype": "text/x-python",
   "name": "python",
   "nbconvert_exporter": "python",
   "pygments_lexer": "ipython3",
   "version": "3.8.6"
  }
 },
 "nbformat": 4,
 "nbformat_minor": 4
}
