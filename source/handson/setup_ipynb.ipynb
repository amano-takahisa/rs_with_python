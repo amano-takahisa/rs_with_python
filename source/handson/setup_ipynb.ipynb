{
 "cells": [
  {
   "cell_type": "markdown",
   "metadata": {},
   "source": [
    "# Jupyter Notebookと環境構築\n",
    "Python開発環境として、Jupyter Notebookの導入方法と、その基本的な使い方を解説します。"
   ]
  },
  {
   "cell_type": "markdown",
   "metadata": {},
   "source": [
    "## Jupyter Notebookとはなにか\n",
    "Jupyter Notebookは、Pythonのコードとその実行結果、またそのコードに関するドキュメントを一緒に記述できるいい感じのファイル形式のことを指します。このテキストもJupyter Notebookで作成されています。Jupyter Notebookでは、プログラムのコードとドキュメントを単一のファイルで保存できるため、新しいアイデアを試したり、他人と共有しすることが簡単になります。\n",
    "\n",
    "コードとドキュメントが混在できるというのは、例えばこの文章の今読んでいるところはドキュメントです。コードは、以下のように表示されます。"
   ]
  },
  {
   "cell_type": "code",
   "execution_count": 1,
   "metadata": {},
   "outputs": [
    {
     "name": "stdout",
     "output_type": "stream",
     "text": [
      "[0, 1, 1, 2, 3, 5, 8, 13, 21, 34, 55, 89]\n"
     ]
    }
   ],
   "source": [
    "# フィボナッチ数列を表示する\n",
    "fib = [0,1]       # 初期化\n",
    "for i in range(10):\n",
    "    fib.append(fib[-2] + fib[-1])\n",
    "print(fib)"
   ]
  },
  {
   "cell_type": "markdown",
   "metadata": {},
   "source": [
    "コードが記載されるひとかたまりは、**チャンク**や**セル**とよばれ、コードの実行はこのセルごとに行われます。セルを実行すると、その出力がセルの下に表示されます。`#`から始まる行や、`#`より右側の文字列は**コメント**で、プログラムの実行に影響しません。一時的にコードを無効化したり、コードに関するメモを記載したりするのに使います。\n",
    "\n",
    "Jupyter Notebookファイルはテキストファイルで`.ipynb`という拡張子で保存されます。\n",
    "\n",
    "この`.ipynb`ファイルは、Jupyter Labという名前のソフトを通じ、webブラウザ上に表示、編集することができます。Jupyter Labは、以前はJupyter Notebookという名前で開発されていたソフトの後続・高機能版になります。文脈によって「Jupyter Notebook」は`.ipynb`ファイルのことであったり、表示させるソフトのことであったりすることがあるので、少し紛らわしいです。\n",
    "\n",
    "ここでは基本的なJupyter Lab(Notebook)の導入方法と、その使い方を説明します。"
   ]
  },
  {
   "cell_type": "markdown",
   "metadata": {},
   "source": [
    "## 環境設定\n",
    "Jupyter Notebookを利用するには、googleが無料で提供するサービスを利用するか、自分のパソコンにPythonとJupyter Notebookの環境を準備して利用するかの2つの方法があります。\n",
    "\n",
    "前者の場合、設定が簡単ですが、利用には様々な制約があります。後者の場合、導入までのステップが多いですが、本格的にPythonを利用することができるようになります。\n",
    "\n",
    "以下、2つの方法を紹介します。"
   ]
  },
  {
   "cell_type": "markdown",
   "metadata": {},
   "source": [
    "### Google Colaboratoryの紹介\n",
    "\n",
    "[Google Colaboratory](https://colab.research.google.com/)はGoogleが無料で提供しているオンラインのJupyter Notebook環境です。これを利用すると、下記のPython環境の構築やJupyter Labのインストールなどを行うことなく、googleが提供するサーバー上で動くJupyter環境がブラウザから利用することができます。\n",
    "\n",
    "Google Colaboratoryを利用するメリットとしては、\n",
    "\n",
    "- 作成したNotebookの共有が楽(リンクを送信するなど)\n",
    "- 環境構築が楽\n",
    "- GPUが使える\n",
    "\n",
    "デメリットとしては、\n",
    "\n",
    "- インターネット接続が必要\n",
    "- Googleアカウントが必要\n",
    "- 定期的にセッションが消える(書いたコードやドキュメントは消えない)\n",
    "- Google Driveの容量を使う\n",
    "- Git等他のツールとの統合がしにくい\n",
    "\n",
    "が挙げられます。\n",
    "\n",
    "「定期的にセッションが消える」については、[シャットダウンまでの残時間は90分ルールと12時間ルール](https://qiita.com/tomo_makes/items/b3c60b10f7b25a0a5935#2-%E3%82%B7%E3%83%A3%E3%83%83%E3%83%88%E3%83%80%E3%82%A6%E3%83%B3%E3%81%BE%E3%81%A7%E3%81%AE%E6%AE%8B%E6%99%82%E9%96%93%E3%81%AF90%E5%88%86%E3%83%AB%E3%83%BC%E3%83%AB%E3%81%A812%E6%99%82%E9%96%93%E3%83%AB%E3%83%BC%E3%83%AB)がわかりやすく説明されています。簡単に言うと、90分何もしないとやり直し、12時間経つと何をしていてもやり直しです。\n",
    "\n",
    "リモートセンシング解析で何百GBものファイルを扱う場合、この90分ルールと12時間ルールと、Googleドライブ容量の制限により、実用的ではありません。\n",
    "ただ、演習やハンズオンセミナーなどPythonの入門用に一時的に利用するには良い選択肢だと思います。\n",
    "\n",
    "以下に、ローカル環境でのPythonおよびJupyter labの環境構築手順を示しますが、うまく行かない場合、演習ではGoogle Colaboratoryを利用してください。Google Colaboratoryを利用する場合は、以下をすべてすっ飛ばして大丈夫です。"
   ]
  },
  {
   "cell_type": "markdown",
   "metadata": {},
   "source": [
    "### WSL2上のLinuxでPythonを使う(Windows 10)\n",
    "Windows上でPythonを利用する場合、以下の方法があります。\n",
    "- Windows上にPython環境を構築する\n",
    "- Windows上でLinuxを動かし、その上にPython環境を構築する\n",
    "\n",
    "GIS、リモートセンシングで利用するPythonやGDAL等のライブラリは、開発者の多くがLinux(Unix)を使っています。そのため、Windows上でうまく動作しないことがよくあります。Windows10には、WSL2(Windows Subsystem for Linux)という仮想化技術があります。WSL2の導入によって、Linuxの仮想マシンがWindows上で動作し、この仮想マシン上のLinuxでPythonを動かすことができるようになります。\n",
    "\n",
    "ここでは、上記2つのうち後者の方法を説明します。\n",
    "\n",
    "大まかな流れは、\n",
    "1. WindowsにWSL2をインストールする\n",
    "2. WSL2にUbuntu 20.04をインストールする\n",
    "3. UbuntuにAnacondaをインストールする\n",
    "4. AnacondaでPython環境を作成する\n",
    "5. Jupyter Labをインストールする\n",
    "6. WindowsとUbuntuのファイル共有の設定をする\n",
    "となります。\n",
    "\n",
    "WLS2の導入方法は[Microsoftが紹介する手順](https://docs.microsoft.com/en-us/windows/wsl/install-win10)に従っています。作業時間は1時間ほどです。"
   ]
  },
  {
   "cell_type": "markdown",
   "metadata": {},
   "source": [
    "#### Windows 10のバージョンの確認\n",
    "WSL2は、windowsバージョンが1903、ビルドが18362以降で使うことができます。(ARM64の場合はそれぞれ2004および19041)\n",
    "これより低いビルドバージョンの場合は、[Windows Update Assistant](https://www.microsoft.com/software-download/windows10)を使ってアップデートしてください。\n",
    "ビルドバージョンはWindowsの設定画面からから以下のように確認できます。\n",
    "\n",
    "![ビルドバージョンの確認](images/ss_001_Settings.png)"
   ]
  },
  {
   "cell_type": "markdown",
   "metadata": {},
   "source": [
    "#### WSLの設定\n",
    "WLS2はWSLのアップグレード版として提供されています。そのため、まずはWSLの導入を行います。\n",
    "\n",
    "Powershellを管理者権限で起動します。\n",
    "\n",
    "![Powershellを管理者権限で起動](images/ss_002_start_powershell_with_admin.png)\n",
    "\n",
    "Powershellに下記のコマンドを入力して実行します。これでWLSがインストールされます。\n",
    "```\n",
    "dism.exe /online /enable-feature /featurename:Microsoft-Windows-Subsystem-Linux /all /norestart\n",
    "```\n",
    "\n",
    "![WSLのインストール](images/ss_003_setup_wsl.png)\n",
    "\n",
    "Powershellに下記のコマンドを入力して実行します。これでWLS2へアップグレードのための準備がされます。\n",
    "```\n",
    "dism.exe /online /enable-feature /featurename:VirtualMachinePlatform /all /norestart\n",
    "```\n",
    "\n",
    "![WSL2へのアップグレード準備](images/ss_004_setup_wsl2.png)\n",
    "\n",
    "[WSL2 Linux kernel update package for x64 machines](https://wslstorestorage.blob.core.windows.net/wslblob/wsl_update_x64.msi)から、最新のLinuxカーネルアップデートパッケージをダウンロードしてインストールします。パソコンがARM64の場合は、[ARM64 package](https://wslstorestorage.blob.core.windows.net/wslblob/wsl_update_arm64.msi)をインストールしてください。アーキテクチャは`systeminfo | find \"System Type\"`をPowershell上で実行することで確認できます。\n",
    "\n",
    "![WSL2ウィザード](images/ss_007_wsl_wizard.png)\n",
    "\n",
    "Powershellに下記のコマンドを入力して実行します。これでWLS2がデフォルトになります。\n",
    "```\n",
    "wsl --set-default-version 2\n",
    "```\n",
    "\n",
    "次に、WSL2で動かすLinuxをMicrosoft storeから導入します。最新のLTSである[Ubuntu 20.04](https://www.microsoft.com/store/apps/9n6svws3rx71)を選択て、**GET**をクリックするとインストールが始まります。\n",
    "\n",
    "インストールが完了後、Microsoft storeの右上の起動ボタン、もしくはデスクトップやスタートメニューに追加されたUbuntu 20.04アイコンから、Ubuntuを起動します。"
   ]
  },
  {
   "cell_type": "markdown",
   "metadata": {},
   "source": [
    "#### Ubuntuの設定\n",
    "初めてUbuntuを起動すると、黒い画面(Linuxではターミナルやコンソール、コマンドプロンプトなどと呼ばれます。)が次のように表示されます。\n",
    "\n",
    "![ubuntu初期ターミナル](images/ss_010_ubuntu_setup.png)\n",
    "\n",
    "この\n",
    "```bash\n",
    "Enter new UNIX username:\n",
    "```\n",
    "に、WSL2内のUbuntuで利用するユーザー名をアルファベットで入力してください。Windowsのユーザー名と異なっていても構いませんし、同じでも構いません。\n",
    "\n",
    "Enterキーを押すと、\n",
    "```bash\n",
    "New password:\n",
    "```\n",
    "と表示されます。ここで先ほどのユーザーに対する設定したいパスワードを入力してエンターキーを押します。パスワード入力の際、**キー入力は何も表示されません**が、構わずエンターキーを押してください。パスワードはWSL上のUbuntuでのみ利用されます。\n",
    "```bash\n",
    "Retype new password:\n",
    "```\n",
    "と、パスワードの確認メッセージが表示されるので、再度同じパスワードを入力してエンターキーを押してください。\n",
    "\n",
    "![パスワードの設定](images/ss_010_ubuntu_setup.png)\n",
    "\n",
    "以下のように表示されます。以上でWSL2のインストールとUbuntuの導入が完了しました。\n",
    "\n",
    "![Ubuntu初期設定の完了](images/ss_011_ubuntu_setup_end.png)"
   ]
  },
  {
   "cell_type": "markdown",
   "metadata": {},
   "source": [
    "#### Python環境等の設定\n",
    "ここでは上記で導入したWSL2上のUbuntuにPythonおよびJupyter Labの環境を設定していきます。\n",
    "\n",
    "Ubuntuのターミナルの最後の行にカーソルがあり、そこには、以下のように表示されていると思います。\n",
    "\n",
    "```bash\n",
    "takahisa@DESKTOP-QRCQMC:~$\n",
    "```\n",
    "\n",
    "`takahisa`の部分に、Ubuntuの初期設定で指定したユーザー名、@から:の間に書かれているのは、自動で設定された端末名です。`:`から`$`の間には、今開いているフォルダ名が書かれています。`~`は**ホームフォルダ**と呼ばれ、`/home/takahisa/`を示しています。Windowsでいうところの`C:\\Users\\takahisa\\`のフォルダです。Linuxではフォルダの区切りを`/`で表示します。\n",
    "\n",
    "ターミナル上でコマンドを実行するには、`$`の後ろにコマンドを入力し、エンターキーを押します。\n",
    "\n",
    "ctrl + v や右クリックメニューはターミナル上で使えません。Windows上でクリップボードにコピーしたコマンドをターミナルに張り付けるには、右クリック、ターミナル上の文字列をコピーするには、文字列をマウスで選択(ハイライトされます)して右クリックをしてください。\n",
    "\n",
    "まずは以下のコマンドを入力して、Ubuntuの既存のアプリケーションをアップデートしましょう。\n",
    "\n",
    "```bash\n",
    "sudo apt update\n",
    "```\n",
    "\n",
    "`sudo`から始まるコマンドは、コマンドを管理者権限で実行することを意味しています。パスワードが聞かれたら、設定したパスワードを入力してエンターキーを押してください。(パスワードや入力は表示されません。)\n",
    "\n",
    "上記コマンドは、Ubuntuのアプリケーションリストを更新します。次のコマンドでアップデートがあるアプリケーションを実際に更新します。ターミナルに貼り付けて実行してください。\n",
    "\n",
    "```bash\n",
    "sudo apt upgrade\n",
    "```\n",
    "\n",
    "次に、以下のコマンドで`GRASS GIS`と`libxkbcommon-x11-0`というライブラリをインストールしてください。`GRASS GIS`はオープンソースのGISソフトとして長く使われており、様々なアルゴリズムをライブラリとして持っています。これらのライブラリはPythonやQGISから利用することができます。`libxkbcommon-x11-0`はWLS上で動くPythonの画面出力をWindows側につなぐためのライブラリです。\n",
    "\n",
    "```bash\n",
    "sudo apt install grass libxkbcommon-x11-0\n",
    "```\n",
    "以下のコマンドでAnacondaをインストールします。Anacondaは、Pythonの様々なバージョンをいい感じに管理できるソフトです。\n",
    "```bash\n",
    "wget https://repo.anaconda.com/archive/Anaconda3-2020.07-Linux-x86_64.sh\n",
    "bash Anaconda3-2020.07-Linux-x86_64.sh\n",
    "```\n",
    "上記のコマンドで、Anacondaの利用規約がターミナルに表示されます。エンターキーを押して最後までスクロールし、同意してください。(yesと入力する表示が出てくると思います。)\n",
    "\n",
    "次に、Anacondaをインストールするフォルダの確認があります。デフォルトの場所(/home/takahisa/anaconda3)でよいので、そのままエンターキーを押してください。\n",
    "\n",
    "インストーラーによるAnacondaのインストールが終了すると、ターミナルの設定等を自動でやるか聞いてきますので、`yes`としてください。\n",
    "\n",
    "![conda init yes](images/ss_012_conda_init.png)\n",
    "\n",
    "以下のコマンドで、インストーラーの削除、設定ファイルの読み込み、anaconda自体のアップデートを行います。アップデートやインストール先の確認が出たら、適宜`y`を押して進めてください。\n",
    "\n",
    "```bash\n",
    "rm Anaconda3-2020.02-Linux-x86_64.sh\n",
    "source .bashrc\n",
    "conda update conda\n",
    "```\n",
    "上記を実行すると、`takahisa@DESKTOP-QRCQMC:~$`の表示が`(base) takahisa@DESKTOP-QRCQMC:~$`に変更されます。\n",
    "\n",
    "以下のコマンドで、Anaconda上にPython3.8の環境をpy38という名前で作成し、その環境内に入ります。\n",
    "```bash\n",
    "conda create --name py38 python=3.8\n",
    "conda activate py38\n",
    "```\n",
    "上記を実行すると、`(base) takahisa@DESKTOP-QRCQMC:~$`の表示が`(py38) takahisa@DESKTOP-QRCQMC:~$`に変更されます。\n",
    "Anacondaで作成したPythonの環境内に入ると、その環境名がユーザー名の前に表示されます。\n",
    "\n",
    "以下のコマンドで、作成したPython環境に、必要なPythonライブラリをインストールします。\n",
    "```bash\n",
    "conda install -c conda-forge geopandas rasterio matplotlib jupyterlab opencv ipympl nodejs \n",
    "jupyter labextension install @jupyter-widgets/jupyterlab-manager@2.0\n",
    "```\n",
    "\n",
    "以上でWSL上のUbuntuにAnacondaを導入し、Python環境を構築することができました。\n",
    "\n",
    "あと少し、WindowsとWSL上のデータのやり取りの設定をしたら、Jupyter Labの準備が終了です。"
   ]
  },
  {
   "cell_type": "markdown",
   "metadata": {},
   "source": [
    "#### WSLとWindowsとのファイル共有\n",
    "Ubuntuのホームフォルダ(`/home/takahisa`もしくは`~`)には、Windowsのファイルマネージャーのアドレスバーに`\\\\wsl$\\Ubuntu-20.04\\home\\takahisa`と入力するとアクセスすることができます。また逆に、UbuntuからはWindowsのホームフォルダには`/mnt/c/Users/`からアクセスすることができます。\n",
    "\n",
    "以下のコマンドをUbuntuのターミナルで実行し、UbuntuのホームディレクトリにWindowsのDocumentへのショートカットを作成しましょう。\n",
    "\n",
    "```bash\n",
    "ln -s /mnt/c/Users/takahisa/Documents Win_Documents\n",
    "```\n",
    "以上でJupyter Labのインストールが終了です。"
   ]
  },
  {
   "cell_type": "markdown",
   "metadata": {},
   "source": [
    "### エクスプローラーの設定\n",
    "以下の手順で、Windowsのファイルマネージャ(エクスプローラ)の設定を変更し、ファイル拡張子が表示されるようにしておきましょう。\n",
    "<video controls src=\"../_static/mv_show_extention.mp4\">animation</video>"
   ]
  },
  {
   "cell_type": "markdown",
   "metadata": {},
   "source": [
    "## Jupyter Labの使い方"
   ]
  },
  {
   "cell_type": "markdown",
   "metadata": {},
   "source": [
    "### Jupyter Labを開く\n",
    "Google Colaboratoryを使う場合は、Google ColaboratoryのページからNotebookを新規作成してください。すでに作成したNotebookはGoogle Driveからアクセスすることができます。\n",
    "\n",
    "WSL2を利用している場合は、スタートメニューからUbuntu 20.04を起動してください。Ubuntuのターミナルが開きます。\n",
    "\n",
    "ターミナルに、以下のコマンドを入力して、Anacondaの環境に入ります。アカウント名の前に`(py38)`と表示されればOKです。\n",
    "```bash\n",
    "conda activate py38\n",
    "```\n",
    "\n",
    "次に、以下のコマンドを入力して、Jupyter Labを起動します。\n",
    "```bash\n",
    "jupyter lab\n",
    "```\n",
    "\n",
    "![Jupyter Labの起動コマンド](images/ss_013_start_jupyter_lab.png)\n",
    "\n",
    "ターミナルに表示されるメッセージ内に、\n",
    "```bash\n",
    "http://127.0.0.1:8888/?token=XXXXXXXXXXXXXXXXXXXXXXXXXXXXXXX\n",
    "```\n",
    "の形式のURLが表示されますので、マウスで選択し、右クリックでコピーします。\n",
    "\n",
    "コピーしたURLをWindowsのgoogle chromeやFirefoxで開くとJupyter Labが起動します。\n",
    "\n",
    "![Jupyter Labの起動](images/ss_014_jupyter_lab.png)"
   ]
  },
  {
   "cell_type": "markdown",
   "metadata": {},
   "source": [
    "### Jupyter Notebookファイル(.ipynb)を開く\n",
    "Jupyter labの左側のフォルダアイコンをクリックすると、Jupyter Labのファイルマネージャが開きます。セットアップの際にWin_Documentsという名前でWindowsのDocumentsフォルダへのリンクを作成しているため、ここをダブルクリックすることで、WindowsのDocuments内のファイルにアクセスすることができます。\n",
    "\n",
    "この中にフォルダやファイルを保存するには、\n",
    "- Jupyter Labのファイルマネージャで右クリック\n",
    "- Jupyter Labのファイルマネージャにファイルをドラッグ&ドロップ\n",
    "- Windowsのファイルマネージャを利用する\n",
    "のいずれかでできます。\n",
    "\n",
    "Win_Document内に、`my_project`という名前のフォルダを作成してください。次の章でその中にJupyter Notebookを作成しましょう。"
   ]
  },
  {
   "cell_type": "markdown",
   "metadata": {},
   "source": [
    "### Jupyter Notebookファイル(.ipynb)を新規作成する\n",
    "Jupyter Labのファイルマネージャで、`Win_Documents/my_project`内に移動して下さい。\n",
    "\n",
    "右側に表示されているLauncharにある「Notebook Python 3」のアイコンをクリックすると、`Untitled.ipynb`という名前のNotebookが新規作成されます。\n",
    "\n",
    "Notebookのファイル名は、ファイルマネージャの右クリックメニュー、もしくは開いているNotebookタブ名を右クリックすることで変更できます。\n",
    "\n",
    "Windowsのファイルマネージャからファイルを追加した場合、Jupyter Labのファイルマネージャの更新マークを押すと追加されたファイルがファイルマネージャ内に表示されます。追加された`.ipynb`ファイルはダブルクリックで開くことができます。"
   ]
  },
  {
   "cell_type": "markdown",
   "metadata": {},
   "source": [
    "### セルの実行\n",
    "セルはNotebookのツールバーにある＋アイコンから追加することができます。\n",
    "各セルはコードのセルとドキュメント用のセルの2種類があります。コード用のセルにPythonのプログラムを記述し、ドキュメント用のセルにはMarkdown形式でテキストが入力できます。\n",
    "セルを選択した状態で、`Ctrl + Enter`キーを押すか、Notebookのツールバーにある実行ボタンを押してください。"
   ]
  },
  {
   "cell_type": "markdown",
   "metadata": {},
   "source": [
    "### セルの編集\n",
    "セルをダブルクリックするとセルが編集できるようになります。"
   ]
  },
  {
   "cell_type": "markdown",
   "metadata": {},
   "source": [
    "### ファイルの保存\n",
    "編集中のファイルはNotebookのツールバーにある保存アイコンから保存できます。"
   ]
  },
  {
   "cell_type": "markdown",
   "metadata": {},
   "source": [
    "### Jupyter Labを閉じる\n",
    "ブラウザを閉じ、Jupyter labを起動したUbuntuのターミナルで2回`ctrl+c`を押し、Jupyter labを停止します。"
   ]
  },
  {
   "cell_type": "markdown",
   "metadata": {},
   "source": [
    "<video controls src=\"../_static/mv_jupyter_lab.mp4\">animation</video>"
   ]
  }
 ],
 "metadata": {
  "kernelspec": {
   "display_name": "Python 3",
   "language": "python",
   "name": "python3"
  },
  "language_info": {
   "codemirror_mode": {
    "name": "ipython",
    "version": 3
   },
   "file_extension": ".py",
   "mimetype": "text/x-python",
   "name": "python",
   "nbconvert_exporter": "python",
   "pygments_lexer": "ipython3",
   "version": "3.8.6"
  },
  "toc-autonumbering": true
 },
 "nbformat": 4,
 "nbformat_minor": 4
}
