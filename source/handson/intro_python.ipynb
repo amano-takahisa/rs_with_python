{
 "cells": [
  {
   "cell_type": "markdown",
   "metadata": {},
   "source": [
    "# Pythonの基礎\n",
    "\n",
    "[このページのJupyter Notebookファイル](intro_python.ipynb)\n",
    "\n",
    "プログラミング言語は、Python、R、Java、Cなどたくさんあります。各言語はそれぞれの言語の仕様により、様々な特徴を持ちます。各言語がよく使われている分野というものがあり、特定分野においてその言語のユーザーが多いほど、多くのライブラリが作成されています。利用するプログラミング言語を選定する際、その分野で多くの人が使っているということは重要な選定指標になります。\n",
    "\n",
    "リモートセンシング・GISの分野でよく使われている言語は、Python、R、Bash、C#といったところです。特に**Python**は、ArgGISのほか、QGIS、GRASS GIS、Orfeo ToolboxなどのメジャーなGISはPythonをサポートしており、それらのソフトウェアが提供する機能をつなぎ合わせて実行することが容易になっています。\n",
    "\n",
    "**R**はグラフ作成や統計解析ライブラリが非常に充実しています。Pythonで大規模なデータを処理した後、Rで統計解析を行うこともよくあります。\n",
    "\n",
    "**Bash**はほとんどのUnix系のOSがサポートしている言語で、他と比べて基本的な機能しかありません。古くから使われている言語で互換性が高いため、例えば、pythonで書かれたプログラムをAWS上で自動的に実行させるといった、異なるプログラムやディバイス上での処理をつなげる処理によく使われます。\n",
    "\n",
    "**C#**は他の4つと比べると、非常に早く実行することができる言語です。多くのPythonやRのライブラリがバックエンドでC#で書かれたプログラムを利用しています。\n",
    "\n",
    "ここではJupyter Notebook上でPythonの基本的な使い方を学びます。"
   ]
  },
  {
   "cell_type": "markdown",
   "metadata": {},
   "source": [
    "## Jupyter Notebook上での出力について"
   ]
  },
  {
   "cell_type": "markdown",
   "metadata": {},
   "source": [
    "Pythonで実行結果を表示させるには、通常`print()`関数を使います。  \n",
    "例えば、`5+3`の実行結果を表示させるには、Jupyter Notebook上で次のように書きます。"
   ]
  },
  {
   "cell_type": "code",
   "execution_count": 1,
   "metadata": {},
   "outputs": [
    {
     "name": "stdout",
     "output_type": "stream",
     "text": [
      "42\n"
     ]
    }
   ],
   "source": [
    "print(30 + 12)"
   ]
  },
  {
   "cell_type": "markdown",
   "metadata": {},
   "source": [
    "`30 + 12`の実行結果が`42`と表示されました。PythonをJupyter Notebook上で実行する場合に限り、`print()`が省略されても一番最後の実行結果は表示されます。"
   ]
  },
  {
   "cell_type": "markdown",
   "metadata": {},
   "source": [
    "30 + 12"
   ]
  },
  {
   "cell_type": "markdown",
   "metadata": {},
   "source": [
    "ただし、省略できるのは同じチャンクの最後の行のみです。複数行表示したい場合は、適宜`print()`関数を利用する必要があります。"
   ]
  },
  {
   "cell_type": "code",
   "execution_count": 2,
   "metadata": {},
   "outputs": [
    {
     "data": {
      "text/plain": [
       "10"
      ]
     },
     "execution_count": 2,
     "metadata": {},
     "output_type": "execute_result"
    }
   ],
   "source": [
    "30 + 12\n",
    "20 - 10"
   ]
  },
  {
   "cell_type": "markdown",
   "metadata": {},
   "source": [
    "すべての値を出力させたい場合、`print()`関数を複数入れて、次のように書きます。"
   ]
  },
  {
   "cell_type": "code",
   "execution_count": 3,
   "metadata": {},
   "outputs": [
    {
     "name": "stdout",
     "output_type": "stream",
     "text": [
      "42\n",
      "10\n"
     ]
    }
   ],
   "source": [
    "print(30 + 12)\n",
    "print(20 - 10)"
   ]
  },
  {
   "cell_type": "markdown",
   "metadata": {},
   "source": [
    "以降においては`print()`関数が不要な場合、省略されている場合があります。"
   ]
  },
  {
   "cell_type": "markdown",
   "metadata": {},
   "source": [
    "## 代入\n",
    "以下のコードを見てください。"
   ]
  },
  {
   "cell_type": "code",
   "execution_count": 4,
   "metadata": {},
   "outputs": [
    {
     "name": "stdout",
     "output_type": "stream",
     "text": [
      "81\n"
     ]
    }
   ],
   "source": [
    "# from math import \n",
    "x = 3\n",
    "y = 4\n",
    "z = pow(x , y)\n",
    "print(z)"
   ]
  },
  {
   "cell_type": "markdown",
   "metadata": {},
   "source": [
    "上記のコードは下記のことを行っています。\n",
    "\n",
    "```python\n",
    "x = 3         # 変数`x`に 3 の値を入れる\n",
    "y = 4        # 変数`y`に 4 の値を入れる\n",
    "z = pow(x, y)  # `x の y 乗`を計算して結果を変数`z`に入力  \n",
    "print(z)       # 関数`print()`に`z`を入力  \n",
    "```\n",
    "\n",
    "Pythonや多くのプログラミング言語では、`=`は「右側の値を左の**変数**に代入する」という意味を持ちます。エクセルの数式も、`=`記号で始まりますが、これも数式の結果をセルに代入しているという点で、同じです。エクセルと異なるのは、エクセルでは代入先が数式を入力するセルであるのに対し、Pythonでは変数に代入します。\n",
    "\n",
    "値や値が代入された変数（上の例では`x`と`y`）は、関数`pow()`の入力として渡され、`pow(x, y)`の結果が`z`に代入されています。関数に渡される値を引数とよび、上の例の場合、「xとyを関数pow()の引数として渡す」などといいます。\n",
    "\n",
    "また、`pow()`などの関数による計算結果を**戻り値(返り値)**といい、上の例は「`pow()`の戻り値(返り値)を変数`z`に代入」しています。Pythonでは、関数の戻り地をまた別の関数の引数として渡すことで、より複雑な処理をさせることができます。\n",
    "\n",
    "値を代入することによって作成された変数や、後述のclassによって作成された変数などを、まとめて**オブジェクト**と呼びます。"
   ]
  },
  {
   "cell_type": "markdown",
   "metadata": {},
   "source": [
    "## 型"
   ]
  },
  {
   "cell_type": "markdown",
   "metadata": {},
   "source": [
    "### 基本型\n",
    "型とは、データがどのような形式かを表すもので、Pythonにあらかじめ定義されている基本型は以下のものがあります。\n",
    "- 数値型\n",
    "  - 整数型(int) : -1, 0, 1, 2, ....\n",
    "  - 小数型(float) : -120.0, 3.1415, 1.5e12, 3.00e8\n",
    "  - 複素数型(complex): 1.0j, 1+1j, 3e8+0j\n",
    "- バイナリ型\n",
    "  - ブール型(bool) : True, False\n",
    "- 文字列\n",
    "  - 文字列型(str) : 'aaa', 'あいうえお', \"0123\"\n",
    "- None\n",
    "  - x = None\n",
    "\n",
    "また、必要に応じてユーザーによって**型**を新しく作ることもできます。 \n",
    "プログラムが複雑になってくると、新しい**型**を導入することはとても便利です。\n",
    "\n",
    "自分の扱っているデータの方を確認するには、`type()`関数を利用します。"
   ]
  },
  {
   "cell_type": "code",
   "execution_count": 5,
   "metadata": {},
   "outputs": [
    {
     "data": {
      "text/plain": [
       "int"
      ]
     },
     "execution_count": 5,
     "metadata": {},
     "output_type": "execute_result"
    }
   ],
   "source": [
    "type(30)  # 整数型の例"
   ]
  },
  {
   "cell_type": "code",
   "execution_count": 6,
   "metadata": {},
   "outputs": [
    {
     "data": {
      "text/plain": [
       "float"
      ]
     },
     "execution_count": 6,
     "metadata": {},
     "output_type": "execute_result"
    }
   ],
   "source": [
    "type(2.0)"
   ]
  },
  {
   "cell_type": "code",
   "execution_count": 7,
   "metadata": {},
   "outputs": [
    {
     "data": {
      "text/plain": [
       "complex"
      ]
     },
     "execution_count": 7,
     "metadata": {},
     "output_type": "execute_result"
    }
   ],
   "source": [
    "type(2+10j)"
   ]
  },
  {
   "cell_type": "markdown",
   "metadata": {},
   "source": [
    "**バイナリ型**は、条件式の結果の値として利用されます。"
   ]
  },
  {
   "cell_type": "code",
   "execution_count": 8,
   "metadata": {},
   "outputs": [
    {
     "name": "stdout",
     "output_type": "stream",
     "text": [
      "False\n"
     ]
    }
   ],
   "source": [
    "x = 4\n",
    "y = 3\n",
    "\n",
    "print(x == y)  # xとyが等しい場合、True、等しくない場合Falseを返す"
   ]
  },
  {
   "cell_type": "code",
   "execution_count": 9,
   "metadata": {},
   "outputs": [
    {
     "data": {
      "text/plain": [
       "bool"
      ]
     },
     "execution_count": 9,
     "metadata": {},
     "output_type": "execute_result"
    }
   ],
   "source": [
    "type(False)"
   ]
  },
  {
   "cell_type": "code",
   "execution_count": 10,
   "metadata": {},
   "outputs": [
    {
     "data": {
      "text/plain": [
       "str"
      ]
     },
     "execution_count": 10,
     "metadata": {},
     "output_type": "execute_result"
    }
   ],
   "source": [
    "type('abcd')  # 文字列型の例"
   ]
  },
  {
   "cell_type": "markdown",
   "metadata": {},
   "source": [
    "文字列型は`'`(クォート)もしくは`\"`(ダブルクォート)で挟んで定義します。Pythonでは`'`と`\"`は全く区別されないので、どちらでも好きなほうを利用してください。文字列の中に`'`や`\"`を入れたい場合は、出てこないほうの記号を利用するか、`\\`記号を直前に挿入してエスケープすることができます。"
   ]
  },
  {
   "cell_type": "code",
   "execution_count": 60,
   "metadata": {},
   "outputs": [
    {
     "name": "stdout",
     "output_type": "stream",
     "text": [
      "string with ' a quotation mark.\n",
      "string with \" a double quotation mark.\n",
      "string with ' a quotation and  \" a double quotation mark.\n"
     ]
    }
   ],
   "source": [
    "print(\"string with ' a quotation mark.\")\n",
    "print('string with \" a double quotation mark.')\n",
    "print('string with \\' a quotation and  \\\" a double quotation mark.')"
   ]
  },
  {
   "cell_type": "code",
   "execution_count": 11,
   "metadata": {},
   "outputs": [
    {
     "data": {
      "text/plain": [
       "NoneType"
      ]
     },
     "execution_count": 11,
     "metadata": {},
     "output_type": "execute_result"
    }
   ],
   "source": [
    "type(None)  # Noneタイプの例"
   ]
  },
  {
   "cell_type": "markdown",
   "metadata": {},
   "source": [
    "`None`タイプは、関数を呼び出す際に引数が与えられなかった場合のデフォルト値や、リストやディクショナリの要素がない場合の値などとして用いられます。"
   ]
  },
  {
   "cell_type": "code",
   "execution_count": 12,
   "metadata": {},
   "outputs": [
    {
     "name": "stdout",
     "output_type": "stream",
     "text": [
      "a is aaa.\n",
      "b is bbb.\n"
     ]
    }
   ],
   "source": [
    "# 複数の名前付き引数を持つ関数\n",
    "def my_func(a, b, c=None):\n",
    "    print(f'a is {a}.')\n",
    "    print(f'b is {b}.')\n",
    "    if c is not None:\n",
    "        print(f'c is {c}.')\n",
    "        \n",
    "my_func(a='aaa', b='bbb')  # -> a is aaa. b is bbb."
   ]
  },
  {
   "cell_type": "code",
   "execution_count": 13,
   "metadata": {},
   "outputs": [
    {
     "name": "stdout",
     "output_type": "stream",
     "text": [
      "a is aaa.\n",
      "b is bbb.\n",
      "c is ccc.\n"
     ]
    }
   ],
   "source": [
    "my_func(a='aaa', b='bbb', c='ccc')"
   ]
  },
  {
   "cell_type": "code",
   "execution_count": 14,
   "metadata": {},
   "outputs": [
    {
     "data": {
      "text/plain": [
       "['aaa', 'bbb', None, 'ddd']"
      ]
     },
     "execution_count": 14,
     "metadata": {},
     "output_type": "execute_result"
    }
   ],
   "source": [
    "# 要素にNoneを持つリストの例\n",
    "['aaa', 'bbb', None, 'ddd']"
   ]
  },
  {
   "cell_type": "markdown",
   "metadata": {},
   "source": [
    "### コレクション型\n",
    "コレクション型は、複数の要素(item)をひとまとめにした構造をしています。異なる型の値であったり、別のコレクション型を要素として持つ入れ子構造を取ることもできます。\n",
    "\n",
    "コレクション型は以下のものがあります。\n",
    "- リスト型(list)\n",
    "- タプル型(tuple)\n",
    "- セット型(set)\n",
    "- 辞書型(dict)\n",
    "\n",
    "またそれぞれの特徴をまとめると以下のとおりです。\n",
    "\n",
    "|  型   | 要素の並び |    要素の変更      | 要素の重複 | 例 | \n",
    "|-------|----------|------------------|-|----|\n",
    "|  list |      一定 |  可(ミュータブル)  |可|`['a', 'b', 'b', None, 100]`|\n",
    "| tuple |      一定 | 不可(イミュータブル)|可|`('a', 'b', 'b', None, 100)`|\n",
    "|   set |      不定 |  可(ミュータブル)  |不可|`set(['a', 'b', None, 100])`|\n",
    "| dict  |      不定 |  可(ミュータブル)  |キーの重複は不可|`{'a':'aaa', 'b': 'bbb', 'c': 100, 'd':None}`|\n",
    "\n",
    "以下、それぞれ確認していきます。"
   ]
  },
  {
   "cell_type": "markdown",
   "metadata": {},
   "source": [
    "#### 各コレクションの作成"
   ]
  },
  {
   "cell_type": "code",
   "execution_count": 1,
   "metadata": {},
   "outputs": [
    {
     "name": "stdout",
     "output_type": "stream",
     "text": [
      "['a', 'b', 'b', None, 100]\n",
      "('a', 'b', 'b', None, 100)\n",
      "{100, 'b', 'a', None}\n",
      "{'a': 'aaa', 'b': 'bbb', 'c': 100, 1: None}\n"
     ]
    }
   ],
   "source": [
    "my_list  = ['a', 'b', 'b', None, 100]\n",
    "\n",
    "my_tuple = ('a', 'b', 'b', None, 100)\n",
    "\n",
    "my_set   = set(['a', 'b', 'b', None, 100])\n",
    "\n",
    "my_dict  = {'a':'aaa', 'b': 'bbb', 'c': 100, 1:None}\n",
    "\n",
    "print(my_list)\n",
    "print(my_tuple)\n",
    "print(my_set)\n",
    "print(my_dict)"
   ]
  },
  {
   "cell_type": "markdown",
   "metadata": {},
   "source": [
    "listは`[]`内に`,`区切りで要素を列挙して作成します。\n",
    "\n",
    "tupleは`()`内に`,`区切りで要素を列挙して作成します。listとの違いは、要素をあとから変更可能かどうかという点です。tupleは変更できません(イミュータブル)。ミュータブル/イミュータブルについては、*参照*の項で説明します。\n",
    "\n",
    "setは`set()`にリストを与えて作成ます。set型は要素の重複が不可のため、重複した要素は１つを除いて削除されます。順序は保存されないため、print()で表示される順序は一定ではありません。\n",
    "\n",
    "dictは`()`内に`,`区切りで要素を列挙して作成します。各要素は、**key**と**value**の組からなります。上記の例では、keyは`'a', 'b', 'c', 'd'`で、valueは`'aaa', 'bbb', 100, None`です。重複するkeyは利用できません。keyには文字列は整数値など[hashable](https://docs.python.org/3/glossary.html#term-hashable)な値が利用できます。\n",
    "\n",
    "入れ子構造のコレクションは次のように作成します。"
   ]
  },
  {
   "cell_type": "code",
   "execution_count": 43,
   "metadata": {},
   "outputs": [
    {
     "data": {
      "text/plain": [
       "['a', 'b', [100, 200, 300], 'd']"
      ]
     },
     "execution_count": 43,
     "metadata": {},
     "output_type": "execute_result"
    }
   ],
   "source": [
    "my_nested_list = ['a', 'b',  [100, 200, 300], 'd']\n",
    "my_nested_list"
   ]
  },
  {
   "cell_type": "markdown",
   "metadata": {},
   "source": [
    "#### コレクションへのアクセス\n",
    "コレクション型の中に保存された各要素は以下のように取り出すことができます。順序が決まっているlistとtupleは**シーケンス**と呼ばれ、`[]`の中に取り出したい要素の位置を示すインデックス番号を入れることで要素を取り出すことができます。dictの場合は[]の中にkeyを入れることで取り出すことができます。**Pythonではインデックス番号は0から始まり、先頭から0、1、2...となります。**"
   ]
  },
  {
   "cell_type": "code",
   "execution_count": 37,
   "metadata": {},
   "outputs": [
    {
     "name": "stdout",
     "output_type": "stream",
     "text": [
      "a\n",
      "b\n",
      "('b', 'b', None)\n",
      "100\n",
      "100\n"
     ]
    }
   ],
   "source": [
    "print(my_list[0])    # 先頭の要素を取得\n",
    "print(my_tuple[1])   # 2番目の要素を取得\n",
    "print(my_tuple[1:4]) # 2番目から4番目までの要素を取得\n",
    "print(my_tuple[-1])  # 後ろから1番目の要素を取得\n",
    "print(my_dict['c'])  # keyの値が'c'である要素を取得"
   ]
  },
  {
   "cell_type": "markdown",
   "metadata": {},
   "source": [
    "入れ子の場合、コレクションの外側のインデックスから指定して要素を取得します。"
   ]
  },
  {
   "cell_type": "code",
   "execution_count": 45,
   "metadata": {},
   "outputs": [
    {
     "name": "stdout",
     "output_type": "stream",
     "text": [
      "['a', 'b', [100, 200, 300], 'd']\n",
      "[100, 200, 300]\n",
      "200\n"
     ]
    }
   ],
   "source": [
    "print(my_nested_list)\n",
    "print(my_nested_list[2])\n",
    "print(my_nested_list[2][1])"
   ]
  },
  {
   "cell_type": "markdown",
   "metadata": {},
   "source": [
    "インデックス番号は、`[開始:終了:ステップ]`の順で指定します。ステップの個所は省略可能ですが、正の値を指定するとその数を飛ばして取り出すことができ、負の値を指定すると後ろから取り出すことができます。"
   ]
  },
  {
   "cell_type": "code",
   "execution_count": 41,
   "metadata": {},
   "outputs": [
    {
     "name": "stdout",
     "output_type": "stream",
     "text": [
      "['a', 'b', 'b', None, 100]\n",
      "['a', 'b', 100]\n",
      "[100, None, 'b', 'b', 'a']\n"
     ]
    }
   ],
   "source": [
    "print(my_list)\n",
    "print(my_list[::2])\n",
    "print(my_list[::-1])"
   ]
  },
  {
   "cell_type": "markdown",
   "metadata": {},
   "source": [
    "setは順序も不定でkeyを持たないため、ある特定の要素を取り出すことはできませんが、以下の様に一つずつ取り出すことは可能です。"
   ]
  },
  {
   "cell_type": "code",
   "execution_count": 17,
   "metadata": {},
   "outputs": [
    {
     "name": "stdout",
     "output_type": "stream",
     "text": [
      "100\n",
      "a\n",
      "None\n",
      "b\n"
     ]
    }
   ],
   "source": [
    "for i in my_set:  # 変数 i に my_set の要素をひとつずつ代入する\n",
    "    print(i)"
   ]
  },
  {
   "cell_type": "markdown",
   "metadata": {},
   "source": [
    "listやtupleのように番号を用いて要素を取り出すことができるオブジェクトを、**シーケンシャル(Sequencial)**なオブジェクトといいます。"
   ]
  },
  {
   "cell_type": "markdown",
   "metadata": {},
   "source": [
    "#### 値の変更\n",
    "ミュータブルなコレクションは、以下のように要素の一部を変更することができます。"
   ]
  },
  {
   "cell_type": "code",
   "execution_count": 18,
   "metadata": {},
   "outputs": [
    {
     "name": "stdout",
     "output_type": "stream",
     "text": [
      "['a', 'bbb', 'c']\n"
     ]
    }
   ],
   "source": [
    "my_list = ['a', 'b', 'c']\n",
    "my_list[1] = 'bbb'\n",
    "print(my_list)"
   ]
  },
  {
   "cell_type": "code",
   "execution_count": 19,
   "metadata": {},
   "outputs": [
    {
     "name": "stdout",
     "output_type": "stream",
     "text": [
      "{'a': 'aaa', 'b': 'bbb', 'c': 1000}\n"
     ]
    }
   ],
   "source": [
    "my_dict = {'a':'aaa', 'b':'bbb', 'c':'ccc'}\n",
    "my_dict['c'] = 1000\n",
    "print(my_dict)"
   ]
  },
  {
   "cell_type": "markdown",
   "metadata": {},
   "source": [
    "#### 参照(Reference)\n",
    "値をもつ変数を別の変数に代入する場合、**Pythonでは参照渡し**という方法で変数がコピーされます。\n",
    "参考：[Pythonの引数における参照渡しと値渡しについて](https://www.javadrive.jp/python/userfunc/index3.html)\n",
    "\n",
    "Pythonでは変数にベクトルや数値といった値が代入されるとき、値が変数に直接保存されているのではなく、値が格納されているメモリ上のアドレスが変数に割り当てられます。\n",
    "特にlist、dict等、ミュータブルな型を持つオブジェクトをコピーする際は注意が必要です。\n",
    "\n",
    "以下に例を示します。"
   ]
  },
  {
   "cell_type": "code",
   "execution_count": 20,
   "metadata": {},
   "outputs": [
    {
     "name": "stdout",
     "output_type": "stream",
     "text": [
      "['a', 'b', 'x']\n",
      "['a', 'b', 'x']\n"
     ]
    }
   ],
   "source": [
    "my_list_abc = ['a', 'b', 'c']\n",
    "my_list_abx = my_list_abc  # my_list_abcへの\"参照\"が渡される\n",
    "my_list_abx[2] = 'x'       # 新しく作成された3番目の要素を変更する\n",
    "print(my_list_abx)         # -> ['a', 'b', 'x']\n",
    "print(my_list_abc)         # -> ['a', 'b', 'x']  コピー元のリストの要素も変更されている"
   ]
  },
  {
   "cell_type": "markdown",
   "metadata": {},
   "source": [
    "2行目において、`my_list_abx`には`my_list_abc`が*参照渡し*されているため、`my_list_abx`を更新すると参照元の`my_list_abc`も変更されてしまっていることが確認できます。ミュータブルなオブジェクトを`=`でコピーすることは、ファイルのショートカットを作成するようなものなので、実際のファイルがコピーされず、メモリや計算効率が良いですが、理解していないと意図しないデータを変更してしまいます。\n",
    "\n",
    "参照渡しをしないで別々なオブジェクトとしてコピーしたい場合、各オブジェクトが持つ`.copy()`メソッドや、`deepcopy()`関数を使ったコピーをする必要があります。"
   ]
  },
  {
   "cell_type": "code",
   "execution_count": 21,
   "metadata": {},
   "outputs": [
    {
     "name": "stdout",
     "output_type": "stream",
     "text": [
      "['a', 'b', 'x']\n",
      "['a', 'b', 'c']\n"
     ]
    }
   ],
   "source": [
    "my_list_abc = ['a', 'b', 'c']\n",
    "my_list_abx = my_list_abc.copy()  # my_list_abcのコピーが作成される\n",
    "my_list_abx[2] = 'x'              # 新しく作成された3番目の要素を変更する\n",
    "print(my_list_abx)                # -> ['a', 'b', 'x']\n",
    "print(my_list_abc)                # -> ['a', 'b', 'c']  コピー元のリストの要素は変更されない"
   ]
  },
  {
   "cell_type": "markdown",
   "metadata": {},
   "source": [
    "## 演算子(Operator)\n",
    "\n",
    "演算子は、`+`、`-`、`/`、`%`などの、二つの引数の間に入れることで作用するオペレーターを指します。左右に数値を指定した場合、各オペレータは次の値を返します。\n",
    "- `+` 足し算\n",
    "- `-` 引き算\n",
    "- `/` 割り算 (返り値は常にfloat)\n",
    "- `//` 割り算の商 \n",
    "- `%` 割り算の余り \n",
    "\n",
    "左右2つの値のどちらかがfloatであれば、返り値もfloatです。各オペレータの左右にintやfloatの数値を入れて、挙動を確認してください。"
   ]
  },
  {
   "cell_type": "code",
   "execution_count": 22,
   "metadata": {},
   "outputs": [
    {
     "name": "stdout",
     "output_type": "stream",
     "text": [
      "3\n",
      "3.0\n",
      "5\n",
      "5.0\n"
     ]
    }
   ],
   "source": [
    "print(10 % 7)\n",
    "print(10.0 % 7)\n",
    "print(10 // 2)\n",
    "print(10 / 2)"
   ]
  },
  {
   "cell_type": "markdown",
   "metadata": {},
   "source": [
    "上記は数値に対しての演算子の説明をしましたが、演算子の機能は適用する型によって変化します。\n",
    "例えば、文字列型(str)は2つの文字列を結合する様に働きます。"
   ]
  },
  {
   "cell_type": "code",
   "execution_count": 23,
   "metadata": {},
   "outputs": [
    {
     "data": {
      "text/plain": [
       "'this is a text'"
      ]
     },
     "execution_count": 23,
     "metadata": {},
     "output_type": "execute_result"
    }
   ],
   "source": [
    "'this is ' + 'a text'"
   ]
  },
  {
   "cell_type": "markdown",
   "metadata": {},
   "source": [
    "リストを与えるとリストを結合します。"
   ]
  },
  {
   "cell_type": "code",
   "execution_count": 24,
   "metadata": {},
   "outputs": [
    {
     "data": {
      "text/plain": [
       "['a', 'b', 'c', 0, 1, 2]"
      ]
     },
     "execution_count": 24,
     "metadata": {},
     "output_type": "execute_result"
    }
   ],
   "source": [
    "list_abc = ['a', 'b', 'c'] \n",
    "list_012 = [0, 1, 2]\n",
    "list_abc + list_012"
   ]
  },
  {
   "cell_type": "markdown",
   "metadata": {},
   "source": [
    "行列計算によく用いられるnumpyライブラリの提供するndarrayという型のオブジェクトでは、各要素が足し合わされます。"
   ]
  },
  {
   "cell_type": "code",
   "execution_count": 25,
   "metadata": {},
   "outputs": [
    {
     "data": {
      "text/plain": [
       "array([  0, 101, 202])"
      ]
     },
     "execution_count": 25,
     "metadata": {},
     "output_type": "execute_result"
    }
   ],
   "source": [
    "import numpy as np  # numpyライブラリをnpという名前でインポートする\n",
    "my_array1 = np.array([0, 1, 2])      # [0, 1, 2]の要素を持つndarrayを作成\n",
    "my_array2 = np.array([0, 100, 200])\n",
    "my_array1 + my_array2                # 2つのndarrayをオペレータ + を足し合わせる"
   ]
  },
  {
   "cell_type": "markdown",
   "metadata": {},
   "source": [
    "その他に、よく利用される演算子は以下のものがあります。\n",
    "- `not`\n",
    "- `is`\n",
    "- `and`\n",
    "- `**`\n",
    "- `>`\n",
    "- `>=`\n",
    "- `==`\n",
    "- `<=`\n",
    "- `!=`\n",
    "\n",
    "演算子がどの様に働くかは適用される型によって異なります。詳しくは[公式ドキュメント](https://docs.python.org/ja/3/library/operator.htmlhttps://docs.python.org/ja/3/library/operator.html)を参照してください。"
   ]
  },
  {
   "cell_type": "markdown",
   "metadata": {},
   "source": [
    "## 文字列整形\n",
    "文字列は`+`や`+=`で結合することができます。`+`は前後の2つの文字列を結合した文字列を返します。`+=`は、左側の文字列に右側の文字列を追加します。"
   ]
  },
  {
   "cell_type": "code",
   "execution_count": 26,
   "metadata": {},
   "outputs": [
    {
     "data": {
      "text/plain": [
       "'Happy birthday'"
      ]
     },
     "execution_count": 26,
     "metadata": {},
     "output_type": "execute_result"
    }
   ],
   "source": [
    "my_string = 'Happy ' + 'birthday'\n",
    "my_string"
   ]
  },
  {
   "cell_type": "code",
   "execution_count": 27,
   "metadata": {},
   "outputs": [
    {
     "data": {
      "text/plain": [
       "'Happy birthday to you'"
      ]
     },
     "execution_count": 27,
     "metadata": {},
     "output_type": "execute_result"
    }
   ],
   "source": [
    "my_string += ' to you'\n",
    "my_string"
   ]
  },
  {
   "cell_type": "markdown",
   "metadata": {},
   "source": [
    "`\\n`で文字列の中で改行することができます。(Jupyter Notebook上で改行表示するには常に`print()`関数に入れる必要があります。)"
   ]
  },
  {
   "cell_type": "code",
   "execution_count": 28,
   "metadata": {},
   "outputs": [
    {
     "name": "stdout",
     "output_type": "stream",
     "text": [
      "Happy birthday to you\n",
      "Happy birthday to you\n"
     ]
    }
   ],
   "source": [
    "print(my_string +  '\\n' + my_string)"
   ]
  },
  {
   "cell_type": "markdown",
   "metadata": {},
   "source": [
    "文字列型もシーケンスに分類される型で、各文字はlistのように番号によって取り出すことができます。"
   ]
  },
  {
   "cell_type": "code",
   "execution_count": 57,
   "metadata": {},
   "outputs": [
    {
     "name": "stdout",
     "output_type": "stream",
     "text": [
      "h\n",
      "birthday \n",
      "uoy ot yadhtrib yppaH\n"
     ]
    }
   ],
   "source": [
    "print(my_string[10])\n",
    "print(my_string[6:15])\n",
    "print(my_string[::-1])"
   ]
  },
  {
   "cell_type": "markdown",
   "metadata": {},
   "source": [
    "文字列を結合させるには、先に紹介した`+`を使う方法、`f'string and {parameter}'`の書き方、`'string and {}'.format(parameter)`などがあります。"
   ]
  },
  {
   "cell_type": "code",
   "execution_count": 63,
   "metadata": {},
   "outputs": [
    {
     "name": "stdout",
     "output_type": "stream",
     "text": [
      "I'm Takahisa from Japan\n",
      "I'm Takahisa from Japan\n",
      "I'm Takahisa from Japan\n"
     ]
    }
   ],
   "source": [
    "my_name = 'Takahisa'\n",
    "my_country = 'Japan'\n",
    "\n",
    "print(\"I'm \" + my_name + ' from ' + my_country)\n",
    "print(f\"I'm {my_name} from {my_country}\")\n",
    "print(\"I'm {} from {}\".format(my_name, my_country))"
   ]
  },
  {
   "cell_type": "markdown",
   "metadata": {},
   "source": [
    "### 練習\n",
    "以下に定義される`my_numbers`の最小値、最大値、合計値を計算し、結果を指定する文字列に当てはめて表示する以下のセルを完成させてください。\n",
    "\n",
    "最小値、最大値、合計値の計算は、それぞれ`max()`、`min()`、`sum()`関数にlistを与えることで計算することができます。\n",
    "\n",
    "入力\n",
    "```Python\n",
    "my_numbers = [22, 40, 50, 45, 47, 76, 98, 1, 98, 42,\n",
    "              21, 70, 95, 67, 80, 35, 36, 52, 93, 13,\n",
    "              46, 35, 54, 86, 48, 19, 57, 74, 29, 83,\n",
    "              59, 40, 64, 58, 70, 77, 49, 82, 14, 36,\n",
    "              7, 55, 4, 90, 67, 92, 87, 90, 31, 62]\n",
    "```\n",
    "\n",
    "出力\n",
    "```\n",
    "Max is 98, min is 1, sum is 2746.\n",
    "Average is 54.92.\n",
    "```"
   ]
  },
  {
   "cell_type": "code",
   "execution_count": 104,
   "metadata": {},
   "outputs": [],
   "source": [
    "my_numbers = [22, 40, 50, 45, 47, 76, 98, 1, 98, 42,\n",
    "              21, 70, 95, 67, 80, 35, 36, 52, 93, 13,\n",
    "              46, 35, 54, 86, 48, 19, 57, 74, 29, 83,\n",
    "              59, 40, 64, 58, 70, 77, 49, 82, 14, 36,\n",
    "              7, 55, 4, 90, 67, 92, 87, 90, 31, 62]\n",
    "\n",
    "# max_number = max(my_numbers)\n",
    "# min_number =\n",
    "# ...\n",
    "\n",
    "# print(f'')"
   ]
  },
  {
   "cell_type": "markdown",
   "metadata": {},
   "source": [
    "## 条件式(if, elif, else)\n",
    "条件によってコードの実行を変化させるために、`if`、`elif`、`else`から始まる**条件式**を利用します。次の例では、`a`が`999`の時、1を加えて、それ以外の時は何もしないというコードです。"
   ]
  },
  {
   "cell_type": "code",
   "execution_count": 122,
   "metadata": {},
   "outputs": [
    {
     "name": "stdout",
     "output_type": "stream",
     "text": [
      "increasing a by 1\n",
      "1000\n"
     ]
    }
   ],
   "source": [
    "a = 999\n",
    "\n",
    "if a == 999:\n",
    "    print('increasing a by 1.')\n",
    "    a += 1\n",
    "\n",
    "print(a)"
   ]
  },
  {
   "cell_type": "markdown",
   "metadata": {},
   "source": [
    "この条件式は、\n",
    "```\n",
    "if 条件:\n",
    "    処理１\n",
    "    処理２\n",
    "処理３\n",
    "```\n",
    "の形になっています。処理１と処理２の行は、左側に半角スペース4つ入れることで、同じ深さまでインデントされています。Pythonでは`if 条件:`の行から、インデントされている処理２までを一つのまとまりとして認識します。このまとまりを**ブロック**と呼びます。\n",
    "\n",
    "処理３はインデントが`if`の行と同じ位置に戻されているので、この行は`if`のブロックの外側にあるといえます。ブロックの外側にある処理３は、ifの条件式に関係なく実行されます。\n",
    "\n",
    "条件によって異なる処理を行う場合、`if`の後に、`elif`、`else`が利用できます。"
   ]
  },
  {
   "cell_type": "code",
   "execution_count": 3,
   "metadata": {
    "execution": {
     "iopub.execute_input": "2020-10-22T12:09:54.521180Z",
     "iopub.status.busy": "2020-10-22T12:09:54.520890Z",
     "iopub.status.idle": "2020-10-22T12:09:54.526453Z",
     "shell.execute_reply": "2020-10-22T12:09:54.525514Z",
     "shell.execute_reply.started": "2020-10-22T12:09:54.521154Z"
    }
   },
   "outputs": [
    {
     "name": "stdout",
     "output_type": "stream",
     "text": [
      "254\n"
     ]
    }
   ],
   "source": [
    "a = 999\n",
    "\n",
    "if a < 0:\n",
    "    a = 255\n",
    "elif a > 254:\n",
    "    a = 254\n",
    "else:\n",
    "    pass\n",
    "\n",
    "print(a)"
   ]
  },
  {
   "cell_type": "markdown",
   "metadata": {},
   "source": [
    "この例では、「`a`の値が0から254の間になく、小さい値の場合aに255を、大きい値の場合254を与える」をしています。\n",
    "\n",
    "`else`のブロックは、すべての条件に当てはまらない場合に実行されるコードを書きます。今回は「なにもしない」を意味する`pass`を書きました。この`pass`の部分は、\n",
    "```python\n",
    "else:\n",
    "    # TODO: implement anothre process\n",
    "    pass\n",
    "```\n",
    "などとして、条件分岐の処理を後から追加するために一時的においておく際によく利用されます。\n",
    "\n",
    "「条件」の箇所は、`True`または`False`を返す式やその値を入力します。その他の値(数値など)が与えられた場合、`bool()`関数にその値が入力された際の返り値に準じます。\n",
    "\n",
    "以下のセルで`a`の値を変化させて確認してください。"
   ]
  },
  {
   "cell_type": "code",
   "execution_count": 18,
   "metadata": {
    "execution": {
     "iopub.execute_input": "2020-10-22T12:59:03.802329Z",
     "iopub.status.busy": "2020-10-22T12:59:03.802010Z",
     "iopub.status.idle": "2020-10-22T12:59:03.807745Z",
     "shell.execute_reply": "2020-10-22T12:59:03.806665Z",
     "shell.execute_reply.started": "2020-10-22T12:59:03.802300Z"
    }
   },
   "outputs": [
    {
     "name": "stdout",
     "output_type": "stream",
     "text": [
      "<class 'list'>: ['a', 'b', 'c'] is True\n"
     ]
    }
   ],
   "source": [
    "# a = True\n",
    "# a = 100\n",
    "# a = 0\n",
    "# a = -2\n",
    "# a = 'aaa'\n",
    "# a = ['a', 'b', 'c']\n",
    "a = None\n",
    "\n",
    "if a:\n",
    "    print(f'{type(a)}: {a} is True')\n",
    "else:\n",
    "    print(f'{type(a)}: {a} is False')"
   ]
  },
  {
   "cell_type": "markdown",
   "metadata": {},
   "source": [
    "その他、条件式の例を下に示します。"
   ]
  },
  {
   "cell_type": "code",
   "execution_count": 21,
   "metadata": {},
   "outputs": [
    {
     "name": "stdout",
     "output_type": "stream",
     "text": [
      "21 is odd and a multiple of 3\n"
     ]
    }
   ],
   "source": [
    "my_integer = 21\n",
    "\n",
    "if my_integer % 2 == 0:\n",
    "    # when 0, 2, 4, 6, 8, 10, ...\n",
    "    print(f'{my_integer} is even')\n",
    "elif my_integer % 3 == 0:\n",
    "    # when 3, 9, 15, 21, ...\n",
    "    print(f'{my_integer} is odd and a multiple of 3')\n",
    "else:\n",
    "    print(f'{my_integer} can\\'t be divided into 2 or 3.')"
   ]
  },
  {
   "cell_type": "code",
   "execution_count": 24,
   "metadata": {},
   "outputs": [
    {
     "data": {
      "text/plain": [
       "{'a': 0, 'b': 100, 'c': 200}"
      ]
     },
     "execution_count": 24,
     "metadata": {},
     "output_type": "execute_result"
    }
   ],
   "source": [
    "my_dict = {'a':'000', 'b':100, 'c':200}\n",
    "\n",
    "if type(my_dict['a']) != int:\n",
    "    # int() 関数で整数値に変換する\n",
    "    my_dict['a'] = int(my_dict['a'])\n",
    "\n",
    "my_dict"
   ]
  },
  {
   "cell_type": "code",
   "execution_count": 15,
   "metadata": {},
   "outputs": [
    {
     "data": {
      "text/plain": [
       "1"
      ]
     },
     "execution_count": 15,
     "metadata": {},
     "output_type": "execute_result"
    }
   ],
   "source": [
    "10 % 3"
   ]
  },
  {
   "cell_type": "markdown",
   "metadata": {},
   "source": [
    "## ループ(for, while)\n",
    "ループは、同じ処理を繰り返し行うための仕組みで、`for`文で作成する方法と`while`文で作成する方法があります。\n",
    "\n",
    "`for`文は以下の様に作成します。"
   ]
  },
  {
   "cell_type": "code",
   "execution_count": 6,
   "metadata": {},
   "outputs": [
    {
     "name": "stdout",
     "output_type": "stream",
     "text": [
      "a\n",
      "b\n",
      "c\n"
     ]
    }
   ],
   "source": [
    "items = ['a', 'b', 'c']\n",
    "\n",
    "for item in items:\n",
    "    print(item) "
   ]
  },
  {
   "cell_type": "markdown",
   "metadata": {},
   "source": [
    "forループは、次のような構造になっています。\n",
    "```Python\n",
    "for 要素を代入する変数 in シーケンスオブジェクト:\n",
    "    要素が代入された変数を用いて行う処理\n",
    "```\n",
    "if文と同様に、`for`から始まり`:`で終わる行からコードブロックが始まります。\n",
    "シーケンスには、コレクションのように複数の要素からなるリストやディクショナリのほか、`range()`関数を利用することもよくあります。文字列を与えると、\n",
    "\n",
    "「要素を代入する変数」には、`i`、`j`、`k`などがよく用いられますが、「シーケンスオブジェクト」の単数形の単語を用いると、ループがネストされた際にもコードが読みやすくなります。"
   ]
  },
  {
   "cell_type": "markdown",
   "metadata": {},
   "source": [
    "forループは以下の順序で処理が行われます。\n",
    "1. シーケンスからまず一つ値を取り出し、「要素を代入する変数」に代入する\n",
    "2. 値が入力された変数を用いて、インデントされているコードブロックが実行される\n",
    "3. コードブロックの実行が最後まで行ったら、シーケンスから次の値が変数に代入される\n",
    "4. 再度コードブロックが実行される\n",
    "5. シーケンスの最後の値でコードブロックが実行されたら、forループのブロックから抜ける\n",
    "\n",
    "いくつか例を示します。"
   ]
  },
  {
   "cell_type": "code",
   "execution_count": 4,
   "metadata": {},
   "outputs": [
    {
     "name": "stdout",
     "output_type": "stream",
     "text": [
      "3\n",
      "4\n",
      "5\n",
      "6\n",
      "7\n"
     ]
    }
   ],
   "source": [
    "# range()関数を用いたforループの例\n",
    "for i in range(3,8):\n",
    "    print(i)"
   ]
  },
  {
   "cell_type": "code",
   "execution_count": 43,
   "metadata": {
    "execution": {
     "iopub.execute_input": "2020-10-22T13:49:52.910426Z",
     "iopub.status.busy": "2020-10-22T13:49:52.910016Z",
     "iopub.status.idle": "2020-10-22T13:49:52.916781Z",
     "shell.execute_reply": "2020-10-22T13:49:52.915433Z",
     "shell.execute_reply.started": "2020-10-22T13:49:52.910387Z"
    }
   },
   "outputs": [
    {
     "name": "stdout",
     "output_type": "stream",
     "text": [
      "H\n",
      "e\n",
      "l\n",
      "l\n",
      "o\n"
     ]
    }
   ],
   "source": [
    "# strを用いた例\n",
    "for i in 'Hello':\n",
    "    print(i)"
   ]
  },
  {
   "cell_type": "code",
   "execution_count": 5,
   "metadata": {},
   "outputs": [
    {
     "name": "stdout",
     "output_type": "stream",
     "text": [
      "Dry season in 2018\n",
      "Rainy season in 2018\n",
      "Dry season in 2019\n",
      "Rainy season in 2019\n",
      "Dry season in 2020\n",
      "Rainy season in 2020\n"
     ]
    }
   ],
   "source": [
    "# ネストされたループの例\n",
    "years = [2018, 2019, 2020]\n",
    "seasons = ['Dry season', 'Rainy season']\n",
    "for year in years:\n",
    "    for season in seasons:\n",
    "        print(f'{season} in {year}')"
   ]
  },
  {
   "cell_type": "code",
   "execution_count": 12,
   "metadata": {},
   "outputs": [
    {
     "name": "stdout",
     "output_type": "stream",
     "text": [
      "[0, 4, 8, 12]\n"
     ]
    }
   ],
   "source": [
    "# forループで要素に処理を行い、別のリストに格納して取り出す\n",
    "number_list = [0, 1, 2, 3, 4, 5, 6]\n",
    "out_list = []\n",
    "\n",
    "for number in number_list:\n",
    "    if number % 2 == 0:\n",
    "        double_number = number * 2\n",
    "        out_list.append(double_number)\n",
    "\n",
    "print(out_list)"
   ]
  },
  {
   "cell_type": "markdown",
   "metadata": {},
   "source": [
    "また、Python独自のforループの書き方として、上の例は次のように書くことができます。"
   ]
  },
  {
   "cell_type": "code",
   "execution_count": 14,
   "metadata": {},
   "outputs": [
    {
     "name": "stdout",
     "output_type": "stream",
     "text": [
      "[0, 4, 8, 12]\n"
     ]
    }
   ],
   "source": [
    "number_list = [0, 1, 2, 3, 4, 5, 6]\n",
    "\n",
    "out_list = [number * 2 for number in number_list if number % 2 == 0]\n",
    "\n",
    "print(out_list)"
   ]
  },
  {
   "cell_type": "markdown",
   "metadata": {},
   "source": [
    "一行でfor文が書けてしまうので、なれると非常に便利な書き方です。"
   ]
  },
  {
   "cell_type": "markdown",
   "metadata": {},
   "source": [
    "whileを用いたループは以下のように作成します。"
   ]
  },
  {
   "cell_type": "code",
   "execution_count": 10,
   "metadata": {},
   "outputs": [
    {
     "name": "stdout",
     "output_type": "stream",
     "text": [
      "a\n",
      "b\n",
      "c\n"
     ]
    }
   ],
   "source": [
    "items = ['a', 'b', 'c']\n",
    "i = 0\n",
    "while i < len(items):  # len(items)はリストの要素の数を返す\n",
    "    print(items[i]) \n",
    "    i += 1"
   ]
  },
  {
   "cell_type": "markdown",
   "metadata": {},
   "source": [
    "whileループは、次のような構造になっています。\n",
    "```Python\n",
    "while 条件式:\n",
    "    処理\n",
    "```\n",
    "`while`から始まり`:`で終わる行からコードブロックが始まります。\n",
    "条件式が`True`であるかぎり、処理が繰り返し実行されます。\n",
    "\n",
    "1. whileの右の「条件式」が評価される\n",
    "2. 条件式の結果がTrueであれば、処理が実行される。Falseであればwhileのコードブロックから抜ける。\n",
    "3. 処理の実行が終われば、再度1に戻る\n",
    "\n",
    "whileループでは「処理」の中で「条件式」が変化するようにしておかないと、無限にループが回ってしまいます。\n",
    "上の例では、処理が一回行われるたびに`i`の値を1増加させることで、3回処理が行われた時点で`i`は`3`となります。4回目のループの前に条件式が再度評価されFalseとなるので、whileのコードブロックが終了します。\n",
    "\n",
    "whileループは処理の中で条件式が変化するように書く必要があり、間違えて無限ループを発生させてしまうことがよくあります。for文と比べて使い勝手が悪いかもしれませんが、「長さのわからない外部ファイルを一行ずつ読み込む」「一定時間できるだけ処理を繰り替えす」「外部からの入力をまつ」「処理が成功するまで試行を繰り返す」など、ループの終了回数が設計段階で不明な時によく利用されます。"
   ]
  },
  {
   "cell_type": "markdown",
   "metadata": {},
   "source": [
    "### 練習\n",
    "ifのセクションで確認した出力をループを使って書いてみましょう。\n",
    "\n",
    "入力\n",
    "```Python\n",
    "items = [True, 100, 0, -2, 'aaa', ['a', 'b', 'c'], None]\n",
    "```\n",
    "出力\n",
    "```\n",
    "<class 'bool'>: True is True\n",
    "<class 'int'>: 100 is True\n",
    "<class 'int'>: 0 is False\n",
    "<class 'int'>: -2 is True\n",
    "<class 'str'>: aaa is True\n",
    "<class 'list'>: ['a', 'b', 'c'] is True\n",
    "<class 'NoneType'>: None is False\n",
    "```"
   ]
  },
  {
   "cell_type": "code",
   "execution_count": null,
   "metadata": {},
   "outputs": [],
   "source": [
    "items = [True, 100, 0, -2, 'aaa', ['a', 'b', 'c'], None]\n",
    "\n",
    "# for item in items:\n",
    "# while ...\n"
   ]
  },
  {
   "cell_type": "markdown",
   "metadata": {},
   "source": [
    "## 関数\n",
    "関数は、コードをひとまとめにして、あとから何度も同じ処理を行うための機能です。これまで使ってきた値の合計を計算する`sum()`や、オブジェクトの型を調べる`type()`、値を表示する`print()`も関数です。関数は`関数名()`の形で利用し、カッコ内に必要に応じて引数を与えます。\n",
    "\n",
    "関数の定義は、`def 関数名(引数名, 引数名, ...):`から始まるコードブロックで次のように行います。"
   ]
  },
  {
   "cell_type": "code",
   "execution_count": 3,
   "metadata": {},
   "outputs": [
    {
     "data": {
      "text/plain": [
       "6"
      ]
     },
     "execution_count": 3,
     "metadata": {},
     "output_type": "execute_result"
    }
   ],
   "source": [
    "# 2つの値の差の絶対値を求める関数の定義\n",
    "def absolute_diff(x, y):\n",
    "    diff = x - y\n",
    "    absolute_diff = abs(diff)\n",
    "    return absolute_diff\n",
    "\n",
    "# 定義した関数を利用する\n",
    "absolute_diff(x=-10, y=-4)"
   ]
  },
  {
   "cell_type": "markdown",
   "metadata": {},
   "source": [
    "この例では、`absolute_diff`という名前の関数を次のように定義しました。\n",
    "- この関数は引数として`x`、`y`をとる。\n",
    "- 引数の差の絶対値を返す\n",
    "\n",
    "コードブロック内で計算された結果を関数の返り値として返すには、`return`から始まる行に返したいオブジェクトを書きます。この例では、計算結果は変数`absolute_diff`に入っているため、\n",
    "```Python\n",
    "return absolute_diff\n",
    "```\n",
    "と書くことで、関数の返り値として`absolute_diff`が返されます。\n",
    "\n",
    "関数定義のコードブロックの範囲は、if文やforループと同様にインデントによって規定されます。\n"
   ]
  },
  {
   "cell_type": "markdown",
   "metadata": {},
   "source": [
    "引数が規定値を持つ場合、関数を利用する際に`x`や`y`の値を与えなかった場合、既定値が利用されます。次の例では、規定値として`n=3`を指定しています。"
   ]
  },
  {
   "cell_type": "code",
   "execution_count": 14,
   "metadata": {},
   "outputs": [
    {
     "name": "stdout",
     "output_type": "stream",
     "text": [
      "pizza\n",
      "pizza\n",
      "pizza\n"
     ]
    }
   ],
   "source": [
    "def print_n_times(string, n=3):\n",
    "    for i in range(n):\n",
    "        print(string)\n",
    "\n",
    "print_n_times(string='pizza')"
   ]
  },
  {
   "cell_type": "markdown",
   "metadata": {},
   "source": [
    "引数を指定すると上書きされて実行されます。"
   ]
  },
  {
   "cell_type": "code",
   "execution_count": 6,
   "metadata": {},
   "outputs": [
    {
     "name": "stdout",
     "output_type": "stream",
     "text": [
      "pizza\n",
      "pizza\n",
      "pizza\n",
      "pizza\n",
      "pizza\n",
      "pizza\n",
      "pizza\n",
      "pizza\n",
      "pizza\n",
      "pizza\n"
     ]
    }
   ],
   "source": [
    "print_n_times(string='pizza', n=10)"
   ]
  },
  {
   "cell_type": "markdown",
   "metadata": {},
   "source": [
    "関数を利用する際に引数名を省略することができます。ただし、省略していない引数のあとでは省略できません。"
   ]
  },
  {
   "cell_type": "code",
   "execution_count": 13,
   "metadata": {},
   "outputs": [
    {
     "name": "stdout",
     "output_type": "stream",
     "text": [
      "a is aaa, b is bbb, c is ccc\n"
     ]
    }
   ],
   "source": [
    "def my_func(a, b, c='ccc'):\n",
    "    print(f'a is {a}, b is {b}, c is {c}')\n",
    "\n",
    "my_func(a='aaa', b='bbb', c='ccc')"
   ]
  },
  {
   "cell_type": "code",
   "execution_count": 8,
   "metadata": {},
   "outputs": [
    {
     "name": "stdout",
     "output_type": "stream",
     "text": [
      "a is aaa, b is bbb, c is ccc\n"
     ]
    }
   ],
   "source": [
    "# 引数名を省略して関数を利用する\n",
    "my_func('aaa', 'bbb', 'ccc')"
   ]
  },
  {
   "cell_type": "code",
   "execution_count": 11,
   "metadata": {},
   "outputs": [
    {
     "name": "stdout",
     "output_type": "stream",
     "text": [
      "a is aaa, b is bbb, c is ccc\n"
     ]
    }
   ],
   "source": [
    "# 一部の引数名を省略して関数を利用する\n",
    "my_func('aaa', b='bbb', c='ccc')\n",
    "\n",
    "# 引数名は途中からは省略できない。以下はエラーになる。\n",
    "# my_func(a='aaa', 'bbb', c='ccc')"
   ]
  },
  {
   "cell_type": "markdown",
   "metadata": {},
   "source": [
    "## モジュールとパッケージ\n",
    "ここまでは、PythonのプログラムをJupyter Notebookのコードセルに書いてきました。`.ipynb`のファイル内に保存されたこれらのコードは、ほかのJupyter Notebookから呼び出したり再利用することができません。Pythonのコードをテキストファイルに書き、`.py`の拡張子で保存すると、そのコードを他のから呼び出すことができるようになります。この`.py`ファイルのことを**モジュール**と呼びます。ここでは簡単なモジュールを作成し、読み込みをしてみます。\n",
    "\n",
    "テキストファイルの作成は、Windows標準のnotepadを使ってもいいですし、Jupyter NotebookのLauncherタブのOther->Text Fileから開くエディタを利用することもできます。\n",
    "後者の場合、シンタックスハイライト機能で色付けされたコードを編集することができます。\n",
    "\n",
    "以下の一行を`hello.py`と言う名前のテキストファイルに保存してください。保存場所はJupyter Notebookと同じフォルダとします。\n",
    "```Python\n",
    "print('Hello world!')\n",
    "```\n",
    "<video controls src=\"../_static/mv_intro_create_module.mp4\">create</video>\n",
    "\n",
    "作成したモジュールを利用するには以下の方法があります。\n",
    "1. ターミナルからモジュールを直接実行する\n",
    "2. ほかのPythonコードからモジュールを呼び出し(import)実行する"
   ]
  },
  {
   "cell_type": "markdown",
   "metadata": {},
   "source": [
    "### モジュールをターミナルから実行する\n",
    "ターミナルから実行は、以下の手順で行います。\n",
    "1. ターミナルを開く\n",
    "2. `python モジュールファイル名`を実行する\n",
    "\n",
    "ではやってみます。\n",
    "\n",
    "1. 新しくUbuntuターミナルを開く\n",
    "2. `conda activate py38`でanaconda環境に入る\n",
    "3. `python Win_Documents/myprojects/hello.py`を実行する\n",
    "\n",
    "表示:\n",
    "```bash\n",
    "Hello world!\n",
    "```\n",
    "1.のターミナルはJupyter Notebookが動いているものとは別に開いてください。  \n",
    "3.のモジュールファイルへのパス(アドレス)は、`hello.py`を保存した場所に応じて変更してください。また、`python Win_Documents/myprojects/hello.py`の代わりに、`cd Win_Documents/myprojects/`コマンドでターミナルの作業ディレクトリを移動してから、`python hello.py`と実行することもできます。\n",
    "<video controls src=\"../_static/mv_intro_run_module.mp4\">run module from terminal</video>\n",
    "\n",
    "Jupyter notebookにはビルトインのターミナルも付属しています。Ubuntuのターミナルを新たに立ち上げる代わりに、Jupyter LabのLauncherタブからTerminalUbuntuのターミナルを起動して、上の手順の2.以降と同じ手順でも実行できます。\n",
    "\n",
    "<video controls src=\"../_static/mv_itro_jupyter_console.mp4\">run module from terminal</video>"
   ]
  },
  {
   "cell_type": "markdown",
   "metadata": {},
   "source": [
    "### モジュールをPythonコードから呼び出す\n",
    "作成したモジュールをPythonから利用する方法は次のとおりです。"
   ]
  },
  {
   "cell_type": "code",
   "execution_count": 1,
   "metadata": {},
   "outputs": [
    {
     "name": "stdout",
     "output_type": "stream",
     "text": [
      "Hello world!\n"
     ]
    }
   ],
   "source": [
    "import hello "
   ]
  },
  {
   "cell_type": "markdown",
   "metadata": {},
   "source": [
    "`import モジュール名`でモジュールが読み込まれると、モジュールファイルに含まれるコードが実行されます。今回は`hello.py`に書かれている`print('Hello world!')`が実行されました。モジュールに関数定義を書いておくと、インポート先でその関数が使えるようになります。\n",
    "\n",
    "以下を`greeting.py`という名前でJupyter Notebookと同じフォルダに保存して、Jupyter Notebookにインポートしてみます。\n",
    "```Python\n",
    "print('module imported.')\n",
    "\n",
    "DEFAULT_NAME = 'John Doe'\n",
    "\n",
    "def say_hi(name=DEFAULT_NAME):\n",
    "    print(f'Hi, {name}!')\n",
    "```"
   ]
  },
  {
   "cell_type": "code",
   "execution_count": 10,
   "metadata": {},
   "outputs": [
    {
     "name": "stdout",
     "output_type": "stream",
     "text": [
      "Hi, John Doe!\n"
     ]
    }
   ],
   "source": [
    "import greeting"
   ]
  },
  {
   "cell_type": "markdown",
   "metadata": {},
   "source": [
    "インポートされた時点で`greeting.py`が実行されるので、まずは`print('module imported.')`の出力が表示されました。\n",
    "\n",
    "モジュール内で定義された変数には、`モジュール名.変数名`でアクセスできます。"
   ]
  },
  {
   "cell_type": "code",
   "execution_count": 13,
   "metadata": {},
   "outputs": [
    {
     "name": "stdout",
     "output_type": "stream",
     "text": [
      "John Doe\n"
     ]
    }
   ],
   "source": [
    "print(greeting.DEFAULT_NAME)"
   ]
  },
  {
   "cell_type": "markdown",
   "metadata": {},
   "source": [
    "モジュールで定義された関数を呼び出す際も、`モジュール名.関数名()`で呼び出すことができます。"
   ]
  },
  {
   "cell_type": "code",
   "execution_count": 14,
   "metadata": {},
   "outputs": [
    {
     "name": "stdout",
     "output_type": "stream",
     "text": [
      "Hi, John Doe!\n",
      "Hi, Takahisa!\n"
     ]
    }
   ],
   "source": [
    "greeting.say_hi()\n",
    "greeting.say_hi('Takahisa')"
   ]
  },
  {
   "cell_type": "markdown",
   "metadata": {},
   "source": [
    "モジュールからインポートする際に、次のように書くと、モジュール名を省略できます。\n",
    "```python\n",
    "from モジュール名 import 関数名\n",
    "```"
   ]
  },
  {
   "cell_type": "code",
   "execution_count": 17,
   "metadata": {},
   "outputs": [
    {
     "name": "stdout",
     "output_type": "stream",
     "text": [
      "Hi, John Doe!\n"
     ]
    }
   ],
   "source": [
    "from greeting import say_hi\n",
    "say_hi()"
   ]
  },
  {
   "cell_type": "markdown",
   "metadata": {},
   "source": [
    "また、次のように書くと長い関数などを別名でimportすることができます。"
   ]
  },
  {
   "cell_type": "code",
   "execution_count": 18,
   "metadata": {},
   "outputs": [
    {
     "name": "stdout",
     "output_type": "stream",
     "text": [
      "Hi, John Doe!\n"
     ]
    }
   ],
   "source": [
    "from greeting import say_hi as hi\n",
    "hi()"
   ]
  },
  {
   "cell_type": "markdown",
   "metadata": {},
   "source": [
    "インポートするオブジェクトをカンマ区切りで列挙すると、同一のモジュールから複数のオブジェクト(関数や変数など)をインポートすることができます。"
   ]
  },
  {
   "cell_type": "code",
   "execution_count": 20,
   "metadata": {},
   "outputs": [
    {
     "name": "stdout",
     "output_type": "stream",
     "text": [
      "Hi, John Doe!\n",
      "John Doe\n"
     ]
    }
   ],
   "source": [
    "from greeting import say_hi, DEFAULT_NAME\n",
    "say_hi()\n",
    "print(DEFAULT_NAME)"
   ]
  },
  {
   "cell_type": "markdown",
   "metadata": {},
   "source": [
    "### 外部ライブラリを利用する\n",
    "Pythonでは、**モジュール**のほかに**パッケージ**や**ライブラリ**という言葉も使います。関数やクラスなどをまとめて`.py`ファイルに記載したPythonスクリプトファイルをモジュールといいます。関連する複数のモジュールをディレクトリにまとめたものをパッケージと呼びます。複数のパッケージをまとめたものをライブラリといいます。パッケージを指してライブラリと呼ぶこともあります。\n",
    "\n",
    "モジュールを直接利用する場合、`.py`ファイルの場所を指定しなくてはいけません。モジュールをライブラリの形に構成し、Python環境へインストールすることで、importして使いやすくなります。\n",
    "\n",
    "基本的な機能はデフォルトで[標準ライブラリ](https://docs.python.org/3/library/)としてPythonに付属しているため、個別にインストールせずにimportして利用できます。例えば以下のような標準ライブラリがあります。\n",
    "\n",
    "- [os](https://docs.python.org/3/library/os.html): WindowsやLinuxなど異なるOS上での違いを吸収して、ファイル操作を行うことができる\n",
    "- [math](https://docs.python.org/3/library/math.html): 三角関数、指数関数、丸め誤差の処理\n",
    "- [sys](https://docs.python.org/3/library/sys.html): プロセスのメモリ管理やエラー処理\n",
    "- [re](https://docs.python.org/3/library/re.html): 正規表現による文字列の高度な置換や検索\n",
    "- [rand](https://docs.python.org/3/library/random.html): 様々な乱数の精製\n",
    "\n",
    "標準ライブラリのほか、リモートセンシングやGISの分野では以下のようなオープンソースライブラリが利用されます。\n",
    "\n",
    "- [rasterio](https://rasterio.readthedocs.io/): GeoTiffなどのラスタ形式の衛星画像に関する処理\n",
    "- [geopandas](https://geopandas.org/): Shapefileなどのベクタ形式のデータ処理\n",
    "- [pyproj](https://pyproj4.github.io/pyproj/stable/): CRS(座標系)の管理\n",
    "- [numpy](https://numpy.org/): ベクトルや読み込んだ画像を用いた計算\n",
    "- [OpenCV](https://opencv.org/): 画像データに対するフィルタ処理やセグメンテーション等の高度な処理\n",
    "- [scikit-learn](https://scikit-learn.org/stable/): 一般的な機械学習アルゴリズムの利用\n",
    "\n",
    "これらの外部ライブラリを利用する際には、事前に各ライブラリがPython環境にインストールされている必要があります。Anacondaを用いてインストールする場合、ターミナルから、\n",
    "```bash\n",
    "conda install -c conda-forge rasterio\n",
    "```\n",
    "などとしてインストールすることができます。"
   ]
  },
  {
   "cell_type": "markdown",
   "metadata": {},
   "source": [
    "## プロパティとメソッド\n",
    "「プロパティ」と「メソッド」は、オブジェクト指向プログラミング(OOP)での用語で、それぞれこれまで出てきた「変数」と「関数」に相当します。OOPの解説はここではしませんが、まずは使い方に慣れてください。\n",
    "\n",
    "以下の例を見てください。"
   ]
  },
  {
   "cell_type": "code",
   "execution_count": 80,
   "metadata": {},
   "outputs": [
    {
     "name": "stdout",
     "output_type": "stream",
     "text": [
      "[[0 1 2]\n",
      " [3 4 5]]\n",
      "<class 'numpy.ndarray'>\n"
     ]
    }
   ],
   "source": [
    "import numpy as np\n",
    "my_array = np.array([[0, 1, 2],\n",
    "                     [3, 4, 5]])\n",
    "print(my_array)\n",
    "print(type(my_array))"
   ]
  },
  {
   "cell_type": "markdown",
   "metadata": {},
   "source": [
    "変数`my_array`には、`np.array()`関数にリストが渡された際の返り値が代入されました。\n",
    "\n",
    "OOPでは、値が代入された変数のことを**オブジェクト**といいます。上の例では「オブジェクト`my_array`が`np.array()`で作成された」と言います。`my_array`の型はnumpy.ndarray型です。特にOOPでは型のことをクラスと呼んでいます。(英語では歴史的な経緯からtypeやclassが混在して用いられていますが、日本語だと変数は型、オブジェクトはクラスと訳されていることが多いです。)\n",
    "\n",
    "そして、**プロパティ**と**メソッド**は各クラス(型)にて定義され、クラスから作成されたオブジェクトはそれらを引き継ぎます。\n",
    "\n",
    "numpy.ndarrayクラスのオブジェクトのプロパティの一つを確認してみます。"
   ]
  },
  {
   "cell_type": "code",
   "execution_count": 81,
   "metadata": {},
   "outputs": [
    {
     "data": {
      "text/plain": [
       "6"
      ]
     },
     "execution_count": 81,
     "metadata": {},
     "output_type": "execute_result"
    }
   ],
   "source": [
    "my_array.size"
   ]
  }
 ],
 "metadata": {
  "kernelspec": {
   "display_name": "Python 3",
   "language": "python",
   "name": "python3"
  },
  "language_info": {
   "codemirror_mode": {
    "name": "ipython",
    "version": 3
   },
   "file_extension": ".py",
   "mimetype": "text/x-python",
   "name": "python",
   "nbconvert_exporter": "python",
   "pygments_lexer": "ipython3",
   "version": "3.8.6"
  },
  "toc-autonumbering": true
 },
 "nbformat": 4,
 "nbformat_minor": 4
}
