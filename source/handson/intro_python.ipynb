{
 "cells": [
  {
   "cell_type": "markdown",
   "metadata": {},
   "source": [
    "# Pythonの基礎\n",
    "Pythonは、プログラミング言語の一つで、最近は機械学習や画像解析によく使われています。\n",
    "\n",
    "プログラミング言語は、PythonのほかにもR、Java、Cなどなどたくさんあります。各言語はそれぞれの言語の仕様により、様々な特徴を持ちます。また、各言語がよく使われている分野というものがあり、特定分野においてその言語のユーザーが多いほど、多くのライブラリが作成されています。どのプログラミング言語を利用するかは、その分野でみんながよく使っているというのが重要な指標になります。\n",
    "\n",
    "リモートセンシング・GISの分野でよく使われている言語は、Python、R、Bash、C#といったところです。特に**Python**は、ArgGISのほか、QGIS、GRASS GIS、Orfeo ToolboxなどのメジャーなGISはPythonをサポートしており、それらのソフトウェアが提供する機能をつなぎ合わせて実行することが容易になっています。\n",
    "\n",
    "**R**はグラフ作成や統計解析ライブラリが非常に充実しています。Pythonで大規模なデータを処理した後、Rで統計解析を行うこともよくあります。\n",
    "\n",
    "**Bash**はほとんどのUnix系のOSがサポートしている言語で、他と比べて基本的な機能しかありません。古くから使われている言語で互換性が高いため、例えば、pythonで書かれたプログラムをAWS上で自動的に実行させるといった、異なるプログラムやディバイス上での処理をつなげる処理によく使われます。\n",
    "\n",
    "**C#**は他の4つと比べると、非常に早く実行することができる言語です。多くのPythonやRのライブラリがバックエンドでC#で書かれたプログラムを利用しています。\n",
    "\n",
    "以下では、Jupyter Notebook上でPythonの基本的な使い方を学びます。"
   ]
  },
  {
   "cell_type": "markdown",
   "metadata": {},
   "source": [
    "## Jupyter Notebook上での出力について"
   ]
  },
  {
   "cell_type": "markdown",
   "metadata": {},
   "source": [
    "Pythonで実行結果を表示させるには、通常`print()`関数を使います。  \n",
    "例えば、`5+3`の実行結果を表示させるには、Jupyter Notebook上で以下のように書きます。"
   ]
  },
  {
   "cell_type": "code",
   "execution_count": 6,
   "metadata": {},
   "outputs": [
    {
     "name": "stdout",
     "output_type": "stream",
     "text": [
      "42\n"
     ]
    }
   ],
   "source": [
    "print(30 + 12)"
   ]
  },
  {
   "cell_type": "markdown",
   "metadata": {},
   "source": [
    "`30 + 12`の実行結果が`42`と表示されました。PythonをJupyter Notebook上で実行する場合に限り、`print()`が省略されても一番最後の実行結果は表示されます。"
   ]
  },
  {
   "cell_type": "markdown",
   "metadata": {},
   "source": [
    "30 + 12"
   ]
  },
  {
   "cell_type": "markdown",
   "metadata": {},
   "source": [
    "ただし、省略できるのは同じチャンクの最後の行のみです。複数行表示したい場合は、適宜`print()`関数を利用する必要があります。"
   ]
  },
  {
   "cell_type": "code",
   "execution_count": 9,
   "metadata": {},
   "outputs": [
    {
     "data": {
      "text/plain": [
       "10"
      ]
     },
     "execution_count": 9,
     "metadata": {},
     "output_type": "execute_result"
    }
   ],
   "source": [
    "30 + 12\n",
    "20 - 10"
   ]
  },
  {
   "cell_type": "markdown",
   "metadata": {},
   "source": [
    "すべての値を出力させたい場合、`print()`関数を複数入れて、以下のように書きます。"
   ]
  },
  {
   "cell_type": "code",
   "execution_count": 11,
   "metadata": {},
   "outputs": [
    {
     "name": "stdout",
     "output_type": "stream",
     "text": [
      "42\n",
      "10\n"
     ]
    }
   ],
   "source": [
    "print(30 + 12)\n",
    "print(20 - 10)"
   ]
  },
  {
   "cell_type": "markdown",
   "metadata": {},
   "source": [
    "以下では、`print()`関数が不要な場合、省略されている場合があります。"
   ]
  },
  {
   "cell_type": "markdown",
   "metadata": {},
   "source": [
    "## 代入\n",
    "以下のコードを見てください。"
   ]
  },
  {
   "cell_type": "code",
   "execution_count": 1,
   "metadata": {},
   "outputs": [
    {
     "name": "stdout",
     "output_type": "stream",
     "text": [
      "110\n"
     ]
    }
   ],
   "source": [
    "x = 10\n",
    "y = 100\n",
    "z = sum(x, y, 5)\n",
    "print(z)"
   ]
  },
  {
   "cell_type": "markdown",
   "metadata": {},
   "source": [
    "上記のコードは下記のことを行っています。\n",
    "\n",
    "```python\n",
    "x = 10         # 変数`x`に10を入力  \n",
    "y = 100        # 変数`y`に100を入力  \n",
    "z = sum(x, y, 5)  # `x + y + 5`を計算して結果を変数`z`に入力  \n",
    "print(z)       # 関数`print()`に`z`を入力  \n",
    "```\n",
    "\n",
    "Pythonや多くのプログラミング言語では、`=`は「右側の値を左の**変数**に代入する」という意味を持ちます。エクセルの数式も、`=`記号で始まりますが、これも数式の結果をセルに代入しているという点で、同じです。エクセルと異なるのは、エクセルでは代入先が数式を入力するセルであるのに対し、Pythonでは変数に代入します。\n",
    "\n",
    "値（上の例では数値`5`）や値が代入された変数（上の例では`x`と`y`）は、関数`sum()`の入力として渡され、`sum(x, y)`の結果が`z`に代入されています。関数に渡される値を引数とよび、上の例の場合、「xとyと5を関数sum()の引数として渡す」などといいます。\n",
    "\n",
    "また、`sum()`などの関数の結果を**戻り値(返り値)**といい、上の例は「`sum()`の戻り値(返り値)を変数`z`に代入」しています。Pythonでは、関数の戻り地をまた別の関数の引数として渡すことで、より複雑な処理をさせることができます。\n",
    "\n",
    "値を代入することによって作成された変数や、後述のclassによって作成された変数などを、まとめて**オブジェクト**と呼びます。"
   ]
  },
  {
   "cell_type": "markdown",
   "metadata": {},
   "source": [
    "## 型"
   ]
  },
  {
   "cell_type": "markdown",
   "metadata": {},
   "source": [
    "### 基本型\n",
    "型とは、データがどのような形式かを表すもので、Pythonにあらかじめ定義されている基本型は以下のものがあります。\n",
    "- 数値型\n",
    "  - 整数型(int) : -1, 0, 1, 2, ....\n",
    "  - 小数型(float) : -120.0, 3.1415, 1.5e12, 3.00e8\n",
    "  - 複素数型(complex): 1.0j, 1+1j, 3e8+0j\n",
    "- バイナリ型\n",
    "  - ブール型(bool) : True, False\n",
    "- 文字列\n",
    "  - 文字列型(str) : 'aaa', 'あいうえお', \"0123\"\n",
    "- None\n",
    "  - x = None\n",
    "\n",
    "また、必要に応じてユーザーによって**型**を新しく作ることもできます。 \n",
    "プログラムが複雑になってくると、新しい**型**を導入することはとても便利です。\n",
    "\n",
    "自分の扱っているデータの方を確認するには、`type()`関数を利用します。"
   ]
  },
  {
   "cell_type": "code",
   "execution_count": 1,
   "metadata": {},
   "outputs": [
    {
     "data": {
      "text/plain": [
       "int"
      ]
     },
     "execution_count": 1,
     "metadata": {},
     "output_type": "execute_result"
    }
   ],
   "source": [
    "type(30 + 5)  # 整数型の例"
   ]
  },
  {
   "cell_type": "markdown",
   "metadata": {},
   "source": [
    "**バイナリ型**は、条件式の結果の値として利用されます。"
   ]
  },
  {
   "cell_type": "code",
   "execution_count": 4,
   "metadata": {},
   "outputs": [
    {
     "name": "stdout",
     "output_type": "stream",
     "text": [
      "False\n",
      "<class 'bool'>\n"
     ]
    }
   ],
   "source": [
    "x = 4\n",
    "y = 3\n",
    "\n",
    "print(x == y)  # xとyが等しい場合、True、等しくない場合Falseを返す\n",
    "print(type(True))  # ブール型の例"
   ]
  },
  {
   "cell_type": "code",
   "execution_count": 13,
   "metadata": {},
   "outputs": [
    {
     "data": {
      "text/plain": [
       "str"
      ]
     },
     "execution_count": 13,
     "metadata": {},
     "output_type": "execute_result"
    }
   ],
   "source": [
    "type('abcd')  # 文字列型の例"
   ]
  },
  {
   "cell_type": "code",
   "execution_count": 5,
   "metadata": {},
   "outputs": [
    {
     "data": {
      "text/plain": [
       "NoneType"
      ]
     },
     "execution_count": 5,
     "metadata": {},
     "output_type": "execute_result"
    }
   ],
   "source": [
    "type(None)  # Noneタイプの例"
   ]
  },
  {
   "cell_type": "markdown",
   "metadata": {},
   "source": [
    "`None`タイプは、関数を呼び出す際に引数が与えられなかった場合のデフォルト値や、リストやディクショナリの要素がない場合の値などとして用いられます。"
   ]
  },
  {
   "cell_type": "code",
   "execution_count": 7,
   "metadata": {},
   "outputs": [
    {
     "name": "stdout",
     "output_type": "stream",
     "text": [
      "a is aaa.\n",
      "b is bbb.\n"
     ]
    }
   ],
   "source": [
    "# 複数の名前付き引数を持つ関数\n",
    "def my_func(a, b, c=None):\n",
    "    print(f'a is {a}.')\n",
    "    print(f'b is {b}.')\n",
    "    if c is not None:\n",
    "        print(f'c is {c}.')\n",
    "        \n",
    "my_func(a='aaa', b='bbb')  # -> a is aaa. b is bbb.\n"
   ]
  },
  {
   "cell_type": "code",
   "execution_count": 11,
   "metadata": {},
   "outputs": [
    {
     "data": {
      "text/plain": [
       "['aaa', 'bbb', None, 'ddd']"
      ]
     },
     "execution_count": 11,
     "metadata": {},
     "output_type": "execute_result"
    }
   ],
   "source": [
    "# 要素にNoneを持つリストの例\n",
    "['aaa', 'bbb', None, 'ddd']"
   ]
  },
  {
   "cell_type": "markdown",
   "metadata": {},
   "source": [
    "### コレクション型\n",
    "コレクション型は、複数の要素(item)をひとまとめにした構造をしています。異なる型の値であったり、別のコレクション型を要素として持つ入れ子構造を取ることもできます。\n",
    "\n",
    "コレクション型は以下のものがあります。\n",
    "- リスト型(list)\n",
    "- セット型(set)\n",
    "- タプル型(tuple)\n",
    "- 辞書型(dict)\n",
    "\n",
    "またそれぞれの特徴をまとめると以下のとおりです。\n",
    "\n",
    "|  型   | 要素の並び |    要素の変更      | 要素の重複 | 例 | \n",
    "|-------|----------|------------------|-|----|\n",
    "|  list |      一定 |  可(ミュータブル)  |可|`['a', 'b', 'b', None, 100]`|\n",
    "|   set |      不定 |  可(ミュータブル)  |不可|`set(['a', 'b', None, 100])`|\n",
    "| tuple |      一定 | 不可(イミュータブル)|可|`('a', 'b', 'b', None, 100)`|\n",
    "| dict  |      不定 |  可(ミュータブル)  |キーの重複は不可|`{'a':'aaa', 'b': 'bbb', 'c': 100, 'd':None}`|\n",
    "\n",
    "以下、それぞれ確認していきます。"
   ]
  },
  {
   "cell_type": "markdown",
   "metadata": {},
   "source": [
    "#### 各コレクションの作成"
   ]
  },
  {
   "cell_type": "code",
   "execution_count": 19,
   "metadata": {},
   "outputs": [
    {
     "name": "stdout",
     "output_type": "stream",
     "text": [
      "['a', 'b', 'b', None, 100]\n",
      "{100, 'b', 'a', None}\n",
      "('a', 'b', 'b', None, 100)\n",
      "{'a': 'aaa', 'b': 'bbb', 'c': 100, 1: None}\n"
     ]
    }
   ],
   "source": [
    "my_list  = ['a', 'b', 'b', None, 100]\n",
    "\n",
    "my_set   = set(['a', 'b', 'b', None, 100])\n",
    "\n",
    "my_tuple = ('a', 'b', 'b', None, 100)\n",
    "\n",
    "my_dict  = {'a':'aaa', 'b': 'bbb', 'c': 100, 1:None}\n",
    "\n",
    "print(my_list)\n",
    "print(my_set)\n",
    "print(my_tuple)\n",
    "print(my_dict)"
   ]
  },
  {
   "cell_type": "markdown",
   "metadata": {},
   "source": [
    "listは`[]`内に`,`区切りで要素を列挙して作成します。\n",
    "\n",
    "setは`set()`にリストを与えて作成ます。set型は要素の重複が不可のため、重複した要素は１つを除いて削除されます。順序は保存されないため、print()で表示される順序は一定ではありません。\n",
    "\n",
    "tupleは`()`内に`,`区切りで要素を列挙して作成します。listとの違いは、要素をあとから変更可能かどうかという点です。tupleは変更できません(イミュータブル)。ミュータブル/イミュータブルについては、*参照*の項で説明します。\n",
    "\n",
    "dictは`()`内に`,`区切りで要素を列挙して作成します。各要素は、**key**と**value**の組からなります。上記の例では、keyは`'a', 'b', 'c', 'd'`で、valueは`'aaa', 'bbb', 100, None`です。重複するkeyは利用できません。keyには文字列は整数値など[hashable](https://docs.python.org/3/glossary.html#term-hashable)な値が利用できます。"
   ]
  },
  {
   "cell_type": "markdown",
   "metadata": {},
   "source": [
    "#### コレクションへのアクセス\n",
    "コレクション型の中に保存された各要素は以下のように取り出すことができます。順序が決まっているlistとtupleは`[]`の中に取り出したい要素の位置を示すインデックス番号を、dictの場合は[]の中にkeyを入れることで取り出すことができます。**Pythonではインデックス番号は0から始まり、先頭から0、1、2...となります。**"
   ]
  },
  {
   "cell_type": "code",
   "execution_count": 25,
   "metadata": {},
   "outputs": [
    {
     "name": "stdout",
     "output_type": "stream",
     "text": [
      "a\n",
      "b\n",
      "100\n"
     ]
    }
   ],
   "source": [
    "print(my_list[0])    # 先頭の要素を取得\n",
    "print(my_tuple[1])   # 2番目の要素を取得\n",
    "print(my_dict['c'])  # keyの値が'c'である要素を取得"
   ]
  },
  {
   "cell_type": "markdown",
   "metadata": {},
   "source": [
    "setは順序も不定でkeyを持たないため、ある特定の要素を取り出すことはできませんが、以下の様に一つづつ取り出すことは可能です。"
   ]
  },
  {
   "cell_type": "code",
   "execution_count": 26,
   "metadata": {},
   "outputs": [
    {
     "name": "stdout",
     "output_type": "stream",
     "text": [
      "100\n",
      "b\n",
      "a\n",
      "None\n"
     ]
    }
   ],
   "source": [
    "for i in my_set:\n",
    "    print(i)"
   ]
  },
  {
   "cell_type": "markdown",
   "metadata": {},
   "source": [
    "#### 値の変更\n",
    "ミュータブルなコレクションは、以下のように要素の一部を変更することができます。"
   ]
  },
  {
   "cell_type": "code",
   "execution_count": 28,
   "metadata": {},
   "outputs": [
    {
     "name": "stdout",
     "output_type": "stream",
     "text": [
      "['a', 'bbb', 'c']\n"
     ]
    }
   ],
   "source": [
    "my_list = ['a', 'b', 'c']\n",
    "my_list[1] = 'bbb'\n",
    "print(my_list)"
   ]
  },
  {
   "cell_type": "code",
   "execution_count": 29,
   "metadata": {},
   "outputs": [
    {
     "name": "stdout",
     "output_type": "stream",
     "text": [
      "{'a': 'aaa', 'b': 'bbb', 'c': 1000}\n"
     ]
    }
   ],
   "source": [
    "my_dict = {'a':'aaa', 'b':'bbb', 'c':'ccc'}\n",
    "my_dict['c'] = 1000\n",
    "print(my_dict)"
   ]
  },
  {
   "cell_type": "markdown",
   "metadata": {},
   "source": [
    "#### 参照(Reference)\n",
    "値をもつ変数を別の変数に代入する場合、**Pythonでは参照渡し**という方法で変数がコピーされます。\n",
    "参考：[Pythonの引数における参照渡しと値渡しについて](https://www.javadrive.jp/python/userfunc/index3.html)\n",
    "\n",
    "Pythonでは変数にベクトルや数値といった値が代入されるとき、値が変数に直接保存されているのではなく、値が格納されているメモリ上のアドレスが変数に割り当てられます。\n",
    "特にlist、dict等、ミュータブルな型を持つオブジェクトをコピーする際は注意が必要です。\n",
    "\n",
    "以下に例を示します。"
   ]
  },
  {
   "cell_type": "code",
   "execution_count": 2,
   "metadata": {},
   "outputs": [
    {
     "name": "stdout",
     "output_type": "stream",
     "text": [
      "['a', 'b', 'x']\n",
      "['a', 'b', 'x']\n"
     ]
    }
   ],
   "source": [
    "my_list_abc = ['a', 'b', 'c']\n",
    "my_list_abx = my_list_abc  # my_list_abcへの\"参照\"が渡される\n",
    "my_list_abx[2] = 'x'       # 新しく作成された3番目の要素を変更する\n",
    "print(my_list_abx)         # -> ['a', 'b', 'x']\n",
    "print(my_list_abc)         # -> ['a', 'b', 'x']  コピー元のリストの要素も変更されている"
   ]
  },
  {
   "cell_type": "markdown",
   "metadata": {},
   "source": [
    "2行目において、`my_list_abx`には`my_list_abc`が*参照渡し*されているため、`my_list_abx`を更新すると参照元の`my_list_abc`も変更されてしまっていることが確認できます。ミュータブルなオブジェクトを`=`でコピーすることは、ファイルのショートカットを作成するようなものなので、実際のファイルがコピーされず、メモリや計算効率が良いですが、理解していないと意図しないデータを変更してしまいます。\n",
    "\n",
    "参照渡しをしないで別々なオブジェクトとしてコピーしたい場合、各オブジェクトが持つ`.copy()`メソッドや、`deepcopy()`関数を使ったコピーをする必要があります。"
   ]
  },
  {
   "cell_type": "code",
   "execution_count": 4,
   "metadata": {},
   "outputs": [
    {
     "name": "stdout",
     "output_type": "stream",
     "text": [
      "['a', 'b', 'x']\n",
      "['a', 'b', 'c']\n"
     ]
    }
   ],
   "source": [
    "my_list_abc = ['a', 'b', 'c']\n",
    "my_list_abx = my_list_abc.copy()  # my_list_abcのコピーが作成される\n",
    "my_list_abx[2] = 'x'              # 新しく作成された3番目の要素を変更する\n",
    "print(my_list_abx)                # -> ['a', 'b', 'x']\n",
    "print(my_list_abc)                # -> ['a', 'b', 'c']  コピー元のリストの要素は変更されない"
   ]
  },
  {
   "cell_type": "markdown",
   "metadata": {},
   "source": [
    "## 演算子(Operator)\n",
    "二項演算子は、`+`、`-`、`/`、`%`などの、二つの引数の間に入れることで作用するオペレーターを指します。\n",
    "- "
   ]
  },
  {
   "cell_type": "markdown",
   "metadata": {},
   "source": [
    "### 四則演算"
   ]
  },
  {
   "cell_type": "markdown",
   "metadata": {},
   "source": [
    "### ブール演算子(論理演算子)"
   ]
  },
  {
   "cell_type": "markdown",
   "metadata": {},
   "source": [
    "## スライス"
   ]
  },
  {
   "cell_type": "markdown",
   "metadata": {},
   "source": [
    "## 文字列整形"
   ]
  },
  {
   "cell_type": "markdown",
   "metadata": {},
   "source": [
    "## 条件式(if, elif, else)"
   ]
  },
  {
   "cell_type": "markdown",
   "metadata": {},
   "source": [
    "## ループ(for, while)"
   ]
  },
  {
   "cell_type": "markdown",
   "metadata": {},
   "source": [
    "## enumulate"
   ]
  },
  {
   "cell_type": "markdown",
   "metadata": {},
   "source": [
    "## 関数"
   ]
  },
  {
   "cell_type": "markdown",
   "metadata": {},
   "source": [
    "## モジュールとパッケージ"
   ]
  },
  {
   "cell_type": "markdown",
   "metadata": {},
   "source": [
    "## 標準ライブラリ"
   ]
  },
  {
   "cell_type": "markdown",
   "metadata": {},
   "source": [
    "## 名前空間とスコープ"
   ]
  },
  {
   "cell_type": "markdown",
   "metadata": {},
   "source": [
    "## プロパティとメソッド"
   ]
  },
  {
   "cell_type": "markdown",
   "metadata": {},
   "source": [
    "## Jupyter Notebook外でのPythonの利用\n",
    "Pythonで書いたプログラムをJupyter Notebookを起動せずに実行したり、過去に作成したプログラムを、別のPythonプログラムから呼び出したりするには、Pythonのコードをテキストファイルに書き、`.py`の拡張子で保存します。\n",
    "\n",
    "例えば、以下を`hello.py`として保存した場合、\n",
    "```Python\n",
    "print('hello world!')\n",
    "```\n",
    "\n",
    "ターミナルから以下のコマンドを実行すると、ターミナルに実行結果が表示されます。\n",
    "```bash\n",
    "python hello.py\n",
    "```\n",
    "表示:\n",
    "```bash\n",
    "hello world!\n",
    "```\n"
   ]
  }
 ],
 "metadata": {
  "kernelspec": {
   "display_name": "Python 3",
   "language": "python",
   "name": "python3"
  },
  "language_info": {
   "codemirror_mode": {
    "name": "ipython",
    "version": 3
   },
   "file_extension": ".py",
   "mimetype": "text/x-python",
   "name": "python",
   "nbconvert_exporter": "python",
   "pygments_lexer": "ipython3",
   "version": "3.8.6"
  }
 },
 "nbformat": 4,
 "nbformat_minor": 4
}
