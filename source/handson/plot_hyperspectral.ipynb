{
 "cells": [
  {
   "cell_type": "markdown",
   "metadata": {},
   "source": [
    "# ハイパースペクトラルセンサーデータの可視化"
   ]
  },
  {
   "cell_type": "raw",
   "metadata": {},
   "source": [
    "<ul>\n",
    "<li><a href=\"https://amano-takahisa.github.io/rs_with_python/handson/plot_hyperspectral.ipynb\">このページのJupyter Notebookファイル</a></li>\n",
    "<li><a href=\"https://colab.research.google.com/github/amano-takahisa/rs_with_python/blob/master/docs/handson/plot_hyperspectral.ipynb\" target=\"_blank\">google colaboratoryで開く</a></li>\n",
    "<li><a href=\"https://amano-takahisa.github.io/rs_with_python/handson/data/spec.csv\">利用するデータ</a></li>\n",
    "<li><a href=\"https://youtu.be/6l4tbu0yjD4\">解説動画</a></li>\n",
    "</ul>"
   ]
  },
  {
   "cell_type": "markdown",
   "metadata": {},
   "source": [
    "ハイパースペクトラルセンサーデータを用いて、Pythonでの基本的なデータ処理について学びます。\n",
    "\n",
    "センサーデータのCSVから、以下のようなグラフと各測定でのNDVIの値を算出します。\n",
    "\n",
    "![out](https://github.com/amano-takahisa/rs_with_python/raw/master/source/handson/out/spectral.png)\n",
    "\n",
    "上記のリンクからこの演習で利用するCSVデータをダウンロードの上、JupyterNotebookもしくはGoogle Colaboratoryの左側に表示されているファイルマネージャにて`data`フォルダを作成し、その中に保存してください。"
   ]
  },
  {
   "cell_type": "markdown",
   "metadata": {},
   "source": [
    "## CSVファイルの読み込み\n",
    "CSVやエクセルなどに保存された表形式のデータを扱うには、**Pandas**というライブラリを利用します。  \n",
    "[Pandasの公式ドキュメントはこちら](https://pandas.pydata.org/pandas-docs/stable/index.html)\n",
    "\n",
    "Pandasでは表形式のデータを**DataFrame**と呼ばれる形で保持し、必要な処理を行っていきます。\n",
    "\n",
    "まずはPandasを用いてデータを読み込んでみましょう。"
   ]
  },
  {
   "cell_type": "code",
   "execution_count": 1,
   "metadata": {},
   "outputs": [
    {
     "data": {
      "text/html": [
       "<div>\n",
       "<style scoped>\n",
       "    .dataframe tbody tr th:only-of-type {\n",
       "        vertical-align: middle;\n",
       "    }\n",
       "\n",
       "    .dataframe tbody tr th {\n",
       "        vertical-align: top;\n",
       "    }\n",
       "\n",
       "    .dataframe thead th {\n",
       "        text-align: right;\n",
       "    }\n",
       "</style>\n",
       "<table border=\"1\" class=\"dataframe\">\n",
       "  <thead>\n",
       "    <tr style=\"text-align: right;\">\n",
       "      <th></th>\n",
       "      <th>DATE</th>\n",
       "      <th>12/17/2019</th>\n",
       "      <th>12/17/2019.1</th>\n",
       "      <th>12/17/2019.2</th>\n",
       "      <th>12/17/2019.3</th>\n",
       "    </tr>\n",
       "  </thead>\n",
       "  <tbody>\n",
       "    <tr>\n",
       "      <th>0</th>\n",
       "      <td>TIME</td>\n",
       "      <td>13:08:32</td>\n",
       "      <td>13:07:44</td>\n",
       "      <td>13:06:19</td>\n",
       "      <td>13:04:52</td>\n",
       "    </tr>\n",
       "    <tr>\n",
       "      <th>1</th>\n",
       "      <td>Model Number</td>\n",
       "      <td>MS-730</td>\n",
       "      <td>MS-730</td>\n",
       "      <td>MS-730</td>\n",
       "      <td>MS-730</td>\n",
       "    </tr>\n",
       "    <tr>\n",
       "      <th>2</th>\n",
       "      <td>Serial Number</td>\n",
       "      <td>21151</td>\n",
       "      <td>21151</td>\n",
       "      <td>21151</td>\n",
       "      <td>21151</td>\n",
       "    </tr>\n",
       "    <tr>\n",
       "      <th>3</th>\n",
       "      <td>Calibration Value</td>\n",
       "      <td>Available</td>\n",
       "      <td>Available</td>\n",
       "      <td>Available</td>\n",
       "      <td>Available</td>\n",
       "    </tr>\n",
       "    <tr>\n",
       "      <th>4</th>\n",
       "      <td>Measurement mode</td>\n",
       "      <td>Single</td>\n",
       "      <td>Single</td>\n",
       "      <td>Single</td>\n",
       "      <td>Single</td>\n",
       "    </tr>\n",
       "    <tr>\n",
       "      <th>...</th>\n",
       "      <td>...</td>\n",
       "      <td>...</td>\n",
       "      <td>...</td>\n",
       "      <td>...</td>\n",
       "      <td>...</td>\n",
       "    </tr>\n",
       "    <tr>\n",
       "      <th>5043</th>\n",
       "      <td>1112.93</td>\n",
       "      <td>0</td>\n",
       "      <td>0</td>\n",
       "      <td>0</td>\n",
       "      <td>0</td>\n",
       "    </tr>\n",
       "    <tr>\n",
       "      <th>5044</th>\n",
       "      <td>1113.24</td>\n",
       "      <td>0</td>\n",
       "      <td>0</td>\n",
       "      <td>0</td>\n",
       "      <td>0</td>\n",
       "    </tr>\n",
       "    <tr>\n",
       "      <th>5045</th>\n",
       "      <td>1113.55</td>\n",
       "      <td>0</td>\n",
       "      <td>0</td>\n",
       "      <td>0</td>\n",
       "      <td>0</td>\n",
       "    </tr>\n",
       "    <tr>\n",
       "      <th>5046</th>\n",
       "      <td>1113.86</td>\n",
       "      <td>0</td>\n",
       "      <td>0</td>\n",
       "      <td>0</td>\n",
       "      <td>0</td>\n",
       "    </tr>\n",
       "    <tr>\n",
       "      <th>5047</th>\n",
       "      <td>1114.17</td>\n",
       "      <td>0</td>\n",
       "      <td>0</td>\n",
       "      <td>0</td>\n",
       "      <td>0</td>\n",
       "    </tr>\n",
       "  </tbody>\n",
       "</table>\n",
       "<p>5048 rows × 5 columns</p>\n",
       "</div>"
      ],
      "text/plain": [
       "                   DATE 12/17/2019 12/17/2019.1 12/17/2019.2 12/17/2019.3\n",
       "0                  TIME   13:08:32     13:07:44     13:06:19     13:04:52\n",
       "1          Model Number     MS-730       MS-730       MS-730       MS-730\n",
       "2         Serial Number      21151        21151        21151        21151\n",
       "3     Calibration Value  Available    Available    Available    Available\n",
       "4      Measurement mode     Single       Single       Single       Single\n",
       "...                 ...        ...          ...          ...          ...\n",
       "5043            1112.93          0            0            0            0\n",
       "5044            1113.24          0            0            0            0\n",
       "5045            1113.55          0            0            0            0\n",
       "5046            1113.86          0            0            0            0\n",
       "5047            1114.17          0            0            0            0\n",
       "\n",
       "[5048 rows x 5 columns]"
      ]
     },
     "execution_count": 1,
     "metadata": {},
     "output_type": "execute_result"
    }
   ],
   "source": [
    "import pandas as pd  # pandasをpdという別名で呼び出す\n",
    "\n",
    "# csvファイルを読み込み、dfという変数に代入する\n",
    "df = pd.read_csv('data/spec.csv')\n",
    "df  # dfの中身を表示"
   ]
  },
  {
   "cell_type": "markdown",
   "metadata": {},
   "source": [
    "各行の意味はコメントに記載のとおりです。\n",
    "Pandasライブラリには、今回利用したCSVファイルを読み込むための`read_csv()`メソッド(関数)の他にも、エクセルファイルを読み込むための`read_excel()`、クリップボードからデータを読み込む`read_clipboard()`などのメソッドが用意されています。詳しくは[Pandas API reference](https://pandas.pydata.org/pandas-docs/stable/reference/io.html)で確認してください。\n",
    "\n",
    "データは、dfに`DataFrame`というクラスで代入されています。"
   ]
  },
  {
   "cell_type": "code",
   "execution_count": 2,
   "metadata": {},
   "outputs": [
    {
     "data": {
      "text/plain": [
       "pandas.core.frame.DataFrame"
      ]
     },
     "execution_count": 2,
     "metadata": {},
     "output_type": "execute_result"
    }
   ],
   "source": [
    "# オブジェクトタイプの確認\n",
    "type(df)"
   ]
  },
  {
   "cell_type": "markdown",
   "metadata": {},
   "source": [
    "また、表示されるテーブルの最後に、`5048 rows × 5 columns`と表示があり、CSVデータは5,048行、5列のデータであることがわかります。\n",
    "\n",
    "このCSVデータは、列ごとに各観測が保存され、46行目までにメタデータ、47行目以降が各観測の波長ごとの放射照度(分光放射照度)の値が保存されています。また、2,548行目から別の測定が保存されています。\n",
    "\n",
    "今回はメタデータ部分を飛ばして、かつ2,547行目までの放射照度の値のみを読み込んだデータフレームを作成します。"
   ]
  },
  {
   "cell_type": "code",
   "execution_count": 3,
   "metadata": {},
   "outputs": [
    {
     "data": {
      "text/html": [
       "<div>\n",
       "<style scoped>\n",
       "    .dataframe tbody tr th:only-of-type {\n",
       "        vertical-align: middle;\n",
       "    }\n",
       "\n",
       "    .dataframe tbody tr th {\n",
       "        vertical-align: top;\n",
       "    }\n",
       "\n",
       "    .dataframe thead th {\n",
       "        text-align: right;\n",
       "    }\n",
       "</style>\n",
       "<table border=\"1\" class=\"dataframe\">\n",
       "  <thead>\n",
       "    <tr style=\"text-align: right;\">\n",
       "      <th></th>\n",
       "      <th>Wavelength[nm]</th>\n",
       "      <th>Spectral Irradiance[W/m^2/nm]</th>\n",
       "      <th>Spectral Irradiance[W/m^2/nm].1</th>\n",
       "      <th>Spectral Irradiance[W/m^2/nm].2</th>\n",
       "      <th>Spectral Irradiance[W/m^2/nm].3</th>\n",
       "    </tr>\n",
       "  </thead>\n",
       "  <tbody>\n",
       "    <tr>\n",
       "      <th>0</th>\n",
       "      <td>294.00</td>\n",
       "      <td>0</td>\n",
       "      <td>0</td>\n",
       "      <td>0.0</td>\n",
       "      <td>0.0</td>\n",
       "    </tr>\n",
       "    <tr>\n",
       "      <th>1</th>\n",
       "      <td>294.34</td>\n",
       "      <td>0</td>\n",
       "      <td>0</td>\n",
       "      <td>0.0</td>\n",
       "      <td>0.0</td>\n",
       "    </tr>\n",
       "    <tr>\n",
       "      <th>2</th>\n",
       "      <td>294.68</td>\n",
       "      <td>0</td>\n",
       "      <td>0</td>\n",
       "      <td>0.0</td>\n",
       "      <td>0.0</td>\n",
       "    </tr>\n",
       "    <tr>\n",
       "      <th>3</th>\n",
       "      <td>295.02</td>\n",
       "      <td>nodata</td>\n",
       "      <td>nodata</td>\n",
       "      <td>0.0</td>\n",
       "      <td>0.0</td>\n",
       "    </tr>\n",
       "    <tr>\n",
       "      <th>4</th>\n",
       "      <td>295.37</td>\n",
       "      <td>0</td>\n",
       "      <td>0</td>\n",
       "      <td>NaN</td>\n",
       "      <td>0.0</td>\n",
       "    </tr>\n",
       "    <tr>\n",
       "      <th>...</th>\n",
       "      <td>...</td>\n",
       "      <td>...</td>\n",
       "      <td>...</td>\n",
       "      <td>...</td>\n",
       "      <td>...</td>\n",
       "    </tr>\n",
       "    <tr>\n",
       "      <th>2495</th>\n",
       "      <td>1112.93</td>\n",
       "      <td>0</td>\n",
       "      <td>0</td>\n",
       "      <td>0.0</td>\n",
       "      <td>0.0</td>\n",
       "    </tr>\n",
       "    <tr>\n",
       "      <th>2496</th>\n",
       "      <td>1113.24</td>\n",
       "      <td>0</td>\n",
       "      <td>0</td>\n",
       "      <td>0.0</td>\n",
       "      <td>0.0</td>\n",
       "    </tr>\n",
       "    <tr>\n",
       "      <th>2497</th>\n",
       "      <td>1113.55</td>\n",
       "      <td>0</td>\n",
       "      <td>0</td>\n",
       "      <td>0.0</td>\n",
       "      <td>0.0</td>\n",
       "    </tr>\n",
       "    <tr>\n",
       "      <th>2498</th>\n",
       "      <td>1113.86</td>\n",
       "      <td>0</td>\n",
       "      <td>0</td>\n",
       "      <td>0.0</td>\n",
       "      <td>0.0</td>\n",
       "    </tr>\n",
       "    <tr>\n",
       "      <th>2499</th>\n",
       "      <td>1114.17</td>\n",
       "      <td>0</td>\n",
       "      <td>0</td>\n",
       "      <td>0.0</td>\n",
       "      <td>0.0</td>\n",
       "    </tr>\n",
       "  </tbody>\n",
       "</table>\n",
       "<p>2500 rows × 5 columns</p>\n",
       "</div>"
      ],
      "text/plain": [
       "      Wavelength[nm] Spectral Irradiance[W/m^2/nm]  \\\n",
       "0             294.00                             0   \n",
       "1             294.34                             0   \n",
       "2             294.68                             0   \n",
       "3             295.02                        nodata   \n",
       "4             295.37                             0   \n",
       "...              ...                           ...   \n",
       "2495         1112.93                             0   \n",
       "2496         1113.24                             0   \n",
       "2497         1113.55                             0   \n",
       "2498         1113.86                             0   \n",
       "2499         1114.17                             0   \n",
       "\n",
       "     Spectral Irradiance[W/m^2/nm].1  Spectral Irradiance[W/m^2/nm].2  \\\n",
       "0                                  0                              0.0   \n",
       "1                                  0                              0.0   \n",
       "2                                  0                              0.0   \n",
       "3                             nodata                              0.0   \n",
       "4                                  0                              NaN   \n",
       "...                              ...                              ...   \n",
       "2495                               0                              0.0   \n",
       "2496                               0                              0.0   \n",
       "2497                               0                              0.0   \n",
       "2498                               0                              0.0   \n",
       "2499                               0                              0.0   \n",
       "\n",
       "      Spectral Irradiance[W/m^2/nm].3  \n",
       "0                                 0.0  \n",
       "1                                 0.0  \n",
       "2                                 0.0  \n",
       "3                                 0.0  \n",
       "4                                 0.0  \n",
       "...                               ...  \n",
       "2495                              0.0  \n",
       "2496                              0.0  \n",
       "2497                              0.0  \n",
       "2498                              0.0  \n",
       "2499                              0.0  \n",
       "\n",
       "[2500 rows x 5 columns]"
      ]
     },
     "execution_count": 3,
     "metadata": {},
     "output_type": "execute_result"
    }
   ],
   "source": [
    "spec = pd.read_csv('data/spec.csv', nrows=2500, skiprows=47)\n",
    "spec"
   ]
  },
  {
   "cell_type": "markdown",
   "metadata": {},
   "source": [
    "`skiprows=n`オプションを与えることで、ファイルのはじめのn行を飛ばして読み込むことができました。その他のオプションは[公式ドキュメント](https://pandas.pydata.org/pandas-docs/stable/reference/api/pandas.read_csv.html)を参照してください。"
   ]
  },
  {
   "cell_type": "markdown",
   "metadata": {},
   "source": [
    "## データのクリーニング"
   ]
  },
  {
   "cell_type": "markdown",
   "metadata": {},
   "source": [
    "読み込んだデータをプロットする前に、データのクリーニングとして以下を実施します。\n",
    "- カラム名の変更\n",
    "- 欠損値の設定"
   ]
  },
  {
   "cell_type": "markdown",
   "metadata": {},
   "source": [
    "### カラム名の変更\n",
    "まずはカラムの名前が長すぎて扱いづらいので変更します。\n",
    "\n",
    "データフレームはのカラム名は、作成したデータフレームの名前の後に`.columns`を付けることで取得することができます。"
   ]
  },
  {
   "cell_type": "code",
   "execution_count": 4,
   "metadata": {},
   "outputs": [
    {
     "data": {
      "text/plain": [
       "Index(['Wavelength[nm]', 'Spectral Irradiance[W/m^2/nm]',\n",
       "       'Spectral Irradiance[W/m^2/nm].1', 'Spectral Irradiance[W/m^2/nm].2',\n",
       "       'Spectral Irradiance[W/m^2/nm].3'],\n",
       "      dtype='object')"
      ]
     },
     "execution_count": 4,
     "metadata": {},
     "output_type": "execute_result"
    }
   ],
   "source": [
    "spec.columns"
   ]
  },
  {
   "cell_type": "markdown",
   "metadata": {},
   "source": [
    "`.columns`に新しいカラム名を代入するとカラム名を変更することができます。"
   ]
  },
  {
   "cell_type": "code",
   "execution_count": 5,
   "metadata": {},
   "outputs": [
    {
     "data": {
      "text/html": [
       "<div>\n",
       "<style scoped>\n",
       "    .dataframe tbody tr th:only-of-type {\n",
       "        vertical-align: middle;\n",
       "    }\n",
       "\n",
       "    .dataframe tbody tr th {\n",
       "        vertical-align: top;\n",
       "    }\n",
       "\n",
       "    .dataframe thead th {\n",
       "        text-align: right;\n",
       "    }\n",
       "</style>\n",
       "<table border=\"1\" class=\"dataframe\">\n",
       "  <thead>\n",
       "    <tr style=\"text-align: right;\">\n",
       "      <th></th>\n",
       "      <th>WL</th>\n",
       "      <th>obs1</th>\n",
       "      <th>obs2</th>\n",
       "      <th>obs3</th>\n",
       "      <th>obs4</th>\n",
       "    </tr>\n",
       "  </thead>\n",
       "  <tbody>\n",
       "    <tr>\n",
       "      <th>0</th>\n",
       "      <td>294.00</td>\n",
       "      <td>0</td>\n",
       "      <td>0</td>\n",
       "      <td>0.0</td>\n",
       "      <td>0.0</td>\n",
       "    </tr>\n",
       "    <tr>\n",
       "      <th>1</th>\n",
       "      <td>294.34</td>\n",
       "      <td>0</td>\n",
       "      <td>0</td>\n",
       "      <td>0.0</td>\n",
       "      <td>0.0</td>\n",
       "    </tr>\n",
       "    <tr>\n",
       "      <th>2</th>\n",
       "      <td>294.68</td>\n",
       "      <td>0</td>\n",
       "      <td>0</td>\n",
       "      <td>0.0</td>\n",
       "      <td>0.0</td>\n",
       "    </tr>\n",
       "    <tr>\n",
       "      <th>3</th>\n",
       "      <td>295.02</td>\n",
       "      <td>nodata</td>\n",
       "      <td>nodata</td>\n",
       "      <td>0.0</td>\n",
       "      <td>0.0</td>\n",
       "    </tr>\n",
       "    <tr>\n",
       "      <th>4</th>\n",
       "      <td>295.37</td>\n",
       "      <td>0</td>\n",
       "      <td>0</td>\n",
       "      <td>NaN</td>\n",
       "      <td>0.0</td>\n",
       "    </tr>\n",
       "    <tr>\n",
       "      <th>...</th>\n",
       "      <td>...</td>\n",
       "      <td>...</td>\n",
       "      <td>...</td>\n",
       "      <td>...</td>\n",
       "      <td>...</td>\n",
       "    </tr>\n",
       "    <tr>\n",
       "      <th>2495</th>\n",
       "      <td>1112.93</td>\n",
       "      <td>0</td>\n",
       "      <td>0</td>\n",
       "      <td>0.0</td>\n",
       "      <td>0.0</td>\n",
       "    </tr>\n",
       "    <tr>\n",
       "      <th>2496</th>\n",
       "      <td>1113.24</td>\n",
       "      <td>0</td>\n",
       "      <td>0</td>\n",
       "      <td>0.0</td>\n",
       "      <td>0.0</td>\n",
       "    </tr>\n",
       "    <tr>\n",
       "      <th>2497</th>\n",
       "      <td>1113.55</td>\n",
       "      <td>0</td>\n",
       "      <td>0</td>\n",
       "      <td>0.0</td>\n",
       "      <td>0.0</td>\n",
       "    </tr>\n",
       "    <tr>\n",
       "      <th>2498</th>\n",
       "      <td>1113.86</td>\n",
       "      <td>0</td>\n",
       "      <td>0</td>\n",
       "      <td>0.0</td>\n",
       "      <td>0.0</td>\n",
       "    </tr>\n",
       "    <tr>\n",
       "      <th>2499</th>\n",
       "      <td>1114.17</td>\n",
       "      <td>0</td>\n",
       "      <td>0</td>\n",
       "      <td>0.0</td>\n",
       "      <td>0.0</td>\n",
       "    </tr>\n",
       "  </tbody>\n",
       "</table>\n",
       "<p>2500 rows × 5 columns</p>\n",
       "</div>"
      ],
      "text/plain": [
       "           WL    obs1    obs2  obs3  obs4\n",
       "0      294.00       0       0   0.0   0.0\n",
       "1      294.34       0       0   0.0   0.0\n",
       "2      294.68       0       0   0.0   0.0\n",
       "3      295.02  nodata  nodata   0.0   0.0\n",
       "4      295.37       0       0   NaN   0.0\n",
       "...       ...     ...     ...   ...   ...\n",
       "2495  1112.93       0       0   0.0   0.0\n",
       "2496  1113.24       0       0   0.0   0.0\n",
       "2497  1113.55       0       0   0.0   0.0\n",
       "2498  1113.86       0       0   0.0   0.0\n",
       "2499  1114.17       0       0   0.0   0.0\n",
       "\n",
       "[2500 rows x 5 columns]"
      ]
     },
     "execution_count": 5,
     "metadata": {},
     "output_type": "execute_result"
    }
   ],
   "source": [
    "spec.columns = ['WL','obs1','obs2','obs3','obs4']\n",
    "spec"
   ]
  },
  {
   "cell_type": "markdown",
   "metadata": {},
   "source": [
    "### データ型の変更\n",
    "次に、データ型の変更です。\n",
    "\n",
    "データフレームに格納されるデータは、同じ列の値がすべて同じ型のであることが必要です。今回は数値としてデータを扱いたいため、すべての列を浮動小数点のデータとして読み込みます。\n",
    "まず、以下のコードで各列がどのような型で読み込まれているかを確認します。"
   ]
  },
  {
   "cell_type": "code",
   "execution_count": 6,
   "metadata": {},
   "outputs": [
    {
     "data": {
      "text/plain": [
       "WL      float64\n",
       "obs1     object\n",
       "obs2     object\n",
       "obs3    float64\n",
       "obs4    float64\n",
       "dtype: object"
      ]
     },
     "execution_count": 6,
     "metadata": {},
     "output_type": "execute_result"
    }
   ],
   "source": [
    "spec.dtypes"
   ]
  },
  {
   "cell_type": "markdown",
   "metadata": {},
   "source": [
    "`read_csv()`関数は、各列に最適なデータ型を認識して読み込みます。読み込むデータに\"NA\"という文字列や値が無いセルは欠損値と認識し、浮動小数点のNaNという値に変換されます。\n",
    "WaveLength、obs3、obs4の列はすべて数値(float64)として読み込むことができました。\n",
    "\n",
    "obs1、obs2の列は、CSVファイルには数値の代わりに`nodata`の文字列が保存されている箇所があり、すべての値を数値に変換することができませんでした。\n",
    "そのため、データフレームの各列は**object**の型で保持されています。\n",
    "\n",
    "以下で、この数値に変換できなかった値を強制的にNaNへ変換し、すべての列を浮動小数点の型とすることができます。"
   ]
  },
  {
   "cell_type": "code",
   "execution_count": 7,
   "metadata": {},
   "outputs": [
    {
     "name": "stdout",
     "output_type": "stream",
     "text": [
      "WL      float64\n",
      "obs1    float64\n",
      "obs2    float64\n",
      "obs3    float64\n",
      "obs4    float64\n",
      "dtype: object\n"
     ]
    },
    {
     "data": {
      "text/html": [
       "<div>\n",
       "<style scoped>\n",
       "    .dataframe tbody tr th:only-of-type {\n",
       "        vertical-align: middle;\n",
       "    }\n",
       "\n",
       "    .dataframe tbody tr th {\n",
       "        vertical-align: top;\n",
       "    }\n",
       "\n",
       "    .dataframe thead th {\n",
       "        text-align: right;\n",
       "    }\n",
       "</style>\n",
       "<table border=\"1\" class=\"dataframe\">\n",
       "  <thead>\n",
       "    <tr style=\"text-align: right;\">\n",
       "      <th></th>\n",
       "      <th>WL</th>\n",
       "      <th>obs1</th>\n",
       "      <th>obs2</th>\n",
       "      <th>obs3</th>\n",
       "      <th>obs4</th>\n",
       "    </tr>\n",
       "  </thead>\n",
       "  <tbody>\n",
       "    <tr>\n",
       "      <th>0</th>\n",
       "      <td>294.00</td>\n",
       "      <td>0.0</td>\n",
       "      <td>0.0</td>\n",
       "      <td>0.0</td>\n",
       "      <td>0.0</td>\n",
       "    </tr>\n",
       "    <tr>\n",
       "      <th>1</th>\n",
       "      <td>294.34</td>\n",
       "      <td>0.0</td>\n",
       "      <td>0.0</td>\n",
       "      <td>0.0</td>\n",
       "      <td>0.0</td>\n",
       "    </tr>\n",
       "    <tr>\n",
       "      <th>2</th>\n",
       "      <td>294.68</td>\n",
       "      <td>0.0</td>\n",
       "      <td>0.0</td>\n",
       "      <td>0.0</td>\n",
       "      <td>0.0</td>\n",
       "    </tr>\n",
       "    <tr>\n",
       "      <th>3</th>\n",
       "      <td>295.02</td>\n",
       "      <td>NaN</td>\n",
       "      <td>NaN</td>\n",
       "      <td>0.0</td>\n",
       "      <td>0.0</td>\n",
       "    </tr>\n",
       "    <tr>\n",
       "      <th>4</th>\n",
       "      <td>295.37</td>\n",
       "      <td>0.0</td>\n",
       "      <td>0.0</td>\n",
       "      <td>NaN</td>\n",
       "      <td>0.0</td>\n",
       "    </tr>\n",
       "    <tr>\n",
       "      <th>...</th>\n",
       "      <td>...</td>\n",
       "      <td>...</td>\n",
       "      <td>...</td>\n",
       "      <td>...</td>\n",
       "      <td>...</td>\n",
       "    </tr>\n",
       "    <tr>\n",
       "      <th>2495</th>\n",
       "      <td>1112.93</td>\n",
       "      <td>0.0</td>\n",
       "      <td>0.0</td>\n",
       "      <td>0.0</td>\n",
       "      <td>0.0</td>\n",
       "    </tr>\n",
       "    <tr>\n",
       "      <th>2496</th>\n",
       "      <td>1113.24</td>\n",
       "      <td>0.0</td>\n",
       "      <td>0.0</td>\n",
       "      <td>0.0</td>\n",
       "      <td>0.0</td>\n",
       "    </tr>\n",
       "    <tr>\n",
       "      <th>2497</th>\n",
       "      <td>1113.55</td>\n",
       "      <td>0.0</td>\n",
       "      <td>0.0</td>\n",
       "      <td>0.0</td>\n",
       "      <td>0.0</td>\n",
       "    </tr>\n",
       "    <tr>\n",
       "      <th>2498</th>\n",
       "      <td>1113.86</td>\n",
       "      <td>0.0</td>\n",
       "      <td>0.0</td>\n",
       "      <td>0.0</td>\n",
       "      <td>0.0</td>\n",
       "    </tr>\n",
       "    <tr>\n",
       "      <th>2499</th>\n",
       "      <td>1114.17</td>\n",
       "      <td>0.0</td>\n",
       "      <td>0.0</td>\n",
       "      <td>0.0</td>\n",
       "      <td>0.0</td>\n",
       "    </tr>\n",
       "  </tbody>\n",
       "</table>\n",
       "<p>2500 rows × 5 columns</p>\n",
       "</div>"
      ],
      "text/plain": [
       "           WL  obs1  obs2  obs3  obs4\n",
       "0      294.00   0.0   0.0   0.0   0.0\n",
       "1      294.34   0.0   0.0   0.0   0.0\n",
       "2      294.68   0.0   0.0   0.0   0.0\n",
       "3      295.02   NaN   NaN   0.0   0.0\n",
       "4      295.37   0.0   0.0   NaN   0.0\n",
       "...       ...   ...   ...   ...   ...\n",
       "2495  1112.93   0.0   0.0   0.0   0.0\n",
       "2496  1113.24   0.0   0.0   0.0   0.0\n",
       "2497  1113.55   0.0   0.0   0.0   0.0\n",
       "2498  1113.86   0.0   0.0   0.0   0.0\n",
       "2499  1114.17   0.0   0.0   0.0   0.0\n",
       "\n",
       "[2500 rows x 5 columns]"
      ]
     },
     "execution_count": 7,
     "metadata": {},
     "output_type": "execute_result"
    }
   ],
   "source": [
    "spec = spec.apply(pd.to_numeric, errors='coerce')\n",
    "print(spec.dtypes)\n",
    "spec"
   ]
  },
  {
   "cell_type": "markdown",
   "metadata": {},
   "source": [
    "すべてのカラムが浮動小数点に変換されました。  先程`nodata`と表示されていた箇所も、`NaN`と表示されています。"
   ]
  },
  {
   "cell_type": "markdown",
   "metadata": {},
   "source": [
    "### 基本統計量の確認\n",
    "データフレームに保存されているデータの概要は、`describe()`メソッドで確認することができます。"
   ]
  },
  {
   "cell_type": "code",
   "execution_count": 8,
   "metadata": {},
   "outputs": [
    {
     "data": {
      "text/html": [
       "<div>\n",
       "<style scoped>\n",
       "    .dataframe tbody tr th:only-of-type {\n",
       "        vertical-align: middle;\n",
       "    }\n",
       "\n",
       "    .dataframe tbody tr th {\n",
       "        vertical-align: top;\n",
       "    }\n",
       "\n",
       "    .dataframe thead th {\n",
       "        text-align: right;\n",
       "    }\n",
       "</style>\n",
       "<table border=\"1\" class=\"dataframe\">\n",
       "  <thead>\n",
       "    <tr style=\"text-align: right;\">\n",
       "      <th></th>\n",
       "      <th>WL</th>\n",
       "      <th>obs1</th>\n",
       "      <th>obs2</th>\n",
       "      <th>obs3</th>\n",
       "      <th>obs4</th>\n",
       "    </tr>\n",
       "  </thead>\n",
       "  <tbody>\n",
       "    <tr>\n",
       "      <th>count</th>\n",
       "      <td>2500.000000</td>\n",
       "      <td>2498.000000</td>\n",
       "      <td>2499.000000</td>\n",
       "      <td>2498.000000</td>\n",
       "      <td>2499.000000</td>\n",
       "    </tr>\n",
       "    <tr>\n",
       "      <th>mean</th>\n",
       "      <td>710.684948</td>\n",
       "      <td>0.000609</td>\n",
       "      <td>0.000877</td>\n",
       "      <td>0.000186</td>\n",
       "      <td>0.000648</td>\n",
       "    </tr>\n",
       "    <tr>\n",
       "      <th>std</th>\n",
       "      <td>237.214209</td>\n",
       "      <td>0.000588</td>\n",
       "      <td>0.000587</td>\n",
       "      <td>0.000285</td>\n",
       "      <td>0.000494</td>\n",
       "    </tr>\n",
       "    <tr>\n",
       "      <th>min</th>\n",
       "      <td>294.000000</td>\n",
       "      <td>-0.000030</td>\n",
       "      <td>-0.000551</td>\n",
       "      <td>-0.001032</td>\n",
       "      <td>-0.001259</td>\n",
       "    </tr>\n",
       "    <tr>\n",
       "      <th>25%</th>\n",
       "      <td>505.997500</td>\n",
       "      <td>0.000285</td>\n",
       "      <td>0.000437</td>\n",
       "      <td>0.000000</td>\n",
       "      <td>0.000161</td>\n",
       "    </tr>\n",
       "    <tr>\n",
       "      <th>50%</th>\n",
       "      <td>713.985000</td>\n",
       "      <td>0.000522</td>\n",
       "      <td>0.000895</td>\n",
       "      <td>0.000065</td>\n",
       "      <td>0.000732</td>\n",
       "    </tr>\n",
       "    <tr>\n",
       "      <th>75%</th>\n",
       "      <td>917.030000</td>\n",
       "      <td>0.000761</td>\n",
       "      <td>0.001304</td>\n",
       "      <td>0.000327</td>\n",
       "      <td>0.001090</td>\n",
       "    </tr>\n",
       "    <tr>\n",
       "      <th>max</th>\n",
       "      <td>1114.170000</td>\n",
       "      <td>0.004639</td>\n",
       "      <td>0.003810</td>\n",
       "      <td>0.001553</td>\n",
       "      <td>0.001641</td>\n",
       "    </tr>\n",
       "  </tbody>\n",
       "</table>\n",
       "</div>"
      ],
      "text/plain": [
       "                WL         obs1         obs2         obs3         obs4\n",
       "count  2500.000000  2498.000000  2499.000000  2498.000000  2499.000000\n",
       "mean    710.684948     0.000609     0.000877     0.000186     0.000648\n",
       "std     237.214209     0.000588     0.000587     0.000285     0.000494\n",
       "min     294.000000    -0.000030    -0.000551    -0.001032    -0.001259\n",
       "25%     505.997500     0.000285     0.000437     0.000000     0.000161\n",
       "50%     713.985000     0.000522     0.000895     0.000065     0.000732\n",
       "75%     917.030000     0.000761     0.001304     0.000327     0.001090\n",
       "max    1114.170000     0.004639     0.003810     0.001553     0.001641"
      ]
     },
     "execution_count": 8,
     "metadata": {},
     "output_type": "execute_result"
    }
   ],
   "source": [
    "spec.describe()"
   ]
  },
  {
   "cell_type": "markdown",
   "metadata": {},
   "source": [
    "DataFrameクラスが持つ`count()`や`mean()`、`std()`などのメソッドを用いると、上記の基本統計量を個別に算出することができます。"
   ]
  },
  {
   "cell_type": "code",
   "execution_count": 9,
   "metadata": {},
   "outputs": [
    {
     "name": "stdout",
     "output_type": "stream",
     "text": [
      "WL      710.684948\n",
      "obs1      0.000609\n",
      "obs2      0.000877\n",
      "obs3      0.000186\n",
      "obs4      0.000648\n",
      "dtype: float64\n",
      "WL      237.214209\n",
      "obs1      0.000588\n",
      "obs2      0.000587\n",
      "obs3      0.000285\n",
      "obs4      0.000494\n",
      "dtype: float64\n"
     ]
    }
   ],
   "source": [
    "print(spec.mean())\n",
    "print(spec.std())"
   ]
  },
  {
   "cell_type": "markdown",
   "metadata": {},
   "source": [
    "`mean()`では、各カラムの平均値が、`std()`では各カラムの標準偏差の値が算出されていることが確認できます。そのほか以下のメソッドがあります。\n",
    "\n",
    "- median()\n",
    "- max()\n",
    "- min()\n",
    "- product()\n",
    "\n",
    "など。"
   ]
  },
  {
   "cell_type": "markdown",
   "metadata": {},
   "source": [
    "## グラフへのプロット"
   ]
  },
  {
   "cell_type": "markdown",
   "metadata": {},
   "source": [
    "上で作成したデータフレームをグラフにプロットしましょう。DataFrameクラスにある[plot()](https://pandas.pydata.org/pandas-docs/version/0.23.4/generated/pandas.DataFrame.plot.html)メソッドでプロットしてみます。\n",
    "\n",
    "引数xにx軸としたいカラムの名前を指定します。"
   ]
  },
  {
   "cell_type": "code",
   "execution_count": 10,
   "metadata": {},
   "outputs": [
    {
     "data": {
      "text/plain": [
       "<AxesSubplot:xlabel='WL'>"
      ]
     },
     "execution_count": 10,
     "metadata": {},
     "output_type": "execute_result"
    },
    {
     "data": {
      "image/png": "[encoded data removed]",
      "text/plain": [
       "<Figure size 432x288 with 1 Axes>"
      ]
     },
     "metadata": {
      "needs_background": "light"
     },
     "output_type": "display_data"
    }
   ],
   "source": [
    "spec.plot(x='WL')"
   ]
  },
  {
   "cell_type": "markdown",
   "metadata": {},
   "source": [
    "DataFrameのplot()メソッドで描画される図はmatplotlibと組み合わせて使うこともできます。これにより、ほかの種類とのグラフの重ね合わせや、軸やグラフエリアの詳細なカスタマイズができるようになります。\n",
    "\n",
    "グラフに可視光と近赤外線の範囲を重ね合わせて表示してみましょう。\n",
    "\n",
    "今回は[Landsat 8に積まれているセンサーと同じ波長](https://www.usgs.gov/faqs/what-are-band-designations-landsat-satellites)でRGBと近赤外線(NIR)の波長域を設定してみます。\n",
    "\n",
    "|バンド名|名前|波長帯(nm)|\n",
    "|--------|----|-------|\n",
    "|Band 4|青|450~510|\n",
    "|Band 4|緑|530~590|\n",
    "|Band 4|赤|640~670|\n",
    "|Band 5|近赤外|850~880|\n",
    "\n"
   ]
  },
  {
   "cell_type": "code",
   "execution_count": 11,
   "metadata": {},
   "outputs": [
    {
     "data": {
      "image/png": "[encoded data removed]",
      "text/plain": [
       "<Figure size 432x288 with 1 Axes>"
      ]
     },
     "metadata": {
      "needs_background": "light"
     },
     "output_type": "display_data"
    }
   ],
   "source": [
    "# matplotlibのインポート\n",
    "import matplotlib.pyplot as plt\n",
    "import pathlib\n",
    "\n",
    "# 波長域の定義\n",
    "wave_length = {'Blue':  {'range':(450, 510), 'color':'Blue'},\n",
    "               'Green': {'range':(530, 590), 'color':'Green'},\n",
    "               'Red':   {'range':(640, 670), 'color':'Red'},\n",
    "               'NIR':   {'range':(850, 880), 'color':'Gray'}}\n",
    "\n",
    "# plot範囲の定義\n",
    "plot_xlim = (wave_length['Blue']['range'][0],\n",
    "             wave_length['NIR']['range'][1]) \n",
    "\n",
    "plot_ylim = (0, 0.002) \n",
    "\n",
    "# プロットオブジェクトの初期化\n",
    "fig, ax = plt.subplots()\n",
    "\n",
    "# 各バンドの範囲をプロット\n",
    "for band in wave_length:\n",
    "    ax.axvspan(*wave_length[band]['range'],\n",
    "               color=wave_length[band]['color'],\n",
    "               alpha=0.5)\n",
    "\n",
    "# グラフをプロット\n",
    "# spec.plot(x='WL', ax=ax, xlim=plot_xlim, ylim=plot_ylim)\n",
    "spec.plot(x='WL', ax=ax)\n",
    "\n",
    "# プロットの範囲を変更\n",
    "ax.set_xlim(plot_xlim)\n",
    "ax.set_ylim(plot_ylim)\n",
    "\n",
    "# グラフのタイトル等をプロット\n",
    "ax.set_xlabel(r'Wave Length (nm)')\n",
    "ax.set_ylabel(r'Spectral Irradiance ($W m^{-2} nm^{-1}$)')\n",
    "\n",
    "plt.tight_layout()\n",
    "\n",
    "# 'out'フォルダの作成\n",
    "p = pathlib.Path('out')\n",
    "p.mkdir(exist_ok=True)\n",
    "\n",
    "# 'out'フォルダに画像として保存\n",
    "plt.savefig('out/spectral.png')\n",
    "\n",
    "# 画面へ表示\n",
    "plt.show()"
   ]
  },
  {
   "cell_type": "markdown",
   "metadata": {},
   "source": [
    "## NDVIの計算\n",
    "NDVIは植生の状態をよく反映する指標で、以下の式で定義されます。\n",
    "$$\n",
    "    NDVI = \\frac{近赤外線(NIR)の反射率 - 赤色(Red)の反射率}{近赤外線(NIR)の反射率 + 赤色(Red)の反射率}\n",
    "$$\n",
    "\n",
    "マルチスペクトルメータの場合、近赤外の反射率に相当するものは、上記の図の灰色の範囲の平均値、同様に赤色の反射率は赤色の範囲の平均値となります。今回のようなノイズが多いデータの場合、平均値より中央値を用いる方が良いでしょう。\n",
    "\n",
    "ここからNDVIを算出するため、以下の手順を行います。\n",
    "\n",
    "- 赤・近赤外周波数領域における中央値の計算\n",
    "- NDVIの計算\n"
   ]
  },
  {
   "cell_type": "markdown",
   "metadata": {},
   "source": [
    "### バンドごとの中央値の計算\n",
    "作成したデータフレームから、特定の周波数の範囲における各バンドの値の中央値は、以下の手順で求めることができる。\n",
    "\n",
    "1. WLが、赤色の範囲である行のみをデータフレームから抜き出す。\n",
    "2. 抜き出してできる新たなデータフレームの列ごとの中央値を求める。\n",
    "3. 上記1,2をNIRについても行う。"
   ]
  },
  {
   "cell_type": "markdown",
   "metadata": {},
   "source": [
    "#### 行の抽出\n",
    "データフレームから行番号を指定して特定の行を抜き出すには、`df[0:5]`のような形で行の範囲を指定します。"
   ]
  },
  {
   "cell_type": "code",
   "execution_count": 12,
   "metadata": {},
   "outputs": [
    {
     "data": {
      "text/html": [
       "<div>\n",
       "<style scoped>\n",
       "    .dataframe tbody tr th:only-of-type {\n",
       "        vertical-align: middle;\n",
       "    }\n",
       "\n",
       "    .dataframe tbody tr th {\n",
       "        vertical-align: top;\n",
       "    }\n",
       "\n",
       "    .dataframe thead th {\n",
       "        text-align: right;\n",
       "    }\n",
       "</style>\n",
       "<table border=\"1\" class=\"dataframe\">\n",
       "  <thead>\n",
       "    <tr style=\"text-align: right;\">\n",
       "      <th></th>\n",
       "      <th>WL</th>\n",
       "      <th>obs1</th>\n",
       "      <th>obs2</th>\n",
       "      <th>obs3</th>\n",
       "      <th>obs4</th>\n",
       "    </tr>\n",
       "  </thead>\n",
       "  <tbody>\n",
       "    <tr>\n",
       "      <th>300</th>\n",
       "      <td>396.24</td>\n",
       "      <td>0.000823</td>\n",
       "      <td>0.000999</td>\n",
       "      <td>0.000047</td>\n",
       "      <td>0.000385</td>\n",
       "    </tr>\n",
       "    <tr>\n",
       "      <th>301</th>\n",
       "      <td>396.58</td>\n",
       "      <td>0.000787</td>\n",
       "      <td>0.000943</td>\n",
       "      <td>0.000008</td>\n",
       "      <td>0.000388</td>\n",
       "    </tr>\n",
       "    <tr>\n",
       "      <th>302</th>\n",
       "      <td>396.92</td>\n",
       "      <td>0.000715</td>\n",
       "      <td>0.000854</td>\n",
       "      <td>-0.000011</td>\n",
       "      <td>0.000372</td>\n",
       "    </tr>\n",
       "    <tr>\n",
       "      <th>303</th>\n",
       "      <td>397.26</td>\n",
       "      <td>0.000653</td>\n",
       "      <td>0.000783</td>\n",
       "      <td>-0.000014</td>\n",
       "      <td>0.000356</td>\n",
       "    </tr>\n",
       "  </tbody>\n",
       "</table>\n",
       "</div>"
      ],
      "text/plain": [
       "         WL      obs1      obs2      obs3      obs4\n",
       "300  396.24  0.000823  0.000999  0.000047  0.000385\n",
       "301  396.58  0.000787  0.000943  0.000008  0.000388\n",
       "302  396.92  0.000715  0.000854 -0.000011  0.000372\n",
       "303  397.26  0.000653  0.000783 -0.000014  0.000356"
      ]
     },
     "execution_count": 12,
     "metadata": {},
     "output_type": "execute_result"
    }
   ],
   "source": [
    "spec_part = spec[300:304]\n",
    "spec_part"
   ]
  },
  {
   "cell_type": "markdown",
   "metadata": {},
   "source": [
    "赤色の周波数域のデータを抽出するには、「WLの値が`[640, 670]`の間にある行」を抽出する必要があります。エクセルでファイルを開いて対象の行を探してもいいですが、せっかくなので条件から自動で行を抽出しましょう。\n",
    "\n",
    "データフレームの抽出では`[0:4]`の代わりに、`[True, False, False, ...]`のような**ブール値**の入ったリストを与えると、データフレームから`True`の行を抽出することができます。(`[]`が入れ子になっていることに注意。)"
   ]
  },
  {
   "cell_type": "code",
   "execution_count": 13,
   "metadata": {},
   "outputs": [
    {
     "data": {
      "text/html": [
       "<div>\n",
       "<style scoped>\n",
       "    .dataframe tbody tr th:only-of-type {\n",
       "        vertical-align: middle;\n",
       "    }\n",
       "\n",
       "    .dataframe tbody tr th {\n",
       "        vertical-align: top;\n",
       "    }\n",
       "\n",
       "    .dataframe thead th {\n",
       "        text-align: right;\n",
       "    }\n",
       "</style>\n",
       "<table border=\"1\" class=\"dataframe\">\n",
       "  <thead>\n",
       "    <tr style=\"text-align: right;\">\n",
       "      <th></th>\n",
       "      <th>WL</th>\n",
       "      <th>obs1</th>\n",
       "      <th>obs2</th>\n",
       "      <th>obs3</th>\n",
       "      <th>obs4</th>\n",
       "    </tr>\n",
       "  </thead>\n",
       "  <tbody>\n",
       "    <tr>\n",
       "      <th>300</th>\n",
       "      <td>396.24</td>\n",
       "      <td>0.000823</td>\n",
       "      <td>0.000999</td>\n",
       "      <td>0.000047</td>\n",
       "      <td>0.000385</td>\n",
       "    </tr>\n",
       "    <tr>\n",
       "      <th>302</th>\n",
       "      <td>396.92</td>\n",
       "      <td>0.000715</td>\n",
       "      <td>0.000854</td>\n",
       "      <td>-0.000011</td>\n",
       "      <td>0.000372</td>\n",
       "    </tr>\n",
       "  </tbody>\n",
       "</table>\n",
       "</div>"
      ],
      "text/plain": [
       "         WL      obs1      obs2      obs3      obs4\n",
       "300  396.24  0.000823  0.000999  0.000047  0.000385\n",
       "302  396.92  0.000715  0.000854 -0.000011  0.000372"
      ]
     },
     "execution_count": 13,
     "metadata": {},
     "output_type": "execute_result"
    }
   ],
   "source": [
    "spec_part[[True, False, True, False]]"
   ]
  },
  {
   "cell_type": "markdown",
   "metadata": {},
   "source": [
    "また、以下のようにカラムを抽出し条件式に当てはめると、条件を満たす場合`True`、満たさない場合`False`が入った**Series**を作成することができ、このSeriesも行の抽出に使うことができます。"
   ]
  },
  {
   "cell_type": "code",
   "execution_count": 14,
   "metadata": {},
   "outputs": [
    {
     "data": {
      "text/plain": [
       "0        294.00\n",
       "1        294.34\n",
       "2        294.68\n",
       "3        295.02\n",
       "4        295.37\n",
       "         ...   \n",
       "2495    1112.93\n",
       "2496    1113.24\n",
       "2497    1113.55\n",
       "2498    1113.86\n",
       "2499    1114.17\n",
       "Name: WL, Length: 2500, dtype: float64"
      ]
     },
     "execution_count": 14,
     "metadata": {},
     "output_type": "execute_result"
    }
   ],
   "source": [
    "# データフレームからのカラムの抽出\n",
    "spec['WL']"
   ]
  },
  {
   "cell_type": "code",
   "execution_count": 15,
   "metadata": {},
   "outputs": [
    {
     "data": {
      "text/plain": [
       "0       False\n",
       "1       False\n",
       "2       False\n",
       "3       False\n",
       "4       False\n",
       "        ...  \n",
       "2495     True\n",
       "2496     True\n",
       "2497     True\n",
       "2498     True\n",
       "2499     True\n",
       "Name: WL, Length: 2500, dtype: bool"
      ]
     },
     "execution_count": 15,
     "metadata": {},
     "output_type": "execute_result"
    }
   ],
   "source": [
    "# Bool値の入ったSeriesの作成\n",
    "spec['WL'] > 640"
   ]
  },
  {
   "cell_type": "markdown",
   "metadata": {},
   "source": [
    "このBool値が入ったSeriesは、`&`や`|`で結合することで、複数の条件を満たす新たなBool値のSeriesを作成することができます。"
   ]
  },
  {
   "cell_type": "code",
   "execution_count": 16,
   "metadata": {},
   "outputs": [
    {
     "data": {
      "text/plain": [
       "0       False\n",
       "1       False\n",
       "2       False\n",
       "3       False\n",
       "4       False\n",
       "        ...  \n",
       "2495    False\n",
       "2496    False\n",
       "2497    False\n",
       "2498    False\n",
       "2499    False\n",
       "Name: WL, Length: 2500, dtype: bool"
      ]
     },
     "execution_count": 16,
     "metadata": {},
     "output_type": "execute_result"
    }
   ],
   "source": [
    "lines_red = (spec['WL'] > 640) & (spec['WL'] < 670)\n",
    "lines_red"
   ]
  },
  {
   "cell_type": "markdown",
   "metadata": {},
   "source": [
    "以上を組み合わせて、赤色の波長範囲の分光放射照度のみのデータフレームは以下のように作成できます。"
   ]
  },
  {
   "cell_type": "code",
   "execution_count": 17,
   "metadata": {},
   "outputs": [
    {
     "data": {
      "text/html": [
       "<div>\n",
       "<style scoped>\n",
       "    .dataframe tbody tr th:only-of-type {\n",
       "        vertical-align: middle;\n",
       "    }\n",
       "\n",
       "    .dataframe tbody tr th {\n",
       "        vertical-align: top;\n",
       "    }\n",
       "\n",
       "    .dataframe thead th {\n",
       "        text-align: right;\n",
       "    }\n",
       "</style>\n",
       "<table border=\"1\" class=\"dataframe\">\n",
       "  <thead>\n",
       "    <tr style=\"text-align: right;\">\n",
       "      <th></th>\n",
       "      <th>WL</th>\n",
       "      <th>obs1</th>\n",
       "      <th>obs2</th>\n",
       "      <th>obs3</th>\n",
       "      <th>obs4</th>\n",
       "    </tr>\n",
       "  </thead>\n",
       "  <tbody>\n",
       "    <tr>\n",
       "      <th>1026</th>\n",
       "      <td>640.10</td>\n",
       "      <td>0.000515</td>\n",
       "      <td>0.001366</td>\n",
       "      <td>0.000079</td>\n",
       "      <td>0.001136</td>\n",
       "    </tr>\n",
       "    <tr>\n",
       "      <th>1027</th>\n",
       "      <td>640.43</td>\n",
       "      <td>0.000477</td>\n",
       "      <td>0.001336</td>\n",
       "      <td>0.000061</td>\n",
       "      <td>0.001128</td>\n",
       "    </tr>\n",
       "    <tr>\n",
       "      <th>1028</th>\n",
       "      <td>640.77</td>\n",
       "      <td>0.000384</td>\n",
       "      <td>0.001217</td>\n",
       "      <td>0.000038</td>\n",
       "      <td>0.001123</td>\n",
       "    </tr>\n",
       "    <tr>\n",
       "      <th>1029</th>\n",
       "      <td>641.10</td>\n",
       "      <td>0.000328</td>\n",
       "      <td>0.001166</td>\n",
       "      <td>0.000051</td>\n",
       "      <td>0.001110</td>\n",
       "    </tr>\n",
       "    <tr>\n",
       "      <th>1030</th>\n",
       "      <td>641.43</td>\n",
       "      <td>0.000342</td>\n",
       "      <td>0.001139</td>\n",
       "      <td>0.000059</td>\n",
       "      <td>0.001093</td>\n",
       "    </tr>\n",
       "    <tr>\n",
       "      <th>...</th>\n",
       "      <td>...</td>\n",
       "      <td>...</td>\n",
       "      <td>...</td>\n",
       "      <td>...</td>\n",
       "      <td>...</td>\n",
       "    </tr>\n",
       "    <tr>\n",
       "      <th>1112</th>\n",
       "      <td>668.60</td>\n",
       "      <td>0.000357</td>\n",
       "      <td>0.001238</td>\n",
       "      <td>0.000069</td>\n",
       "      <td>0.001107</td>\n",
       "    </tr>\n",
       "    <tr>\n",
       "      <th>1113</th>\n",
       "      <td>668.94</td>\n",
       "      <td>0.000361</td>\n",
       "      <td>0.001303</td>\n",
       "      <td>0.000105</td>\n",
       "      <td>0.001090</td>\n",
       "    </tr>\n",
       "    <tr>\n",
       "      <th>1114</th>\n",
       "      <td>669.27</td>\n",
       "      <td>0.000306</td>\n",
       "      <td>0.001202</td>\n",
       "      <td>0.000082</td>\n",
       "      <td>0.001090</td>\n",
       "    </tr>\n",
       "    <tr>\n",
       "      <th>1115</th>\n",
       "      <td>669.60</td>\n",
       "      <td>0.000298</td>\n",
       "      <td>0.001154</td>\n",
       "      <td>0.000094</td>\n",
       "      <td>0.001066</td>\n",
       "    </tr>\n",
       "    <tr>\n",
       "      <th>1116</th>\n",
       "      <td>669.93</td>\n",
       "      <td>0.000322</td>\n",
       "      <td>0.001117</td>\n",
       "      <td>0.000067</td>\n",
       "      <td>0.001039</td>\n",
       "    </tr>\n",
       "  </tbody>\n",
       "</table>\n",
       "<p>91 rows × 5 columns</p>\n",
       "</div>"
      ],
      "text/plain": [
       "          WL      obs1      obs2      obs3      obs4\n",
       "1026  640.10  0.000515  0.001366  0.000079  0.001136\n",
       "1027  640.43  0.000477  0.001336  0.000061  0.001128\n",
       "1028  640.77  0.000384  0.001217  0.000038  0.001123\n",
       "1029  641.10  0.000328  0.001166  0.000051  0.001110\n",
       "1030  641.43  0.000342  0.001139  0.000059  0.001093\n",
       "...      ...       ...       ...       ...       ...\n",
       "1112  668.60  0.000357  0.001238  0.000069  0.001107\n",
       "1113  668.94  0.000361  0.001303  0.000105  0.001090\n",
       "1114  669.27  0.000306  0.001202  0.000082  0.001090\n",
       "1115  669.60  0.000298  0.001154  0.000094  0.001066\n",
       "1116  669.93  0.000322  0.001117  0.000067  0.001039\n",
       "\n",
       "[91 rows x 5 columns]"
      ]
     },
     "execution_count": 17,
     "metadata": {},
     "output_type": "execute_result"
    }
   ],
   "source": [
    "# Seriesでデータフレームを抽出する\n",
    "spec_red = spec[lines_red]\n",
    "spec_red"
   ]
  },
  {
   "cell_type": "markdown",
   "metadata": {},
   "source": [
    "NIRについても同様にデータフレームを作成できます。"
   ]
  },
  {
   "cell_type": "code",
   "execution_count": 18,
   "metadata": {},
   "outputs": [
    {
     "data": {
      "text/html": [
       "<div>\n",
       "<style scoped>\n",
       "    .dataframe tbody tr th:only-of-type {\n",
       "        vertical-align: middle;\n",
       "    }\n",
       "\n",
       "    .dataframe tbody tr th {\n",
       "        vertical-align: top;\n",
       "    }\n",
       "\n",
       "    .dataframe thead th {\n",
       "        text-align: right;\n",
       "    }\n",
       "</style>\n",
       "<table border=\"1\" class=\"dataframe\">\n",
       "  <thead>\n",
       "    <tr style=\"text-align: right;\">\n",
       "      <th></th>\n",
       "      <th>WL</th>\n",
       "      <th>obs1</th>\n",
       "      <th>obs2</th>\n",
       "      <th>obs3</th>\n",
       "      <th>obs4</th>\n",
       "    </tr>\n",
       "  </thead>\n",
       "  <tbody>\n",
       "    <tr>\n",
       "      <th>1667</th>\n",
       "      <td>850.28</td>\n",
       "      <td>0.000484</td>\n",
       "      <td>0.000575</td>\n",
       "      <td>0.000674</td>\n",
       "      <td>0.000728</td>\n",
       "    </tr>\n",
       "    <tr>\n",
       "      <th>1668</th>\n",
       "      <td>850.60</td>\n",
       "      <td>0.000505</td>\n",
       "      <td>0.000573</td>\n",
       "      <td>0.000680</td>\n",
       "      <td>0.000750</td>\n",
       "    </tr>\n",
       "    <tr>\n",
       "      <th>1669</th>\n",
       "      <td>850.93</td>\n",
       "      <td>0.000613</td>\n",
       "      <td>0.000674</td>\n",
       "      <td>0.000698</td>\n",
       "      <td>0.000735</td>\n",
       "    </tr>\n",
       "    <tr>\n",
       "      <th>1670</th>\n",
       "      <td>851.25</td>\n",
       "      <td>0.000616</td>\n",
       "      <td>0.000693</td>\n",
       "      <td>0.000708</td>\n",
       "      <td>0.000741</td>\n",
       "    </tr>\n",
       "    <tr>\n",
       "      <th>1671</th>\n",
       "      <td>851.57</td>\n",
       "      <td>0.000542</td>\n",
       "      <td>0.000632</td>\n",
       "      <td>0.000740</td>\n",
       "      <td>0.000713</td>\n",
       "    </tr>\n",
       "    <tr>\n",
       "      <th>...</th>\n",
       "      <td>...</td>\n",
       "      <td>...</td>\n",
       "      <td>...</td>\n",
       "      <td>...</td>\n",
       "      <td>...</td>\n",
       "    </tr>\n",
       "    <tr>\n",
       "      <th>1755</th>\n",
       "      <td>878.70</td>\n",
       "      <td>0.001017</td>\n",
       "      <td>0.001043</td>\n",
       "      <td>0.000736</td>\n",
       "      <td>0.000776</td>\n",
       "    </tr>\n",
       "    <tr>\n",
       "      <th>1756</th>\n",
       "      <td>879.02</td>\n",
       "      <td>0.001117</td>\n",
       "      <td>0.001085</td>\n",
       "      <td>0.000671</td>\n",
       "      <td>0.000732</td>\n",
       "    </tr>\n",
       "    <tr>\n",
       "      <th>1757</th>\n",
       "      <td>879.34</td>\n",
       "      <td>0.001058</td>\n",
       "      <td>0.000997</td>\n",
       "      <td>0.000623</td>\n",
       "      <td>0.000771</td>\n",
       "    </tr>\n",
       "    <tr>\n",
       "      <th>1758</th>\n",
       "      <td>879.67</td>\n",
       "      <td>0.001146</td>\n",
       "      <td>0.001066</td>\n",
       "      <td>0.000637</td>\n",
       "      <td>0.000693</td>\n",
       "    </tr>\n",
       "    <tr>\n",
       "      <th>1759</th>\n",
       "      <td>879.99</td>\n",
       "      <td>0.001115</td>\n",
       "      <td>0.001099</td>\n",
       "      <td>0.000632</td>\n",
       "      <td>0.000701</td>\n",
       "    </tr>\n",
       "  </tbody>\n",
       "</table>\n",
       "<p>93 rows × 5 columns</p>\n",
       "</div>"
      ],
      "text/plain": [
       "          WL      obs1      obs2      obs3      obs4\n",
       "1667  850.28  0.000484  0.000575  0.000674  0.000728\n",
       "1668  850.60  0.000505  0.000573  0.000680  0.000750\n",
       "1669  850.93  0.000613  0.000674  0.000698  0.000735\n",
       "1670  851.25  0.000616  0.000693  0.000708  0.000741\n",
       "1671  851.57  0.000542  0.000632  0.000740  0.000713\n",
       "...      ...       ...       ...       ...       ...\n",
       "1755  878.70  0.001017  0.001043  0.000736  0.000776\n",
       "1756  879.02  0.001117  0.001085  0.000671  0.000732\n",
       "1757  879.34  0.001058  0.000997  0.000623  0.000771\n",
       "1758  879.67  0.001146  0.001066  0.000637  0.000693\n",
       "1759  879.99  0.001115  0.001099  0.000632  0.000701\n",
       "\n",
       "[93 rows x 5 columns]"
      ]
     },
     "execution_count": 18,
     "metadata": {},
     "output_type": "execute_result"
    }
   ],
   "source": [
    "lines_nir = (spec['WL'] > 850) & (spec['WL'] < 880)\n",
    "spec_nir = spec[lines_nir]\n",
    "spec_nir"
   ]
  },
  {
   "cell_type": "markdown",
   "metadata": {},
   "source": [
    "#### 中央値の計算\n",
    "基本統計量の確認の際に示した`mean()`と同様に、DataFrameが持つ`median()`メソッドにより各カラムの中央値が計算できます。"
   ]
  },
  {
   "cell_type": "code",
   "execution_count": 19,
   "metadata": {},
   "outputs": [
    {
     "data": {
      "text/plain": [
       "WL      655.030000\n",
       "obs1      0.000289\n",
       "obs2      0.001139\n",
       "obs3      0.000057\n",
       "obs4      0.001069\n",
       "dtype: float64"
      ]
     },
     "execution_count": 19,
     "metadata": {},
     "output_type": "execute_result"
    }
   ],
   "source": [
    "red_median = spec_red.median()\n",
    "red_median"
   ]
  },
  {
   "cell_type": "code",
   "execution_count": 20,
   "metadata": {},
   "outputs": [
    {
     "data": {
      "text/plain": [
       "WL      865.150000\n",
       "obs1      0.000686\n",
       "obs2      0.000739\n",
       "obs3      0.000652\n",
       "obs4      0.000738\n",
       "dtype: float64"
      ]
     },
     "execution_count": 20,
     "metadata": {},
     "output_type": "execute_result"
    }
   ],
   "source": [
    "nir_median = spec_nir.median()\n",
    "nir_median"
   ]
  },
  {
   "cell_type": "markdown",
   "metadata": {},
   "source": [
    "### NDVIの計算\n",
    "作成したSeriesからNDVIの計算に不要な`WaveLength`の値を抜いておきます。"
   ]
  },
  {
   "cell_type": "code",
   "execution_count": 21,
   "metadata": {},
   "outputs": [],
   "source": [
    "red_median = red_median.drop('WL')\n",
    "nir_median = nir_median.drop('WL')"
   ]
  },
  {
   "cell_type": "markdown",
   "metadata": {},
   "source": [
    "Seriesは要素数が同じ場合、四則演算は各要素ごとに行われます。これを分配法則といいます。このため、各obsにおけるNDVIは定義式のようにSeriesを計算することにより求めることができます。"
   ]
  },
  {
   "cell_type": "code",
   "execution_count": 22,
   "metadata": {},
   "outputs": [
    {
     "data": {
      "text/plain": [
       "obs1    0.407179\n",
       "obs2   -0.212833\n",
       "obs3    0.839210\n",
       "obs4   -0.182955\n",
       "dtype: float64"
      ]
     },
     "execution_count": 22,
     "metadata": {},
     "output_type": "execute_result"
    }
   ],
   "source": [
    "NDVI = (nir_median - red_median)/(nir_median + red_median)\n",
    "NDVI"
   ]
  },
  {
   "cell_type": "markdown",
   "metadata": {},
   "source": [
    "以上でNDVIの算出ができました。"
   ]
  }
 ],
 "metadata": {
  "kernelspec": {
   "display_name": "Python 3",
   "language": "python",
   "name": "python3"
  },
  "language_info": {
   "codemirror_mode": {
    "name": "ipython",
    "version": 3
   },
   "file_extension": ".py",
   "mimetype": "text/x-python",
   "name": "python",
   "nbconvert_exporter": "python",
   "pygments_lexer": "ipython3",
   "version": "3.8.6"
  },
  "toc-autonumbering": true
 },
 "nbformat": 4,
 "nbformat_minor": 4
}
